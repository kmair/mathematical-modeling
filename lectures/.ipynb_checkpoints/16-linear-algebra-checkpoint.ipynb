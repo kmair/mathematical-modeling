{
 "cells": [
  {
   "cell_type": "markdown",
   "metadata": {},
   "source": [
    "###### - KEYWORDS: numpy.linalg.solve\n"
   ]
  },
  {
   "cell_type": "markdown",
   "metadata": {},
   "source": [
    "\n",
    "# Applications of linear algebra\n",
    "\n"
   ]
  },
  {
   "cell_type": "markdown",
   "metadata": {},
   "source": [
    "Linear algebra is used extensively in engineering applications. Here we consider some examples.\n",
    "\n"
   ]
  },
  {
   "cell_type": "markdown",
   "metadata": {},
   "source": [
    "\n",
    "## Application in reaction engineering - Steady state CSTR\n",
    "\n"
   ]
  },
  {
   "cell_type": "markdown",
   "metadata": {},
   "source": [
    "Suppose we have first order reactions occurring in a CSTR. We can represent the concentrations of each species in the reactor as a vector: $C = [C_A C_C C_D ...]$.\n",
    "\n",
    "Let the reactions be $A \\rightarrow C$ and $C \\rightarrow D$. These reactions happen at these rates:\n",
    "\n",
    "$r1 = k1 C_A$ and $r2 = k2 C_C$.\n",
    "\n",
    "We assume a constant volume $V$, and volumetric flow rate $\\nu$ into a CSTR, and steady state. It is convenient to define $\\tau = V / \\nu$. With these assumptions, we can derive the following species mole balances:\n",
    "\n",
    "$0 = C_{A, feed} - C_A - \\tau k1 C_A$\n",
    "\n",
    "$0 = C_{C, feed} - C_C + \\tau k1 C_A - \\tau k2 C_C$\n",
    "\n",
    "$0 = C_{D, feed} - C_D + \\tau k2 C_C$\n",
    "\n",
    "These are not particularly in a useful form, since they do not resemble $\\mathbf{A} \\mathbf{x} = \\mathbf{b}$. We can rearrange them to achieve that. We need all the variables on the left, and any constant terms on the right.\n",
    "\n",
    "$C_A + \\tau k1 C_A = C_{A, feed}$\n",
    "\n",
    "$C_C - \\tau k1 C_A + \\tau k2 C_C = C_{C, feed}$\n",
    "\n",
    "$C_D - \\tau k2 C_C = C_{D, feed}$\n",
    "\n",
    "Now, we can start to see some structure emerge. Let $\\mathbf{C} = [C_A, C_C, C_D]$.\n",
    "\n",
    "Let $\\mathbf{A} = \\left[\\begin{array}{ccc}\n",
    " 1 + \\tau k1 & 0 & 0 \\\\\n",
    " -\\tau k1 & 1 + \\tau k2 & 0 \\\\\n",
    " 0 & -\\tau k2 & 1\n",
    " \\end{array}\\right]$\n",
    "\n",
    "and finally, we have $\\mathbf{C_{feed}} = [C_{A,feed}, C_{C, feed}, C_{D, feed}]$. Or, all together:\n",
    "\n",
    "$\\mathbf{A} \\mathbf{C} = \\mathbf{C_{feed}}$.\n",
    "\n",
    "Note that we have been talking about these as linear equations, but,  we may also think of them as transformations. Consider this:\n",
    "\n",
    "$\\mathbf{A}^{-1} \\mathbf{C_{feed}} = \\mathbf{C}$.\n",
    "\n",
    "Here we can see that $\\mathbf{A}^{-1}$ transforms the feed concentrations into the exit concentrations.\n",
    "\n",
    "Solving these equations is now straightfoward:\n",
    "\n"
   ]
  },
  {
   "cell_type": "code",
   "execution_count": 1,
   "metadata": {},
   "outputs": [
    {
     "name": "stdout",
     "output_type": "stream",
     "text": [
      "The exit concentrations are C_A=0.33, C_C=0.15, C_D=1.72 mol/L\n",
      "2.2\n"
     ]
    },
    {
     "data": {
      "text/plain": [
       "array([2.2, 0. , 0. ])"
      ]
     },
     "execution_count": 1,
     "metadata": {},
     "output_type": "execute_result"
    }
   ],
   "source": [
    "import numpy as np\n",
    "\n",
    "tau = 2.5  # Residence time (min)\n",
    "C_feed = [2.2, 0.0, 0.0] # mol / L\n",
    "k1 = 2.3  # 1/min\n",
    "k2 = 4.5  # 1/min\n",
    "\n",
    "A = np.array([[1 + tau * k1, 0.0, 0.0],\n",
    "              [-tau * k1, 1 + tau * k2, 0.0],\n",
    "              [0.0, -tau * k2, 1]])\n",
    "\n",
    "# In np.linalg.solve, the first term is inverted and multiplied with the second (Check source code for clarification)\n",
    "# We can use matrix multiiplication to find solution too by multiplying the inverse of A with C_feed. See the next code.\n",
    "C = np.linalg.solve(A, C_feed)  \n",
    "C_A, C_C, C_D = C\n",
    "\n",
    "print(f'The exit concentrations are C_A={C_A:1.2f}, C_C={C_C:1.2f}, C_D={C_D:1.2f} mol/L')\n",
    "# Checking if it is the correct answer\n",
    "print(C_A+C_C+C_D) # Total Conc\n",
    "A @ C   # Mat mul"
   ]
  },
  {
   "cell_type": "code",
   "execution_count": 2,
   "metadata": {},
   "outputs": [
    {
     "data": {
      "text/plain": [
       "(array([0.32592593, 0.15298564, 1.72108844]),\n",
       " array([0.32592593, 0.15298564, 1.72108844]))"
      ]
     },
     "execution_count": 2,
     "metadata": {},
     "output_type": "execute_result"
    }
   ],
   "source": [
    "C, np.linalg.inv(A) @ C_feed"
   ]
  },
  {
   "cell_type": "code",
   "execution_count": 3,
   "metadata": {},
   "outputs": [
    {
     "data": {
      "text/plain": [
       "2.2"
      ]
     },
     "execution_count": 3,
     "metadata": {},
     "output_type": "execute_result"
    }
   ],
   "source": [
    "C_A*(1 + tau * k1)"
   ]
  },
  {
   "cell_type": "markdown",
   "metadata": {},
   "source": [
    "\n",
    "## Finding independent reactions\n",
    "\n"
   ]
  },
  {
   "cell_type": "markdown",
   "metadata": {},
   "source": [
    "reference: Exercise 2.4 in Chemical Reactor Analysis and Design Fundamentals by Rawlings and Ekerdt.\n",
    "\n",
    "The following reactions are proposed in the hydrogenation of bromine. The reactions are defined by $\\mathbf{M} \\mathbf{v}$  where $\\mathbf{M}$ is a stoichometric matrix in which each row represents a reaction with negative stoichiometric coefficients for reactants, and positive stoichiometric coefficients for products. A stoichiometric coefficient of 0 is used for species not participating in the reaction.  The species vector is $\\mathbf{v}$ = [H2 H Br2 Br HBr].T\n",
    "\n"
   ]
  },
  {
   "cell_type": "code",
   "execution_count": 4,
   "metadata": {},
   "outputs": [],
   "source": [
    "#               [H2  H Br2 Br HBr]\n",
    "M = np.array([[-1,  0, -1,  0,  2],  # H2 + Br2 == 2HBR\n",
    "              [ 0,  0, -1,  2,  0],  # Br2 == 2Br\n",
    "              [-1,  1,  0, -1,  1],  # Br + H2 == HBr + H\n",
    "              [ 0, -1, -1,  1,  1],  # H + Br2 == HBr + Br\n",
    "              [ 1, -1,  0,  1,  -1], # H + HBr == H2 + Br\n",
    "              [ 0,  0,  1, -2,  0]])  # 2Br == Br2"
   ]
  },
  {
   "cell_type": "markdown",
   "metadata": {},
   "source": [
    "We can check to see how many independent rows there are, this is equal to the rank of the matrix.\n",
    "\n"
   ]
  },
  {
   "cell_type": "code",
   "execution_count": 5,
   "metadata": {},
   "outputs": [
    {
     "data": {
      "text/plain": [
       "3"
      ]
     },
     "execution_count": 5,
     "metadata": {},
     "output_type": "execute_result"
    }
   ],
   "source": [
    "np.linalg.matrix_rank(M)"
   ]
  },
  {
   "cell_type": "markdown",
   "metadata": {},
   "source": [
    "You can see based on this result that there are only three independent equations. Now we consider how to identify three of them. We need to manipulate $\\mathbf{M}$ to eliminate at least three rows. We can see by inspection that rows 1 and 5 are linearly related (Remember that row mentioned above is for PYTHON and so Row 1 means Row 2 in reality). If we add row 1 to row 5, we will get a row of zeros. That means these two rows are linearly independent."
   ]
  },
  {
   "cell_type": "code",
   "execution_count": 6,
   "metadata": {},
   "outputs": [
    {
     "data": {
      "text/plain": [
       "array([[-1,  0, -1,  0,  2],\n",
       "       [ 0,  0, -1,  2,  0],\n",
       "       [-1,  1,  0, -1,  1],\n",
       "       [ 0, -1, -1,  1,  1],\n",
       "       [ 1, -1,  0,  1, -1],\n",
       "       [ 0,  0,  0,  0,  0]])"
      ]
     },
     "execution_count": 6,
     "metadata": {},
     "output_type": "execute_result"
    }
   ],
   "source": [
    "M[5] += M[1]\n",
    "M"
   ]
  },
  {
   "cell_type": "markdown",
   "metadata": {},
   "source": [
    "Further inspection shows Row 0 is the sum of rows 2 and 3.\n",
    "\n"
   ]
  },
  {
   "cell_type": "code",
   "execution_count": 7,
   "metadata": {},
   "outputs": [
    {
     "data": {
      "text/plain": [
       "array([[ 0,  0,  0,  0,  0],\n",
       "       [ 0,  0, -1,  2,  0],\n",
       "       [-1,  1,  0, -1,  1],\n",
       "       [ 0, -1, -1,  1,  1],\n",
       "       [ 1, -1,  0,  1, -1],\n",
       "       [ 0,  0,  0,  0,  0]])"
      ]
     },
     "execution_count": 7,
     "metadata": {},
     "output_type": "execute_result"
    }
   ],
   "source": [
    "M[0] -= M[2] + M[3]\n",
    "M"
   ]
  },
  {
   "cell_type": "markdown",
   "metadata": {},
   "source": [
    "Finally reaction 2 is the opposite of reaction 4\n",
    "\n"
   ]
  },
  {
   "cell_type": "code",
   "execution_count": 8,
   "metadata": {},
   "outputs": [
    {
     "data": {
      "text/plain": [
       "array([[ 0,  0,  0,  0,  0],\n",
       "       [ 0,  0, -1,  2,  0],\n",
       "       [ 0,  0,  0,  0,  0],\n",
       "       [ 0, -1, -1,  1,  1],\n",
       "       [ 1, -1,  0,  1, -1],\n",
       "       [ 0,  0,  0,  0,  0]])"
      ]
     },
     "execution_count": 8,
     "metadata": {},
     "output_type": "execute_result"
    }
   ],
   "source": [
    "M[2] += M[4]\n",
    "M"
   ]
  },
  {
   "cell_type": "markdown",
   "metadata": {},
   "source": [
    "We have successfully eliminated three reactions by linear combinations of other reactions. We can reorder the array like this to put the non-zero rows at the top.\n",
    "\n"
   ]
  },
  {
   "cell_type": "code",
   "execution_count": 9,
   "metadata": {},
   "outputs": [
    {
     "data": {
      "text/plain": [
       "array([[ 0,  0, -1,  2,  0],\n",
       "       [ 0, -1, -1,  1,  1],\n",
       "       [ 1, -1,  0,  1, -1],\n",
       "       [ 0,  0,  0,  0,  0],\n",
       "       [ 0,  0,  0,  0,  0],\n",
       "       [ 0,  0,  0,  0,  0]])"
      ]
     },
     "execution_count": 9,
     "metadata": {},
     "output_type": "execute_result"
    }
   ],
   "source": [
    "M[[1, 3, 4, 0, 2, 5]]"
   ]
  },
  {
   "cell_type": "markdown",
   "metadata": {},
   "source": [
    "We can print these in a more readable form like this:\n",
    "\n"
   ]
  },
  {
   "cell_type": "code",
   "execution_count": 10,
   "metadata": {},
   "outputs": [
    {
     "name": "stdout",
     "output_type": "stream",
     "text": [
      "0 =  -1Br2 +2Br\n",
      "0 =  -1H -1Br2 +1Br +1HBr\n",
      "0 =  +1H2 -1H +1Br -1HBr\n"
     ]
    }
   ],
   "source": [
    "labels = ['H2',  'H', 'Br2', 'Br', 'HBr']\n",
    "for row in M:\n",
    "    if not np.all(row == 0):  # ignore rows that are all zeros\n",
    "        s = '0 = '\n",
    "        for nu, species in zip(row, labels):\n",
    "            if nu != 0:               # For making species whose stoichiometric coeff = 0 to not appear in the print statement.                      \n",
    "                s += ' {0:+d}{1}'.format(int(nu), species)   # writing '+d' allows the + sign to appear so that they are properly spaced\n",
    "        print(s)"
   ]
  },
  {
   "cell_type": "markdown",
   "metadata": {},
   "source": [
    "That representation is a little clunky, but it is tricky to get more conventional looking reactions:\n",
    "\n"
   ]
  },
  {
   "cell_type": "code",
   "execution_count": 11,
   "metadata": {},
   "outputs": [
    {
     "name": "stdout",
     "output_type": "stream",
     "text": [
      " Br2 ->  2Br\n",
      " H +  Br2 ->  Br +  HBr\n",
      " H +  HBr ->  H2 +  Br\n"
     ]
    }
   ],
   "source": [
    "labels = ['H2',  'H', 'Br2', 'Br', 'HBr']\n",
    "for row in M:\n",
    "    if not np.all(row == 0):\n",
    "        reactants, products = [], []\n",
    "        for nu, species in zip(row, labels):\n",
    "            if nu < 0:\n",
    "                reactants += [f' {\"\" if nu == -1 else -int(nu)}{species}']\n",
    "            elif nu > 0:\n",
    "                products += [f' {\"\" if nu == 1 else int(nu)}{species}']\n",
    "        reactants = ' + '.join(reactants)\n",
    "        products = ' + '.join(products)\n",
    "        print(f'{reactants} -> {products}')"
   ]
  },
  {
   "cell_type": "markdown",
   "metadata": {},
   "source": [
    "What we did by hand was to put the matrix into reduced row echelon form. It is not common to do this by hand. One way to get the computer to do this for you is to use [sympy](https://www.sympy.org/en/index.html). This is a symbolic math package for Python that is similar to Mathematica and Maple in its ability to do symbolic (as opposed to numeric) manipulations.\n",
    "\n"
   ]
  },
  {
   "cell_type": "markdown",
   "metadata": {},
   "source": [
    "Sympy is Symbolic Math library"
   ]
  },
  {
   "cell_type": "code",
   "execution_count": 12,
   "metadata": {},
   "outputs": [],
   "source": [
    "import sympy\n",
    "sympy.Matrix.rref?"
   ]
  },
  {
   "cell_type": "code",
   "execution_count": 13,
   "metadata": {},
   "outputs": [
    {
     "data": {
      "text/plain": [
       "Matrix([\n",
       "[1, 0, 0,  2, -2],\n",
       "[0, 1, 0,  1, -1],\n",
       "[0, 0, 1, -2,  0],\n",
       "[0, 0, 0,  0,  0],\n",
       "[0, 0, 0,  0,  0],\n",
       "[0, 0, 0,  0,  0]])"
      ]
     },
     "execution_count": 13,
     "metadata": {},
     "output_type": "execute_result"
    }
   ],
   "source": [
    "import sympy\n",
    "M = sympy.Matrix(M)\n",
    "reduced_form, inds = M.rref()\n",
    "\n",
    "reduced_form"
   ]
  },
  {
   "cell_type": "code",
   "execution_count": 14,
   "metadata": {},
   "outputs": [
    {
     "data": {
      "text/plain": [
       "(0, 1, 2)"
      ]
     },
     "execution_count": 14,
     "metadata": {},
     "output_type": "execute_result"
    }
   ],
   "source": [
    "inds"
   ]
  },
  {
   "cell_type": "markdown",
   "metadata": {},
   "source": [
    "Note that a *Matrix* is not the same as an array. You can convert it to one like this:\n",
    "\n"
   ]
  },
  {
   "cell_type": "code",
   "execution_count": 14,
   "metadata": {},
   "outputs": [
    {
     "data": {
      "text/plain": [
       "array([[ 1.,  0.,  0.,  2., -2.],\n",
       "       [ 0.,  1.,  0.,  1., -1.],\n",
       "       [ 0.,  0.,  1., -2.,  0.],\n",
       "       [ 0.,  0.,  0.,  0.,  0.],\n",
       "       [ 0.,  0.,  0.,  0.,  0.],\n",
       "       [ 0.,  0.,  0.,  0.,  0.]])"
      ]
     },
     "execution_count": 14,
     "metadata": {},
     "output_type": "execute_result"
    }
   ],
   "source": [
    "np.array(reduced_form).astype(np.float) # Note: If you remove as type fn, then it mentions type as object.\n",
    "# Using astype fn, we can print the data in our desired form. For ex: We'll prefer ans to be a float."
   ]
  },
  {
   "cell_type": "markdown",
   "metadata": {},
   "source": [
    "From here you can use the code from above to construct the equations.\n",
    "\n"
   ]
  },
  {
   "cell_type": "markdown",
   "metadata": {},
   "source": [
    "\n",
    "## Application in linear boundary value problems\n",
    "\n"
   ]
  },
  {
   "cell_type": "markdown",
   "metadata": {},
   "source": [
    "Let us consider pressure driven flow again.\n",
    "\n",
    "$\\frac{d^2 v_x}{dy^2} = \\frac{1}{\\mu}\\frac{\\Delta P}{\\Delta x}$\n",
    "\n",
    "This is a boundary value problem where $v_x(y=0) = 0$ and $v_x(y=B) = 0$. The solution is well-known and parabolic.\n",
    "\n",
    "We previously used `scipy.integrate.solve_bvp` for this. Recall that it is necessary to create an initial guess of the solution, and that can be tricky. Here we consider an alternative approach to solving it using a method of finite differences.\n",
    "\n",
    "We can write the second derivative as an approximate finite difference formula:\n",
    "\n",
    "$f''(x) \\approx \\frac{f(x + h) - 2 f(x) + f(x-h)}{h^2}$\n",
    "\n",
    "Let's discretize the domain and then see if we can solve for the velocity at the discretized points.\n",
    "\n",
    "At each point, we can estimate the second derivative as:\n",
    "\n",
    "$\\frac{d^2 v}{dy^2} \\approx \\frac{v_{j+1} - 2 v_j + v_{j-1}}{h^2} = \\frac{\\Delta P}{\\mu\\Delta x}$\n",
    "\n",
    "How does this help us? The $v_j$ are variables that we want to solve for. With a little rearrangement we have:\n",
    "\n",
    "$v_{j+1} - 2 v_j + v_{j-1} = \\frac{h^2 \\Delta P}{\\mu\\Delta x} = G$\n",
    "\n",
    "Let's write a few of these out, starting at $j=1$ up to $j=N-1$:\n",
    "\n",
    "$v_2 - 2 v_1 + v_0 = G$\n",
    "\n",
    "$v_3 - 2 v_2 + v_1 = G$\n",
    "\n",
    "&#x2026;\n",
    "\n",
    "$v_{N} - 2 v_{N-1} + v_{N-2} = G$\n",
    "\n",
    "If we define $\\mathbf{v} = [v_1, v_2, ... v_{N-1}]$ (remember we know $v_0$ and $v_{N}$ from the boundary conditions), we can see the following structure emerge:\n",
    "\n",
    "Let $\\mathbf{A} = \\left[\\begin{array}{ccccc}\n",
    " -2 & 1 & 0 & ... & 0 \\\\\n",
    " 1 & -2 & 1 & ...& 0\\\\\n",
    " \\vdots\\\\\n",
    " 0 & ... & 0 & 1 & -2\n",
    " \\end{array}\\right]$\n",
    "\n",
    "This matrix is sparse (most entries are zero), and diagonal. The diagonal is always -2, and the diagonal above and below the main diagonal is always 1. Note that some derivations of this move a minus sign into the $\\mathbf{G}$, but it does not change anything. Let's consider how to construct a matrix like this.\n",
    "\n"
   ]
  },
  {
   "cell_type": "code",
   "execution_count": 15,
   "metadata": {},
   "outputs": [
    {
     "data": {
      "text/plain": [
       "array([[-2.,  1.,  0.,  0.,  0.],\n",
       "       [ 1., -2.,  1.,  0.,  0.],\n",
       "       [ 0.,  1., -2.,  1.,  0.],\n",
       "       [ 0.,  0.,  1., -2.,  1.],\n",
       "       [ 0.,  0.,  0.,  1., -2.]])"
      ]
     },
     "execution_count": 15,
     "metadata": {},
     "output_type": "execute_result"
    }
   ],
   "source": [
    "A = np.eye(5) * -2\n",
    "L = np.diag(np.ones(4), -1)  # Means to put '4' ones '1' below (signified by '-') ina 5x5 matrix.\n",
    "U = np.diag(np.ones(4), 1)\n",
    "A + L + U"
   ]
  },
  {
   "cell_type": "markdown",
   "metadata": {},
   "source": [
    "And we can define $\\mathbf{G} = [G - v_0, G, G, ..., G - v_N]$ so that we have the following linear equation that is easy to solve:\n",
    "\n",
    "$\\mathbf{A} \\mathbf{v} = \\mathbf{G}$. The only issue is how to code this up conveniently?\n",
    "\n"
   ]
  },
  {
   "cell_type": "code",
   "execution_count": 16,
   "metadata": {},
   "outputs": [
    {
     "data": {
      "text/plain": [
       "array([[-2.,  1.,  0.,  0.,  0.,  0.,  0.,  0.],\n",
       "       [ 1., -2.,  1.,  0.,  0.,  0.,  0.,  0.],\n",
       "       [ 0.,  1., -2.,  1.,  0.,  0.,  0.,  0.],\n",
       "       [ 0.,  0.,  1., -2.,  1.,  0.,  0.,  0.],\n",
       "       [ 0.,  0.,  0.,  1., -2.,  1.,  0.,  0.],\n",
       "       [ 0.,  0.,  0.,  0.,  1., -2.,  1.,  0.],\n",
       "       [ 0.,  0.,  0.,  0.,  0.,  1., -2.,  1.],\n",
       "       [ 0.,  0.,  0.,  0.,  0.,  0.,  1., -2.]])"
      ]
     },
     "execution_count": 16,
     "metadata": {},
     "output_type": "execute_result"
    }
   ],
   "source": [
    "B = 0.2\n",
    "\n",
    "N = 10  # You need to use enough points to make sure the derivatives are\n",
    "        # reasonably approximated\n",
    "\n",
    "y, h = np.linspace(0, B, N, retstep=True)\n",
    "\n",
    "A = np.eye(len(y) - 2) * -2   # len(y)-2 because we want to remove the bdy values\n",
    "L = np.diag(np.ones(len(y) - 3), -1) # lower diagonal\n",
    "U = np.diag(np.ones(len(y) - 3), 1) # upper diagonal\n",
    "A = A + L + U\n",
    "A  # always a good idea to check we have the right structure."
   ]
  },
  {
   "cell_type": "markdown",
   "metadata": {},
   "source": [
    "Now we create the $\\mathbf{G}$ vector.\n",
    "\n"
   ]
  },
  {
   "cell_type": "code",
   "execution_count": 17,
   "metadata": {},
   "outputs": [
    {
     "name": "stdout",
     "output_type": "stream",
     "text": [
      "[-0.01234568 -0.01234568 -0.01234568 -0.01234568 -0.01234568 -0.01234568\n",
      " -0.01234568 -0.01234568]\n",
      "[-0.01234568 -0.01234568 -0.01234568 -0.01234568 -0.01234568 -0.01234568\n",
      " -0.01234568 -0.01234568]\n"
     ]
    }
   ],
   "source": [
    "mu = 2\n",
    "deltaPx = -50\n",
    "v0 = vB = 0.0\n",
    "\n",
    "G = np.ones(len(y) - 2) * deltaPx / mu * h**2 \n",
    "print(G)\n",
    "G[0] -= v0\n",
    "G[-1] -= vB\n",
    "print(G)\n"
   ]
  },
  {
   "cell_type": "markdown",
   "metadata": {},
   "source": [
    "Now, solving this is simple, no initial guesses required since it is a linear problem.\n",
    "\n"
   ]
  },
  {
   "cell_type": "code",
   "execution_count": 18,
   "metadata": {},
   "outputs": [
    {
     "data": {
      "text/plain": [
       "array([0.04938272, 0.08641975, 0.11111111, 0.12345679, 0.12345679,\n",
       "       0.11111111, 0.08641975, 0.04938272])"
      ]
     },
     "execution_count": 18,
     "metadata": {},
     "output_type": "execute_result"
    },
    {
     "data": {
      "image/png": "[encoded data removed]",
      "text/plain": [
       "<Figure size 432x288 with 1 Axes>"
      ]
     },
     "metadata": {},
     "output_type": "display_data"
    }
   ],
   "source": [
    "vx = np.linalg.solve(A, G)\n",
    "\n",
    "%matplotlib inline\n",
    "import matplotlib.pyplot as plt\n",
    "\n",
    "plt.plot(y, np.concatenate([[v0], vx, [vB]]))  # concatenate adds the 1st & last point to the data too.\n",
    "plt.xlabel('y')\n",
    "plt.ylabel('$v_x$')\n",
    "plt.xlim([0, B])\n",
    "plt.ylim([0, 0.15])\n",
    "vx"
   ]
  },
  {
   "cell_type": "code",
   "execution_count": 19,
   "metadata": {},
   "outputs": [
    {
     "data": {
      "text/plain": [
       "array([-0.37037037, -0.69135802, -0.92592593, -1.04938272, -1.04938272,\n",
       "       -0.92592593, -0.69135802, -0.37037037])"
      ]
     },
     "execution_count": 19,
     "metadata": {},
     "output_type": "execute_result"
    },
    {
     "data": {
      "image/png": "[encoded data removed]",
      "text/plain": [
       "<Figure size 432x288 with 1 Axes>"
      ]
     },
     "metadata": {},
     "output_type": "display_data"
    }
   ],
   "source": [
    "# If vx was a fn of v at every point\n",
    "vx = np.linalg.solve(A, np.ones(len(y) - 2) * vx) # deltaPx / mu * h**2 *\n",
    "\n",
    "%matplotlib inline\n",
    "import matplotlib.pyplot as plt\n",
    "\n",
    "plt.plot(y, np.concatenate([[v0], vx, [vB]]))  # concatenate adds the 1st & last point to the data too.\n",
    "plt.xlabel('y')\n",
    "plt.ylabel('$v_x$')\n",
    "#plt.xlim([0, B])\n",
    "#plt.ylim([0, 0.15])\n",
    "vx"
   ]
  },
  {
   "cell_type": "markdown",
   "metadata": {},
   "source": [
    "Note that we have approximated the solution by discretizing and estimating the derivatives that the points. You have to check for convergence by increasing the number of points $N$.\n",
    "\n",
    "This method worked because the BVP was *linear*, i.e. no products, powers, etc of derivatives, so that the final set of equations after discretization was linear. If the BVP was nonlinear, we would end up with a set of coupled nonlinear equations that you would have to use `scipy.optimize.fsolve` to solve, or `scipy.integrate.solve_bvp`, and these would both require an initial guess to solve.\n",
    "\n"
   ]
  },
  {
   "cell_type": "markdown",
   "metadata": {},
   "source": [
    "\n",
    "# Things to look out for\n",
    "\n"
   ]
  },
  {
   "cell_type": "markdown",
   "metadata": {},
   "source": [
    "Just because systems are linear doesn't mean they are well-behaved. Seemingly simple equations can show unexpected behavior. Consider\n",
    "\n",
    "$-0.5 x1 + x2 = 1.1$\n",
    "\n",
    "and\n",
    "\n",
    "$-0.46 x1 + x2 = 1.0$\n",
    "\n",
    "These are easy to solve.\n",
    "\n"
   ]
  },
  {
   "cell_type": "code",
   "execution_count": 20,
   "metadata": {},
   "outputs": [
    {
     "data": {
      "text/plain": [
       "array([-2.5 , -0.15])"
      ]
     },
     "execution_count": 20,
     "metadata": {},
     "output_type": "execute_result"
    }
   ],
   "source": [
    "import numpy as np\n",
    "\n",
    "A = np.array([[-0.5, 1],\n",
    "              [-0.46, 1]])\n",
    "b = np.array([1.1, 1])\n",
    "\n",
    "np.linalg.solve(A, b)"
   ]
  },
  {
   "cell_type": "markdown",
   "metadata": {},
   "source": [
    "Now consider this slightly different system where we just change -0.46 to -0.47. Surely that should not be a big deal right?\n",
    "\n"
   ]
  },
  {
   "cell_type": "code",
   "execution_count": 21,
   "metadata": {},
   "outputs": [
    {
     "data": {
      "text/plain": [
       "array([-0.,  1.])"
      ]
     },
     "execution_count": 21,
     "metadata": {},
     "output_type": "execute_result"
    }
   ],
   "source": [
    "A = np.array([[-0.5, 1.1],\n",
    "              [-0.47, 1]])\n",
    "\n",
    "b = np.array([1.1, 1])\n",
    "\n",
    "np.linalg.solve(A, b)"
   ]
  },
  {
   "cell_type": "markdown",
   "metadata": {},
   "source": [
    "That seems like a big change in the answer for such a small change in one coefficient. What is happening? The determinant of this matrix is small, and the condition number is high, which means it is an ill-conditioned system of equations.\n",
    "\n"
   ]
  },
  {
   "cell_type": "code",
   "execution_count": 22,
   "metadata": {},
   "outputs": [
    {
     "data": {
      "text/plain": [
       "(0.017000000000000022, 157.69365859091198)"
      ]
     },
     "execution_count": 22,
     "metadata": {},
     "output_type": "execute_result"
    }
   ],
   "source": [
    "np.linalg.det(A), np.linalg.cond(A)"
   ]
  },
  {
   "cell_type": "markdown",
   "metadata": {},
   "source": [
    "**Self:** For well-behaved systems, the **np.linalg.cond(A) fn must be close to 1**"
   ]
  },
  {
   "cell_type": "markdown",
   "metadata": {},
   "source": [
    "Graphically, this means the two lines are nearly parallel, so even the smallest shift in the slope will result in a large change in the intersection.\n",
    "\n"
   ]
  },
  {
   "cell_type": "code",
   "execution_count": 23,
   "metadata": {},
   "outputs": [
    {
     "data": {
      "text/plain": [
       "Text(0,0.5,'x2')"
      ]
     },
     "execution_count": 23,
     "metadata": {},
     "output_type": "execute_result"
    },
    {
     "data": {
      "image/png": "[encoded data removed]",
      "text/plain": [
       "<Figure size 432x288 with 1 Axes>"
      ]
     },
     "metadata": {},
     "output_type": "display_data"
    }
   ],
   "source": [
    "%matplotlib inline\n",
    "import matplotlib.pyplot as plt\n",
    "\n",
    "x1 = np.linspace(-6, 0)\n",
    "x2_0 = 1.1 + 0.5 * x1\n",
    "#x2_1 = 1.0 + 0.47 * x1\n",
    "x2_1 = 1.0 + 0.46 * x1\n",
    "# The intersection point shifts very quickly!\n",
    "\n",
    "plt.plot(x1, x2_0, x1, x2_1)\n",
    "plt.xlabel('x1')\n",
    "plt.ylabel('x2')"
   ]
  },
  {
   "cell_type": "markdown",
   "metadata": {},
   "source": [
    "This system of equations is sensitive to roundoff errors, both in the coefficients of $\\mathbf{A}$ and in the numerics of solving the equations.\n",
    "\n"
   ]
  },
  {
   "cell_type": "markdown",
   "metadata": {},
   "source": [
    "\n",
    "# Leveraging linear algebra for iteration\n",
    "\n"
   ]
  },
  {
   "cell_type": "markdown",
   "metadata": {},
   "source": [
    "Linear algebra can be used for iteration (for loops) in some cases. Doing this is usually faster because dedicated linear algebra libraries are very fast, and the code is usually shorter. However, it is trickier to write sometimes, and not everything can be done this way.\n",
    "\n",
    "It can also be advantageous to use this approach in machine learning. Some frameworks are difficult to use loops in.\n",
    "\n",
    "The dot product is defined as:\n",
    "\n",
    "$\\mathbf{a}\\cdot\\mathbf{b} = \\sum_{i=0}^{N-1} a_i b_i$\n",
    "\n",
    "For specificity we have these two vectors to start with:\n",
    "\n"
   ]
  },
  {
   "cell_type": "code",
   "execution_count": 24,
   "metadata": {},
   "outputs": [],
   "source": [
    "import numpy as np\n",
    "\n",
    "a = np.array([1, 2, 3, 4, 5])\n",
    "b = np.array([3, 6, 8, 9, 10])"
   ]
  },
  {
   "cell_type": "markdown",
   "metadata": {},
   "source": [
    "As defined, we could implement the dot product as:\n",
    "\n"
   ]
  },
  {
   "cell_type": "code",
   "execution_count": 25,
   "metadata": {},
   "outputs": [
    {
     "data": {
      "text/plain": [
       "125"
      ]
     },
     "execution_count": 25,
     "metadata": {},
     "output_type": "execute_result"
    }
   ],
   "source": [
    "dp = 0\n",
    "for i in range(len(a)):\n",
    "    dp += a[i] * b[i]\n",
    "\n",
    "dp"
   ]
  },
  {
   "cell_type": "markdown",
   "metadata": {},
   "source": [
    "We can do better than that with elementwise multiplication:\n",
    "\n"
   ]
  },
  {
   "cell_type": "code",
   "execution_count": 26,
   "metadata": {},
   "outputs": [
    {
     "data": {
      "text/plain": [
       "125"
      ]
     },
     "execution_count": 26,
     "metadata": {},
     "output_type": "execute_result"
    }
   ],
   "source": [
    "np.sum(a * b)"
   ]
  },
  {
   "cell_type": "markdown",
   "metadata": {},
   "source": [
    "The best approach, however, is the linear algebra approach:\n",
    "\n"
   ]
  },
  {
   "cell_type": "code",
   "execution_count": 27,
   "metadata": {},
   "outputs": [
    {
     "data": {
      "text/plain": [
       "125"
      ]
     },
     "execution_count": 27,
     "metadata": {},
     "output_type": "execute_result"
    }
   ],
   "source": [
    "a @ b"
   ]
  },
  {
   "cell_type": "markdown",
   "metadata": {},
   "source": [
    "Why is this better?\n",
    "\n",
    "1.  It is short.\n",
    "2.  It does not specify how the computation is done. This allows it to be done with an optimized (i.e. fast) and possibly parallelized algorithm. *Many* very smart people have worked hard to make linear algebra fast; we should try not to implement it ourselves.\n",
    "\n",
    "Consider $y = \\sum\\limits_{i=1}^n w_i x_i^2$. This operation is like a weighted sum of squares.\n",
    "\n",
    "The old-fashioned way to do this is with a loop.\n",
    "\n"
   ]
  },
  {
   "cell_type": "code",
   "execution_count": 28,
   "metadata": {},
   "outputs": [
    {
     "data": {
      "text/plain": [
       "162.39"
      ]
     },
     "execution_count": 28,
     "metadata": {},
     "output_type": "execute_result"
    }
   ],
   "source": [
    "w = np.array([0.1, 0.25, 0.12, 0.45, 0.98])\n",
    "x = np.array([9, 7, 11, 12, 8])\n",
    "\n",
    "y = 0\n",
    "for wi, xi in zip(w, x):\n",
    "    y += wi * xi**2\n",
    "y"
   ]
  },
  {
   "cell_type": "code",
   "execution_count": 29,
   "metadata": {},
   "outputs": [
    {
     "data": {
      "text/plain": [
       "162.39"
      ]
     },
     "execution_count": 29,
     "metadata": {},
     "output_type": "execute_result"
    }
   ],
   "source": [
    "y = np.sum(w * x**2)\n",
    "y"
   ]
  },
  {
   "cell_type": "code",
   "execution_count": 30,
   "metadata": {},
   "outputs": [
    {
     "data": {
      "text/plain": [
       "162.39"
      ]
     },
     "execution_count": 30,
     "metadata": {},
     "output_type": "execute_result"
    }
   ],
   "source": [
    "a = np.array(x**2).astype(np.float)\n",
    "y = w @ a\n",
    "y"
   ]
  },
  {
   "cell_type": "markdown",
   "metadata": {},
   "source": [
    "Compare this to the more modern numpy approach.\n",
    "\n"
   ]
  },
  {
   "cell_type": "markdown",
   "metadata": {},
   "source": [
    "We can also express this in matrix algebra form. The operation is equivalent to $y = \\mathbf{x} \\cdot \\mathbf{D_w} \\cdot \\mathbf{x}^T$ where $\\mathbf{D_w}$ is a diagonal matrix with the weights on the diagonal.\n",
    "\n"
   ]
  },
  {
   "cell_type": "code",
   "execution_count": 32,
   "metadata": {},
   "outputs": [
    {
     "data": {
      "text/plain": [
       "array([[0.1 , 0.  , 0.  , 0.  , 0.  ],\n",
       "       [0.  , 0.25, 0.  , 0.  , 0.  ],\n",
       "       [0.  , 0.  , 0.12, 0.  , 0.  ],\n",
       "       [0.  , 0.  , 0.  , 0.45, 0.  ],\n",
       "       [0.  , 0.  , 0.  , 0.  , 0.98]])"
      ]
     },
     "execution_count": 32,
     "metadata": {},
     "output_type": "execute_result"
    }
   ],
   "source": [
    "np.diag(w)"
   ]
  },
  {
   "cell_type": "code",
   "execution_count": 31,
   "metadata": {},
   "outputs": [
    {
     "data": {
      "text/plain": [
       "162.39"
      ]
     },
     "execution_count": 31,
     "metadata": {},
     "output_type": "execute_result"
    }
   ],
   "source": [
    "x @ np.diag(w) @ x"
   ]
  },
  {
   "cell_type": "markdown",
   "metadata": {},
   "source": [
    "Finally, consider the sum of the product of three vectors. Let $y = \\sum\\limits_{i=1}^n w_i x_i y_i$. This is like a weighted sum of products.\n",
    "\n"
   ]
  },
  {
   "cell_type": "code",
   "execution_count": 1,
   "metadata": {},
   "outputs": [
    {
     "name": "stdout",
     "output_type": "stream",
     "text": [
      "57.71\n",
      "\n",
      "\n",
      "57.710000000000008"
     ]
    }
   ],
   "source": [
    "w = np.array([0.1, 0.25, 0.12, 0.45, 0.98])\n",
    "x = np.array([9, 7, 11, 12, 8])\n",
    "y = np.array([2, 5, 3, 8, 0])\n",
    "\n",
    "print(np.sum(w * x * y))  # numpy vectorized approach\n",
    "w @ np.diag(x) @ y # linear algebra approach"
   ]
  },
  {
   "cell_type": "markdown",
   "metadata": {},
   "source": [
    "\n",
    "# Summary\n",
    "\n"
   ]
  },
  {
   "cell_type": "markdown",
   "metadata": {},
   "source": [
    "In this lecture we considered several applications of linear algebra including:\n",
    "\n",
    "1.  Solutions to steady state mass balances\n",
    "2.  Finding independent reactions\n",
    "3.  Solving linear boundary value problems\n",
    "\n",
    "We also briefly touched on vectorized approaches to using linear algebra to avoid writing explicit loops.\n",
    "\n"
   ]
  }
 ],
 "metadata": {
  "kernelspec": {
   "display_name": "Python 3",
   "language": "python",
   "name": "python3"
  },
  "language_info": {
   "codemirror_mode": {
    "name": "ipython",
    "version": 3
   },
   "file_extension": ".py",
   "mimetype": "text/x-python",
   "name": "python",
   "nbconvert_exporter": "python",
   "pygments_lexer": "ipython3",
   "version": "3.6.5"
  },
  "org": {
   "KEYWORDS": "numpy.linalg.solve"
  }
 },
 "nbformat": 4,
 "nbformat_minor": 1
}
