{
 "cells": [
  {
   "cell_type": "markdown",
   "metadata": {},
   "source": [
    "$$\\require{mhchem}$$"
   ]
  },
  {
   "cell_type": "markdown",
   "metadata": {},
   "source": [
    "# Python/latex practice (2 pts)\n"
   ]
  },
  {
   "cell_type": "markdown",
   "metadata": {},
   "source": [
    "## Review the materials we discussed in class on [Wednesday](https://nbviewer.jupyter.org/github/zulissi/f18-06625/blob/master/rxns-book/introduction.ipynb?flush_cache=True).  Look over  scipy.optimize,  scipy.minimize, and np.array modules.  Post at least one question on piazza about the concepts/examples/tutorials that you find confusing."
   ]
  },
  {
   "cell_type": "markdown",
   "metadata": {},
   "source": [
    "## The Fibonacci sequence is defined such that each number is the sum of the two previous numbers in the sequence, starting with [1, 1, 2, 3, 5...]. Generate the first 15 elements in the sequence in Python, with the final result as a [list](https://www.tutorialspoint.com/python/python_lists.htm)."
   ]
  },
  {
   "cell_type": "code",
   "execution_count": 4,
   "metadata": {},
   "outputs": [],
   "source": [
    "def Fibonacci(n):\n",
    "    i = 1\n",
    "    j = 1\n",
    "    list = [i,j]\n",
    "    for x in range(n-2):\n",
    "        k = i + j\n",
    "        list = list + [k]\n",
    "        i = j\n",
    "        j = k\n",
    "    return list"
   ]
  },
  {
   "cell_type": "code",
   "execution_count": 5,
   "metadata": {},
   "outputs": [
    {
     "data": {
      "text/plain": [
       "[1, 1, 2, 3, 5, 8, 13, 21, 34, 55, 89, 144, 233, 377, 610]"
      ]
     },
     "execution_count": 5,
     "metadata": {},
     "output_type": "execute_result"
    }
   ],
   "source": [
    "Fibonacci(15)"
   ]
  },
  {
   "cell_type": "markdown",
   "metadata": {},
   "source": [
    "### Bonus (1pt) write a fibonacci generator as a recursive function"
   ]
  },
  {
   "cell_type": "code",
   "execution_count": 8,
   "metadata": {},
   "outputs": [],
   "source": [
    "def recur_fibo(n):\n",
    "   x = []\n",
    "   if n <= 2:\n",
    "      for i in range(n):\n",
    "          x.append(1)\n",
    "      return(x) \n",
    "    "
   ]
  },
  {
   "cell_type": "raw",
   "metadata": {},
   "source": [
    "recur_fibo(1)"
   ]
  },
  {
   "cell_type": "markdown",
   "metadata": {},
   "source": [
    "## Type-set 5 latex equations.  Choose the 5 most complicated equations you have seen so far in your other classes (or from your undergrad courses) and typeset them here."
   ]
  },
  {
   "cell_type": "markdown",
   "metadata": {},
   "source": [
    "## 1. Navier-Stokes Equation\n",
    "### In x-direction for incompressible flow:\n",
    "$\\rho\\displaystyle(\\frac{\\partial u_x}{\\partial t}+u_x\\frac{\\partial u_x}{\\partial x}+u_y\\frac{\\partial u_x}{\\partial y}+u_z\\frac{\\partial u_x}{\\partial z}) = -\\frac{\\partial p}{\\partial x}+\\mu\\displaystyle(\\frac{\\partial^2 u_x}{\\partial x^2}+\\frac{\\partial^2 u_y}{\\partial y^2}+\\frac{\\partial^2 u_z}{\\partial z^2})+\\displaystyle\\frac{1}{3}\\mu\\frac{\\partial}{\\partial x}(\\frac{\\partial u_x}{\\partial x}+\\frac{\\partial u_y}{\\partial y}+\\frac{\\partial u_z}{\\partial z})+\\rho g_x\n",
    "$\n",
    "\n",
    "## 2. Fourier Transform\n",
    "### Forward Fourier Transform and Inverse Fourier Transform respectively are:\n",
    "#### $F(\\omega)=\\displaystyle\\int_{-\\infty}^{\\infty}f(t)e^{-i\\omega t}dt$\n",
    "#### $f(t)=\\displaystyle \\frac{1}{2\\pi}F(\\omega)e^{-i\\omega t}d\\omega$\n",
    "\n",
    "## 3. Taylor Series\n",
    "### f(x) near the point 'h' is:\n",
    "$f(h) +\\displaystyle \\frac{f'(h)}{1!}(x-h) + \\frac{f''(h)}{2!}(x-h)^2 +\\frac{f'''(h)}{3!}(x-h)^3 + ... = \\sum_{n=1}^{\\infty} \\frac{f^{(n)}(h)}{n!} $\n",
    "\n",
    "## 4. Overall Heat Transfer Coefficient\n",
    "### Across an evaporator:\n",
    "$\\displaystyle\\frac{1}{U}=\\frac{1}{h_o \\times(r_i/r_o)} + R_f\\frac{r_o}{r_i} + \\frac{r_o ln(r_o/r_i)}{k_{evap}}+ \\frac{1}{h_i}$\n",
    "\n",
    "## 5. Beattie-Bridgeman Equation of State\n",
    "$\\displaystyle Z=1 + (B_0-\\frac{A_0}{RT}-\\frac{c}{RT^3})\\rho + (B_0b-\\frac{A_0a}{RT^3})\\rho^2 + (\\frac{B_0bc}{T^3})\\rho^3\n",
    "$"
   ]
  },
  {
   "cell_type": "markdown",
   "metadata": {},
   "source": [
    "# Problem 1:  Reaction extent (5 pt)"
   ]
  },
  {
   "cell_type": "markdown",
   "metadata": {},
   "source": [
    "## Problem 1A\n",
    "Ammonia has been proposed as a chemical to store hydrogen for a hydrogen fuel cell due its favorable volumetric hydrogen density. Write down the stoichiometric vector for the thermal decomposition of ammonia to nitrogen and hydrogen."
   ]
  },
  {
   "cell_type": "markdown",
   "metadata": {},
   "source": [
    "$\\ce{2NH3 -> N2 + 3H2}$"
   ]
  },
  {
   "cell_type": "markdown",
   "metadata": {},
   "source": [
    "#### The stoichiometric vector for the above reaction is: \n",
    "#### [$NH_3, N_2, H_2$] = [-2, 1, 3]"
   ]
  },
  {
   "cell_type": "code",
   "execution_count": 2,
   "metadata": {},
   "outputs": [
    {
     "data": {
      "text/plain": [
       "array([-2,  1,  3])"
      ]
     },
     "execution_count": 2,
     "metadata": {},
     "output_type": "execute_result"
    }
   ],
   "source": [
    "import numpy as np\n",
    "# storing the stoichiometric vector as 'Alpha'\n",
    "Alpha = np.array([-2, 1, 3])\n",
    "Alpha"
   ]
  },
  {
   "cell_type": "markdown",
   "metadata": {},
   "source": [
    "## Problem 1B\n",
    "Suppose that we know the initial gas concentration of ammonia in a tank is 100 mol/L, and the fractional reaction extent proceeds as $\\Xi=(1-e^{-3t^2})$ where $t$ is the time in seconds.  Plot the concentration of ammonia, nitrogen, and hydrogen as a function of time over the first 2 seconds.  Label the plot with a legend to indicate the species.  "
   ]
  },
  {
   "cell_type": "code",
   "execution_count": 25,
   "metadata": {
    "ExecuteTime": {
     "end_time": "2017-09-11T21:13:52.453159Z",
     "start_time": "2017-09-11T21:13:51.621996Z"
    },
    "scrolled": true
   },
   "outputs": [
    {
     "data": {
      "text/plain": [
       "array([[1.00000000e+02, 0.00000000e+00, 0.00000000e+00],\n",
       "       [9.85832588e+01, 7.08370593e-01, 2.12511178e+00],\n",
       "       [9.44523312e+01, 2.77383441e+00, 8.32150324e+00],\n",
       "       [8.79485194e+01, 6.02574029e+00, 1.80772209e+01],\n",
       "       [7.95885742e+01, 1.02057129e+01, 3.06171387e+01],\n",
       "       [6.99969727e+01, 1.50015137e+01, 4.50045410e+01],\n",
       "       [5.98293288e+01, 2.00853356e+01, 6.02560068e+01],\n",
       "       [4.96998805e+01, 2.51500598e+01, 7.54501793e+01],\n",
       "       [4.01238778e+01, 2.99380611e+01, 8.98141833e+01],\n",
       "       [3.14815998e+01, 3.42592001e+01, 1.02777600e+02],\n",
       "       [2.40058468e+01, 3.79970766e+01, 1.13991230e+02],\n",
       "       [1.77903137e+01, 4.11048432e+01, 1.23314529e+02],\n",
       "       [1.28131681e+01, 4.35934160e+01, 1.30780248e+02],\n",
       "       [8.96882974e+00, 4.55155851e+01, 1.36546755e+02],\n",
       "       [6.10128592e+00, 4.69493570e+01, 1.40848071e+02],\n",
       "       [4.03379029e+00, 4.79831049e+01, 1.43949315e+02],\n",
       "       [2.59186033e+00, 4.87040698e+01, 1.46112209e+02],\n",
       "       [1.61851309e+00, 4.91907435e+01, 1.47572230e+02],\n",
       "       [9.82261620e-01, 4.95088692e+01, 1.48526608e+02],\n",
       "       [5.79354622e-01, 4.97103227e+01, 1.49130968e+02],\n",
       "       [3.32099420e-01, 4.98339503e+01, 1.49501851e+02],\n",
       "       [1.85011234e-01, 4.99074944e+01, 1.49722483e+02],\n",
       "       [1.00169250e-01, 4.99499154e+01, 1.49849746e+02],\n",
       "       [5.27080665e-02, 4.99736460e+01, 1.49920938e+02],\n",
       "       [2.69541778e-02, 4.99865229e+01, 1.49959569e+02],\n",
       "       [1.33961942e-02, 4.99933019e+01, 1.49979906e+02],\n",
       "       [6.47057862e-03, 4.99967647e+01, 1.49990294e+02],\n",
       "       [3.03746403e-03, 4.99984813e+01, 1.49995444e+02],\n",
       "       [1.38575199e-03, 4.99993071e+01, 1.49997921e+02],\n",
       "       [6.14421235e-04, 4.99996928e+01, 1.49999078e+02]])"
      ]
     },
     "execution_count": 25,
     "metadata": {},
     "output_type": "execute_result"
    }
   ],
   "source": [
    "import numpy as np\n",
    "C_j0 = np.array([100, 0, 0])\n",
    "# in mol/L\n",
    "t = np.linspace(0,2,30)\n",
    "Xi = 1 - np.exp(-3 * t**2)\n",
    "Xi_t = np.transpose([Xi])\n",
    "Co = -C_j0[0] / Alpha[0]\n",
    "C_j = C_j0 + Co * Alpha * Xi_t\n",
    "C_NH3 = C_j[:,0] \n",
    "C_N2 = C_j[:,1] \n",
    "C_H2 = C_j[:,2]\n",
    "C_j"
   ]
  },
  {
   "cell_type": "code",
   "execution_count": null,
   "metadata": {},
   "outputs": [],
   "source": [
    "import matplotlib.pyplot as plt  \n"
   ]
  },
  {
   "cell_type": "markdown",
   "metadata": {},
   "source": [
    "## Problem 1C\n",
    "The operator is worried that if the reaction continues to full extent the increase in the number of moles will drive the pressure too high.  Calculate the time it will take to achieve a 50% higher pressure in the reactor (assuming ideal gas) due to the increase in the number of moles, using fsolve."
   ]
  },
  {
   "cell_type": "code",
   "execution_count": 31,
   "metadata": {
    "ExecuteTime": {
     "end_time": "2017-09-11T17:58:03.688011Z",
     "start_time": "2017-09-11T17:58:03.356264Z"
    }
   },
   "outputs": [
    {
     "name": "stdout",
     "output_type": "stream",
     "text": [
      "[-0.48067563]\n"
     ]
    },
    {
     "data": {
      "image/png": "[encoded data removed]",
      "text/plain": [
       "<Figure size 432x288 with 1 Axes>"
      ]
     },
     "metadata": {},
     "output_type": "display_data"
    }
   ],
   "source": [
    "import numpy as np\n",
    "from scipy.optimize import fsolve\n",
    "dNg = (Alpha[0] + Alpha[1] + Alpha[2])/(-Alpha[0])\n",
    "\n",
    "def f(t):\n",
    "    p = 1.5 - 1 - (1 -np.exp(-3 * t*t))\n",
    "    return p\n",
    "\n",
    "\n",
    "plt.plot(t, f(t))\n",
    "plt.plot(t,np.zeros(len(t)))\n",
    "ans, d, flag, msg = fsolve(f, 2.0, full_output=1)\n",
    "print(ans)\n",
    "\n"
   ]
  },
  {
   "cell_type": "markdown",
   "metadata": {},
   "source": [
    "# Problem 2:  Stoichiometry of reaction systems (3 pt)\n",
    "\n",
    "Consider the following set of chemical reactions:\n",
    "\n",
    "\\begin{equation*}\n",
    "\\ce{H2 + Br2 <=> 2HBr}\\\\\n",
    "\\ce{Br2 <=> 2Br}\\\\\n",
    "\\ce{Br + H2 <=> HBr + H}\\\\\n",
    "\\ce{H + Br2 <=> HBr + Br}\\\\\n",
    "\\ce{H + HBr <=> H2 + Br}\\\\\n",
    "\\ce{2Br <=> Br2}\n",
    "\\end{equation*}\n",
    "\n"
   ]
  },
  {
   "cell_type": "markdown",
   "metadata": {},
   "source": [
    "## Determine the stoichiometric matrix $\\nu$, the species list $A$ for this reaction system (in text)"
   ]
  },
  {
   "cell_type": "markdown",
   "metadata": {},
   "source": [
    "Write A here: $[H_2, Br_2, HBr, Br, H]$"
   ]
  },
  {
   "cell_type": "code",
   "execution_count": 10,
   "metadata": {},
   "outputs": [
    {
     "data": {
      "text/plain": [
       "array([[-1, -1,  2,  0,  0],\n",
       "       [ 0, -1,  0,  2,  0],\n",
       "       [-1,  0,  1, -1,  1],\n",
       "       [ 0, -1,  1,  1, -1],\n",
       "       [ 1,  0, -1,  1, -1],\n",
       "       [ 0,  1,  0, -2,  0]])"
      ]
     },
     "execution_count": 10,
     "metadata": {},
     "output_type": "execute_result"
    }
   ],
   "source": [
    "import numpy as np\n",
    "nu = np.array([[-1,-1,2,0,0],[0,-1,0,2,0],[-1,0,1,-1,1],[0,-1,1,1,-1],[1,0,-1,1,-1],[0,1,0,-2,0]])\n",
    "nu\n"
   ]
  },
  {
   "cell_type": "markdown",
   "metadata": {},
   "source": [
    "## Determine the vector of molecular weights $MW$ and verify that all of the equations you have written obey mass balance"
   ]
  },
  {
   "cell_type": "code",
   "execution_count": 2,
   "metadata": {},
   "outputs": [
    {
     "name": "stdout",
     "output_type": "stream",
     "text": [
      "[[  -2 -160  162    0    0]\n",
      " [   0 -160    0  160    0]\n",
      " [  -2    0   81  -80    1]\n",
      " [   0 -160   81   80   -1]\n",
      " [   2    0  -81   80   -1]\n",
      " [   0  160    0 -160    0]] [0 0 0 0 0 0]\n"
     ]
    }
   ],
   "source": [
    "MW = np.array([2, 160, 81, 80, 1])\n",
    "ans_matrix = nu * MW\n",
    "ans = np.dot(nu, MW)\n",
    "print(ans_matrix, ans)"
   ]
  },
  {
   "cell_type": "markdown",
   "metadata": {},
   "source": [
    "## Determine the rank of the matrix using numpy or scipy. How many reactions are linearly independent?"
   ]
  },
  {
   "cell_type": "code",
   "execution_count": 9,
   "metadata": {},
   "outputs": [
    {
     "name": "stdout",
     "output_type": "stream",
     "text": [
      "The number of independent reactions \"ni\" are: 3\n"
     ]
    }
   ],
   "source": [
    "from numpy.linalg import matrix_rank\n",
    "ni = matrix_rank(nu)\n",
    "print('The number of independent reactions \"ni\" are:', ni)"
   ]
  },
  {
   "cell_type": "markdown",
   "metadata": {},
   "source": [
    "## Now that you have found the number of independent reactions $n_i$, which $n_i$ of the original set of six reactions can be chosen as an independent set? Try guessing some set of $n_i$ reactions and determine the rank of the new stoichiometric matrix. Stop when you have determined successfully one or more sets of $n_i$ independent reactions."
   ]
  },
  {
   "cell_type": "markdown",
   "metadata": {},
   "source": [
    "$$$$ Reaction **1** is dependent on Reaction **4** and Reaction **3**\n",
    "$$$$ Reaction **6** is dependent on Reaction **2** \n",
    "$$$$ Reaction **5** is dependent on Reaction **3** \n",
    "$$$$ Thus a matrix of **3** independent reactions can be made using Reactions **2, 3 and 4** as follows:"
   ]
  },
  {
   "cell_type": "code",
   "execution_count": 15,
   "metadata": {},
   "outputs": [
    {
     "data": {
      "text/plain": [
       "array([[ 0, -1,  0,  2,  0],\n",
       "       [-1,  0,  1, -1,  1],\n",
       "       [ 0, -1,  1,  1, -1]])"
      ]
     },
     "execution_count": 15,
     "metadata": {},
     "output_type": "execute_result"
    }
   ],
   "source": [
    "nu_2=nu[1:4]\n",
    "nu_2"
   ]
  },
  {
   "cell_type": "markdown",
   "metadata": {},
   "source": [
    "The new $\\nu$ vector can be checked below as:"
   ]
  },
  {
   "cell_type": "code",
   "execution_count": null,
   "metadata": {},
   "outputs": [],
   "source": []
  },
  {
   "cell_type": "markdown",
   "metadata": {},
   "source": [
    "# How long did it take you to complete this assignment?"
   ]
  },
  {
   "cell_type": "markdown",
   "metadata": {},
   "source": [
    "Approximately 6-7 hours (including debugging time)"
   ]
  },
  {
   "cell_type": "code",
   "execution_count": null,
   "metadata": {},
   "outputs": [],
   "source": []
  }
 ],
 "metadata": {
  "kernelspec": {
   "display_name": "Python 3",
   "language": "python",
   "name": "python3"
  },
  "language_info": {
   "codemirror_mode": {
    "name": "ipython",
    "version": 3
   },
   "file_extension": ".py",
   "mimetype": "text/x-python",
   "name": "python",
   "nbconvert_exporter": "python",
   "pygments_lexer": "ipython3",
   "version": "3.6.5"
  },
  "toc": {
   "base_numbering": 1,
   "nav_menu": {
    "height": "173px",
    "width": "252px"
   },
   "number_sections": true,
   "sideBar": true,
   "skip_h1_title": false,
   "title_cell": "Table of Contents",
   "title_sidebar": "Contents",
   "toc_cell": false,
   "toc_position": {},
   "toc_section_display": "block",
   "toc_window_display": false
  }
 },
 "nbformat": 4,
 "nbformat_minor": 2
}
