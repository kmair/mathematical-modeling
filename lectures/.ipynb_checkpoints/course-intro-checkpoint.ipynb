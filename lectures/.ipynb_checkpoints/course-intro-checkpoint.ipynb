{
 "cells": [
  {
   "cell_type": "markdown",
   "metadata": {},
   "source": [
    "- KEYWORDS: introduction\n"
   ]
  },
  {
   "cell_type": "code",
   "execution_count": 1,
   "metadata": {},
   "outputs": [],
   "source": []
  },
  {
   "cell_type": "markdown",
   "metadata": {},
   "source": [
    "\n",
    "# Overview of the syllabus\n",
    "\n"
   ]
  },
  {
   "cell_type": "markdown",
   "metadata": {},
   "source": [
    "[syllabus](https://github.com/jkitchin/f18-06623//blob/master/syllabus.org)\n",
    "\n",
    "[course schedule](https://github.com/jkitchin/f18-06623//blob/master/course-schedule.org)\n",
    "\n",
    "Note: Do not make any travel plans until the final exam schedule is officially released. Exam 3 will probably take place during the final exam.\n",
    "\n"
   ]
  },
  {
   "cell_type": "markdown",
   "metadata": {},
   "source": [
    "\n",
    "# techela\n",
    "\n"
   ]
  },
  {
   "cell_type": "markdown",
   "metadata": {},
   "source": [
    "Follow these directions: [techela manual](https://github.com/jkitchin/f18-06623/blob/master/lectures/techela-manual.org)\n",
    "\n",
    "    python -m techela.app f18-06623\n",
    "\n",
    "`techela` is a software package I wrote for this course. It should make it easier for me to distribute the class notes, for you to get the assignments, turn them in, and for us to return the assignments to you.\n",
    "\n"
   ]
  },
  {
   "cell_type": "markdown",
   "metadata": {},
   "source": [
    "\n",
    "# Python\n",
    "\n"
   ]
  },
  {
   "cell_type": "markdown",
   "metadata": {},
   "source": [
    "I will use Python exclusively in class, every day. Python is free, and better than anything else for what we will do in this class. I have used it in research for more than a decade, and it is one of the most popular programming languages around today.\n",
    "\n",
    "I assume most of you have not used Python before. We will start small, and continuously build up skills in using it. You will see it a lot, and you should practice using it. It is an opportunity to learn something new!\n",
    "\n",
    "For a lot of examples of using Python for scientific computing, see [http://kitchingroup.cheme.cmu.edu/pycse/](http://kitchingroup.cheme.cmu.edu/pycse/).\n",
    "\n"
   ]
  },
  {
   "cell_type": "markdown",
   "metadata": {},
   "source": [
    "\n",
    "# Jupyter notebook introduction\n",
    "\n"
   ]
  },
  {
   "cell_type": "markdown",
   "metadata": {},
   "source": [
    "Jupyter notebooks are an interactive, browser-based tool for running Python. We will use them exclusively in this class. We will quickly build up the skills required to solve engineering problems. We will not learn everything about programming, mathematical modeling or engineering processes. My goal is to get you thinking about a very general computational way of thinking about these problems, and to learn how to use computation as a way to augment your analytical skills.\n",
    "\n",
    "I will lecture from the notebooks, and show you how I use them. The notes will be available to you during class for you to work along with me.\n",
    "\n"
   ]
  },
  {
   "cell_type": "code",
   "execution_count": 3,
   "metadata": {},
   "outputs": [
    {
     "name": "stdout",
     "output_type": "stream",
     "text": [
      "Hello World, it is a great day!!!!\n"
     ]
    }
   ],
   "source": [
    "print('Hello World, it is a great day!!!!')\n",
    "# Type C-Enter to run this cell\n",
    "# Type shift-Enter to run this cell and got to the next one or create a new one."
   ]
  },
  {
   "cell_type": "markdown",
   "metadata": {},
   "source": [
    "What is the value of $a$ that satisfies the equation $a + 4 = 5$?\n",
    "\n",
    "We can document our solution here, e.g. we find $x$ by algebra. If we subtract 4 from each side of the equation, $a$ will be isolated, and equal to the value of the right hand side of the equation.\n",
    "\n",
    "<div class=\"alert alert-warning\">\n",
    "You can double-click on any text block to see what the Markdown is that generates it. Type C-Enter to re-render the cell.\n",
    "</div>\n",
    "\n",
    "Here is the code that implements that explanation:\n",
    "\n"
   ]
  },
  {
   "cell_type": "code",
   "execution_count": 21,
   "metadata": {},
   "outputs": [],
   "source": [
    "a = 5 - 4\n"
   ]
  },
  {
   "cell_type": "code",
   "execution_count": 22,
   "metadata": {},
   "outputs": [
    {
     "data": {
      "text/plain": [
       "1"
      ]
     },
     "execution_count": 22,
     "metadata": {},
     "output_type": "execute_result"
    }
   ],
   "source": [
    "a"
   ]
  },
  {
   "cell_type": "code",
   "execution_count": null,
   "metadata": {},
   "outputs": [],
   "source": []
  },
  {
   "cell_type": "markdown",
   "metadata": {},
   "source": [
    "\n",
    "## numpy\n",
    "\n"
   ]
  },
  {
   "cell_type": "markdown",
   "metadata": {},
   "source": [
    "[numpy](http://www.numpy.org) is a Python library for arrays. We have to import this library to access the functionality in it. The conventional way to import this library is:\n",
    "\n",
    "<<div class=\"alert alert-warning\">\n",
    "Remember this cell. You will use it almost every time.\n",
    "</div>\n",
    "\n"
   ]
  },
  {
   "cell_type": "code",
   "execution_count": 35,
   "metadata": {},
   "outputs": [],
   "source": [
    "import numpy as np"
   ]
  },
  {
   "cell_type": "markdown",
   "metadata": {},
   "source": [
    "To see help on the numpy library, run this cell:\n",
    "\n"
   ]
  },
  {
   "cell_type": "code",
   "execution_count": 37,
   "metadata": {},
   "outputs": [],
   "source": [
    "?np"
   ]
  },
  {
   "cell_type": "markdown",
   "metadata": {},
   "source": [
    "Now, we can access functions in the numpy module using \"dot notation\". For example, let us start by creating an array of linearly spaced points using the linspace function. First, we access the help to see how to use it.\n",
    "\n"
   ]
  },
  {
   "cell_type": "code",
   "execution_count": 38,
   "metadata": {},
   "outputs": [],
   "source": [
    "?np.linspace"
   ]
  },
  {
   "cell_type": "code",
   "execution_count": 40,
   "metadata": {},
   "outputs": [
    {
     "data": {
      "text/plain": [
       "3.141592653589793"
      ]
     },
     "execution_count": 40,
     "metadata": {},
     "output_type": "execute_result"
    }
   ],
   "source": [
    "np.pi"
   ]
  },
  {
   "cell_type": "code",
   "execution_count": 39,
   "metadata": {},
   "outputs": [
    {
     "data": {
      "text/plain": [
       "array([ 0.        ,  0.12822827,  0.25645654,  0.38468481,  0.51291309,\n",
       "        0.64114136,  0.76936963,  0.8975979 ,  1.02582617,  1.15405444,\n",
       "        1.28228272,  1.41051099,  1.53873926,  1.66696753,  1.7951958 ,\n",
       "        1.92342407,  2.05165235,  2.17988062,  2.30810889,  2.43633716,\n",
       "        2.56456543,  2.6927937 ,  2.82102197,  2.94925025,  3.07747852,\n",
       "        3.20570679,  3.33393506,  3.46216333,  3.5903916 ,  3.71861988,\n",
       "        3.84684815,  3.97507642,  4.10330469,  4.23153296,  4.35976123,\n",
       "        4.48798951,  4.61621778,  4.74444605,  4.87267432,  5.00090259,\n",
       "        5.12913086,  5.25735913,  5.38558741,  5.51381568,  5.64204395,\n",
       "        5.77027222,  5.89850049,  6.02672876,  6.15495704,  6.28318531])"
      ]
     },
     "execution_count": 39,
     "metadata": {},
     "output_type": "execute_result"
    }
   ],
   "source": [
    "x = np.linspace(0, 2 * np.pi)\n",
    "x  # This displays below"
   ]
  },
  {
   "cell_type": "markdown",
   "metadata": {},
   "source": [
    "Most mathematical operations are element-wise on arrays.\n",
    "\n"
   ]
  },
  {
   "cell_type": "code",
   "execution_count": 47,
   "metadata": {},
   "outputs": [
    {
     "data": {
      "text/plain": [
       "array([  0.00000000e+00,   1.64424896e-02,   6.57699585e-02,\n",
       "         1.47982407e-01,   2.63079834e-01,   4.11062241e-01,\n",
       "         5.91929627e-01,   8.05681992e-01,   1.05231934e+00,\n",
       "         1.33184166e+00,   1.64424896e+00,   1.98954125e+00,\n",
       "         2.36771851e+00,   2.77878075e+00,   3.22272797e+00,\n",
       "         3.69956017e+00,   4.20927735e+00,   4.75187950e+00,\n",
       "         5.32736664e+00,   5.93573876e+00,   6.57699585e+00,\n",
       "         7.25113793e+00,   7.95816498e+00,   8.69807701e+00,\n",
       "         9.47087403e+00,   1.02765560e+01,   1.11151230e+01,\n",
       "         1.19865749e+01,   1.28909119e+01,   1.38281338e+01,\n",
       "         1.47982407e+01,   1.58012325e+01,   1.68371094e+01,\n",
       "         1.79058712e+01,   1.90075180e+01,   2.01420498e+01,\n",
       "         2.13094666e+01,   2.25097683e+01,   2.37429550e+01,\n",
       "         2.50090267e+01,   2.63079834e+01,   2.76398251e+01,\n",
       "         2.90045517e+01,   3.04021633e+01,   3.18326599e+01,\n",
       "         3.32960415e+01,   3.47923081e+01,   3.63214596e+01,\n",
       "         3.78834961e+01,   3.94784176e+01])"
      ]
     },
     "execution_count": 47,
     "metadata": {},
     "output_type": "execute_result"
    }
   ],
   "source": [
    "x ** 2  # ** for exponentiation"
   ]
  },
  {
   "cell_type": "markdown",
   "metadata": {},
   "source": [
    "We can define new variables\n",
    "\n"
   ]
  },
  {
   "cell_type": "code",
   "execution_count": 54,
   "metadata": {},
   "outputs": [
    {
     "name": "stderr",
     "output_type": "stream",
     "text": [
      "/Users/jkitchin/anaconda/lib/python3.6/site-packages/ipykernel_launcher.py:4: RuntimeWarning: divide by zero encountered in log\n",
      "  after removing the cwd from sys.path.\n",
      "/Users/jkitchin/anaconda/lib/python3.6/site-packages/ipykernel_launcher.py:5: RuntimeWarning: divide by zero encountered in log10\n",
      "  \"\"\"\n"
     ]
    }
   ],
   "source": [
    "y1 = np.sin(x)\n",
    "y2 = np.cos(x)\n",
    "y3 = np.exp(-x)\n",
    "y4 = np.log(x)  # natural log\n",
    "y5 = np.log10(x)  # base10 log"
   ]
  },
  {
   "cell_type": "code",
   "execution_count": 55,
   "metadata": {},
   "outputs": [
    {
     "data": {
      "text/plain": [
       "array([       -inf, -0.89201621, -0.59098622, -0.41489496, -0.28995622,\n",
       "       -0.19304621, -0.11386496, -0.04691817,  0.01107378,  0.0622263 ,\n",
       "        0.10798379,  0.14937647,  0.18716503,  0.22192714,  0.25411182,\n",
       "        0.28407505,  0.31210377,  0.33843271,  0.36325629,  0.38673739,\n",
       "        0.40901378,  0.43020308,  0.45040647,  0.46971162,  0.48819503,\n",
       "        0.5059238 ,  0.52295714,  0.53934755,  0.55514182,  0.57038179,\n",
       "        0.58510504,  0.59934548,  0.61313377,  0.62649773,  0.63946271,\n",
       "        0.65205183,  0.66428629,  0.67618551,  0.68776738,  0.6990484 ,\n",
       "        0.71004378,  0.72076765,  0.73123308,  0.74145224,  0.75143646,\n",
       "        0.7611963 ,  0.77074162,  0.78008165,  0.78922503,  0.79817987])"
      ]
     },
     "execution_count": 55,
     "metadata": {},
     "output_type": "execute_result"
    }
   ],
   "source": [
    "y5"
   ]
  },
  {
   "cell_type": "markdown",
   "metadata": {},
   "source": [
    "\n",
    "## plotting\n",
    "\n"
   ]
  },
  {
   "cell_type": "markdown",
   "metadata": {},
   "source": [
    "We can make plots using [matplotlib](https://matplotlib.org). First we need these two lines. The first one makes the plots appear inline in the notebook. The second imports the plotting library. These should be used in this order.\n",
    "\n",
    "<div class=\"alert alert-warning\">\n",
    "Remember this cell. You will use it almost every time you make a plot.\n",
    "</div>\n",
    "\n"
   ]
  },
  {
   "cell_type": "code",
   "execution_count": 56,
   "metadata": {},
   "outputs": [],
   "source": [
    "%matplotlib inline\n",
    "import matplotlib.pyplot as plt"
   ]
  },
  {
   "cell_type": "markdown",
   "metadata": {},
   "source": [
    "You call functions in the plt library to create plots. These are automatically saved in the notebook.\n",
    "\n"
   ]
  },
  {
   "cell_type": "code",
   "execution_count": 74,
   "metadata": {},
   "outputs": [
    {
     "data": {
      "text/plain": [
       "<matplotlib.legend.Legend at 0x151292cf60>"
      ]
     },
     "execution_count": 74,
     "metadata": {},
     "output_type": "execute_result"
    },
    {
     "data": {
      "image/png": "[encoded data removed]",
      "text/plain": [
       "<matplotlib.figure.Figure at 0x151292ce48>"
      ]
     },
     "metadata": {},
     "output_type": "display_data"
    }
   ],
   "source": [
    "plt.plot(x, y1, x, y2)\n",
    "#plt.plot(x, y3)\n",
    "plt.xlabel('x')\n",
    "plt.ylabel('y')\n",
    "plt.legend(['y1', 'y2', 'y3'])\n",
    "# Always include axis labels and legends when appropriate"
   ]
  },
  {
   "cell_type": "markdown",
   "metadata": {},
   "source": [
    "\n",
    "## scipy\n",
    "\n"
   ]
  },
  {
   "cell_type": "markdown",
   "metadata": {},
   "source": [
    "[scipy](https://www.scipy.org) contains numerous libraries for a broad range of scientific computing needs.\n",
    "\n",
    "Suppose we want to perform the [following integral](https://docs.scipy.org/doc/scipy/reference/tutorial/integrate.html#general-integration-quad): $I = \\int_0^{4.5} J_{2.5}(x) dx$. The function $J_{2.5}$ is a special function known as a Bessel function. scipy provides both the integration function, and an implementation of the special function we can use.\n",
    "\n"
   ]
  },
  {
   "cell_type": "code",
   "execution_count": 58,
   "metadata": {},
   "outputs": [],
   "source": [
    "from scipy.integrate import quad\n",
    "from scipy.special import jv"
   ]
  },
  {
   "cell_type": "code",
   "execution_count": 61,
   "metadata": {},
   "outputs": [
    {
     "data": {
      "text/plain": [
       "[<matplotlib.lines.Line2D at 0x1512130d68>]"
      ]
     },
     "execution_count": 61,
     "metadata": {},
     "output_type": "execute_result"
    },
    {
     "data": {
      "image/png": "[encoded data removed]",
      "text/plain": [
       "<matplotlib.figure.Figure at 0x1511f0eb70>"
      ]
     },
     "metadata": {},
     "output_type": "display_data"
    }
   ],
   "source": [
    "x = np.linspace(0, 4.5)\n",
    "y = jv(2.5, x)\n",
    "\n",
    "plt.plot(x, y)"
   ]
  },
  {
   "cell_type": "code",
   "execution_count": 68,
   "metadata": {
    "scrolled": false
   },
   "outputs": [
    {
     "data": {
      "text/plain": [
       "array([ 0.        ,  0.09183673,  0.18367347,  0.2755102 ,  0.36734694,\n",
       "        0.45918367,  0.55102041,  0.64285714,  0.73469388,  0.82653061,\n",
       "        0.91836735,  1.01020408,  1.10204082,  1.19387755,  1.28571429,\n",
       "        1.37755102,  1.46938776,  1.56122449,  1.65306122,  1.74489796,\n",
       "        1.83673469,  1.92857143,  2.02040816,  2.1122449 ,  2.20408163,\n",
       "        2.29591837,  2.3877551 ,  2.47959184,  2.57142857,  2.66326531,\n",
       "        2.75510204,  2.84693878,  2.93877551,  3.03061224,  3.12244898,\n",
       "        3.21428571,  3.30612245,  3.39795918,  3.48979592,  3.58163265,\n",
       "        3.67346939,  3.76530612,  3.85714286,  3.94897959,  4.04081633,\n",
       "        4.13265306,  4.2244898 ,  4.31632653,  4.40816327,  4.5       ])"
      ]
     },
     "execution_count": 68,
     "metadata": {},
     "output_type": "execute_result"
    }
   ],
   "source": [
    "x"
   ]
  },
  {
   "cell_type": "code",
   "execution_count": 67,
   "metadata": {},
   "outputs": [],
   "source": [
    "?quad"
   ]
  },
  {
   "cell_type": "code",
   "execution_count": 59,
   "metadata": {},
   "outputs": [],
   "source": [
    "?jv"
   ]
  },
  {
   "cell_type": "markdown",
   "metadata": {},
   "source": [
    "To evaluate this integral, we have to define a function for the integrand, and use the quad function to compute the integral. The quad function returns two values, the value of the integral, and an estimate of the maximum error in the integral.\n",
    "\n"
   ]
  },
  {
   "cell_type": "code",
   "execution_count": 65,
   "metadata": {},
   "outputs": [
    {
     "data": {
      "text/plain": [
       "(1.1178179380783253, 7.866317216380692e-09)"
      ]
     },
     "execution_count": 65,
     "metadata": {},
     "output_type": "execute_result"
    }
   ],
   "source": [
    "# This is how we define a function. There is a function name, and arguments\n",
    "# The function returns the output of the jv function.\n",
    "def integrand(x):\n",
    "    return jv(2.5, x)\n",
    "\n",
    "I, err = quad(integrand, 0, 4.5)\n",
    "\n",
    "I, err"
   ]
  },
  {
   "cell_type": "markdown",
   "metadata": {},
   "source": [
    "Type **bold text** in markdown. quad solves the integral: $\\int_a^b f(x) dx$."
   ]
  },
  {
   "cell_type": "markdown",
   "metadata": {},
   "source": [
    "\n",
    "# Summary\n",
    "\n"
   ]
  },
  {
   "cell_type": "markdown",
   "metadata": {},
   "source": [
    "Today we introduced several ideas about using Jupyter notebooks to run Python computations. The main points are:\n",
    "\n",
    "1.  Code is run in code cells\n",
    "2.  You have to import some functions from libraries\n",
    "3.  numpy, scipy and matplotlib are three of the main scientific programming libraries we will use a lot.\n",
    "4.  We saw some ways to get help on functions\n",
    "\n"
   ]
  },
  {
   "cell_type": "markdown",
   "metadata": {},
   "source": [
    "\n",
    "# Followup actions\n",
    "\n"
   ]
  },
  {
   "cell_type": "markdown",
   "metadata": {},
   "source": [
    "By Wednesday, you should all have Anaconda Python 3.6 installed, with techela running.\n",
    "\n"
   ]
  }
 ],
 "metadata": {
  "kernelspec": {
   "display_name": "Python 3",
   "language": "python",
   "name": "python3"
  },
  "language_info": {
   "codemirror_mode": {
    "name": "ipython",
    "version": 3
   },
   "file_extension": ".py",
   "mimetype": "text/x-python",
   "name": "python",
   "nbconvert_exporter": "python",
   "pygments_lexer": "ipython3",
   "version": "3.6.5"
  },
  "org": {
   "KEYWORDS": "introduction"
  }
 },
 "nbformat": 4,
 "nbformat_minor": 1
}
