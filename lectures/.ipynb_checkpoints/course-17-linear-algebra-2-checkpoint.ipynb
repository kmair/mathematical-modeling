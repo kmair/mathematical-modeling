{
 "cells": [
  {
   "cell_type": "markdown",
   "metadata": {},
   "source": [
    "- KEYWORDS: numpy.linalg.solve, scipy.interpolate.interp1d, numpy.linalg.eigvals, numpy.linalg.eig, numpy.argsort\n"
   ]
  },
  {
   "cell_type": "markdown",
   "metadata": {},
   "source": [
    "\n",
    "# Interpolating between data points\n",
    "\n"
   ]
  },
  {
   "cell_type": "markdown",
   "metadata": {},
   "source": [
    "It is a common need to interpolate between data points, especially when we don't have knowledge of the function relating the data. There are a variety of approaches you can use for interpolation. We will consider a few approaches that use linear algebra here. Given $N$ points, construct an $N^{th}$ order polynomial that goes through all the points, and that can be used to estimate new values between the points.\n",
    "\n",
    "First we consider some data.\n",
    "\n"
   ]
  },
  {
   "cell_type": "code",
   "execution_count": 1,
   "metadata": {},
   "outputs": [
    {
     "data": {
      "text/plain": [
       "[<matplotlib.lines.Line2D at 0x24ca93dcb70>]"
      ]
     },
     "execution_count": 1,
     "metadata": {},
     "output_type": "execute_result"
    },
    {
     "data": {
      "image/png": "[encoded data removed]",
      "text/plain": [
       "<Figure size 432x288 with 1 Axes>"
      ]
     },
     "metadata": {},
     "output_type": "display_data"
    }
   ],
   "source": [
    "import numpy as np\n",
    "\n",
    "x = np.array([1.2, 2.9, 4.1])\n",
    "y = np.array([4.4, 5.5, 8.9])\n",
    "\n",
    "%matplotlib inline\n",
    "import matplotlib.pyplot as plt\n",
    "\n",
    "plt.plot(x, y)"
   ]
  },
  {
   "cell_type": "markdown",
   "metadata": {},
   "source": [
    "We would like an equation like $y(x) = a_2 x^2 + a_1 x + a_0$. If we write these out for each data point we get:\n",
    "\n",
    "$y_0 = a_2 x_0^2 + a_1 x_0 + a_0$\n",
    "\n",
    "$y_1 = a_2 x_1^2 + a_1 x_1 + a_0$\n",
    "\n",
    "and so on. Here, the things we don't know are the parameters $\\mathbf{a} [a_2, a_1, a_0]$. We can write these as:\n",
    "\n",
    "$\\mathbf{X} \\mathbf{a} = \\mathbf{y}$\n",
    "\n",
    "Where $\\mathbf{X} = [\\mathbf{x^2}, \\mathbf{x}, \\mathbf{1}]$, and is called a Vandermonde matrix. We can readily create these with `numpy.vander`.\n",
    "\n"
   ]
  },
  {
   "cell_type": "code",
   "execution_count": 43,
   "metadata": {},
   "outputs": [],
   "source": [
    "np.vander?"
   ]
  },
  {
   "cell_type": "code",
   "execution_count": 44,
   "metadata": {},
   "outputs": [
    {
     "data": {
      "text/plain": [
       "array([[ 4,  2,  1],\n",
       "       [ 9,  3,  1],\n",
       "       [16,  4,  1]])"
      ]
     },
     "execution_count": 44,
     "metadata": {},
     "output_type": "execute_result"
    }
   ],
   "source": [
    "np.vander([2, 3, 4], 3)"
   ]
  },
  {
   "cell_type": "code",
   "execution_count": 45,
   "metadata": {},
   "outputs": [],
   "source": [
    "?np.stack"
   ]
  },
  {
   "cell_type": "code",
   "execution_count": 9,
   "metadata": {},
   "outputs": [
    {
     "data": {
      "text/plain": [
       "[<matplotlib.lines.Line2D at 0x24ca991aeb8>,\n",
       " <matplotlib.lines.Line2D at 0x24ca99230b8>]"
      ]
     },
     "execution_count": 9,
     "metadata": {},
     "output_type": "execute_result"
    },
    {
     "data": {
      "image/png": "[encoded data removed]",
      "text/plain": [
       "<Figure size 432x288 with 1 Axes>"
      ]
     },
     "metadata": {},
     "output_type": "display_data"
    }
   ],
   "source": [
    "# You can build the X matrix by hand, which allows you to choose which pieces of the polynomial to include.\n",
    "x1 = x[0:2]\n",
    "X1 = np.stack([x1**2, x1**0], axis=1)\n",
    "p1 = np.linalg.solve(X1, y[0:2])\n",
    "\n",
    "x1fit = np.linspace(0, 5)\n",
    "y1fit = np.stack([x1fit**2, x1fit**0], axis=1) @ p1\n",
    "plt.plot(x1fit, y1fit, x, y, 'bo')\n",
    "#np.stack([x1fit**2, x1fit**0], axis=1).shape\n",
    "#p1.shape"
   ]
  },
  {
   "cell_type": "markdown",
   "metadata": {},
   "source": [
    "The first column is $x^2$, the second column is $x$, and the last column is all ones. To compute the polynomial coefficients, we just make the $\\mathbf{X}$ array and solve the equations.\n",
    "\n"
   ]
  },
  {
   "cell_type": "code",
   "execution_count": 46,
   "metadata": {},
   "outputs": [
    {
     "data": {
      "text/plain": [
       "array([ 0.75388776, -2.443881  ,  6.24705882])"
      ]
     },
     "execution_count": 46,
     "metadata": {},
     "output_type": "execute_result"
    }
   ],
   "source": [
    "X = np.vander(x, 3)\n",
    "a = np.linalg.solve(X, y)\n",
    "a"
   ]
  },
  {
   "cell_type": "code",
   "execution_count": 47,
   "metadata": {},
   "outputs": [
    {
     "data": {
      "text/plain": [
       "array([ 0.75388776, -2.443881  ,  6.24705882])"
      ]
     },
     "execution_count": 47,
     "metadata": {},
     "output_type": "execute_result"
    }
   ],
   "source": [
    "np.polyfit(x, y, 2)"
   ]
  },
  {
   "cell_type": "code",
   "execution_count": null,
   "metadata": {},
   "outputs": [],
   "source": []
  },
  {
   "cell_type": "markdown",
   "metadata": {},
   "source": [
    "Now, we can use the parameters to compute new values.\n",
    "\n"
   ]
  },
  {
   "cell_type": "code",
   "execution_count": 7,
   "metadata": {},
   "outputs": [
    {
     "data": {
      "image/png": "[encoded data removed]",
      "text/plain": [
       "<matplotlib.figure.Figure at 0x112003c50>"
      ]
     },
     "metadata": {},
     "output_type": "display_data"
    }
   ],
   "source": [
    "xfit = np.linspace(0, 5)\n",
    "Y = np.vander(xfit, 3) @ a\n",
    "\n",
    "plt.plot(x, y, 'bo', xfit, Y, '.-');"
   ]
  },
  {
   "cell_type": "markdown",
   "metadata": {},
   "source": [
    "What we have done here is fit an N<sup>th</sup> order polynomial to $N$ data points. There is a possibility that we have overfit this data, and extrapolation is not reliable. However, interpolation by this method may be useful. We will return to this for larger data sets where $N$ is much larger than the order of the polynomial when we talk about linear regression next week.\n",
    "\n"
   ]
  },
  {
   "cell_type": "markdown",
   "metadata": {},
   "source": [
    "\n",
    "## Interpolation libraries\n",
    "\n"
   ]
  },
  {
   "cell_type": "markdown",
   "metadata": {},
   "source": [
    "There are several interpolating functions available in [scipy.interpolate](https://docs.scipy.org/doc/scipy/reference/interpolate.html). These are usually more flexible and convenient than writing your own interpolating code. They are more sophisticated, and have some *features* you should be aware of.\n",
    "\n"
   ]
  },
  {
   "cell_type": "code",
   "execution_count": 19,
   "metadata": {},
   "outputs": [],
   "source": [
    "from scipy.interpolate import interp1d\n",
    "\n",
    "interp1d?"
   ]
  },
  {
   "cell_type": "markdown",
   "metadata": {},
   "source": [
    "Linear interpolation is the default, and we have to explicitly allow extrapolation.\n",
    "\n"
   ]
  },
  {
   "cell_type": "code",
   "execution_count": 33,
   "metadata": {},
   "outputs": [
    {
     "data": {
      "text/plain": [
       "array(-9.317647058823525)"
      ]
     },
     "execution_count": 33,
     "metadata": {},
     "output_type": "execute_result"
    }
   ],
   "source": [
    "xfit = np.linspace(0, 5)\n",
    "Y = interp1d(x, y, bounds_error=False, fill_value=\"extrapolate\")\n",
    "Y(-20)"
   ]
  },
  {
   "cell_type": "code",
   "execution_count": 24,
   "metadata": {},
   "outputs": [
    {
     "data": {
      "image/png": "[encoded data removed]",
      "text/plain": [
       "<matplotlib.figure.Figure at 0x112026470>"
      ]
     },
     "metadata": {},
     "output_type": "display_data"
    }
   ],
   "source": [
    "plt.plot(x, y, 'bo', xfit, Y(xfit));"
   ]
  },
  {
   "cell_type": "markdown",
   "metadata": {},
   "source": [
    "We can also specify quadratic spline interpolation.\n",
    "\n"
   ]
  },
  {
   "cell_type": "code",
   "execution_count": 1,
   "metadata": {},
   "outputs": [
    {
     "data": {
      "image/png": "[encoded data removed]",
      "text/plain": [
       "<matplotlib.figure.Figure>"
      ]
     },
     "metadata": {},
     "output_type": "display_data"
    }
   ],
   "source": [
    "Y = interp1d(x, y, kind='quadratic', bounds_error=False, fill_value='extrapolate')\n",
    "\n",
    "plt.plot(x, y, 'bo', X, Y(xfit));"
   ]
  },
  {
   "cell_type": "markdown",
   "metadata": {},
   "source": [
    "With more data points you can also use cubic interpolation, which fits a cubic polynomial between the points, and ensures smoothness and continuity of the derivatives at the endpoints.\n",
    "\n",
    "Note that you have to make some decisions about how to interpolate. These functions can introduce *wiggles* that are not real. Especially when there are step or sharp changes  in values.\n",
    "\n"
   ]
  },
  {
   "cell_type": "code",
   "execution_count": 39,
   "metadata": {},
   "outputs": [
    {
     "data": {
      "text/plain": [
       "[<matplotlib.lines.Line2D at 0x114446400>,\n",
       " <matplotlib.lines.Line2D at 0x114446d68>]"
      ]
     },
     "execution_count": 39,
     "metadata": {},
     "output_type": "execute_result"
    },
    {
     "data": {
      "image/png": "[encoded data removed]",
      "text/plain": [
       "<matplotlib.figure.Figure at 0x114410978>"
      ]
     },
     "metadata": {},
     "output_type": "display_data"
    }
   ],
   "source": [
    "x = np.array([1, 2, 3, 4, 5, 6, 7])\n",
    "y = np.array([1, 2, 1, 1, 0, 0, 0])\n",
    "\n",
    "s = interp1d(x, y, kind='cubic', bounds_error=False, fill_value=\"extrapolate\")\n",
    "X = np.linspace(1, 10)\n",
    "Y = s(X)\n",
    "\n",
    "plt.plot(x, y, 'bo', X, Y)"
   ]
  },
  {
   "cell_type": "markdown",
   "metadata": {},
   "source": [
    "Interpolation is a kind of data driven model for developing a mathematical model from data that can be used to predict new values. These models are not based on physics, but they can be used for predicting new values, estimating derivatives, integrals, etc. Of course, you must be careful with extrapolation; all polynomials tend to &plusmn; infinity eventually, which is probably not physically relevant in most cases.\n",
    "\n",
    "There are multidimensional interpolation functions in `scipy.interpolate`,\n",
    "\n"
   ]
  },
  {
   "cell_type": "code",
   "execution_count": 40,
   "metadata": {},
   "outputs": [],
   "source": [
    "??np.polyfit\n"
   ]
  },
  {
   "cell_type": "markdown",
   "metadata": {},
   "source": [
    "\n",
    "# Eigenvalues\n",
    "\n"
   ]
  },
  {
   "cell_type": "markdown",
   "metadata": {},
   "source": [
    "Eigenvalues and eigenvectors form an important class of linear algebra problems. They are an unusual class of problems though. Recall that we can interpret the equation $\\mathbf{A}\\mathbf{x} = \\mathbf{b}$ as a linear transformation of the vector $\\mathbf{x}$ into the vector $\\mathbf{b}$. This will in general lead to rotation and stretching of the input vector. *Sometimes* though the new vector $\\mathbf{b}$ is simply a rescaling of the original vector, i.e. $\\mathbf{b} = \\lambda \\mathbf{x}$. &lambda; is the scaling factor, and it just changes the magnitude of the $\\mathbf{x}$ vector. In this case, we call &lambda; an \\eigenvalue\\\\, and $\\mathbf{x}$ and \\eigenvector\\\\ of the matrix $\\mathbf{A}$.\n",
    "\n",
    "When you see a problem in the form:\n",
    "\n",
    "$\\mathbf{A}\\mathbf{x} = \\lambda \\mathbf{x}$\n",
    "\n",
    "It is called an eigenvalue problem. It is conventional to write it in the following form:\n",
    "\n",
    "$(\\mathbf{A} - \\lambda \\mathbf{I})\\mathbf{x} = \\mathbf{0}$\n",
    "\n",
    "Based on this equation, since $\\mathbf{x}$ can be anything, it is necessary for the determinant of the matrix on the left to be zero. The eigenvalues of $\\mathbf{A}$ are the ones that are solutions to\n",
    "\n",
    "$det(\\mathbf{A} - \\lambda \\mathbf{I}) = 0$\n",
    "\n",
    "Computing the determinant leads to a *characteristic polynomial* in &lambda;, and the roots of this polynomial are the eigenvalues of the matrix.\n",
    "\n",
    "For an $N \\times N$ array there will be $N$ eigenvalues, although some may be degenerate. The eigenvalues can be real or complex. For some matrices, we know some properties of the eigenvalues. We will consider some of them here.\n",
    "\n",
    "For example, the eigenvalues of a symmetric matrix are always real. We can make a symmetric matrix with some algebra:\n",
    "\n"
   ]
  },
  {
   "cell_type": "code",
   "execution_count": 58,
   "metadata": {},
   "outputs": [
    {
     "data": {
      "text/plain": [
       "array([[ 0.66732883,  0.57462718,  0.89414352],\n",
       "       [ 0.57462718,  1.39385151,  0.13850445],\n",
       "       [ 0.89414352,  0.13850445,  1.61526968]])"
      ]
     },
     "execution_count": 58,
     "metadata": {},
     "output_type": "execute_result"
    }
   ],
   "source": [
    "A = np.random.rand(3,3)\n",
    "A += A.T  # This makes a symmetric matrix\n",
    "A"
   ]
  },
  {
   "cell_type": "markdown",
   "metadata": {},
   "source": [
    "We get the eigenvalues with `numpy.linalg.eigvals`.\n",
    "\n"
   ]
  },
  {
   "cell_type": "code",
   "execution_count": 59,
   "metadata": {},
   "outputs": [
    {
     "data": {
      "text/plain": [
       "array([-0.00503331,  2.34981233,  1.331671  ])"
      ]
     },
     "execution_count": 59,
     "metadata": {},
     "output_type": "execute_result"
    }
   ],
   "source": [
    "np.linalg.eigvals(A)"
   ]
  },
  {
   "cell_type": "markdown",
   "metadata": {},
   "source": [
    "You can see these are all real.\n",
    "\n",
    "The *trace* of a matrix is the sum of the diagonal elements. You can do this manually, or use `numpy.trace`.\n",
    "\n"
   ]
  },
  {
   "cell_type": "code",
   "execution_count": 1,
   "metadata": {},
   "outputs": [
    {
     "name": "stdout",
     "output_type": "stream",
     "text": [
      "(2.8302306710535605, 2.8302306710535605)"
     ]
    }
   ],
   "source": [
    "np.sum(np.diag(A)), np.trace(A)"
   ]
  },
  {
   "cell_type": "markdown",
   "metadata": {},
   "source": [
    "It is a property that the sum of the eigenvalues is equal to the trace:\n",
    "\n",
    "$trace \\mathbf{A} = \\sum \\lambda_k$\n",
    "\n"
   ]
  },
  {
   "cell_type": "code",
   "execution_count": 1,
   "metadata": {},
   "outputs": [
    {
     "name": "stdout",
     "output_type": "stream",
     "text": [
      "2.8302306710535627"
     ]
    }
   ],
   "source": [
    "np.sum(np.linalg.eigvals(A))"
   ]
  },
  {
   "cell_type": "markdown",
   "metadata": {},
   "source": [
    "It is also true that the product of the eigenvalues is equal to the determinant:\n",
    "\n",
    "$det \\mathbf{A} = \\prod \\lambda_k$\n",
    "\n"
   ]
  },
  {
   "cell_type": "code",
   "execution_count": 1,
   "metadata": {},
   "outputs": [
    {
     "name": "stdout",
     "output_type": "stream",
     "text": [
      "(-0.63229403451500454, -0.63229403451500354)"
     ]
    }
   ],
   "source": [
    "np.prod(np.linalg.eigvals(A)), np.linalg.det(A)"
   ]
  },
  {
   "cell_type": "markdown",
   "metadata": {},
   "source": [
    "We can also see the eigenvectors. The `numpy.linalg.eig` function returns *both* eigenvalues and eigenvectors. The eigenvectors are in *columns*\n",
    "\n"
   ]
  },
  {
   "cell_type": "code",
   "execution_count": 92,
   "metadata": {},
   "outputs": [
    {
     "data": {
      "text/plain": [
       "(array([-0.00503331,  2.34981233,  1.331671  ]),\n",
       " array([[-0.84497635,  0.53373838, -0.03373868],\n",
       "        [ 0.30349636,  0.42661766, -0.85199022],\n",
       "        [ 0.44034636,  0.73015115,  0.52246949]]))"
      ]
     },
     "execution_count": 92,
     "metadata": {},
     "output_type": "execute_result"
    }
   ],
   "source": [
    "e, v = np.linalg.eig(A)\n",
    "e, v"
   ]
  },
  {
   "cell_type": "markdown",
   "metadata": {},
   "source": [
    "These eigenvectors have the property that the are normalized to unit length:\n",
    "\n"
   ]
  },
  {
   "cell_type": "code",
   "execution_count": 93,
   "metadata": {},
   "outputs": [
    {
     "data": {
      "text/plain": [
       "[1.0, 1.0, 1.0]"
      ]
     },
     "execution_count": 93,
     "metadata": {},
     "output_type": "execute_result"
    }
   ],
   "source": [
    "[np.linalg.norm(v[:, i]) for i in [0, 1, 2]]"
   ]
  },
  {
   "cell_type": "markdown",
   "metadata": {},
   "source": [
    "The eigenvectors are in columns in the order corresponding to the order of the eigenvalues (these are not necessarily sorted). Here, we show that the eigenvalue/eigenvector pairs satisfy $\\mathbf{A} \\mathbf{v} = \\lambda \\mathbf{v}$.\n",
    "\n"
   ]
  },
  {
   "cell_type": "code",
   "execution_count": 94,
   "metadata": {},
   "outputs": [
    {
     "data": {
      "text/plain": [
       "[True, True, True]"
      ]
     },
     "execution_count": 94,
     "metadata": {},
     "output_type": "execute_result"
    }
   ],
   "source": [
    "[np.allclose(A @ v[:, 0], e[0] * v[:, 0]),\n",
    " np.allclose(A @ v[:, 1], e[1] * v[:, 1]),\n",
    " np.allclose(A @ v[:, 2], e[2] * v[:, 2])]"
   ]
  },
  {
   "cell_type": "markdown",
   "metadata": {},
   "source": [
    "If you mix and match these, they do not satisfy the equations.\n",
    "\n"
   ]
  },
  {
   "cell_type": "code",
   "execution_count": 95,
   "metadata": {},
   "outputs": [
    {
     "data": {
      "text/plain": [
       "[False, False, False]"
      ]
     },
     "execution_count": 95,
     "metadata": {},
     "output_type": "execute_result"
    }
   ],
   "source": [
    "[np.allclose(A @ v[:, 0], e[1] * v[:, 2]),\n",
    " np.allclose(A @ v[:, 1], e[0] * v[:, 1]),\n",
    " np.allclose(A @ v[:, 2], e[2] * v[:, 0])]"
   ]
  },
  {
   "cell_type": "markdown",
   "metadata": {},
   "source": [
    "Also, if you use the rows, it is not correct, and the equation is not satisfied."
   ]
  },
  {
   "cell_type": "code",
   "execution_count": 96,
   "metadata": {},
   "outputs": [
    {
     "data": {
      "text/plain": [
       "[False, False, False]"
      ]
     },
     "execution_count": 96,
     "metadata": {},
     "output_type": "execute_result"
    }
   ],
   "source": [
    "[np.allclose(A @ v[0, :], e[0] * v[0, :]),\n",
    " np.allclose(A @ v[1, :], e[1] * v[1, :]),\n",
    " np.allclose(A @ v[2, :], e[2] * v[2, :])]"
   ]
  },
  {
   "cell_type": "code",
   "execution_count": 97,
   "metadata": {},
   "outputs": [
    {
     "data": {
      "text/plain": [
       "True"
      ]
     },
     "execution_count": 97,
     "metadata": {},
     "output_type": "execute_result"
    }
   ],
   "source": [
    "np.all(np.abs(A @ v[:, 2] - e[2] * v[:, 2]) < 1e-6)"
   ]
  },
  {
   "cell_type": "code",
   "execution_count": 98,
   "metadata": {},
   "outputs": [
    {
     "data": {
      "text/plain": [
       "False"
      ]
     },
     "execution_count": 98,
     "metadata": {},
     "output_type": "execute_result"
    }
   ],
   "source": [
    "np.all([True, True, False])"
   ]
  },
  {
   "cell_type": "code",
   "execution_count": 99,
   "metadata": {},
   "outputs": [],
   "source": [
    "?np.allclose"
   ]
  },
  {
   "cell_type": "markdown",
   "metadata": {},
   "source": [
    "The eigenvalues are not sorted. It is often useful to know the smallest, or largest eigenvalue, and to have the eigenvalues sorted. The tricky point to consider is the eigenvectors have to be sorted in the same order. It is also tricky that the eigenvectors are stored in columns, but sorting is done on rows. You can simply transpose the eigenvector array, sort on rows, and then transpose it back to columns.\n",
    "\n"
   ]
  },
  {
   "cell_type": "code",
   "execution_count": 100,
   "metadata": {},
   "outputs": [
    {
     "data": {
      "text/plain": [
       "array([-0.00503331,  1.331671  ,  2.34981233])"
      ]
     },
     "execution_count": 100,
     "metadata": {},
     "output_type": "execute_result"
    }
   ],
   "source": [
    "i = np.argsort(e)\n",
    "e[i]"
   ]
  },
  {
   "cell_type": "code",
   "execution_count": 105,
   "metadata": {},
   "outputs": [
    {
     "data": {
      "text/plain": [
       "(array([-0.00503331,  1.331671  ,  2.34981233]),\n",
       " array([[-0.84497635, -0.03373868,  0.53373838],\n",
       "        [ 0.30349636, -0.85199022,  0.42661766],\n",
       "        [ 0.44034636,  0.52246949,  0.73015115]]))"
      ]
     },
     "execution_count": 105,
     "metadata": {},
     "output_type": "execute_result"
    }
   ],
   "source": [
    "sorted_e = e[i]\n",
    "sorted_v = v.T[i].T  # transpose to evecs in rows, sort, then back to evecs in columns.\n",
    "sorted_e, sorted_v"
   ]
  },
  {
   "cell_type": "markdown",
   "metadata": {},
   "source": [
    "*As always* it is a good idea to check that we did not mess up:\n",
    "\n"
   ]
  },
  {
   "cell_type": "code",
   "execution_count": 107,
   "metadata": {},
   "outputs": [
    {
     "name": "stdout",
     "output_type": "stream",
     "text": [
      "True\n",
      "True\n",
      "True\n"
     ]
    }
   ],
   "source": [
    "for j, se in enumerate(sorted_e):\n",
    "    sv = sorted_v[:, j]\n",
    "    print(np.allclose(A @ sv, se * sv))"
   ]
  },
  {
   "cell_type": "markdown",
   "metadata": {},
   "source": [
    "\n",
    "## Application to roots of a polynomial\n",
    "\n"
   ]
  },
  {
   "cell_type": "markdown",
   "metadata": {},
   "source": [
    "The eigenvalues of a matrix are related to the roots of the characteristic polynomial of the matrix. We can leverage this to find the roots of a polynomial by constructing a matrix that has as its characteristic polynomial the polynomial we want the roots for. Then, the roots of the polynomial are just the eigenvalues of that matrix.\n",
    "\n",
    "This example is adapted from [http://www.math.utah.edu/~gustafso/s2018/2270/labs/lab7-polyroot-qrmethod.pdf](http://www.math.utah.edu/~gustafso/s2018/2270/labs/lab7-polyroot-qrmethod.pdf)\n",
    "\n",
    "First, we construct the *companion matrix*. For the polynomial $p(x) = a_0 + a_1 x + ... + a_{n-1} x^{n-1} + x^n$ we construct:\n",
    "\n",
    "$C = \\left[\\begin{array}{ccccc}\n",
    " 0 & 1 & 0 & ... & 0\\\\\n",
    " 0 & 0 & 1 & ... & 0\\\\\n",
    " ... & ... & ... & \\ddots & \\vdots \\\\\n",
    " 0 & 0 & 0 & ... & 1\\\\\n",
    " -a_0 & -a_1 & -a_2 & ... & -a_{n-1}\n",
    " \\end{array}\\right]$\n",
    "\n",
    "Then, the eigenvalues of this matrix are equal to the roots of the polynomial. This matrix has ones on the diagonal above the main diagonal, and the coefficients up to the leading power on the bottom row. Note the coefficients are in the opposite order as we usually define them for `np.roots`.\n",
    "\n",
    "The main diagonal has `N` elements in it, and the diagonal above that has `N-2` elements in it.\n",
    "\n",
    "There are a few ways to reverse the coefficients, here we use `numpy.flipud` which reverses the elements.\n",
    "\n",
    "Let $p(x) = 4 x^2 + 3x - 1$. We write the coefficient vector in the same order as used in np.roots.\n",
    "\n"
   ]
  },
  {
   "cell_type": "markdown",
   "metadata": {},
   "source": [
    "It is implied in the companion matrix above that the coefficient on the leading power of x is 1. The companion matrix has a size of $N-1 \\times N-1$"
   ]
  },
  {
   "cell_type": "code",
   "execution_count": 112,
   "metadata": {},
   "outputs": [
    {
     "data": {
      "text/plain": [
       "array([[ 0.  ,  1.  ],\n",
       "       [ 0.25, -0.75]])"
      ]
     },
     "execution_count": 112,
     "metadata": {},
     "output_type": "execute_result"
    }
   ],
   "source": [
    "p = np.array([4, 3, -1])\n",
    "N = len(p)\n",
    "\n",
    "C = np.diag(np.ones(N - 2), 1)\n",
    "C[-1, :] = np.flipud(-p[1:] / p[0])  # set the bottom row to the normalized paramaters where a_2 = 1\n",
    "C"
   ]
  },
  {
   "cell_type": "code",
   "execution_count": 126,
   "metadata": {},
   "outputs": [
    {
     "data": {
      "text/plain": [
       "(array([ 4,  3, -1]), array([-1,  3,  4]), array([-1,  3,  4]))"
      ]
     },
     "execution_count": 126,
     "metadata": {},
     "output_type": "execute_result"
    }
   ],
   "source": [
    "p, np.flipud(p), p[-1::-1]  # reversing the array"
   ]
  },
  {
   "cell_type": "markdown",
   "metadata": {},
   "source": [
    "Now the roots are found as the eigenvalues of the matrix.\n",
    "\n"
   ]
  },
  {
   "cell_type": "code",
   "execution_count": 115,
   "metadata": {},
   "outputs": [
    {
     "data": {
      "text/plain": [
       "array([ 0.25, -1.  ])"
      ]
     },
     "execution_count": 115,
     "metadata": {},
     "output_type": "execute_result"
    }
   ],
   "source": [
    "r = np.linalg.eigvals(C)\n",
    "r"
   ]
  },
  {
   "cell_type": "code",
   "execution_count": 116,
   "metadata": {},
   "outputs": [
    {
     "data": {
      "text/plain": [
       "array([ 0.,  0.])"
      ]
     },
     "execution_count": 116,
     "metadata": {},
     "output_type": "execute_result"
    }
   ],
   "source": [
    "np.polyval(p, r)"
   ]
  },
  {
   "cell_type": "code",
   "execution_count": 118,
   "metadata": {},
   "outputs": [
    {
     "data": {
      "text/plain": [
       "array([ 0.,  0.])"
      ]
     },
     "execution_count": 118,
     "metadata": {},
     "output_type": "execute_result"
    }
   ],
   "source": [
    "np.vander(r, 3) @ p"
   ]
  },
  {
   "cell_type": "markdown",
   "metadata": {},
   "source": [
    "This is essentially what the `np.roots` function does, although it uses a slightly different way to define the companion matrix.\n",
    "\n"
   ]
  },
  {
   "cell_type": "code",
   "execution_count": 127,
   "metadata": {},
   "outputs": [],
   "source": [
    "import numpy as np\n",
    "??np.roots"
   ]
  },
  {
   "cell_type": "code",
   "execution_count": 129,
   "metadata": {},
   "outputs": [
    {
     "data": {
      "text/plain": [
       "[-1.0, 0.25]"
      ]
     },
     "execution_count": 129,
     "metadata": {},
     "output_type": "execute_result"
    }
   ],
   "source": [
    "p = [4, 3, -1]\n",
    "sorted(np.roots(p))"
   ]
  },
  {
   "cell_type": "markdown",
   "metadata": {},
   "source": [
    "The order of the roots is not important; they may or may not be sorted.\n",
    "\n"
   ]
  },
  {
   "cell_type": "markdown",
   "metadata": {},
   "source": [
    "\n",
    "## Applications to optimization\n",
    "\n"
   ]
  },
  {
   "cell_type": "markdown",
   "metadata": {},
   "source": [
    "We can use eigenvalues to detect what kind of stationary point (f'(x) = 0) we are at. We have to know the [Hessian matrix](https://en.wikipedia.org/wiki/Hessian_matrix) at the stationary point. The eigenvalues of this matrix tell us about the stationary point.\n",
    "\n",
    "1.  If all the eigenvalues are all positive, the matrix is called positive definite, and it means the stationary point is a minimum.\n",
    "2.  If all the eigenvalues are negative, the matrix is called negative definite, and it means the stationary point is a maximum.\n",
    "3.  If the signs of the eigenvalues are mixed then the stationary point is a saddle point.\n",
    "4.  If there are zeros, it is inconclusive, and further analysis is needed.\n",
    "\n",
    "Let's consider an example:\n",
    "\n"
   ]
  },
  {
   "cell_type": "code",
   "execution_count": 131,
   "metadata": {},
   "outputs": [
    {
     "data": {
      "text/plain": [
       "      fun: -6.0\n",
       " hess_inv: array([[ 0.33333333, -0.16666667],\n",
       "       [-0.16666667,  0.33333333]])\n",
       "      jac: array([ 0.,  0.])\n",
       "  message: 'Optimization terminated successfully.'\n",
       "     nfev: 24\n",
       "      nit: 4\n",
       "     njev: 6\n",
       "   status: 0\n",
       "  success: True\n",
       "        x: array([ 1.99999999, -0.99999999])"
      ]
     },
     "execution_count": 131,
     "metadata": {},
     "output_type": "execute_result"
    }
   ],
   "source": [
    "from scipy.optimize import minimize\n",
    "def f(X):\n",
    "    x, y = X\n",
    "    return 2 * x**2 + 2 * x * y + 2 * y**2 - 6 * x\n",
    "\n",
    "sol = minimize(f, [0, 0])\n",
    "sol"
   ]
  },
  {
   "cell_type": "markdown",
   "metadata": {},
   "source": [
    "We get an estimate of the inverse hessian here, so we convert it to a hessian first.\n",
    "\n"
   ]
  },
  {
   "cell_type": "code",
   "execution_count": 132,
   "metadata": {},
   "outputs": [
    {
     "data": {
      "text/plain": [
       "array([[ 3.99999998,  1.99999997],\n",
       "       [ 1.99999997,  3.99999996]])"
      ]
     },
     "execution_count": 132,
     "metadata": {},
     "output_type": "execute_result"
    }
   ],
   "source": [
    "h = np.linalg.inv(sol['hess_inv'])\n",
    "h"
   ]
  },
  {
   "cell_type": "markdown",
   "metadata": {},
   "source": [
    "Now we check the eigenvalues:\n",
    "\n"
   ]
  },
  {
   "cell_type": "code",
   "execution_count": 133,
   "metadata": {},
   "outputs": [
    {
     "data": {
      "text/plain": [
       "array([ 5.99999994,  2.        ])"
      ]
     },
     "execution_count": 133,
     "metadata": {},
     "output_type": "execute_result"
    }
   ],
   "source": [
    "np.linalg.eigvals(h)"
   ]
  },
  {
   "cell_type": "markdown",
   "metadata": {},
   "source": [
    "We have two positive eigenvalues, so the Hessian is positive definite, and we are at a minimum.\n",
    "\n",
    "We can also use tools to compute the Hessian more directly (of course you can derive the partial derivatives by hand also):\n",
    "\n"
   ]
  },
  {
   "cell_type": "code",
   "execution_count": null,
   "metadata": {},
   "outputs": [],
   "source": [
    "# You may need to run this to do the following block\n",
    "!pip install Numdifftools"
   ]
  },
  {
   "cell_type": "code",
   "execution_count": 136,
   "metadata": {},
   "outputs": [
    {
     "name": "stdout",
     "output_type": "stream",
     "text": [
      "[[ 4.  2.]\n",
      " [ 2.  4.]]\n"
     ]
    },
    {
     "data": {
      "text/plain": [
       "array([ 2.,  6.])"
      ]
     },
     "execution_count": 136,
     "metadata": {},
     "output_type": "execute_result"
    }
   ],
   "source": [
    "import numdifftools as nd\n",
    "H = nd.Hessian(f)\n",
    "print(H(sol.x))\n",
    "np.linalg.eigvals(H(sol.x))"
   ]
  },
  {
   "cell_type": "markdown",
   "metadata": {},
   "source": [
    "Note the order of the eigenvalues is not important.\n",
    "\n",
    "We will see more about numerical tools for computing Hessians and derivatives after Thanksgiving.\n",
    "\n"
   ]
  },
  {
   "cell_type": "markdown",
   "metadata": {},
   "source": [
    "\n",
    "# Summary\n",
    "\n"
   ]
  },
  {
   "cell_type": "markdown",
   "metadata": {},
   "source": [
    "Today we introduced the ideas behind interpolation which is a data-drive approach to model building that involves locally fitting functions to a few data points. We also introduced eigenvalues and eigenvectors, and some applications of how they are used.\n",
    "\n",
    "Next week we will conclude linear algebra with linear regression.\n",
    "\n"
   ]
  }
 ],
 "metadata": {
  "kernelspec": {
   "display_name": "Python 3",
   "language": "python",
   "name": "python3"
  },
  "language_info": {
   "codemirror_mode": {
    "name": "ipython",
    "version": 3
   },
   "file_extension": ".py",
   "mimetype": "text/x-python",
   "name": "python",
   "nbconvert_exporter": "python",
   "pygments_lexer": "ipython3",
   "version": "3.6.5"
  },
  "org": {
   "KEYWORDS": "numpy.linalg.solve, scipy.interpolate.interp1d, numpy.linalg.eigvals, numpy.linalg.eig, numpy.argsort"
  }
 },
 "nbformat": 4,
 "nbformat_minor": 1
}
