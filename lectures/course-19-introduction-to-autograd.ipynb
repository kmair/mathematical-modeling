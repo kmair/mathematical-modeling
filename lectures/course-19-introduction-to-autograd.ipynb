{
 "cells": [
  {
   "cell_type": "markdown",
   "metadata": {},
   "source": [
    "- KEYWORDS: autograd\n"
   ]
  },
  {
   "cell_type": "markdown",
   "metadata": {},
   "source": [
    "\n",
    "# Derivatives in scientific programming\n",
    "\n"
   ]
  },
  {
   "cell_type": "markdown",
   "metadata": {},
   "source": [
    "Derivatives play an important role in modeling engineering processes. They serve mathematical roles in optimization where we need them to find stationary points (i.e. where the first derivatives are zero), and to determine if these points are minima, maxima or saddle points.\n",
    "\n",
    "Derivatives also play a central role in uncertainty propagation and sensitivity analysis. These analyses require derivatives of equations with respect to parameters.\n",
    "\n",
    "Derivatives also serve in physical roles. When we write mass/energy balances we are defining how those variables change in time, which is a derivative. If you recall Fick's law, we way that the flux of a material is proportional to the *gradient* in concentration, which is a derivative. In thermodynamics, we relate many properties to derivatives of some thermodynamic variable. For example, the heat capacity is defined by a partial derivative of the enthalpy: $\\left(\\frac{\\partial H}{\\partial T}\\right)_P = C_p$. There are many more examples where derivatives are important.\n",
    "\n",
    "We usually think about deriving derivatives using calculus. That requires, however, that you have an analytical equation, that you know how to derive the derivative, and finally that you correctly evaluate the result. When you have an analytical equation, that approach is probably the best one when done correctly.\n",
    "\n",
    "In many cases, however, we may not have an equation, or the equation could change regularly or be tedious to derive the derivative. As we increasingly express equations in the form of a program, it is increasingly inconvenient and difficult to work through the program to derive derivatives. In these cases, we need a computational approach to getting derivatives.\n",
    "\n",
    "We have primarily considered two approaches to *estimating* or *approximating* derivatives so far:\n",
    "\n",
    "1.  `numpy.gradient`\n",
    "2.  `scipy.misc.derivative`\n",
    "\n",
    "Both of these approaches have limitations we review below.\n",
    "\n"
   ]
  },
  {
   "cell_type": "markdown",
   "metadata": {},
   "source": [
    "\n",
    "## `numpy.gradient`\n",
    "\n"
   ]
  },
  {
   "cell_type": "markdown",
   "metadata": {},
   "source": [
    "`numpy.gradient` uses [finite difference](https://en.wikipedia.org/wiki/Numerical_differentiation) formulas to estimate the derivatives *from data*. This data may be obtained from experiments, or by numeric integration of an ODE, or from the solution to a BVP. In these cases we do not have analytical formulas to get derivatives from, and we have to resort to numerical methods.\n",
    "\n"
   ]
  },
  {
   "cell_type": "code",
   "execution_count": 1,
   "metadata": {},
   "outputs": [],
   "source": [
    "import numpy as np\n",
    "%matplotlib inline\n",
    "import matplotlib.pyplot as plt\n",
    "\n",
    "?np.gradient"
   ]
  },
  {
   "cell_type": "markdown",
   "metadata": {},
   "source": [
    "The accuracy of these derivatives depends on the spacing between the data points. We have seen the derivatives at the edges of the data are less accurate because a first-order equation is used by default.\n",
    "\n"
   ]
  },
  {
   "cell_type": "code",
   "execution_count": 2,
   "metadata": {},
   "outputs": [
    {
     "data": {
      "text/plain": [
       "<matplotlib.legend.Legend at 0x17e02f8d940>"
      ]
     },
     "execution_count": 2,
     "metadata": {},
     "output_type": "execute_result"
    },
    {
     "data": {
      "image/png": "[encoded data removed]",
      "text/plain": [
       "<Figure size 432x288 with 1 Axes>"
      ]
     },
     "metadata": {},
     "output_type": "display_data"
    }
   ],
   "source": [
    "x = np.linspace(0.1, 1, 10)\n",
    "y = x**0.5\n",
    "\n",
    "plt.plot(x, 0.5 * x**-0.5, x, np.gradient(y, x, edge_order=2), 'r.')\n",
    "plt.legend(['analytical', 'numeric'])"
   ]
  },
  {
   "cell_type": "markdown",
   "metadata": {},
   "source": [
    "You may recall we can fit a polynomial to this data, and then easily get the derivative of the polynomial. By increasing the polynomial order we can improve the derivative estimates to a point. If you start overfitting, you will introduce wiggles into the data.\n",
    "\n"
   ]
  },
  {
   "cell_type": "code",
   "execution_count": 3,
   "metadata": {},
   "outputs": [
    {
     "data": {
      "text/plain": [
       "<matplotlib.legend.Legend at 0x17e030ae550>"
      ]
     },
     "execution_count": 3,
     "metadata": {},
     "output_type": "execute_result"
    },
    {
     "data": {
      "image/png": "[encoded data removed]",
      "text/plain": [
       "<Figure size 432x288 with 1 Axes>"
      ]
     },
     "metadata": {},
     "output_type": "display_data"
    }
   ],
   "source": [
    "p = np.polyfit(x, y, 8)\n",
    "dp  = np.polyder(p)\n",
    "\n",
    "plt.plot(x, 0.5 * x **-0.5, x, np.polyval(dp, x), 'r.')\n",
    "plt.legend(['analytical', 'numeric'])"
   ]
  },
  {
   "cell_type": "markdown",
   "metadata": {},
   "source": [
    "Let's briefly review some linear algebra and the connection with derivatives.\n",
    "\n",
    "A central difference formula is:\n",
    "\n",
    "$y'(x_i) \\approx \\frac{y_{i+1} - y_{i-1}}{2h}$\n",
    "\n",
    "We cannot evaluate this for y<sub>0</sub> or y<sub>-1</sub>. We need a simpler formula for that:\n",
    "\n",
    "We use a forward formula at the beginning: $y'(x_0) \\approx \\frac{y_1 - y_0}{h}$\n",
    "\n",
    "and a backward formula at the end:  $y'(x_{-1}) \\approx \\frac{y_{-1} - y_{-2}}{h}$\n",
    "\n",
    "We can express these formulas in matrix algebra form:\n",
    "\n",
    "$\\mathbf{y'} = \\mathbf{D} \\mathbf{y}$\n",
    "\n"
   ]
  },
  {
   "cell_type": "code",
   "execution_count": 4,
   "metadata": {},
   "outputs": [
    {
     "data": {
      "text/plain": [
       "array([[-11110.,  11110.,      0., ...,      0.,      0.,      0.],\n",
       "       [ -5555.,      0.,   5555., ...,      0.,      0.,      0.],\n",
       "       [     0.,  -5555.,      0., ...,      0.,      0.,      0.],\n",
       "       ...,\n",
       "       [     0.,      0.,      0., ...,      0.,   5555.,      0.],\n",
       "       [     0.,      0.,      0., ...,  -5555.,      0.,   5555.],\n",
       "       [     0.,      0.,      0., ...,      0., -11110.,  11110.]])"
      ]
     },
     "execution_count": 4,
     "metadata": {},
     "output_type": "execute_result"
    }
   ],
   "source": [
    "x, h = np.linspace(0.1, 1, 10000, retstep=True)\n",
    "y = x**0.5\n",
    "\n",
    "D = np.zeros((len(x), len(x)))\n",
    "D += np.diag(np.ones(len(x) - 1) / (2 * h), 1)\n",
    "D += np.diag(-np.ones(len(x) - 1) / (2 * h), -1)\n",
    "D[0, 0:2] = np.array([-1, 1]) / h  # forward formula\n",
    "D[-1, -2:] = np.array([-1, 1]) / h # backward formula\n",
    "D"
   ]
  },
  {
   "cell_type": "code",
   "execution_count": 5,
   "metadata": {},
   "outputs": [
    {
     "name": "stdout",
     "output_type": "stream",
     "text": [
      "9.000900090009e-05\n"
     ]
    },
    {
     "data": {
      "text/plain": [
       "True"
      ]
     },
     "execution_count": 5,
     "metadata": {},
     "output_type": "execute_result"
    }
   ],
   "source": [
    "print(h)\n",
    "dydx = D @ y\n",
    "\n",
    "np.allclose(dydx, np.gradient(y, x))"
   ]
  },
  {
   "cell_type": "markdown",
   "metadata": {},
   "source": [
    "There are more accurate formulas to use for these that use more data points, but in these cases it is better to use `np.gradient` because it already handles these.\n",
    "\n"
   ]
  },
  {
   "cell_type": "markdown",
   "metadata": {},
   "source": [
    "\n",
    "## `scipy.misc.derivative`\n",
    "\n"
   ]
  },
  {
   "cell_type": "markdown",
   "metadata": {},
   "source": [
    "When we have equations in the form of *functions* rather than data, we can leverage `scipy.misc.derivative`. This function also works by using finite differences, and so it would suffer from the same limitations on accuracy as we saw above with data. Nevertheless, if you don't have a better approach, it might still be useful.\n",
    "\n"
   ]
  },
  {
   "cell_type": "code",
   "execution_count": 19,
   "metadata": {},
   "outputs": [],
   "source": [
    "import numpy as np\n",
    "from scipy.misc import derivative\n",
    "?derivative"
   ]
  },
  {
   "cell_type": "markdown",
   "metadata": {},
   "source": [
    "The most crucial step is choosing an appropriate value for dx. Note that `derivative` does not return a function; we have to *wrap* it in a function definition to use it like a function.\n",
    "\n"
   ]
  },
  {
   "cell_type": "code",
   "execution_count": 7,
   "metadata": {},
   "outputs": [
    {
     "name": "stdout",
     "output_type": "stream",
     "text": [
      "True\n",
      "True\n"
     ]
    },
    {
     "data": {
      "text/plain": [
       "<matplotlib.legend.Legend at 0x17e334b2b00>"
      ]
     },
     "execution_count": 7,
     "metadata": {},
     "output_type": "execute_result"
    },
    {
     "data": {
      "image/png": "[encoded data removed]",
      "text/plain": [
       "<Figure size 432x288 with 1 Axes>"
      ]
     },
     "metadata": {},
     "output_type": "display_data"
    }
   ],
   "source": [
    "x = np.linspace(0.1, 1, 10)\n",
    "\n",
    "def f(x):\n",
    "    return x**0.5\n",
    "\n",
    "def dfdx(x, dx=1e-5):\n",
    "    return derivative(f, x, dx)\n",
    "\n",
    "\n",
    "# alternative approach with list comprehension\n",
    "_dfdx = np.array([derivative(f, _x, 1e-5) for _x in x])\n",
    "\n",
    "# alternative 2\n",
    "__dfdx = np.zeros(x.shape)\n",
    "for i, _x in enumerate(x):\n",
    "    __dfdx[i] = derivative(f, _x, 1e-5)\n",
    "\n",
    "    \n",
    "print(np.allclose(dfdx(x), _dfdx))\n",
    "print(np.allclose(dfdx(x), __dfdx))\n",
    "\n",
    "plt.plot(x, 0.5 * x **-0.5, x, dfdx(x), 'r.')\n",
    "plt.legend(['analytical', 'numeric'])"
   ]
  },
  {
   "cell_type": "markdown",
   "metadata": {},
   "source": [
    "We can combine the ideas for data and functions with `scipy.interpolate.interp1d`. This is similar in spirit to using polyfit, but the polynomials are locally fit rather than globally fit through all the data points. As with polyfit, this can result in spurious wiggles being introduced, especially near data points where there are big changes.\n",
    "\n"
   ]
  },
  {
   "cell_type": "code",
   "execution_count": 8,
   "metadata": {},
   "outputs": [],
   "source": [
    "from scipy.interpolate import interp1d\n",
    "?interp1d"
   ]
  },
  {
   "cell_type": "code",
   "execution_count": 9,
   "metadata": {},
   "outputs": [
    {
     "data": {
      "text/plain": [
       "<matplotlib.legend.Legend at 0x17e335127b8>"
      ]
     },
     "execution_count": 9,
     "metadata": {},
     "output_type": "execute_result"
    },
    {
     "data": {
      "image/png": "[encoded data removed]",
      "text/plain": [
       "<Figure size 432x288 with 1 Axes>"
      ]
     },
     "metadata": {},
     "output_type": "display_data"
    }
   ],
   "source": [
    "y = x**0.5\n",
    "af = interp1d(x, y, kind='cubic', bounds_error=False, fill_value='extrapolate')\n",
    "\n",
    "def dfadx(x, dx):\n",
    "    return derivative(af, x, dx)\n",
    "\n",
    "plt.plot(x, 0.5 * x **-0.5, x, dfadx(x, dx=0.005), 'r.')\n",
    "plt.legend(['analytical', 'numeric'])"
   ]
  },
  {
   "cell_type": "markdown",
   "metadata": {},
   "source": [
    "\n",
    "## Limitations of numeric derivatives\n",
    "\n"
   ]
  },
  {
   "cell_type": "markdown",
   "metadata": {},
   "source": [
    "There are several limitations of numeric derivatives. The biggest one is that they are all *approximations* to the real derivative, and their accuracy depends on how small the spacing between the data points is. If the spacing is too small, however, these methods can suffer from numerical instabilities. These issues are exacerbated with higher order derivatives; derivatives tend to magnify errors in data.\n",
    "\n",
    "Fitting models to the data leads to analytical models that can be analytically differentiated. Here you have to be aware of the properties of the model, and its derivatives.\n",
    "\n",
    "The methods above apply to scalar functions of a single variable. It is not convenient to use them for multivariable functions.\n",
    "\n",
    "[https://numdifftools.readthedocs.io/en/latest/](https://numdifftools.readthedocs.io/en/latest/)\n",
    "\n"
   ]
  },
  {
   "cell_type": "markdown",
   "metadata": {},
   "source": [
    "\n",
    "# Symbolic differentiation\n",
    "\n"
   ]
  },
  {
   "cell_type": "markdown",
   "metadata": {},
   "source": [
    "[https://docs.sympy.org/latest/tutorial/calculus.html](https://docs.sympy.org/latest/tutorial/calculus.html)\n",
    "\n",
    "Computer algebra systems have increasingly been able to compute symbolic derivatives of expressions. [sympy](https://docs.sympy.org/latest/index.html) can do some [calculus](https://docs.sympy.org/latest/tutorial/calculus.html), including taking derivatives symbolically.\n",
    "\n"
   ]
  },
  {
   "cell_type": "code",
   "execution_count": 10,
   "metadata": {},
   "outputs": [
    {
     "name": "stdout",
     "output_type": "stream",
     "text": [
      "0.5*x**(-0.5)\n"
     ]
    },
    {
     "data": {
      "text/plain": [
       "<matplotlib.legend.Legend at 0x17e3431e400>"
      ]
     },
     "execution_count": 10,
     "metadata": {},
     "output_type": "execute_result"
    },
    {
     "data": {
      "image/png": "[encoded data removed]",
      "text/plain": [
       "<Figure size 432x288 with 1 Axes>"
      ]
     },
     "metadata": {},
     "output_type": "display_data"
    }
   ],
   "source": [
    "from sympy import *\n",
    "x = symbols('x')\n",
    "\n",
    "df = diff(x**0.5, x)\n",
    "print(df)\n",
    "df.subs(x, 0.5)\n",
    "\n",
    "X = np.linspace(0.1, 2)\n",
    "plt.plot(X, 0.5 * X**-0.5, 'r-', X,  [df.subs(x, a) for a in X], 'b.')\n",
    "plt.legend(['analytical', 'symbolic'])"
   ]
  },
  {
   "cell_type": "markdown",
   "metadata": {},
   "source": [
    "For some applications, this is very useful. Symbolic derivatives do not work on programs though, and in some cases there are not simple derivatives to find.\n",
    "\n"
   ]
  },
  {
   "cell_type": "markdown",
   "metadata": {},
   "source": [
    "\n",
    "# Automatic differentiation\n",
    "\n"
   ]
  },
  {
   "cell_type": "markdown",
   "metadata": {},
   "source": [
    "The third kind of computational derivatives we need to know about is called [automatic differentiation](https://en.wikipedia.org/wiki/Automatic_differentiation) (AD). It is completely different from both finite differences and symbolic differentiation. In AD, we use the chain rule to take derivatives of computer programs.\n",
    "\n",
    "AD solves many of the problems described above:\n",
    "\n",
    "1.  It is not an approximation like the finite difference approach.\n",
    "2.  It works on programs, unlike symbolic differentiation\n",
    "\n",
    "However, these features come at some cost; we have to use an AD library and learn how to write code with it. Most importantly, AD is usually an add-on feature and its implementation introduces some constraints on what can be programmed.\n",
    "\n",
    "There are several AD frameworks available in Python that have been developed for machine learning applications. The main ones in use today are:\n",
    "\n",
    "1.  autograd - [https://github.com/HIPS/autograd](https://github.com/HIPS/autograd)\n",
    "2.  Tensorflow - [https://www.tensorflow.org/](https://www.tensorflow.org/)\n",
    "3.  pytorch - [https://pytorch.org/](https://pytorch.org/)\n",
    "\n",
    "We will focus on autograd for the rest of the semester.\n",
    "\n",
    "You can install it like this:\n",
    "\n"
   ]
  },
  {
   "cell_type": "code",
   "execution_count": 11,
   "metadata": {},
   "outputs": [
    {
     "name": "stdout",
     "output_type": "stream",
     "text": [
      "Requirement already satisfied: autograd in c:\\users\\kanishk\\anaconda3\\lib\\site-packages (1.2)\n",
      "Requirement already satisfied: numpy>=1.12 in c:\\users\\kanishk\\anaconda3\\lib\\site-packages (from autograd) (1.14.3)\n",
      "Requirement already satisfied: future>=0.15.2 in c:\\users\\kanishk\\anaconda3\\lib\\site-packages (from autograd) (0.16.0)\n"
     ]
    },
    {
     "name": "stderr",
     "output_type": "stream",
     "text": [
      "You are using pip version 18.1, however version 19.1.1 is available.\n",
      "You should consider upgrading via the 'python -m pip install --upgrade pip' command.\n"
     ]
    }
   ],
   "source": [
    "!pip install autograd"
   ]
  },
  {
   "cell_type": "markdown",
   "metadata": {},
   "source": [
    "autograd works by modifying `numpy` so that derivatives can be automatically computed.\n",
    "\n",
    "The most important step in using autograd is to import the autograd version of numpy. Not doing this will lead to errors eventually.\n",
    "\n"
   ]
  },
  {
   "cell_type": "code",
   "execution_count": 12,
   "metadata": {},
   "outputs": [],
   "source": [
    "import autograd.numpy as np"
   ]
  },
  {
   "cell_type": "markdown",
   "metadata": {},
   "source": [
    "\n",
    "## Derivatives of scalar functions\n",
    "\n"
   ]
  },
  {
   "cell_type": "markdown",
   "metadata": {},
   "source": [
    "Autograd provides four basic derivative functions. We first consider the derivative of a scalar function, i.e. a function of several arguments that outputs a number. There are two functions for this: `grad` and `elementwise_grad`.\n",
    "\n"
   ]
  },
  {
   "cell_type": "code",
   "execution_count": 13,
   "metadata": {},
   "outputs": [],
   "source": [
    "from autograd import grad, elementwise_grad\n",
    "?grad"
   ]
  },
  {
   "cell_type": "markdown",
   "metadata": {},
   "source": [
    "You use grad when your function outputs a single number, and you want a single derivative of that function with respect to an argument. For example, it could be an objective function.\n",
    "\n"
   ]
  },
  {
   "cell_type": "code",
   "execution_count": 14,
   "metadata": {},
   "outputs": [],
   "source": [
    "from autograd import elementwise_grad\n",
    "??elementwise_grad\n",
    "# A vectorized form of grad"
   ]
  },
  {
   "cell_type": "markdown",
   "metadata": {},
   "source": [
    "You use elementwise\\_grad when you might use an array as input, and you get an array of values out, but you want the derivative of each element in the output with respect to the corresponding element in the input. This is still a *scalar* function in the sense that each element in the input produces one element in the output.\n",
    "\n",
    "Here is an example usage similar to the examples we have used so far.\n",
    "\n"
   ]
  },
  {
   "cell_type": "code",
   "execution_count": 16,
   "metadata": {},
   "outputs": [],
   "source": [
    "def f(x):\n",
    "    return x**0.5\n",
    "\n",
    "\n",
    "dfg = grad(f)"
   ]
  },
  {
   "cell_type": "code",
   "execution_count": 17,
   "metadata": {},
   "outputs": [
    {
     "name": "stdout",
     "output_type": "stream",
     "text": [
      "[0.70710678 0.77459667]\n"
     ]
    },
    {
     "ename": "TypeError",
     "evalue": "Grad only applies to real scalar-output functions. Try jacobian or elementwise_grad.",
     "output_type": "error",
     "traceback": [
      "\u001b[1;31m---------------------------------------------------------------------------\u001b[0m",
      "\u001b[1;31mTypeError\u001b[0m                                 Traceback (most recent call last)",
      "\u001b[1;32m<ipython-input-17-0aaa2238fd9a>\u001b[0m in \u001b[0;36m<module>\u001b[1;34m()\u001b[0m\n\u001b[0;32m      1\u001b[0m \u001b[0m_x\u001b[0m \u001b[1;33m=\u001b[0m \u001b[0mnp\u001b[0m\u001b[1;33m.\u001b[0m\u001b[0marray\u001b[0m\u001b[1;33m(\u001b[0m\u001b[1;33m[\u001b[0m\u001b[1;36m0.5\u001b[0m\u001b[1;33m,\u001b[0m \u001b[1;36m0.6\u001b[0m\u001b[1;33m]\u001b[0m\u001b[1;33m)\u001b[0m\u001b[1;33m\u001b[0m\u001b[0m\n\u001b[0;32m      2\u001b[0m \u001b[0mprint\u001b[0m\u001b[1;33m(\u001b[0m\u001b[0mf\u001b[0m\u001b[1;33m(\u001b[0m\u001b[0m_x\u001b[0m\u001b[1;33m)\u001b[0m\u001b[1;33m)\u001b[0m\u001b[1;33m\u001b[0m\u001b[0m\n\u001b[1;32m----> 3\u001b[1;33m \u001b[0mdfg\u001b[0m\u001b[1;33m(\u001b[0m\u001b[0m_x\u001b[0m\u001b[1;33m)\u001b[0m\u001b[1;33m,\u001b[0m \u001b[1;36m0.5\u001b[0m \u001b[1;33m*\u001b[0m \u001b[0m_x\u001b[0m\u001b[1;33m**\u001b[0m\u001b[1;33m-\u001b[0m\u001b[1;36m0.5\u001b[0m\u001b[1;33m\u001b[0m\u001b[0m\n\u001b[0m",
      "\u001b[1;32m~\\Anaconda3\\lib\\site-packages\\autograd\\wrap_util.py\u001b[0m in \u001b[0;36mnary_f\u001b[1;34m(*args, **kwargs)\u001b[0m\n\u001b[0;32m     18\u001b[0m             \u001b[1;32melse\u001b[0m\u001b[1;33m:\u001b[0m\u001b[1;33m\u001b[0m\u001b[0m\n\u001b[0;32m     19\u001b[0m                 \u001b[0mx\u001b[0m \u001b[1;33m=\u001b[0m \u001b[0mtuple\u001b[0m\u001b[1;33m(\u001b[0m\u001b[0margs\u001b[0m\u001b[1;33m[\u001b[0m\u001b[0mi\u001b[0m\u001b[1;33m]\u001b[0m \u001b[1;32mfor\u001b[0m \u001b[0mi\u001b[0m \u001b[1;32min\u001b[0m \u001b[0margnum\u001b[0m\u001b[1;33m)\u001b[0m\u001b[1;33m\u001b[0m\u001b[0m\n\u001b[1;32m---> 20\u001b[1;33m             \u001b[1;32mreturn\u001b[0m \u001b[0munary_operator\u001b[0m\u001b[1;33m(\u001b[0m\u001b[0munary_f\u001b[0m\u001b[1;33m,\u001b[0m \u001b[0mx\u001b[0m\u001b[1;33m,\u001b[0m \u001b[1;33m*\u001b[0m\u001b[0mnary_op_args\u001b[0m\u001b[1;33m,\u001b[0m \u001b[1;33m**\u001b[0m\u001b[0mnary_op_kwargs\u001b[0m\u001b[1;33m)\u001b[0m\u001b[1;33m\u001b[0m\u001b[0m\n\u001b[0m\u001b[0;32m     21\u001b[0m         \u001b[1;32mreturn\u001b[0m \u001b[0mnary_f\u001b[0m\u001b[1;33m\u001b[0m\u001b[0m\n\u001b[0;32m     22\u001b[0m     \u001b[1;32mreturn\u001b[0m \u001b[0mnary_operator\u001b[0m\u001b[1;33m\u001b[0m\u001b[0m\n",
      "\u001b[1;32m~\\Anaconda3\\lib\\site-packages\\autograd\\differential_operators.py\u001b[0m in \u001b[0;36mgrad\u001b[1;34m(fun, x)\u001b[0m\n\u001b[0;32m     24\u001b[0m     \u001b[0mvjp\u001b[0m\u001b[1;33m,\u001b[0m \u001b[0mans\u001b[0m \u001b[1;33m=\u001b[0m \u001b[0m_make_vjp\u001b[0m\u001b[1;33m(\u001b[0m\u001b[0mfun\u001b[0m\u001b[1;33m,\u001b[0m \u001b[0mx\u001b[0m\u001b[1;33m)\u001b[0m\u001b[1;33m\u001b[0m\u001b[0m\n\u001b[0;32m     25\u001b[0m     \u001b[1;32mif\u001b[0m \u001b[1;32mnot\u001b[0m \u001b[0mvspace\u001b[0m\u001b[1;33m(\u001b[0m\u001b[0mans\u001b[0m\u001b[1;33m)\u001b[0m\u001b[1;33m.\u001b[0m\u001b[0msize\u001b[0m \u001b[1;33m==\u001b[0m \u001b[1;36m1\u001b[0m\u001b[1;33m:\u001b[0m\u001b[1;33m\u001b[0m\u001b[0m\n\u001b[1;32m---> 26\u001b[1;33m         raise TypeError(\"Grad only applies to real scalar-output functions. \"\n\u001b[0m\u001b[0;32m     27\u001b[0m                         \"Try jacobian or elementwise_grad.\")\n\u001b[0;32m     28\u001b[0m     \u001b[1;32mreturn\u001b[0m \u001b[0mvjp\u001b[0m\u001b[1;33m(\u001b[0m\u001b[0mvspace\u001b[0m\u001b[1;33m(\u001b[0m\u001b[0mans\u001b[0m\u001b[1;33m)\u001b[0m\u001b[1;33m.\u001b[0m\u001b[0mones\u001b[0m\u001b[1;33m(\u001b[0m\u001b[1;33m)\u001b[0m\u001b[1;33m)\u001b[0m\u001b[1;33m\u001b[0m\u001b[0m\n",
      "\u001b[1;31mTypeError\u001b[0m: Grad only applies to real scalar-output functions. Try jacobian or elementwise_grad."
     ]
    }
   ],
   "source": [
    "_x = np.array([0.5, 0.6])\n",
    "print(f(_x))\n",
    "dfg(_x), 0.5 * _x**-0.5"
   ]
  },
  {
   "cell_type": "code",
   "execution_count": 18,
   "metadata": {},
   "outputs": [
    {
     "data": {
      "text/plain": [
       "True"
      ]
     },
     "execution_count": 18,
     "metadata": {},
     "output_type": "execute_result"
    },
    {
     "data": {
      "image/png": "[encoded data removed]",
      "text/plain": [
       "<Figure size 432x288 with 1 Axes>"
      ]
     },
     "metadata": {},
     "output_type": "display_data"
    }
   ],
   "source": [
    "df = elementwise_grad(f)  # This returns a callable function\n",
    "\n",
    "x = np.linspace(0.01, 2)\n",
    "\n",
    "plt.plot(x, 0.5 * x**-0.5, 'r-', x, df(x), 'b.')\n",
    "plt.legend(['analytical', 'autograd'])\n",
    "np.allclose(0.5 * x**-0.5, df(x))"
   ]
  },
  {
   "cell_type": "markdown",
   "metadata": {},
   "source": [
    "The AD derivatives are identical within tolerance to the analytical formula because autograd simply applies the chain rule to the program to evaluate the derivatives.\n",
    "\n",
    "**Limitation** Derivatives with integers is not well-defined since integers are not continuous.\n",
    "\n"
   ]
  },
  {
   "cell_type": "code",
   "execution_count": 65,
   "metadata": {},
   "outputs": [
    {
     "data": {
      "text/plain": [
       "0.5"
      ]
     },
     "execution_count": 65,
     "metadata": {},
     "output_type": "execute_result"
    }
   ],
   "source": [
    "df(1.0)"
   ]
  },
  {
   "cell_type": "markdown",
   "metadata": {},
   "source": [
    "It might not seem like a big deal that this works. The significance really shows when you have more complex programs. This Rube-Goldberg program is equivalent to the previous program. You could work out the derivative by the chain rule your self, but autograd has no problem doing this through all the operations and loops!\n",
    "\n"
   ]
  },
  {
   "cell_type": "code",
   "execution_count": 70,
   "metadata": {},
   "outputs": [
    {
     "data": {
      "text/plain": [
       "True"
      ]
     },
     "execution_count": 70,
     "metadata": {},
     "output_type": "execute_result"
    },
    {
     "data": {
      "image/png": "[encoded data removed]",
      "text/plain": [
       "<matplotlib.figure.Figure at 0x146c3e748>"
      ]
     },
     "metadata": {},
     "output_type": "display_data"
    }
   ],
   "source": [
    "def g(x):\n",
    "    return 1.0 / x\n",
    "\n",
    "def h(x):\n",
    "    return 1.0 / x\n",
    "\n",
    "def f(x):\n",
    "    a = 2.0 * x\n",
    "    b = a**2\n",
    "    c = b / 4.0\n",
    "    d = c**0.5\n",
    "    for i in range(5):\n",
    "        d = d + 1\n",
    "\n",
    "    for i in range(5):\n",
    "        d = d - 1\n",
    "\n",
    "    e = np.sqrt(d)\n",
    "    \n",
    "    f = g(h(e))\n",
    "    return f\n",
    "\n",
    "df = elementwise_grad(f)  # This returns a callable function\n",
    "\n",
    "x = np.linspace(0.001, 2)\n",
    "\n",
    "plt.plot(x, 0.5 * x**-0.5, 'r-', x, df(x), 'b.')\n",
    "plt.legend(['analytical', 'autograd'])\n",
    "np.allclose(0.5 * x**-0.5, df(x))"
   ]
  },
  {
   "cell_type": "markdown",
   "metadata": {},
   "source": [
    "Of course, autograd cannot make derivatives where they are not defined. The derivative of the square root function is not defined at $x=0$, and we get warnings and a `nan` result if we try to evaluate it there.\n",
    "\n"
   ]
  },
  {
   "cell_type": "code",
   "execution_count": 71,
   "metadata": {},
   "outputs": [
    {
     "name": "stderr",
     "output_type": "stream",
     "text": [
      "/Users/jkitchin/anaconda/lib/python3.6/site-packages/autograd/tracer.py:48: RuntimeWarning: divide by zero encountered in true_divide\n",
      "  return f_raw(*args, **kwargs)\n",
      "/Users/jkitchin/anaconda/lib/python3.6/site-packages/autograd/numpy/numpy_vjps.py:53: RuntimeWarning: invalid value encountered in double_scalars\n",
      "  lambda ans, x, y : unbroadcast_f(y, lambda g: - g * x / y**2))\n",
      "/Users/jkitchin/anaconda/lib/python3.6/site-packages/autograd/numpy/numpy_vjps.py:97: RuntimeWarning: divide by zero encountered in double_scalars\n",
      "  defvjp(anp.sqrt,    lambda ans, x : lambda g: g * 0.5 * x**-0.5)\n",
      "/Users/jkitchin/anaconda/lib/python3.6/site-packages/autograd/numpy/numpy_vjps.py:59: RuntimeWarning: divide by zero encountered in double_scalars\n",
      "  lambda ans, x, y : unbroadcast_f(x, lambda g: g * y * x ** anp.where(y, y - 1, 1.)),\n"
     ]
    },
    {
     "data": {
      "text/plain": [
       "nan"
      ]
     },
     "execution_count": 71,
     "metadata": {},
     "output_type": "execute_result"
    }
   ],
   "source": [
    "df(0.0)"
   ]
  },
  {
   "cell_type": "markdown",
   "metadata": {},
   "source": [
    "\n",
    "## Derivatives of multivalue functions - Jacobian\n",
    "\n"
   ]
  },
  {
   "cell_type": "markdown",
   "metadata": {},
   "source": [
    "Autograd really starts to shine when we have vector functions.  If we have a function that takes an input with $n$ and produces $m$ outputs, then we frequently need to compute the derivatives of the output with respect to the inputs. These are defined by:\n",
    "\n",
    "$\\mathbf{J}_{ij} = \\frac{\\partial f_i}{\\partial x_j}$\n",
    "\n",
    "autograd provides the `jacobian` function for this. Let's consider an example:\n",
    "\n",
    "$f_1(x, y) = x^2 y$\n",
    "\n",
    "$f_2(x, y) = 5 x + \\sin(y)$\n",
    "\n",
    "The Jacobian of this system is:\n",
    "\n",
    "\\begin{equation}\n",
    "\\left[\\begin{array}{cc}\n",
    "2 x y & x^2 \\\\\n",
    "5 & \\cos y \\\\\n",
    "\\end{array}\\right]\n",
    "\\end{equation}\n",
    "\n"
   ]
  },
  {
   "cell_type": "code",
   "execution_count": 72,
   "metadata": {},
   "outputs": [
    {
     "name": "stdout",
     "output_type": "stream",
     "text": [
      "[[ 0.5         0.25      ]\n",
      " [ 5.          0.87758256]]\n",
      "[[ 0.5         0.25      ]\n",
      " [ 5.          0.87758256]]\n"
     ]
    }
   ],
   "source": [
    "from autograd import jacobian\n",
    "\n",
    "def f(X):\n",
    "    x, y = X\n",
    "    return np.array([x**2 * y, \n",
    "                     5 * x + np.sin(y)])\n",
    "\n",
    "Jf = jacobian(f)\n",
    "\n",
    "# now show the equivalence\n",
    "x, y = 0.5, 0.5\n",
    "print(Jf(np.array([x, y])))\n",
    "print(np.array([[2 * x * y, x**2], \n",
    "                [5, np.cos(y)]]))"
   ]
  },
  {
   "attachments": {
    "date-24-11-2018-time-12-16-14.png": {
     "image/png": "[encoded data removed]"
    }
   },
   "cell_type": "markdown",
   "metadata": {},
   "source": [
    "**Limitation** Note the explicit use of arrays in the above code. Autograd requires you to use arrays explicitly most of the time, and you can get errors if you are lazy and use lists/tuples.\n",
    "\n",
    "We use Jacobians in a variety of applications, but one important one is for changing variables in integrations, presumably because this results in a simpler integral.\n",
    "\n",
    "$\\int \\int_R f(x, y) dx dy = \\int \\int_{R'} f(x(u, v), y(u, v)) \\left|\\frac{\\partial(x, y)}{\\partial(u, v)}\\right| du dv$\n",
    "\n",
    "Where $\\left|\\frac{\\partial(x, y)}{\\partial(u, v)}\\right|$ is defined as the determinant of the Jacobian:\n",
    "\n",
    "$\\left|\\begin{array}{cc}\n",
    "\\frac{\\partial x}{\\partial u} & \\frac{\\partial x}{\\partial v} \\\\\n",
    "\\frac{\\partial y}{\\partial u} & \\frac{\\partial y}{\\partial v}\n",
    "\\end{array}\\right|$\n",
    "\n",
    "Here is an example we work out that is adapted from: [http://www.stat.rice.edu/~dobelman/notes_papers/math/Jacobian.pdf](http://www.stat.rice.edu/~dobelman/notes_papers/math/Jacobian.pdf)\n",
    "\n",
    "![date-24-11-2018-time-12-16-14.png](attachment:date-24-11-2018-time-12-16-14.png)\n",
    "\n",
    "Executing that double integral in cartesian coordinates is not convenient because the integral limits would be a function for $y$. If we instead switch to polar coordinates, then we have the simpler limits of $\\rho$ from 0 to $r$, and $\\theta$ from 0 to $2\\pi$. There is no $f(x, y)$ here, the integrand is just 1.\n",
    "\n",
    "This is a double integral, and we use ~scipy.integrate.dblquad.\n",
    "\n"
   ]
  },
  {
   "cell_type": "code",
   "execution_count": 97,
   "metadata": {},
   "outputs": [],
   "source": [
    "from scipy.integrate import dblquad\n",
    "?dblquad"
   ]
  },
  {
   "cell_type": "markdown",
   "metadata": {},
   "source": [
    "Return the double (definite) integral of \\`\\`func(y, x)\\`\\` from \\`\\`x = a..b\\`\\`\n",
    "and \\`\\`y = gfun(x)..hfun(x)\\`\\`.\n",
    "\n",
    "We want:\n",
    "\n",
    "$\\int_{\\rho=0}^{\\rho=1} \\int_{\\theta=0}^{\\theta=2\\pi} det(J) d\\theta d\\rho = \\pi$\n",
    "\n",
    "That leads to this implementation:\n",
    "\n"
   ]
  },
  {
   "cell_type": "code",
   "execution_count": 87,
   "metadata": {},
   "outputs": [
    {
     "data": {
      "text/plain": [
       "array([[ 0.99500417,  0.        ],\n",
       "       [ 0.09983342,  0.        ]])"
      ]
     },
     "execution_count": 87,
     "metadata": {},
     "output_type": "execute_result"
    }
   ],
   "source": [
    "def f(P):\n",
    "    rho, theta = P\n",
    "    # Be explicit about returning an array\n",
    "    return np.array([rho * np.cos(theta), \n",
    "                     rho * np.sin(theta)])\n",
    "\n",
    "jf = jacobian(f)\n",
    "\n",
    "# be explicit about inputting arrays\n",
    "jf(np.array([0.0, 0.1]))"
   ]
  },
  {
   "cell_type": "code",
   "execution_count": 74,
   "metadata": {},
   "outputs": [
    {
     "data": {
      "text/plain": [
       "(3.141592653589793, 3.487868498008632e-14)"
      ]
     },
     "execution_count": 74,
     "metadata": {},
     "output_type": "execute_result"
    }
   ],
   "source": [
    "def integrand(rho, theta):\n",
    "    J = jf(np.array([rho, theta]))\n",
    "    return np.linalg.det(J)\n",
    "\n",
    "# integrand(y, x)\n",
    "xa, xb = 0, 2 * np.pi\n",
    "ya, yb = 0, 1\n",
    "\n",
    "dblquad(integrand, xa, xb, ya, yb)"
   ]
  },
  {
   "cell_type": "markdown",
   "metadata": {},
   "source": [
    "And the expected answer. Compare that to the cartesian coordinate system:\n",
    "\n",
    "$\\int_{x=-1}^{x=1} \\int_{y=-\\sqrt{1 - x^2}}^{y=\\sqrt{1 - x^2}} dy dx$\n",
    "\n"
   ]
  },
  {
   "cell_type": "code",
   "execution_count": 1,
   "metadata": {},
   "outputs": [
    {
     "name": "stdout",
     "output_type": "stream",
     "text": [
      "(3.1415926535897967, 2.000470900043183e-09)"
     ]
    }
   ],
   "source": [
    "def integrand(y, x):\n",
    "    return 1\n",
    "\n",
    "def yl(x):\n",
    "    return -np.sqrt(1 - x**2)\n",
    "\n",
    "def yu(x):\n",
    "    return np.sqrt(1 - x**2)\n",
    "\n",
    "dblquad(integrand, -1, 1, yl, yu)"
   ]
  },
  {
   "cell_type": "markdown",
   "metadata": {},
   "source": [
    "The answer is the same, but the integral limits are more complex. Of course, one can invoke Kitchin's conservation of complexity law here; we can give up the complexity of the limits if we take on the complexity of autograd.\n",
    "\n"
   ]
  },
  {
   "cell_type": "markdown",
   "metadata": {},
   "source": [
    "\n",
    "## Hessians\n",
    "\n"
   ]
  },
  {
   "cell_type": "markdown",
   "metadata": {},
   "source": [
    "The [Hessian matrix](https://en.wikipedia.org/wiki/Hessian_matrix) is a square matrix of second-order partial derivatives of a scalar-valued function.\n",
    "\n",
    "$\\mathbf{H}_{ij} = \\frac{\\partial^2 f}{\\partial x_i x_j}$\n",
    "\n",
    "`autograd.hessian` also returns a callable function.\n",
    "\n"
   ]
  },
  {
   "cell_type": "code",
   "execution_count": 91,
   "metadata": {},
   "outputs": [
    {
     "data": {
      "text/plain": [
       "array([[ 2.,  0.],\n",
       "       [ 0.,  2.]])"
      ]
     },
     "execution_count": 91,
     "metadata": {},
     "output_type": "execute_result"
    }
   ],
   "source": [
    "from autograd import hessian\n",
    "\n",
    "def f(X):\n",
    "    x, y = X\n",
    "    return x**2 + y**2\n",
    "\n",
    "H = hessian(f)\n",
    "\n",
    "H(np.array([5, 0.5]))"
   ]
  },
  {
   "cell_type": "markdown",
   "metadata": {},
   "source": [
    "The Hessian is used to classify what kind of stationary points have been found. It is also used in some optimization algorithms.\n",
    "\n"
   ]
  },
  {
   "cell_type": "markdown",
   "metadata": {},
   "source": [
    "\n",
    "## Applications to optimization\n",
    "\n"
   ]
  },
  {
   "cell_type": "code",
   "execution_count": 93,
   "metadata": {},
   "outputs": [],
   "source": [
    "from scipy.optimize import minimize\n",
    "?minimize"
   ]
  },
  {
   "cell_type": "markdown",
   "metadata": {},
   "source": [
    "We will consider the [Rosenbrock function](https://en.wikipedia.org/wiki/Rosenbrock_function), which has a minimum at (1, 1) with a value of 0. The standard optimization approach is shown here for comparison.\n",
    "\n"
   ]
  },
  {
   "cell_type": "code",
   "execution_count": 94,
   "metadata": {},
   "outputs": [
    {
     "name": "stdout",
     "output_type": "stream",
     "text": [
      "      fun: 2.112634678287409e-11\n",
      " hess_inv: array([[ 0.49378146,  0.98756105],\n",
      "       [ 0.98756105,  1.98011829]])\n",
      "      jac: array([ -2.90564340e-07,   2.72884382e-08])\n",
      "  message: 'Optimization terminated successfully.'\n",
      "     nfev: 148\n",
      "      nit: 32\n",
      "     njev: 37\n",
      "   status: 0\n",
      "  success: True\n",
      "        x: array([ 0.9999954,  0.9999908])\n"
     ]
    }
   ],
   "source": [
    "def rosenbrock(X):\n",
    "    x, y = X\n",
    "    return (1 - x)**2 + 100 * (y - x**2)**2\n",
    "\n",
    "sol = minimize(rosenbrock, [1, 0])\n",
    "print(sol)"
   ]
  },
  {
   "cell_type": "markdown",
   "metadata": {},
   "source": [
    "The solution is pretty good, but we can get a better answer if we provide the Jacobian. Usually you are expected to derive and implement this. We do it in one like with autograd.\n",
    "\n"
   ]
  },
  {
   "cell_type": "code",
   "execution_count": 95,
   "metadata": {},
   "outputs": [
    {
     "name": "stdout",
     "output_type": "stream",
     "text": [
      "      fun: 1.9292283401977483e-14\n",
      " hess_inv: array([[ 0.49289915,  0.98579551],\n",
      "       [ 0.98579551,  1.97658546]])\n",
      "      jac: array([ -2.94106501e-07,   8.15718604e-09])\n",
      "  message: 'Optimization terminated successfully.'\n",
      "     nfev: 37\n",
      "      nit: 32\n",
      "     njev: 37\n",
      "   status: 0\n",
      "  success: True\n",
      "        x: array([ 0.99999986,  0.99999972])\n"
     ]
    }
   ],
   "source": [
    "df = grad(rosenbrock)\n",
    "\n",
    "sol_j = minimize(rosenbrock, [1, 0], jac=df)\n",
    "print(sol_j)"
   ]
  },
  {
   "cell_type": "markdown",
   "metadata": {},
   "source": [
    "Note that the function is closer to zero (although it was small to start with).\n",
    "\n",
    "Finally, we get an even better answer if we also provide the Hessian, and use an algorithm that uses the Hessian (most of them do not).\n",
    "\n"
   ]
  },
  {
   "cell_type": "code",
   "execution_count": 96,
   "metadata": {},
   "outputs": [
    {
     "data": {
      "text/plain": [
       "     fun: 4.9303806576313238e-30\n",
       "    hess: array([[ 802., -400.],\n",
       "       [-400.,  200.]])\n",
       "     jac: array([ -8.88178420e-14,   4.44089210e-14])\n",
       " message: 'Optimization terminated successfully.'\n",
       "    nfev: 2\n",
       "    nhev: 1\n",
       "     nit: 1\n",
       "    njev: 2\n",
       "  status: 0\n",
       " success: True\n",
       "       x: array([ 1.,  1.])"
      ]
     },
     "execution_count": 96,
     "metadata": {},
     "output_type": "execute_result"
    }
   ],
   "source": [
    "hf = hessian(rosenbrock)\n",
    "minimize(rosenbrock, [1, 0], jac=df, hess=hf, method='dogleg')"
   ]
  },
  {
   "cell_type": "markdown",
   "metadata": {},
   "source": [
    "Note we get an almost exact answer, with only two function evaluations!\n",
    "\n",
    "You can see that the Hessian returned by this solver is identical to the Hessian we would compute.\n",
    "\n"
   ]
  },
  {
   "cell_type": "code",
   "execution_count": 1,
   "metadata": {},
   "outputs": [
    {
     "name": "stdout",
     "output_type": "stream",
     "text": [
      "array([[ 802., -400.],\n",
      "       [-400.,  200.]])"
     ]
    }
   ],
   "source": [
    "hf(np.array([1.0, 1.0]))"
   ]
  },
  {
   "cell_type": "markdown",
   "metadata": {},
   "source": [
    "Note that in the example where we just provided the Jacobian that the Hessian is approximated. You can see that here. It is pretty close, but not exact.\n",
    "\n"
   ]
  },
  {
   "cell_type": "code",
   "execution_count": 1,
   "metadata": {},
   "outputs": [
    {
     "name": "stdout",
     "output_type": "stream",
     "text": [
      "[[ 802.02588665 -399.99966532]\n",
      " [-399.99966532  200.00039681]]"
     ]
    }
   ],
   "source": [
    "print(np.linalg.inv(sol_j.hess_inv))"
   ]
  },
  {
   "cell_type": "markdown",
   "metadata": {},
   "source": [
    "\n",
    "# Summary\n",
    "\n"
   ]
  },
  {
   "cell_type": "markdown",
   "metadata": {},
   "source": [
    "Today we reviewed computational approaches to taking derivatives. The star of this lecture is automatic differentiation.\n",
    "\n",
    "Autograd is pretty good, but it has some limitations. You should review [these best practices](https://github.com/HIPS/autograd/blob/master/docs/tutorial.md#supported-and-unsupported-parts-of-numpyscipy). One of the reasons we reviewed the first two methods is that we need to be able to verify results sometimes, and those methods are useful for that.\n",
    "\n",
    "Next time we will look at several applications of AD in calculus, science and engineering. After that, we will return to nonlinear regression and conclude with an introduction to machine learning.\n",
    "\n"
   ]
  }
 ],
 "metadata": {
  "kernelspec": {
   "display_name": "Python 3",
   "language": "python",
   "name": "python3"
  },
  "language_info": {
   "codemirror_mode": {
    "name": "ipython",
    "version": 3
   },
   "file_extension": ".py",
   "mimetype": "text/x-python",
   "name": "python",
   "nbconvert_exporter": "python",
   "pygments_lexer": "ipython3",
   "version": "3.6.5"
  },
  "org": {
   "KEYWORDS": "autograd"
  }
 },
 "nbformat": 4,
 "nbformat_minor": 1
}
