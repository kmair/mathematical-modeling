{
 "cells": [
  {
   "cell_type": "markdown",
   "metadata": {},
   "source": [
    "- KEYWORDS: scipy.optimize.minimize\n"
   ]
  },
  {
   "cell_type": "markdown",
   "metadata": {},
   "source": [
    "\n",
    "# Uncertainty estimates from curvefit and scipy.optimize.minimize\n",
    "\n"
   ]
  },
  {
   "cell_type": "markdown",
   "metadata": {},
   "source": [
    "We previously examined how to estimate uncertainty from the covariance matrix returned from curve\\_fit. Recall we need the diagonal of the covariance matrix, which is estimated during the fitting. We will consider fitting a line to the following data.\n",
    "\n"
   ]
  },
  {
   "cell_type": "code",
   "execution_count": 2,
   "metadata": {},
   "outputs": [
    {
     "name": "stdout",
     "output_type": "stream",
     "text": [
      "[ 0.2404      1.14399999]\n"
     ]
    },
    {
     "data": {
      "text/plain": [
       "array([[ 0.00430672, -0.0215336 ],\n",
       "       [-0.0215336 ,  0.161502  ]])"
      ]
     },
     "execution_count": 2,
     "metadata": {},
     "output_type": "execute_result"
    }
   ],
   "source": [
    "import numpy as np\n",
    "from scipy.optimize import curve_fit\n",
    "\n",
    "x = np.array([0.,    2.5,   5.,    7.5,  10. ])\n",
    "y = np.array([1.14,    1.91,  2.48,  2.2,  4.0])\n",
    "\n",
    "def model(x, m, b):\n",
    "    return m * x + b\n",
    "\n",
    "p, pcov = curve_fit(model, x, y, [0.2, 0.1])\n",
    "print(p)\n",
    "pcov"
   ]
  },
  {
   "cell_type": "markdown",
   "metadata": {},
   "source": [
    "`scipy.optimize.minimize` does not return the covariance matrix; with *some* of the methods, it returns an estimate of the inverse Hessian matrix. In theory, the covariance matrix and the inverse hessian are related to each other with $cov = 0.5 * H^{-1}$.\n",
    "\n"
   ]
  },
  {
   "cell_type": "code",
   "execution_count": 3,
   "metadata": {},
   "outputs": [
    {
     "name": "stdout",
     "output_type": "stream",
     "text": [
      "[ 0.2404      1.14399997]\n"
     ]
    },
    {
     "data": {
      "text/plain": [
       "array([[ 0.01019113, -0.06596866],\n",
       "       [-0.06596866,  0.49131361]])"
      ]
     },
     "execution_count": 3,
     "metadata": {},
     "output_type": "execute_result"
    }
   ],
   "source": [
    "from scipy.optimize import minimize\n",
    "\n",
    "def model(pars, x):\n",
    "    x = np.array(x)\n",
    "    m, b = pars\n",
    "    return m * x + b\n",
    "\n",
    "def objective(pars):\n",
    "    errs = y - model(pars, x)\n",
    "    return np.sum(errs**2)\n",
    "\n",
    "sol = minimize(objective, [0.2, 1])\n",
    "print(sol.x)\n",
    "0.5 * sol.hess_inv"
   ]
  },
  {
   "cell_type": "markdown",
   "metadata": {},
   "source": [
    "That doesn't look very good. **But**, remember that it is an estimate of the Hessian and we need to be careful about the accuracy. The minimizer terminates when the solution reaches the tolerance, *not* when the Hessian is accurate!\n",
    "\n"
   ]
  },
  {
   "cell_type": "code",
   "execution_count": 4,
   "metadata": {},
   "outputs": [
    {
     "name": "stdout",
     "output_type": "stream",
     "text": [
      "[ 0.24039999  1.144     ]\n",
      "[[ 0.00424425 -0.02201408]\n",
      " [-0.02201408  0.16613705]]\n"
     ]
    }
   ],
   "source": [
    "sol = minimize(objective, [0.2, 1], tol=1e-9)\n",
    "print(sol.x)\n",
    "print(0.5 * sol.hess_inv)"
   ]
  },
  {
   "cell_type": "markdown",
   "metadata": {},
   "source": [
    "With the increased accuracy, you can see the covariance is approximately equal to 1/2 the inverse Hessian. That means you can use it to estimate the uncertainty in the same way we did with curve\\_fit.\n",
    "\n",
    "Not all solvers generate the inverse Hessian matrix, e.g. `SLSQP` does not do it. You have three options. One is always to compute the Hessian analytically. The other two options rely on libraries that use automatic differentiation to compute the relevant derivatives. One is to use numdifftools (which you may have to install). Either way, you have to compute the Hessian on the objective function that is being minimized\n",
    "\n"
   ]
  },
  {
   "cell_type": "code",
   "execution_count": 13,
   "metadata": {},
   "outputs": [
    {
     "name": "stdout",
     "output_type": "stream",
     "text": [
      "Requirement already satisfied: Numdifftools in /Users/jkitchin/anaconda/lib/python3.6/site-packages (0.9.20)\n",
      "Requirement already satisfied: algopy>=0.4 in /Users/jkitchin/anaconda/lib/python3.6/site-packages (from Numdifftools) (0.5.7)\n",
      "Requirement already satisfied: numpy>=1.9 in /Users/jkitchin/anaconda/lib/python3.6/site-packages (from Numdifftools) (1.14.0)\n",
      "Requirement already satisfied: setuptools>=9.0 in /Users/jkitchin/anaconda/lib/python3.6/site-packages (from Numdifftools) (38.5.1)\n",
      "Requirement already satisfied: scipy>=0.8 in /Users/jkitchin/anaconda/lib/python3.6/site-packages (from Numdifftools) (1.1.0)\n",
      "\u001b[33mYou are using pip version 18.0, however version 18.1 is available.\n",
      "You should consider upgrading via the 'pip install --upgrade pip' command.\u001b[0m\n"
     ]
    }
   ],
   "source": [
    "!pip install Numdifftools"
   ]
  },
  {
   "cell_type": "code",
   "execution_count": 12,
   "metadata": {},
   "outputs": [
    {
     "data": {
      "text/plain": [
       "array([[ 0.004, -0.02 ],\n",
       "       [-0.02 ,  0.15 ]])"
      ]
     },
     "execution_count": 12,
     "metadata": {},
     "output_type": "execute_result"
    }
   ],
   "source": [
    "import numdifftools as nd\n",
    "\n",
    "def f(pars):\n",
    "    m, b = pars\n",
    "    return np.sum((y - (m * x + b))**2)\n",
    "\n",
    "H = nd.Hessian(f)\n",
    "0.5 * np.linalg.inv(H(p))"
   ]
  },
  {
   "cell_type": "markdown",
   "metadata": {},
   "source": [
    "The final option is to use `autograd` (which you may also have to install).\n",
    "\n"
   ]
  },
  {
   "cell_type": "code",
   "execution_count": 14,
   "metadata": {},
   "outputs": [
    {
     "name": "stdout",
     "output_type": "stream",
     "text": [
      "Requirement already satisfied: autograd in /Users/jkitchin/anaconda/lib/python3.6/site-packages (1.2)\n",
      "Requirement already satisfied: future>=0.15.2 in /Users/jkitchin/anaconda/lib/python3.6/site-packages (from autograd) (0.16.0)\n",
      "Requirement already satisfied: numpy>=1.12 in /Users/jkitchin/anaconda/lib/python3.6/site-packages (from autograd) (1.14.0)\n",
      "\u001b[33mYou are using pip version 18.0, however version 18.1 is available.\n",
      "You should consider upgrading via the 'pip install --upgrade pip' command.\u001b[0m\n"
     ]
    }
   ],
   "source": [
    "!pip install autograd"
   ]
  },
  {
   "cell_type": "code",
   "execution_count": 1,
   "metadata": {},
   "outputs": [
    {
     "name": "stdout",
     "output_type": "stream",
     "text": [
      "array([[ 0.004, -0.02 ],\n",
      "       [-0.02 ,  0.15 ]])"
     ]
    }
   ],
   "source": [
    "import autograd.numpy as np\n",
    "from autograd import hessian\n",
    "\n",
    "h = hessian(f)\n",
    "0.5 * np.linalg.inv(h(p))"
   ]
  },
  {
   "cell_type": "markdown",
   "metadata": {},
   "source": [
    "Now you can use these to estimate the uncertainties even for optimizers that don't provide the estimated inverse Hessian.\n",
    "\n"
   ]
  },
  {
   "cell_type": "markdown",
   "metadata": {},
   "source": [
    "\n",
    "# Effects of outliers on regression\n",
    "\n"
   ]
  },
  {
   "cell_type": "markdown",
   "metadata": {},
   "source": [
    "Outliers can have a significant effect on the fit of a model to data. Let's consider this example, where we want to fit a line to some data that has an outlier in it. This is just a linear regression, and we start out using `numpy.polyfit`.\n",
    "\n"
   ]
  },
  {
   "cell_type": "code",
   "execution_count": 17,
   "metadata": {},
   "outputs": [
    {
     "name": "stdout",
     "output_type": "stream",
     "text": [
      "[ 0.2404  1.144 ]\n"
     ]
    },
    {
     "data": {
      "text/plain": [
       "<matplotlib.text.Text at 0x1148285f8>"
      ]
     },
     "execution_count": 17,
     "metadata": {},
     "output_type": "execute_result"
    },
    {
     "data": {
      "image/png": "[encoded data removed]",
      "text/plain": [
       "<matplotlib.figure.Figure at 0x10b35aa20>"
      ]
     },
     "metadata": {},
     "output_type": "display_data"
    }
   ],
   "source": [
    "import numpy as np\n",
    "%matplotlib inline\n",
    "import matplotlib.pyplot as plt\n",
    "\n",
    "x = [0.,    2.5,   5.,    7.5,  10. ]\n",
    "y = [1.14,    1.91,  2.48,  2.2,  4.0]\n",
    "\n",
    "p = np.polyfit(x, y, 1)\n",
    "print(p)\n",
    "xfit = np.linspace(0, 10)\n",
    "\n",
    "plt.plot(x, y, 'bo')\n",
    "plt.plot(xfit, np.polyval(p, xfit));\n",
    "plt.xlabel('x')\n",
    "plt.ylabel('y')"
   ]
  },
  {
   "cell_type": "markdown",
   "metadata": {},
   "source": [
    "You can see that the fitted line is \"dragged\" towards the outlier. We say that least squares minimization is not *robust* to outliers.\n",
    "\n",
    "This may be undesirable because if you believe there is an outlier, perhaps due to experimental error, then this point affects the accuracy of the model more than the other points you believe to be more accurate.\n",
    "\n",
    "Today we will consider a variety of approaches to minimize the effects of outliers. We first begin by re-examining how these parameters are obtained. Here, we illustrate that the results from polyfit are equivalent to minimizing the summed squared errors between the model and the data.\n",
    "\n"
   ]
  },
  {
   "cell_type": "code",
   "execution_count": 18,
   "metadata": {},
   "outputs": [
    {
     "data": {
      "text/plain": [
       "      fun: 0.8075100000000078\n",
       " hess_inv: array([[ 0.02038226, -0.13193732],\n",
       "       [-0.13193732,  0.98262721]])\n",
       "      jac: array([  5.28991222e-07,  -3.05473804e-07])\n",
       "  message: 'Optimization terminated successfully.'\n",
       "     nfev: 20\n",
       "      nit: 2\n",
       "     njev: 5\n",
       "   status: 0\n",
       "  success: True\n",
       "        x: array([ 0.2404    ,  1.14399997])"
      ]
     },
     "execution_count": 18,
     "metadata": {},
     "output_type": "execute_result"
    }
   ],
   "source": [
    "from scipy.optimize import minimize\n",
    "\n",
    "def model(pars, x):\n",
    "    x = np.array(x)\n",
    "    m, b = pars\n",
    "    return m * x + b\n",
    "\n",
    "def objective(pars):\n",
    "    errs = y - model(pars, x)\n",
    "    return np.sum(errs**2)\n",
    "\n",
    "minimize(objective, [0.2, 1])"
   ]
  },
  {
   "cell_type": "markdown",
   "metadata": {},
   "source": [
    "The problem is that we are minimizing the error<sup>2</sup>, which puts more weight on large errors than small errors.\n",
    "\n",
    "Least squares regression is also called L<sub>2</sub> norm regression\n",
    "\n"
   ]
  },
  {
   "cell_type": "markdown",
   "metadata": {},
   "source": [
    "\n",
    "## Minimizing the summed absolute errors\n",
    "\n"
   ]
  },
  {
   "cell_type": "markdown",
   "metadata": {},
   "source": [
    "We can choose to minimize another objective function, for example the summed absolute value of the errors. This will reduce the emphasis on large errors. This is  also called L<sub>1</sub> norm regression.\n",
    "\n"
   ]
  },
  {
   "cell_type": "code",
   "execution_count": 23,
   "metadata": {},
   "outputs": [
    {
     "name": "stdout",
     "output_type": "stream",
     "text": [
      "[ 0.26845682  1.14      ]\n"
     ]
    },
    {
     "data": {
      "text/plain": [
       "[<matplotlib.lines.Line2D at 0x114e1d5f8>]"
      ]
     },
     "execution_count": 23,
     "metadata": {},
     "output_type": "execute_result"
    },
    {
     "data": {
      "image/png": "[encoded data removed]",
      "text/plain": [
       "<matplotlib.figure.Figure at 0x114e1d4a8>"
      ]
     },
     "metadata": {},
     "output_type": "display_data"
    }
   ],
   "source": [
    "def objective(pars):\n",
    "    errs = y - model(pars, x)\n",
    "    return np.sum(np.abs(errs))\n",
    "\n",
    "L1_sol = minimize(objective, [0.2, 1])\n",
    "\n",
    "print(L1_sol.x)\n",
    "plt.plot(x, y, 'bo')\n",
    "plt.plot(xfit, model(L1_sol.x, xfit))"
   ]
  },
  {
   "cell_type": "markdown",
   "metadata": {},
   "source": [
    "There is a historical reason this is not done a lot, and that is the absolute value function has a discontinuity in its first derivative which can be problematic in some optimization algorithms. It is obviously not a problem here, and you can see that the outlier has less of an effect on the fitted line in this case.\n",
    "\n",
    "Finally, we can generalize these ideas to something called L<sub>p</sub> norm regressions where we seek to minimize:\n",
    "\n",
    "$\\sum |\\epsilon_i|^p$\n",
    "\n",
    "In [this paper](https://www.tandfonline.com/doi/abs/10.1080/00401706.1972.10488892) a value of $p=1.5$ is recommended for general use. Note this is less than two, and greater than one, so it is expected to have an intermediate effect compared to L<sub>1</sub> and L<sub>2</sub> norm regression.\n",
    "\n"
   ]
  },
  {
   "cell_type": "code",
   "execution_count": 25,
   "metadata": {},
   "outputs": [
    {
     "name": "stdout",
     "output_type": "stream",
     "text": [
      "[ 0.25741036  1.15352087]\n"
     ]
    },
    {
     "data": {
      "text/plain": [
       "array([[ 0.00848849, -0.04402817],\n",
       "       [-0.04402817,  0.33227409]])"
      ]
     },
     "execution_count": 25,
     "metadata": {},
     "output_type": "execute_result"
    },
    {
     "data": {
      "image/png": "[encoded data removed]",
      "text/plain": [
       "<matplotlib.figure.Figure at 0x1148ad588>"
      ]
     },
     "metadata": {},
     "output_type": "display_data"
    }
   ],
   "source": [
    "def objective(pars):\n",
    "    p = 1.5\n",
    "    errs = y - model(pars, x)\n",
    "    return np.sum(np.abs(errs)**p)\n",
    "\n",
    "Lp_sol = minimize(objective, [0.2, 1], tol=1e-9)\n",
    "print(Lp_sol.x)\n",
    "plt.plot(x, y, 'bo')\n",
    "plt.plot(xfit, model(Lp_sol.x, xfit))\n",
    "sol.hess_inv"
   ]
  },
  {
   "cell_type": "markdown",
   "metadata": {},
   "source": [
    "\n",
    "## Robust regression approaches\n",
    "\n"
   ]
  },
  {
   "cell_type": "markdown",
   "metadata": {},
   "source": [
    "An alternative approach to least squares or absolute error minimization is called robust regression (see Applied Regression Analysis, 3rd edition, Draper and Smith, chapter 25). This is a class of methods that uses a different metric to minimize in the objective function.\n",
    "\n",
    "The simplest approach is to minimize the median of the squared error. Recall that minimizing the sum of squared errors is practically like minimizing the average squared error. If you have a symmetric distribution of errors, then the mean and median are practically the same. If there is an outlier, however, the mean will be skewed towards the outlier, while the median will be at a position that splits the distribution in half, and is closer to what you believe the mean to be.\n",
    "\n",
    "Here we show that given an asymmetric distribution, the median is smaller than the mean.\n",
    "\n"
   ]
  },
  {
   "cell_type": "code",
   "execution_count": 28,
   "metadata": {},
   "outputs": [
    {
     "data": {
      "text/plain": [
       "<matplotlib.text.Text at 0x114d05e80>"
      ]
     },
     "execution_count": 28,
     "metadata": {},
     "output_type": "execute_result"
    },
    {
     "data": {
      "image/png": "[encoded data removed]",
      "text/plain": [
       "<matplotlib.figure.Figure at 0x114c940f0>"
      ]
     },
     "metadata": {},
     "output_type": "display_data"
    }
   ],
   "source": [
    "errs = np.array([0.1, 0.01, 0.05, 0.02, 0.8])\n",
    "s = errs**2\n",
    "plt.hist(s)\n",
    "plt.axvline(np.mean(s), color='r')\n",
    "plt.axvline(np.median(s), color='k')\n",
    "plt.legend(['mean', 'median'])\n",
    "plt.xlabel('')"
   ]
  },
  {
   "cell_type": "markdown",
   "metadata": {},
   "source": [
    "\n",
    "### Least Median regression\n",
    "\n"
   ]
  },
  {
   "cell_type": "markdown",
   "metadata": {},
   "source": [
    "It is straightforward to modify the objective function to minimize the median of the squared errors.\n",
    "\n"
   ]
  },
  {
   "cell_type": "code",
   "execution_count": 27,
   "metadata": {},
   "outputs": [
    {
     "name": "stdout",
     "output_type": "stream",
     "text": [
      "[ 0.286       1.09499188]\n"
     ]
    },
    {
     "data": {
      "text/plain": [
       "[<matplotlib.lines.Line2D at 0x114a98128>]"
      ]
     },
     "execution_count": 27,
     "metadata": {},
     "output_type": "execute_result"
    },
    {
     "data": {
      "image/png": "[encoded data removed]",
      "text/plain": [
       "<matplotlib.figure.Figure at 0x114a98f28>"
      ]
     },
     "metadata": {},
     "output_type": "display_data"
    }
   ],
   "source": [
    "def objective(pars):\n",
    "    errs = y - model(pars, x)\n",
    "    return np.median(errs**2)  # you can also use np.abs(errs)\n",
    "\n",
    "LMS_sol = minimize(objective, [0.2, 1])\n",
    "print(LMS_sol.x)\n",
    "plt.plot(x, y, 'bo')\n",
    "plt.plot(xfit, model(LMS_sol.x, xfit))"
   ]
  },
  {
   "cell_type": "markdown",
   "metadata": {},
   "source": [
    "\n",
    "## Weighted nonlinear regression\n",
    "\n"
   ]
  },
  {
   "cell_type": "markdown",
   "metadata": {},
   "source": [
    "Outliers often are associated with larger uncertainties about their values. An alternative approach to the methods described above is to use weights to say how important each data point is. This example is adapted from [https://www.mathworks.com/help/stats/examples/weighted-nonlinear-regression.html](https://www.mathworks.com/help/stats/examples/weighted-nonlinear-regression.html)\n",
    "\n"
   ]
  },
  {
   "cell_type": "code",
   "execution_count": 29,
   "metadata": {},
   "outputs": [
    {
     "data": {
      "text/plain": [
       "<matplotlib.text.Text at 0x115214a90>"
      ]
     },
     "execution_count": 29,
     "metadata": {},
     "output_type": "execute_result"
    },
    {
     "data": {
      "image/png": "[encoded data removed]",
      "text/plain": [
       "<matplotlib.figure.Figure at 0x114b7a0f0>"
      ]
     },
     "metadata": {},
     "output_type": "display_data"
    }
   ],
   "source": [
    "import numpy as np\n",
    "%matplotlib inline\n",
    "import matplotlib.pyplot as plt\n",
    "\n",
    "x = [1, 2, 3, 5, 7, 10]\n",
    "y = [109, 149, 149, 191, 213, 224]\n",
    "plt.plot(x, y, 'bo')\n",
    "plt.xlabel('Incubation (days)')\n",
    "plt.ylabel('BOD')"
   ]
  },
  {
   "cell_type": "markdown",
   "metadata": {},
   "source": [
    "The aim of this work is to fit a nonlinear model $y= a (1 - e^{-b x})$ to this data. We first consider a standard minimization of the sum squared errors.\n",
    "\n"
   ]
  },
  {
   "cell_type": "code",
   "execution_count": 30,
   "metadata": {},
   "outputs": [
    {
     "data": {
      "text/plain": [
       "<matplotlib.text.Text at 0x1151873c8>"
      ]
     },
     "execution_count": 30,
     "metadata": {},
     "output_type": "execute_result"
    },
    {
     "data": {
      "image/png": "[encoded data removed]",
      "text/plain": [
       "<matplotlib.figure.Figure at 0x114db5898>"
      ]
     },
     "metadata": {},
     "output_type": "display_data"
    }
   ],
   "source": [
    "def model(pars, x):\n",
    "    a, b = pars\n",
    "    x = np.array(x)\n",
    "    return a * (1 - np.exp(-b * x))\n",
    "\n",
    "def objective(pars):\n",
    "    errs = y - model(pars, x)\n",
    "    return np.sum(errs**2)\n",
    "\n",
    "\n",
    "guesses = [240, 0.5]\n",
    "\n",
    "from scipy.optimize import minimize\n",
    "\n",
    "sol = minimize(objective, guesses)\n",
    "pars = sol.x\n",
    "\n",
    "plt.plot(x, y, 'bo')\n",
    "xfit = np.linspace(0, 10)\n",
    "plt.plot(xfit, model(pars, xfit))\n",
    "plt.xlabel('Incubation (days)')\n",
    "plt.ylabel('BOD')"
   ]
  },
  {
   "cell_type": "markdown",
   "metadata": {},
   "source": [
    "The fit generally goes through the data, but it is not clear if there is a small outlier near 2 that is skewing the fit, and perhaps leading to an inaccurate asymptote at long times.\n",
    "\n",
    "Suppose, however, that these data points represent averages from multiple measurements, and we only measured the first two point once, and the rest of the points 5 times. In this case, we might want to put more *weight* on the points we measured multiple times.\n",
    "\n",
    "We achieve this by modifying the objective function, in this case multiplying each error by the number of times the measurement was made. This makes reducing errors on points we measured a lot more important than the points we measured less.\n",
    "\n"
   ]
  },
  {
   "cell_type": "code",
   "execution_count": 31,
   "metadata": {},
   "outputs": [
    {
     "name": "stdout",
     "output_type": "stream",
     "text": [
      "[ 232.44536176    0.34610167]\n"
     ]
    },
    {
     "data": {
      "text/plain": [
       "<matplotlib.text.Text at 0x1153fb400>"
      ]
     },
     "execution_count": 31,
     "metadata": {},
     "output_type": "execute_result"
    },
    {
     "data": {
      "image/png": "[encoded data removed]",
      "text/plain": [
       "<matplotlib.figure.Figure at 0x114ad15f8>"
      ]
     },
     "metadata": {},
     "output_type": "display_data"
    }
   ],
   "source": [
    "w = np.array([1, 1, 5, 5, 5, 5])\n",
    "\n",
    "def objective(pars):\n",
    "    errs = (y - model(pars, x)) * w  # weight each error by the # measurements\n",
    "    return np.median(errs**2)\n",
    "\n",
    "\n",
    "guesses = [240, 0.5]\n",
    "\n",
    "from scipy.optimize import minimize\n",
    "\n",
    "sol = minimize(objective, guesses)\n",
    "pars = sol.x\n",
    "print(pars)\n",
    "plt.plot(x, y, 'bo')\n",
    "xfit = np.linspace(0, 10)\n",
    "plt.plot(xfit, model(pars, xfit))\n",
    "plt.xlabel('Incubation (days)')\n",
    "plt.ylabel('BOD')"
   ]
  },
  {
   "cell_type": "code",
   "execution_count": 32,
   "metadata": {},
   "outputs": [
    {
     "name": "stdout",
     "output_type": "stream",
     "text": [
      "[ 234.89968516    0.33668822]\n"
     ]
    },
    {
     "data": {
      "text/plain": [
       "<matplotlib.text.Text at 0x11559c160>"
      ]
     },
     "execution_count": 32,
     "metadata": {},
     "output_type": "execute_result"
    },
    {
     "data": {
      "image/png": "[encoded data removed]",
      "text/plain": [
       "<matplotlib.figure.Figure at 0x114c83a58>"
      ]
     },
     "metadata": {},
     "output_type": "display_data"
    }
   ],
   "source": [
    "sd = np.array([0.2, 0.3, 0.01, 0.02, 0.01, 0.04])\n",
    "\n",
    "def objective(pars):\n",
    "    errs = (y - model(pars, x)) / sd  # weight each error by the # measurements\n",
    "    return np.median(errs**2)\n",
    "\n",
    "\n",
    "guesses = [240, 0.5]\n",
    "\n",
    "from scipy.optimize import minimize\n",
    "\n",
    "sol = minimize(objective, guesses)\n",
    "pars = sol.x\n",
    "print(pars)\n",
    "plt.plot(x, y, 'bo')\n",
    "xfit = np.linspace(0, 10)\n",
    "plt.plot(xfit, model(pars, xfit))\n",
    "plt.xlabel('Incubation (days)')\n",
    "plt.ylabel('BOD')"
   ]
  },
  {
   "cell_type": "code",
   "execution_count": null,
   "metadata": {},
   "outputs": [],
   "source": []
  },
  {
   "cell_type": "markdown",
   "metadata": {},
   "source": [
    "The result here is that the model fits the points we measured a lot better than the points we measured once.\n",
    "\n",
    "There are many ways you could choose to weight the points depending on what you know about them. If you have uncertainties about the measured data, you can weight the points accordingly, e.g. defining the weights as inversely proportional to the uncertainty.\n",
    "\n"
   ]
  },
  {
   "cell_type": "markdown",
   "metadata": {},
   "source": [
    "\n",
    "# Regression with constrained parameters\n",
    "\n"
   ]
  },
  {
   "cell_type": "markdown",
   "metadata": {},
   "source": [
    "Consider this data, which we wish to fit a line to, and suppose we know that the intercept has some physical meaning, e.g. an initial concentration. In this case, it is an error to have a negative value for the intercept.\n",
    "\n"
   ]
  },
  {
   "cell_type": "code",
   "execution_count": 37,
   "metadata": {},
   "outputs": [
    {
     "data": {
      "text/plain": [
       "array([ 2.08000595, -0.17007613])"
      ]
     },
     "execution_count": 37,
     "metadata": {},
     "output_type": "execute_result"
    },
    {
     "data": {
      "image/png": "[encoded data removed]",
      "text/plain": [
       "<matplotlib.figure.Figure at 0x1150773c8>"
      ]
     },
     "metadata": {},
     "output_type": "display_data"
    }
   ],
   "source": [
    "x = np.array([ 0.        ,  0.55555556,  1.11111111,  1.66666667,  2.22222222,\n",
    "               2.77777778,  3.33333333,  3.88888889,  4.44444444,  5.        ])\n",
    "y = np.array([-0.50545117,  0.77599028,  2.64586101,  3.12921576,  5.1337751 ,\n",
    "              5.10184953,  6.35692171,  8.55711734,  9.79718111,  9.3069269 ])\n",
    "\n",
    "plt.plot(x, y, 'bo')\n",
    "np.polyfit(x, y, 1)"
   ]
  },
  {
   "cell_type": "markdown",
   "metadata": {},
   "source": [
    "What we want in this case is to *constrain* the regression model to penalize negative values for the intercept. A simple way to do this to simply add the absolute value of the intercept (or something proportional to it) to the objective function. The proportionality determines the importance of the penalty, and you may have to adjust it to get the performance you want. The absolute value is sometimes problematic for the default solver in minimize.\n",
    "\n"
   ]
  },
  {
   "cell_type": "code",
   "execution_count": 58,
   "metadata": {},
   "outputs": [
    {
     "name": "stdout",
     "output_type": "stream",
     "text": [
      "      fun: 3.190365753370063\n",
      " hess_inv: array([[ 0.08388326, -0.26840697],\n",
      "       [-0.26840697,  0.9213944 ]])\n",
      "      jac: array([  1.49011612e-07,  -1.49011612e-07])\n",
      "  message: 'Optimization terminated successfully.'\n",
      "     nfev: 20\n",
      "      nit: 2\n",
      "     njev: 5\n",
      "   status: 0\n",
      "  success: True\n",
      "        x: array([ 2.03091503,  0.00265116])\n"
     ]
    },
    {
     "data": {
      "text/plain": [
       "[<matplotlib.lines.Line2D at 0x1166c0898>]"
      ]
     },
     "execution_count": 58,
     "metadata": {},
     "output_type": "execute_result"
    },
    {
     "data": {
      "image/png": "[encoded data removed]",
      "text/plain": [
       "<matplotlib.figure.Figure at 0x1166c0d68>"
      ]
     },
     "metadata": {},
     "output_type": "display_data"
    }
   ],
   "source": [
    "def model(pars, x):\n",
    "    m, b = pars\n",
    "    x = np.array(x)\n",
    "    return m * x + b\n",
    "\n",
    "def objective(pars):\n",
    "    m, b = pars\n",
    "    errs = y - model(pars, x)\n",
    "    a = 1 # The penalty parameter that determines how significant it is.\n",
    "    return np.sum(errs**2) - a * b\n",
    "\n",
    "sol = minimize(objective, [2, 0])\n",
    "print(sol)\n",
    "plt.plot(x, y, 'bo')\n",
    "plt.plot(x, model(sol.x, x))"
   ]
  },
  {
   "cell_type": "markdown",
   "metadata": {},
   "source": [
    "The problem arises from the discontinuity in the derivative of the at the point we need it for the absolute value function. One solution is to use a solver that is more robust than BFGS, like the Nelder-Mead solver.\n",
    "\n"
   ]
  },
  {
   "cell_type": "code",
   "execution_count": 43,
   "metadata": {},
   "outputs": [
    {
     "name": "stdout",
     "output_type": "stream",
     "text": [
      " final_simplex: (array([[  2.03168335e+00,  -2.69088745e-05],\n",
      "       [  2.03172913e+00,  -7.13996887e-05],\n",
      "       [  2.03163452e+00,  -1.12785339e-04]]), array([ 3.19038652,  3.19038735,  3.19038825]))\n",
      "           fun: 3.1903865188524301\n",
      "       message: 'Optimization terminated successfully.'\n",
      "          nfev: 36\n",
      "           nit: 19\n",
      "        status: 0\n",
      "       success: True\n",
      "             x: array([  2.03168335e+00,  -2.69088745e-05])\n"
     ]
    }
   ],
   "source": [
    "con_sol = minimize(objective, [2, 0.0], method='Nelder-Mead')\n",
    "print(con_sol)"
   ]
  },
  {
   "cell_type": "markdown",
   "metadata": {},
   "source": [
    "Alternatively, you can use a penalty function that is continuous in derivatives at x=0 like this. Note that here you have to adjust the proportionality constant to be large since b<sup>2</sup> goes to zero at zero quickly.\n",
    "\n"
   ]
  },
  {
   "cell_type": "code",
   "execution_count": 50,
   "metadata": {},
   "outputs": [
    {
     "name": "stdout",
     "output_type": "stream",
     "text": [
      "      fun: 3.1901444142950917\n",
      " hess_inv: array([[ 0.00572735, -0.00014215],\n",
      "       [-0.00014215,  0.00049856]])\n",
      "      jac: array([  2.98023224e-08,   2.98023224e-08])\n",
      "  message: 'Optimization terminated successfully.'\n",
      "     nfev: 84\n",
      "      nit: 5\n",
      "     njev: 21\n",
      "   status: 0\n",
      "  success: True\n",
      "        x: array([  2.03180804e+00,  -4.90911889e-04])\n"
     ]
    },
    {
     "data": {
      "text/plain": [
       "[<matplotlib.lines.Line2D at 0x11682a5f8>]"
      ]
     },
     "execution_count": 50,
     "metadata": {},
     "output_type": "execute_result"
    },
    {
     "data": {
      "image/png": "[encoded data removed]",
      "text/plain": [
       "<matplotlib.figure.Figure at 0x11682a518>"
      ]
     },
     "metadata": {},
     "output_type": "display_data"
    }
   ],
   "source": [
    "def objective(pars):\n",
    "    m, b = pars\n",
    "    errs = y - model(pars, x)\n",
    "    a = 1000\n",
    "    if b < 0:\n",
    "        penalty = a * b**2\n",
    "    else:\n",
    "        penalty = 0\n",
    "    return np.sum(errs**2) + penalty\n",
    "\n",
    "\n",
    "sol = minimize(objective, [2, 0])\n",
    "print(sol)\n",
    "plt.plot(x, y, 'bo')\n",
    "plt.plot(x, model(sol.x, x))"
   ]
  },
  {
   "cell_type": "markdown",
   "metadata": {},
   "source": [
    "This is an example of constrained minimization. There are many more approaches than described here. It is possible to minimize functions with a variety of equality and inequality constraints, as well as to specify bounds on the values of parameters.\n",
    "\n"
   ]
  },
  {
   "cell_type": "markdown",
   "metadata": {},
   "source": [
    "\n",
    "# Summary\n",
    "\n"
   ]
  },
  {
   "cell_type": "markdown",
   "metadata": {},
   "source": [
    "Regression is an important technical skill required in modern engineering. It is the method which we use to convert data into models.\n",
    "\n",
    "At the core, regression involves minimization of some error function. The standard method is to minimize the summed squared error between the model and data. There are some benefits to this method: it is straight forward and there are well established methods to estimate the uncertainty in the parameters. However, it is known to be sensitive to outliers.\n",
    "\n",
    "A variety of alternative approaches exist to reduce the influence of outliers, including minimizing the summed absolute errors, robust regression methods, and weighted regression methods. It is not always obvious what the right method to use is, this takes experience and an understanding of what you know about the model, the data, and the goals of the regression.\n",
    "\n"
   ]
  }
 ],
 "metadata": {
  "kernelspec": {
   "display_name": "Python 3",
   "language": "python",
   "name": "python3"
  },
  "language_info": {
   "codemirror_mode": {
    "name": "ipython",
    "version": 3
   },
   "file_extension": ".py",
   "mimetype": "text/x-python",
   "name": "python",
   "nbconvert_exporter": "python",
   "pygments_lexer": "ipython3",
   "version": "3.6.5"
  },
  "org": {
   "KEYWORDS": "scipy.optimize.minimize"
  }
 },
 "nbformat": 4,
 "nbformat_minor": 1
}
