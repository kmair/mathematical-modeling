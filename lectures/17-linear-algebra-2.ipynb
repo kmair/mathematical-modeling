{
 "cells": [
  {
   "cell_type": "markdown",
   "metadata": {},
   "source": [
    "- KEYWORDS: numpy.linalg.solve, scipy.interpolate.interp1d, numpy.linalg.eigvals, numpy.linalg.eig, numpy.argsort\n"
   ]
  },
  {
   "cell_type": "markdown",
   "metadata": {},
   "source": [
    "\n",
    "# Interpolating between data points\n",
    "\n"
   ]
  },
  {
   "cell_type": "markdown",
   "metadata": {},
   "source": [
    "It is a common need to interpolate between data points, especially when we don't have knowledge of the function relating the data. There are a variety of approaches you can use for interpolation. We will consider a few approaches that use linear algebra here. Given $N$ points, construct an $N^{th}$ order polynomial that goes through all the points, and that can be used to estimate new values between the points.\n",
    "\n",
    "First we consider some data.\n",
    "\n"
   ]
  },
  {
   "cell_type": "code",
   "execution_count": 1,
   "metadata": {},
   "outputs": [
    {
     "data": {
      "text/plain": [
       "[<matplotlib.lines.Line2D at 0x1b3f58eab70>]"
      ]
     },
     "execution_count": 1,
     "metadata": {},
     "output_type": "execute_result"
    },
    {
     "data": {
      "image/png": "[encoded data removed]",
      "text/plain": [
       "<Figure size 432x288 with 1 Axes>"
      ]
     },
     "metadata": {},
     "output_type": "display_data"
    }
   ],
   "source": [
    "import numpy as np\n",
    "\n",
    "x = np.array([1.2, 2.9, 4.1])\n",
    "y = np.array([4.4, 5.5, 8.9])\n",
    "\n",
    "%matplotlib inline\n",
    "import matplotlib.pyplot as plt\n",
    "\n",
    "plt.plot(x, y)"
   ]
  },
  {
   "cell_type": "markdown",
   "metadata": {},
   "source": [
    "We would like an equation like $y(x) = a_2 x^2 + a_1 x + a_0$. If we write these out for each data point we get:\n",
    "\n",
    "$y_0 = a_2 x_0^2 + a_1 x_0 + a_0$\n",
    "\n",
    "$y_1 = a_2 x_1^2 + a_1 x_1 + a_0$\n",
    "\n",
    "and so on. Here, the things we don't know are the parameters $\\mathbf{a} [a_2, a_1, a_0]$. We can write these as:\n",
    "\n",
    "$\\mathbf{X} \\mathbf{a} = \\mathbf{y}$\n",
    "\n",
    "Where $\\mathbf{X} = [\\mathbf{x^2}, \\mathbf{x}, \\mathbf{1}]$, and is called a Vandermonde matrix. We can readily create these with `numpy.vander`.\n",
    "\n"
   ]
  },
  {
   "cell_type": "code",
   "execution_count": 2,
   "metadata": {},
   "outputs": [],
   "source": [
    "np.vander?"
   ]
  },
  {
   "cell_type": "code",
   "execution_count": 3,
   "metadata": {},
   "outputs": [
    {
     "data": {
      "text/plain": [
       "array([[ 4,  2,  1],\n",
       "       [ 9,  3,  1],\n",
       "       [16,  4,  1]])"
      ]
     },
     "execution_count": 3,
     "metadata": {},
     "output_type": "execute_result"
    }
   ],
   "source": [
    "np.vander([2, 3, 4], 3)  # Makes column of x^2, x, x^0\n",
    "# 1st is the list of values on which x is to be evaluated and 3 is the order (So x^ (0, 1 & 2))"
   ]
  },
  {
   "cell_type": "code",
   "execution_count": 4,
   "metadata": {},
   "outputs": [
    {
     "data": {
      "text/plain": [
       "array([[ 0.10229125, -1.21510203,  2.24467468, -1.60537844],\n",
       "       [-0.73528293, -0.85234158, -2.17519515,  0.45295596],\n",
       "       [ 2.06421883, -0.92739569, -1.63616343, -2.17589368]])"
      ]
     },
     "execution_count": 4,
     "metadata": {},
     "output_type": "execute_result"
    }
   ],
   "source": [
    "np.random.randn(3, 4)"
   ]
  },
  {
   "cell_type": "code",
   "execution_count": 5,
   "metadata": {},
   "outputs": [
    {
     "data": {
      "text/plain": [
       "array([[[[-3.66963534e-01,  2.52228534e+00, -3.51628181e-01,\n",
       "          -6.50341236e-01],\n",
       "         [ 8.45466092e-01, -2.27667310e+00, -2.09400890e-01,\n",
       "           1.57293186e+00],\n",
       "         [-3.70176175e-01,  8.49410388e-01,  7.78637958e-02,\n",
       "           3.15715397e-01]],\n",
       "\n",
       "        [[ 2.15346734e-01, -1.01902250e+00, -1.22397781e-01,\n",
       "           1.29412678e+00],\n",
       "         [ 1.46258190e+00,  1.11966640e+00, -4.29463810e-01,\n",
       "          -6.47617121e-01],\n",
       "         [ 1.71612428e-01, -4.13064571e-01, -3.99733265e-01,\n",
       "           8.31225982e-01]],\n",
       "\n",
       "        [[ 1.09025441e+00,  2.24811708e+00, -1.59185117e+00,\n",
       "          -3.95327063e-02],\n",
       "         [ 1.01126307e+00, -6.67094706e-01,  2.85361904e-01,\n",
       "           8.29514858e-01],\n",
       "         [ 1.58740838e+00,  5.59765883e-01, -1.82923717e-01,\n",
       "          -1.88079026e+00]],\n",
       "\n",
       "        [[ 4.05700187e-01,  7.30813942e-01, -2.09671948e-01,\n",
       "           9.68883505e-01],\n",
       "         [ 6.40938177e-01, -1.58300539e+00,  1.60430641e+00,\n",
       "           3.19172708e-02],\n",
       "         [ 3.54768176e-01,  8.58285370e-03,  7.76676924e-02,\n",
       "           1.11755454e+00]],\n",
       "\n",
       "        [[ 1.73204664e-01, -3.62051863e-01,  1.96805251e+00,\n",
       "          -1.35057380e-01],\n",
       "         [ 1.35559082e-01,  2.00724416e-01, -1.61056034e+00,\n",
       "           7.15598650e-01],\n",
       "         [ 1.02713101e+00, -1.26684613e-01,  6.29653067e-01,\n",
       "          -6.06488061e-01]],\n",
       "\n",
       "        [[ 5.24506167e-01, -1.60493379e-01,  2.98856931e-01,\n",
       "          -1.33962943e+00],\n",
       "         [ 9.24323807e-01,  1.60059853e-01,  1.52325563e-02,\n",
       "          -1.55494488e+00],\n",
       "         [-1.11978285e+00,  8.39059806e-01,  8.11759063e-01,\n",
       "           5.10554233e-01]],\n",
       "\n",
       "        [[-8.10592061e-02,  1.10451661e+00, -3.27473220e-01,\n",
       "           7.09505711e-01],\n",
       "         [ 9.81978153e-01, -4.58625335e-02, -1.06449040e+00,\n",
       "          -1.67726203e-01],\n",
       "         [ 1.75636906e-01,  5.20353361e-01, -7.79913810e-01,\n",
       "          -1.29542450e+00]],\n",
       "\n",
       "        [[-4.57710457e-01, -1.67063949e+00, -9.52737334e-01,\n",
       "          -1.26138716e+00],\n",
       "         [ 3.07653583e-03,  2.39038355e-01, -7.45226945e-01,\n",
       "          -2.55488430e-01],\n",
       "         [-1.88772878e+00,  5.51158295e-01,  1.55135881e+00,\n",
       "           7.27085450e-01]],\n",
       "\n",
       "        [[ 3.68990063e-01,  6.81740936e-01, -3.90630881e-01,\n",
       "          -6.34157520e-02],\n",
       "         [-7.51090356e-01, -1.87681061e-01,  4.36344411e-01,\n",
       "           6.30725121e-01],\n",
       "         [ 5.31363685e-02,  9.31087081e-01, -2.58378169e-02,\n",
       "           3.44497425e-01]],\n",
       "\n",
       "        [[-1.61290865e-01, -3.15984638e-01,  7.22337857e-01,\n",
       "          -2.70027000e-01],\n",
       "         [ 1.69261370e+00,  9.88571432e-02,  7.74703818e-01,\n",
       "          -1.47982580e+00],\n",
       "         [-1.32253363e+00,  1.08279527e+00,  5.92460542e-01,\n",
       "          -4.45538971e-01]]],\n",
       "\n",
       "\n",
       "       [[[-2.12400048e+00, -1.62091091e-02, -1.72847334e-01,\n",
       "          -1.20287120e+00],\n",
       "         [ 4.02854725e-01, -3.82409385e-01, -2.49935454e+00,\n",
       "           4.40906732e-01],\n",
       "         [-8.12368583e-01, -8.55428482e-01, -5.44537994e-01,\n",
       "          -6.17886388e-01]],\n",
       "\n",
       "        [[ 5.24451931e-01,  1.50712958e+00, -5.01419986e-02,\n",
       "          -5.96706680e-01],\n",
       "         [ 1.42044918e+00, -2.89666963e-01, -8.37665699e-01,\n",
       "          -1.57823183e+00],\n",
       "         [ 7.08473088e-01, -4.12070813e-01,  9.23613317e-01,\n",
       "          -1.12615518e+00]],\n",
       "\n",
       "        [[ 1.23790048e+00, -4.94643733e-01,  2.39779899e+00,\n",
       "           1.75413869e+00],\n",
       "         [-4.04968870e-02, -1.47513044e-02, -2.72817030e-01,\n",
       "          -1.10526471e+00],\n",
       "         [-8.93755271e-01,  5.58954142e-01,  1.08756168e+00,\n",
       "           6.63154902e-01]],\n",
       "\n",
       "        [[-5.34104847e-01, -1.52102037e+00, -1.59622135e-01,\n",
       "          -3.94940417e-01],\n",
       "         [-8.95876217e-01, -1.06629961e+00,  7.40845354e-01,\n",
       "           2.40372168e-01],\n",
       "         [ 6.00129347e-01, -4.01996796e-01, -5.13398487e-01,\n",
       "          -1.21749720e+00]],\n",
       "\n",
       "        [[-9.61856113e-01, -2.38045371e-01, -3.61730642e-01,\n",
       "           1.43317501e-02],\n",
       "         [ 2.29711405e-01, -1.86455667e+00, -9.83006618e-01,\n",
       "          -7.99579213e-02],\n",
       "         [-6.91128795e-01, -1.65564549e+00, -7.82757840e-01,\n",
       "          -9.61554201e-01]],\n",
       "\n",
       "        [[ 7.53487757e-01, -1.10810702e+00,  9.52814387e-01,\n",
       "          -2.35591791e-01],\n",
       "         [ 1.55271102e+00, -9.58587288e-01, -5.76444103e-01,\n",
       "          -2.09276160e-01],\n",
       "         [-1.29211931e-01, -8.85253831e-01, -7.50048480e-01,\n",
       "           1.10321628e-01]],\n",
       "\n",
       "        [[ 2.37910628e-01, -2.12861895e-01, -2.13287871e-01,\n",
       "           8.13225134e-01],\n",
       "         [ 2.30075847e+00, -9.14329233e-01, -1.81447753e+00,\n",
       "          -1.16146243e+00],\n",
       "         [ 2.48380628e+00,  1.38017999e+00, -3.32026332e-01,\n",
       "          -2.11965603e-02]],\n",
       "\n",
       "        [[-1.04902070e+00,  1.40424899e+00,  9.74799328e-01,\n",
       "           4.30331614e-01],\n",
       "         [-7.25239111e-01, -9.13276341e-02,  1.55332257e+00,\n",
       "           8.58778700e-01],\n",
       "         [ 1.42081679e+00,  1.87518370e+00,  5.79471682e-01,\n",
       "          -6.03828833e-01]],\n",
       "\n",
       "        [[-9.86684546e-01,  1.31605406e+00,  6.24598660e-01,\n",
       "           1.04035048e+00],\n",
       "         [-1.77285047e+00, -2.10718695e-01, -1.38167389e+00,\n",
       "          -4.08868690e-01],\n",
       "         [ 1.11528728e+00, -2.55378094e-01, -5.96078086e-01,\n",
       "           1.23558142e+00]],\n",
       "\n",
       "        [[-7.26741170e-01, -4.51237717e-01, -8.98769026e-02,\n",
       "           3.80397618e+00],\n",
       "         [ 1.34271879e+00, -3.03965747e-01, -8.00909143e-01,\n",
       "           1.18547373e+00],\n",
       "         [ 6.28635538e-02, -1.55307082e+00, -3.02033534e-01,\n",
       "          -9.77450703e-01]]]])"
      ]
     },
     "execution_count": 5,
     "metadata": {},
     "output_type": "execute_result"
    }
   ],
   "source": [
    "arrays = [np.array([np.random.randn(3, 4) for _ in range(10)]) for i in range(2)]\n",
    "np.stack(arrays, axis=0)#.shape"
   ]
  },
  {
   "cell_type": "code",
   "execution_count": 6,
   "metadata": {},
   "outputs": [
    {
     "name": "stdout",
     "output_type": "stream",
     "text": [
      "[0.15781923 4.17274032]\n"
     ]
    },
    {
     "data": {
      "text/plain": [
       "array([[1.44, 1.  ],\n",
       "       [8.41, 1.  ]])"
      ]
     },
     "execution_count": 6,
     "metadata": {},
     "output_type": "execute_result"
    },
    {
     "data": {
      "image/png": "[encoded data removed]",
      "text/plain": [
       "<Figure size 432x288 with 1 Axes>"
      ]
     },
     "metadata": {},
     "output_type": "display_data"
    }
   ],
   "source": [
    "x1 = x[0:2]\n",
    "X1 = np.stack([x1**2, x1**0], axis = 1)\n",
    "par = np.linalg.solve(X1, y[0:2])\n",
    "print(par)\n",
    "x1fit = np.linspace(0,5)\n",
    "y1fit = np.stack([x1fit**2, x1fit**0], axis = 1) @ par\n",
    "plt.plot(x1fit, y1fit, x,y, 'bo')\n",
    "#np.stack([x1fit**2, x1fit**0], axis = 1)\n",
    "X1"
   ]
  },
  {
   "cell_type": "markdown",
   "metadata": {},
   "source": [
    "The first column is $x^2$, the second column is $x$, and the last column is all ones. To compute the polynomial coefficients, we just make the $\\mathbf{X}$ array and solve the equations.\n",
    "\n"
   ]
  },
  {
   "cell_type": "code",
   "execution_count": 9,
   "metadata": {},
   "outputs": [
    {
     "data": {
      "text/plain": [
       "array([4.1, 2.9, 1.2])"
      ]
     },
     "execution_count": 9,
     "metadata": {},
     "output_type": "execute_result"
    }
   ],
   "source": [
    "x[::-1]"
   ]
  },
  {
   "cell_type": "code",
   "execution_count": 10,
   "metadata": {},
   "outputs": [
    {
     "data": {
      "text/plain": [
       "array([ 0.75388776, -2.443881  ,  6.24705882])"
      ]
     },
     "execution_count": 10,
     "metadata": {},
     "output_type": "execute_result"
    }
   ],
   "source": [
    "X = np.vander(x, 3)\n",
    "a = np.linalg.solve(X, y)\n",
    "a"
   ]
  },
  {
   "cell_type": "code",
   "execution_count": 11,
   "metadata": {},
   "outputs": [
    {
     "data": {
      "text/plain": [
       "array([ 0.75388776, -2.443881  ,  6.24705882])"
      ]
     },
     "execution_count": 11,
     "metadata": {},
     "output_type": "execute_result"
    }
   ],
   "source": [
    "np.polyfit(x, y, 2)"
   ]
  },
  {
   "cell_type": "markdown",
   "metadata": {},
   "source": [
    "Now, we can use the parameters to compute new values.\n",
    "\n"
   ]
  },
  {
   "cell_type": "code",
   "execution_count": 12,
   "metadata": {},
   "outputs": [
    {
     "data": {
      "image/png": "[encoded data removed]",
      "text/plain": [
       "<Figure size 432x288 with 1 Axes>"
      ]
     },
     "metadata": {},
     "output_type": "display_data"
    }
   ],
   "source": [
    "xfit = np.linspace(0, 5)\n",
    "Y = np.vander(xfit, 3) @ a\n",
    "plt.plot(x, y, 'bo', xfit, Y, '.-');"
   ]
  },
  {
   "cell_type": "markdown",
   "metadata": {},
   "source": [
    "What we have done here is fit an N<sup>th</sup> order polynomial to $N$ data points. There is a possibility that we have overfit this data, and extrapolation is not reliable. However, interpolation by this method may be useful. We will return to this for larger data sets where $N$ is much larger than the order of the polynomial when we talk about linear regression next week.\n",
    "\n"
   ]
  },
  {
   "cell_type": "markdown",
   "metadata": {},
   "source": [
    "\n",
    "## Interpolation libraries\n",
    "\n"
   ]
  },
  {
   "cell_type": "markdown",
   "metadata": {},
   "source": [
    "There are several interpolating functions available in [scipy.interpolate](https://docs.scipy.org/doc/scipy/reference/interpolate.html). These are usually more flexible and convenient than writing your own interpolating code. They are more sophisticated, and have some *features* you should be aware of.\n",
    "\n"
   ]
  },
  {
   "cell_type": "code",
   "execution_count": 13,
   "metadata": {},
   "outputs": [],
   "source": [
    "from scipy.interpolate import interp1d\n",
    "\n",
    "interp1d?"
   ]
  },
  {
   "cell_type": "code",
   "execution_count": 14,
   "metadata": {},
   "outputs": [
    {
     "data": {
      "text/plain": [
       "array([0, 1, 2, 3, 4, 5, 6, 7, 8, 9])"
      ]
     },
     "execution_count": 14,
     "metadata": {},
     "output_type": "execute_result"
    }
   ],
   "source": [
    "d = np.arange(0, 10)\n",
    "d"
   ]
  },
  {
   "cell_type": "markdown",
   "metadata": {},
   "source": [
    "Linear interpolation is the default, and we have to explicitly allow extrapolation.\n",
    "\n"
   ]
  },
  {
   "cell_type": "code",
   "execution_count": 15,
   "metadata": {},
   "outputs": [
    {
     "data": {
      "text/plain": [
       "[<matplotlib.lines.Line2D at 0x1b3f626c860>]"
      ]
     },
     "execution_count": 15,
     "metadata": {},
     "output_type": "execute_result"
    },
    {
     "data": {
      "image/png": "[encoded data removed]",
      "text/plain": [
       "<Figure size 432x288 with 1 Axes>"
      ]
     },
     "metadata": {},
     "output_type": "display_data"
    }
   ],
   "source": [
    "from scipy.interpolate import interp1d\n",
    "xfit = np.linspace(0, 5)\n",
    "Y = interp1d(x, y, bounds_error=False, fill_value='extrapolate')\n",
    "# Sometimes the parameters fitted might be good in a given range, but outside them they may be wrong \n",
    "#(ex: 3rd power term goes to infinity while actual fn must cvg). So we use:\n",
    "'bounds_error:' # If true, will give warning if we compute outside the range. See next code block for ex:\n",
    "plt.plot(x, y, 'bo')\n",
    "plt.plot(xfit, Y(xfit))"
   ]
  },
  {
   "cell_type": "code",
   "execution_count": 16,
   "metadata": {},
   "outputs": [
    {
     "ename": "ValueError",
     "evalue": "Cannot extrapolate and raise at the same time.",
     "output_type": "error",
     "traceback": [
      "\u001b[1;31m---------------------------------------------------------------------------\u001b[0m",
      "\u001b[1;31mValueError\u001b[0m                                Traceback (most recent call last)",
      "\u001b[1;32m<ipython-input-16-f0a77b8be090>\u001b[0m in \u001b[0;36m<module>\u001b[1;34m()\u001b[0m\n\u001b[0;32m      1\u001b[0m \u001b[0mxfit\u001b[0m \u001b[1;33m=\u001b[0m \u001b[0mnp\u001b[0m\u001b[1;33m.\u001b[0m\u001b[0mlinspace\u001b[0m\u001b[1;33m(\u001b[0m\u001b[1;36m0\u001b[0m\u001b[1;33m,\u001b[0m \u001b[1;36m5\u001b[0m\u001b[1;33m)\u001b[0m\u001b[1;33m\u001b[0m\u001b[0m\n\u001b[1;32m----> 2\u001b[1;33m \u001b[0mY\u001b[0m \u001b[1;33m=\u001b[0m \u001b[0minterp1d\u001b[0m\u001b[1;33m(\u001b[0m\u001b[0mx\u001b[0m\u001b[1;33m,\u001b[0m \u001b[0my\u001b[0m\u001b[1;33m,\u001b[0m \u001b[0mbounds_error\u001b[0m\u001b[1;33m=\u001b[0m\u001b[1;32mTrue\u001b[0m\u001b[1;33m,\u001b[0m \u001b[0mfill_value\u001b[0m\u001b[1;33m=\u001b[0m\u001b[1;34m'extrapolate'\u001b[0m\u001b[1;33m)\u001b[0m\u001b[1;33m\u001b[0m\u001b[0m\n\u001b[0m\u001b[0;32m      3\u001b[0m \u001b[0mplt\u001b[0m\u001b[1;33m.\u001b[0m\u001b[0mplot\u001b[0m\u001b[1;33m(\u001b[0m\u001b[0mx\u001b[0m\u001b[1;33m,\u001b[0m \u001b[0my\u001b[0m\u001b[1;33m,\u001b[0m \u001b[1;34m'bo'\u001b[0m\u001b[1;33m,\u001b[0m \u001b[0mX\u001b[0m\u001b[1;33m,\u001b[0m \u001b[0mY\u001b[0m\u001b[1;33m(\u001b[0m\u001b[0mxfit\u001b[0m\u001b[1;33m)\u001b[0m\u001b[1;33m)\u001b[0m\u001b[1;33m;\u001b[0m\u001b[1;33m\u001b[0m\u001b[0m\n",
      "\u001b[1;32m~\\Anaconda3\\lib\\site-packages\\scipy\\interpolate\\interpolate.py\u001b[0m in \u001b[0;36m__init__\u001b[1;34m(***failed resolving arguments***)\u001b[0m\n\u001b[0;32m    472\u001b[0m         \u001b[1;32mdel\u001b[0m \u001b[0my\u001b[0m\u001b[1;33m,\u001b[0m \u001b[0mx\u001b[0m  \u001b[1;31m# clean up namespace to prevent misuse; use attributes\u001b[0m\u001b[1;33m\u001b[0m\u001b[0m\n\u001b[0;32m    473\u001b[0m         \u001b[0mself\u001b[0m\u001b[1;33m.\u001b[0m\u001b[0m_kind\u001b[0m \u001b[1;33m=\u001b[0m \u001b[0mkind\u001b[0m\u001b[1;33m\u001b[0m\u001b[0m\n\u001b[1;32m--> 474\u001b[1;33m         \u001b[0mself\u001b[0m\u001b[1;33m.\u001b[0m\u001b[0mfill_value\u001b[0m \u001b[1;33m=\u001b[0m \u001b[0mfill_value\u001b[0m  \u001b[1;31m# calls the setter, can modify bounds_err\u001b[0m\u001b[1;33m\u001b[0m\u001b[0m\n\u001b[0m\u001b[0;32m    475\u001b[0m \u001b[1;33m\u001b[0m\u001b[0m\n\u001b[0;32m    476\u001b[0m         \u001b[1;31m# Adjust to interpolation kind; store reference to *unbound*\u001b[0m\u001b[1;33m\u001b[0m\u001b[1;33m\u001b[0m\u001b[0m\n",
      "\u001b[1;32m~\\Anaconda3\\lib\\site-packages\\scipy\\interpolate\\interpolate.py\u001b[0m in \u001b[0;36mfill_value\u001b[1;34m(self, fill_value)\u001b[0m\n\u001b[0;32m    553\u001b[0m         \u001b[1;32mif\u001b[0m \u001b[0m_do_extrapolate\u001b[0m\u001b[1;33m(\u001b[0m\u001b[0mfill_value\u001b[0m\u001b[1;33m)\u001b[0m\u001b[1;33m:\u001b[0m\u001b[1;33m\u001b[0m\u001b[0m\n\u001b[0;32m    554\u001b[0m             \u001b[1;32mif\u001b[0m \u001b[0mself\u001b[0m\u001b[1;33m.\u001b[0m\u001b[0mbounds_error\u001b[0m\u001b[1;33m:\u001b[0m\u001b[1;33m\u001b[0m\u001b[0m\n\u001b[1;32m--> 555\u001b[1;33m                 raise ValueError(\"Cannot extrapolate and raise \"\n\u001b[0m\u001b[0;32m    556\u001b[0m                                  \"at the same time.\")\n\u001b[0;32m    557\u001b[0m             \u001b[0mself\u001b[0m\u001b[1;33m.\u001b[0m\u001b[0mbounds_error\u001b[0m \u001b[1;33m=\u001b[0m \u001b[1;32mFalse\u001b[0m\u001b[1;33m\u001b[0m\u001b[0m\n",
      "\u001b[1;31mValueError\u001b[0m: Cannot extrapolate and raise at the same time."
     ]
    }
   ],
   "source": [
    "xfit = np.linspace(0, 5)\n",
    "Y = interp1d(x, y, bounds_error=True, fill_value='extrapolate')\n",
    "plt.plot(x, y, 'bo', X, Y(xfit));"
   ]
  },
  {
   "cell_type": "code",
   "execution_count": 17,
   "metadata": {},
   "outputs": [
    {
     "data": {
      "text/plain": [
       "array([       nan,        nan,        nan,        nan,        nan,\n",
       "              nan,        nan,        nan,        nan,        nan,\n",
       "              nan,        nan, 4.41584634, 4.48187275, 4.54789916,\n",
       "       4.61392557, 4.67995198, 4.74597839, 4.8120048 , 4.87803121,\n",
       "       4.94405762, 5.01008403, 5.07611044, 5.14213685, 5.20816327,\n",
       "       5.27418968, 5.34021609, 5.4062425 , 5.47226891, 5.66768707,\n",
       "       5.95680272, 6.24591837, 6.53503401, 6.82414966, 7.11326531,\n",
       "       7.40238095, 7.6914966 , 7.98061224, 8.26972789, 8.55884354,\n",
       "       8.84795918,        nan,        nan,        nan,        nan,\n",
       "              nan,        nan,        nan,        nan,        nan])"
      ]
     },
     "execution_count": 17,
     "metadata": {},
     "output_type": "execute_result"
    }
   ],
   "source": [
    "xfit = np.linspace(0, 5)\n",
    "Y = interp1d(x, y, bounds_error=False)\n",
    "Y(xfit) # nan because we're not extrapolating"
   ]
  },
  {
   "cell_type": "markdown",
   "metadata": {},
   "source": [
    "We can also specify quadratic spline interpolation.\n",
    "\n"
   ]
  },
  {
   "cell_type": "code",
   "execution_count": 18,
   "metadata": {},
   "outputs": [
    {
     "data": {
      "image/png": "[encoded data removed]",
      "text/plain": [
       "<Figure size 432x288 with 1 Axes>"
      ]
     },
     "metadata": {},
     "output_type": "display_data"
    }
   ],
   "source": [
    "Y = interp1d(x, y, kind='quadratic', bounds_error=False, fill_value='extrapolate')\n",
    "Y(xfit)\n",
    "\n",
    "plt.plot(x, y, 'bo', xfit, Y(xfit));"
   ]
  },
  {
   "cell_type": "markdown",
   "metadata": {},
   "source": [
    "With more data points you can also use cubic interpolation, which fits a cubic polynomial between the points, and ensures smoothness and continuity of the derivatives at the endpoints.\n",
    "\n",
    "Note that you have to make some decisions about how to interpolate. These functions can introduce *wiggles* that are not real. Especially when there are step or sharp changes  in values.\n",
    "\n"
   ]
  },
  {
   "cell_type": "code",
   "execution_count": 19,
   "metadata": {},
   "outputs": [
    {
     "data": {
      "image/png": "[encoded data removed]",
      "text/plain": [
       "<Figure size 432x288 with 1 Axes>"
      ]
     },
     "metadata": {},
     "output_type": "display_data"
    }
   ],
   "source": [
    "x = np.array([1, 2, 3, 4, 5, 6, 7])\n",
    "y = np.array([1, 2, 1, 1, 0, 0, 0])\n",
    "\n",
    "s = interp1d(x, y, kind='cubic')\n",
    "X = np.linspace(1, 7)\n",
    "Y = s(X)\n",
    "\n",
    "plt.plot(x, y, 'bo', X, Y);\n"
   ]
  },
  {
   "cell_type": "markdown",
   "metadata": {},
   "source": [
    "Interpolation is a kind of data driven model for developing a mathematical model from data that can be used to predict new values. These models are not based on physics, but they can be used for predicting new values, estimating derivatives, integrals, etc. Of course, you must be careful with extrapolation; all polynomials tend to &plusmn; infinity eventually, which is probably not physically relevant in most cases.\n",
    "\n",
    "There are multidimensional interpolation functions in `scipy.interpolate`,\n",
    "\n"
   ]
  },
  {
   "cell_type": "markdown",
   "metadata": {},
   "source": [
    "\n",
    "# Eigenvalues\n",
    "\n"
   ]
  },
  {
   "cell_type": "markdown",
   "metadata": {},
   "source": [
    "Eigenvalues and eigenvectors form an important class of linear algebra problems. They are an unusual class of problems though. Recall that we can interpret the equation $\\mathbf{A}\\mathbf{x} = \\mathbf{b}$ as a linear transformation of the vector $\\mathbf{x}$ into the vector $\\mathbf{b}$. This will in general lead to rotation and stretching of the input vector. *Sometimes* though the new vector $\\mathbf{b}$ is simply a rescaling of the original vector, i.e. $\\mathbf{b} = \\lambda \\mathbf{x}$. &lambda; is the scaling factor, and it just changes the magnitude of the $\\mathbf{x}$ vector. In this case, we call &lambda; an \\eigenvalue\\\\, and $\\mathbf{x}$ and \\eigenvector\\\\ of the matrix $\\mathbf{A}$.\n",
    "\n",
    "When you see a problem in the form:\n",
    "\n",
    "$\\mathbf{A}\\mathbf{x} = \\lambda \\mathbf{x}$\n",
    "\n",
    "It is called an eigenvalue problem. It is conventional to write it in the following form:\n",
    "\n",
    "$(\\mathbf{A} - \\lambda \\mathbf{I})\\mathbf{x} = \\mathbf{0}$\n",
    "\n",
    "Based on this equation, since $\\mathbf{x}$ can be anything, it is necessary for the determinant of the matrix on the left to be zero. The eigenvalues of $\\mathbf{A}$ are the ones that are solutions to\n",
    "\n",
    "$det(\\mathbf{A} - \\lambda \\mathbf{I}) = 0$\n",
    "\n",
    "Computing the determinant leads to a *characteristic polynomial* in &lambda;, and the roots of this polynomial are the eigenvalues of the matrix.\n",
    "\n",
    "For an $N \\times N$ array there will be $N$ eigenvalues (1 for each row), although some may be degenerate. The eigenvalues can be real or complex. For some matrices, we know some properties of the eigenvalues. We will consider some of them here.\n",
    "\n",
    "For example, the eigenvalues of a symmetric matrix are always real. We can make a symmetric matrix with some algebra:\n",
    "\n"
   ]
  },
  {
   "cell_type": "code",
   "execution_count": 20,
   "metadata": {},
   "outputs": [
    {
     "data": {
      "text/plain": [
       "array([[1.78521216, 1.40421339, 1.80370284],\n",
       "       [1.40421339, 1.13567805, 1.02736138],\n",
       "       [1.80370284, 1.02736138, 0.43975421]])"
      ]
     },
     "execution_count": 20,
     "metadata": {},
     "output_type": "execute_result"
    }
   ],
   "source": [
    "A = np.random.rand(3,3)\n",
    "A += A.T  # This makes a symmetric matrix\n",
    "A"
   ]
  },
  {
   "cell_type": "markdown",
   "metadata": {},
   "source": [
    "We get the eigenvalues with `numpy.linalg.eigvals`.\n",
    "\n"
   ]
  },
  {
   "cell_type": "code",
   "execution_count": 21,
   "metadata": {},
   "outputs": [
    {
     "data": {
      "text/plain": [
       "array([ 4.06906832, -0.81418084,  0.10575694])"
      ]
     },
     "execution_count": 21,
     "metadata": {},
     "output_type": "execute_result"
    }
   ],
   "source": [
    "np.linalg.eigvals(A)"
   ]
  },
  {
   "cell_type": "markdown",
   "metadata": {},
   "source": [
    "Skew Mx always have imaginary Eigen values"
   ]
  },
  {
   "cell_type": "code",
   "execution_count": 22,
   "metadata": {},
   "outputs": [
    {
     "name": "stdout",
     "output_type": "stream",
     "text": [
      "[[ 0.          0.10470244  0.27724052]\n",
      " [-0.10470244  0.          0.59478614]\n",
      " [-0.27724052 -0.59478614  0.        ]]\n"
     ]
    },
    {
     "data": {
      "text/plain": [
       "array([2.68370307e-17+0.j        , 0.00000000e+00+0.66452649j,\n",
       "       0.00000000e+00-0.66452649j])"
      ]
     },
     "execution_count": 22,
     "metadata": {},
     "output_type": "execute_result"
    }
   ],
   "source": [
    "B = np.random.rand(3,3)\n",
    "B -= B.T \n",
    "print(B)\n",
    "np.linalg.eigvals(B)"
   ]
  },
  {
   "cell_type": "markdown",
   "metadata": {},
   "source": [
    "You can see these are all real.\n",
    "\n",
    "The *trace* of a matrix is the sum of the diagonal elements. You can do this manually, or use `numpy.trace`.\n",
    "\n"
   ]
  },
  {
   "cell_type": "code",
   "execution_count": 23,
   "metadata": {},
   "outputs": [
    {
     "data": {
      "text/plain": [
       "(3.3606444163520477, 3.3606444163520477)"
      ]
     },
     "execution_count": 23,
     "metadata": {},
     "output_type": "execute_result"
    }
   ],
   "source": [
    "np.sum(np.diag(A)), np.trace(A)"
   ]
  },
  {
   "cell_type": "markdown",
   "metadata": {},
   "source": [
    "It is a property that the sum of the eigenvalues is equal to the trace:\n",
    "\n",
    "$trace \\mathbf{A} = \\sum \\lambda_k$\n",
    "\n"
   ]
  },
  {
   "cell_type": "code",
   "execution_count": 24,
   "metadata": {},
   "outputs": [
    {
     "data": {
      "text/plain": [
       "3.3606444163520477"
      ]
     },
     "execution_count": 24,
     "metadata": {},
     "output_type": "execute_result"
    }
   ],
   "source": [
    "np.sum(np.linalg.eigvals(A))"
   ]
  },
  {
   "cell_type": "markdown",
   "metadata": {},
   "source": [
    "It is also true that the product of the eigenvalues is equal to the determinant:\n",
    "\n",
    "$det \\mathbf{A} = \\prod \\lambda_k$\n",
    "\n"
   ]
  },
  {
   "cell_type": "code",
   "execution_count": 25,
   "metadata": {},
   "outputs": [
    {
     "data": {
      "text/plain": [
       "(-0.3503682374040741, -0.35036823740407425)"
      ]
     },
     "execution_count": 25,
     "metadata": {},
     "output_type": "execute_result"
    }
   ],
   "source": [
    "np.prod(np.linalg.eigvals(A)), np.linalg.det(A)"
   ]
  },
  {
   "cell_type": "markdown",
   "metadata": {},
   "source": [
    "We can also see the eigenvectors. The `numpy.linalg.eig` function returns *both* eigenvalues and eigenvectors. The eigenvectors are in *columns*\n",
    "\n"
   ]
  },
  {
   "cell_type": "code",
   "execution_count": 26,
   "metadata": {},
   "outputs": [
    {
     "data": {
      "text/plain": [
       "(array([ 4.06906832, -0.81418084,  0.10575694]),\n",
       " array([[-0.70395053, -0.5561597 ,  0.44174658],\n",
       "        [-0.51007874, -0.03692812, -0.85933462],\n",
       "        [-0.49424015,  0.8302546 ,  0.25768966]]))"
      ]
     },
     "execution_count": 26,
     "metadata": {},
     "output_type": "execute_result"
    }
   ],
   "source": [
    "e, v = np.linalg.eig(A)\n",
    "e, v"
   ]
  },
  {
   "cell_type": "markdown",
   "metadata": {},
   "source": [
    "**Note:** Eigen vectors are stored in column. Thus, column 1 corresponds to 1st eigenvalue."
   ]
  },
  {
   "cell_type": "markdown",
   "metadata": {},
   "source": [
    "These eigenvectors have the property that the are normalized to unit length:\n",
    "\n"
   ]
  },
  {
   "cell_type": "code",
   "execution_count": 27,
   "metadata": {},
   "outputs": [
    {
     "data": {
      "text/plain": [
       "[0.9999999999999998, 0.9999999999999999, 0.9999999999999999]"
      ]
     },
     "execution_count": 27,
     "metadata": {},
     "output_type": "execute_result"
    }
   ],
   "source": [
    "[np.linalg.norm(v[:, i]) for i in [0, 1, 2]]"
   ]
  },
  {
   "cell_type": "markdown",
   "metadata": {},
   "source": [
    "The eigenvectors are in columns in the order corresponding to the order of the eigenvalues (these are not necessarily sorted). Here, we show that the eigenvalue/eigenvector pairs satisfy $\\mathbf{A} \\mathbf{v} = \\lambda \\mathbf{v}$.\n",
    "\n"
   ]
  },
  {
   "cell_type": "code",
   "execution_count": 28,
   "metadata": {},
   "outputs": [
    {
     "data": {
      "text/plain": [
       "[True, True, True]"
      ]
     },
     "execution_count": 28,
     "metadata": {},
     "output_type": "execute_result"
    }
   ],
   "source": [
    "[np.allclose(A @ v[:, 0], e[0] * v[:, 0]),\n",
    " np.allclose(A @ v[:, 1], e[1] * v[:, 1]),\n",
    " np.allclose(A @ v[:, 2], e[2] * v[:, 2])]"
   ]
  },
  {
   "cell_type": "markdown",
   "metadata": {},
   "source": [
    "If you mix and match these, they do not satisfy the equations.\n",
    "\n"
   ]
  },
  {
   "cell_type": "code",
   "execution_count": 43,
   "metadata": {},
   "outputs": [
    {
     "data": {
      "text/plain": [
       "[False, False, False]"
      ]
     },
     "execution_count": 43,
     "metadata": {},
     "output_type": "execute_result"
    }
   ],
   "source": [
    "[np.allclose(A @ v[:, 0], e[1] * v[:, 2]),\n",
    " np.allclose(A @ v[:, 1], e[0] * v[:, 1]),\n",
    " np.allclose(A @ v[:, 2], e[2] * v[:, 0])]"
   ]
  },
  {
   "cell_type": "code",
   "execution_count": 44,
   "metadata": {},
   "outputs": [
    {
     "data": {
      "text/plain": [
       "[False, False, False]"
      ]
     },
     "execution_count": 44,
     "metadata": {},
     "output_type": "execute_result"
    }
   ],
   "source": [
    "# We can see that since we putin rows, it gives us a False msg. Thus we see that eigen vectors are stored column-wise.\n",
    "[np.allclose(A @ v[0,:], e[0] * v[0,:]),\n",
    " np.allclose(A @ v[1,:], e[1] * v[1,:]),\n",
    " np.allclose(A @ v[2,:], e[2] * v[2,:])]"
   ]
  },
  {
   "cell_type": "markdown",
   "metadata": {},
   "source": [
    "The eigenvalues are not sorted. It is often useful to know the smallest, or largest eigenvalue, and to have the eigenvalues sorted. The tricky point to consider is the eigenvectors have to be sorted in the same order. It is also tricky that the eigenvectors are stored in columns, but sorting is done on rows. You can simply transpose the eigenvector array, sort on rows, and then transpose it back to columns.\n",
    "\n"
   ]
  },
  {
   "cell_type": "code",
   "execution_count": 56,
   "metadata": {},
   "outputs": [
    {
     "name": "stdout",
     "output_type": "stream",
     "text": [
      "[1 2 0]\n"
     ]
    },
    {
     "data": {
      "text/plain": [
       "array([-0.75137856,  0.03176602,  2.57931032])"
      ]
     },
     "execution_count": 56,
     "metadata": {},
     "output_type": "execute_result"
    }
   ],
   "source": [
    "i = np.argsort(e) # np.argsort sorts the indices in the correct order\n",
    "print(i) \n",
    "e[i]"
   ]
  },
  {
   "cell_type": "code",
   "execution_count": 61,
   "metadata": {},
   "outputs": [
    {
     "data": {
      "text/plain": [
       "(array([-0.75137856,  0.03176602,  2.57931032]),\n",
       " array([[-0.52689436,  0.38362861, -0.75842694],\n",
       "        [-0.05163092, -0.90513865, -0.42196951],\n",
       "        [ 0.84836111,  0.18317508, -0.49671955]]))"
      ]
     },
     "execution_count": 61,
     "metadata": {},
     "output_type": "execute_result"
    }
   ],
   "source": [
    "i = np.argsort(e)\n",
    "\n",
    "sorted_e = e[i]\n",
    "sorted_v = v.T[i].T  # Transpose taken since Eigen values are in columns while sorting is done with eigen vectors.\n",
    "sorted_e, sorted_v"
   ]
  },
  {
   "cell_type": "code",
   "execution_count": 64,
   "metadata": {},
   "outputs": [
    {
     "data": {
      "text/plain": [
       "(array([-0.75137856,  0.03176602,  2.57931032]),\n",
       " array([[-0.52689436,  0.38362861, -0.75842694],\n",
       "        [-0.05163092, -0.90513865, -0.42196951],\n",
       "        [ 0.84836111,  0.18317508, -0.49671955]]))"
      ]
     },
     "execution_count": 64,
     "metadata": {},
     "output_type": "execute_result"
    }
   ],
   "source": [
    "i = np.argsort(e)\n",
    "\n",
    "sorted_e = e[i]\n",
    "sorted_v = v[:,i]  \n",
    "sorted_e, sorted_v"
   ]
  },
  {
   "cell_type": "markdown",
   "metadata": {},
   "source": [
    "*As always* it is a good idea to check that we did not mess up:\n",
    "\n"
   ]
  },
  {
   "cell_type": "code",
   "execution_count": 47,
   "metadata": {},
   "outputs": [
    {
     "name": "stdout",
     "output_type": "stream",
     "text": [
      "True\n",
      "True\n",
      "True\n"
     ]
    }
   ],
   "source": [
    "for i, se in enumerate(sorted_e):\n",
    "    sv = sorted_v[:, i]\n",
    "    print(np.allclose(A @ sv, se * sv))"
   ]
  },
  {
   "cell_type": "markdown",
   "metadata": {},
   "source": [
    "\n",
    "## Application to roots of a polynomial\n",
    "\n"
   ]
  },
  {
   "cell_type": "markdown",
   "metadata": {},
   "source": [
    "The eigenvalues of a matrix are related to the roots of the characteristic polynomial of the matrix. We can leverage this to find the roots of a polynomial by constructing a matrix that has as its characteristic polynomial the polynomial we want the roots for. Then, the roots of the polynomial are just the eigenvalues of that matrix.\n",
    "\n",
    "This example is adapted from [http://www.math.utah.edu/~gustafso/s2018/2270/labs/lab7-polyroot-qrmethod.pdf](http://www.math.utah.edu/~gustafso/s2018/2270/labs/lab7-polyroot-qrmethod.pdf)\n",
    "\n",
    "First, we construct the *companion matrix*. For the polynomial $p(x) = a_0 + a_1 x + ... + a_{n-1} x^{n-1} + x^n$ we construct:\n",
    "\n",
    "$C = \\left[\\begin{array}{ccccc}\n",
    " 0 & 1 & 0 & ... & 0\\\\\n",
    " 0 & 0 & 1 & ... & 0\\\\\n",
    " ... & ... & ... & \\ddots & \\vdots \\\\\n",
    " 0 & 0 & 0 & ... & 1\\\\\n",
    " -a_0 & -a_1 & -a_2 & ... & -a_{n-1}\n",
    " \\end{array}\\right]$\n",
    "\n",
    "Then, the eigenvalues of this matrix are equal to the roots of the polynomial. This matrix has ones on the diagonal above the main diagonal, and the coefficients up to the leading power on the bottom row. Note the coefficients are in the opposite order as we usually define them for `np.roots`.\n",
    "\n",
    "The main diagonal has `N` elements in it, and the diagonal above that has `N-2` elements in it.\n",
    "\n",
    "There are a few ways to reverse the coefficients, here we use `numpy.flipud` which reverses the elements.\n",
    "\n",
    "Let $p(x) = 4 x^2 + 3x - 1$. We write the coefficient vector in the same order as used in np.roots.\n",
    "\n"
   ]
  },
  {
   "cell_type": "code",
   "execution_count": 48,
   "metadata": {},
   "outputs": [
    {
     "data": {
      "text/plain": [
       "array([[ 0.  ,  1.  ],\n",
       "       [ 0.25, -0.75]])"
      ]
     },
     "execution_count": 48,
     "metadata": {},
     "output_type": "execute_result"
    }
   ],
   "source": [
    "p = np.array([4, 3, -1])\n",
    "N = len(p)\n",
    "\n",
    "C = np.diag(np.ones(N - 2), 1)\n",
    "C[-1, :] = np.flipud(-p[1:] / p[0]) # set the bottom row[-1,:] to normaized parameters (by flipping).\n",
    "# p is written from highest to lowest order. Since we need bottom row to have coeff from highest to lowest, we use:\n",
    "'flipud' #fn to reverse the elements \n",
    "C"
   ]
  },
  {
   "cell_type": "markdown",
   "metadata": {},
   "source": [
    "Now the roots are found as the eigenvalues of the matrix.\n",
    "\n"
   ]
  },
  {
   "cell_type": "code",
   "execution_count": 49,
   "metadata": {},
   "outputs": [
    {
     "data": {
      "text/plain": [
       "array([ 0.25, -1.  ])"
      ]
     },
     "execution_count": 49,
     "metadata": {},
     "output_type": "execute_result"
    }
   ],
   "source": [
    "np.linalg.eigvals(C)"
   ]
  },
  {
   "cell_type": "markdown",
   "metadata": {},
   "source": [
    "This is essentially what the `np.roots` function does, although it uses a slightly different way to define the companion matrix.\n",
    "\n"
   ]
  },
  {
   "cell_type": "code",
   "execution_count": 50,
   "metadata": {},
   "outputs": [],
   "source": [
    "import numpy as np\n",
    "??np.roots"
   ]
  },
  {
   "cell_type": "code",
   "execution_count": 51,
   "metadata": {},
   "outputs": [
    {
     "data": {
      "text/plain": [
       "array([-1.  ,  0.25])"
      ]
     },
     "execution_count": 51,
     "metadata": {},
     "output_type": "execute_result"
    }
   ],
   "source": [
    "p = [4, 3, -1]\n",
    "np.roots(p)"
   ]
  },
  {
   "cell_type": "markdown",
   "metadata": {},
   "source": [
    "The order of the roots is not important; they may or may not be sorted.\n",
    "\n"
   ]
  },
  {
   "cell_type": "markdown",
   "metadata": {},
   "source": [
    "\n",
    "## Applications to optimization\n",
    "\n"
   ]
  },
  {
   "cell_type": "markdown",
   "metadata": {},
   "source": [
    "We can use eigenvalues to detect what kind of stationary point (f'(x) = 0) we are at. We have to know the [Hessian matrix](https://en.wikipedia.org/wiki/Hessian_matrix) at the stationary point. The eigenvalues of this matrix tell us about the stationary point.\n",
    "\n",
    "1.  If all the eigenvalues are all positive, the matrix is called positive definite, and it means the stationary point is a minimum.\n",
    "2.  If all the eigenvalues are negative, the matrix is called negative definite, and it means the stationary point is a maximum.\n",
    "3.  If the signs of the eigenvalues are mixed then the stationary point is a saddle point.\n",
    "4.  If there are zeros, it is inconclusive, and further analysis is needed.\n",
    "\n",
    "Let's consider an example:\n",
    "\n"
   ]
  },
  {
   "cell_type": "code",
   "execution_count": 30,
   "metadata": {},
   "outputs": [
    {
     "data": {
      "text/plain": [
       "      fun: -6.0\n",
       " hess_inv: array([[ 0.33333333, -0.16666667],\n",
       "       [-0.16666667,  0.33333333]])\n",
       "      jac: array([0., 0.])\n",
       "  message: 'Optimization terminated successfully.'\n",
       "     nfev: 24\n",
       "      nit: 4\n",
       "     njev: 6\n",
       "   status: 0\n",
       "  success: True\n",
       "        x: array([ 1.99999999, -0.99999999])"
      ]
     },
     "execution_count": 30,
     "metadata": {},
     "output_type": "execute_result"
    }
   ],
   "source": [
    "from scipy.optimize import minimize\n",
    "\n",
    "def f(X):\n",
    "    x, y = X\n",
    "    return 2 * x**2 + 2 * x * y + 2 * y**2 - 6 * x\n",
    "\n",
    "sol = minimize(f, [0, 0])\n",
    "sol"
   ]
  },
  {
   "cell_type": "markdown",
   "metadata": {},
   "source": [
    "We get an estimate of the inverse hessian here, so we convert it to a hessian first.\n",
    "\n"
   ]
  },
  {
   "cell_type": "code",
   "execution_count": 31,
   "metadata": {},
   "outputs": [
    {
     "data": {
      "text/plain": [
       "array([[3.99999998, 1.99999997],\n",
       "       [1.99999997, 3.99999996]])"
      ]
     },
     "execution_count": 31,
     "metadata": {},
     "output_type": "execute_result"
    }
   ],
   "source": [
    "h = np.linalg.inv(sol['hess_inv'])\n",
    "h"
   ]
  },
  {
   "cell_type": "markdown",
   "metadata": {},
   "source": [
    "Now we check the eigenvalues:\n",
    "\n"
   ]
  },
  {
   "cell_type": "code",
   "execution_count": 32,
   "metadata": {},
   "outputs": [
    {
     "data": {
      "text/plain": [
       "array([5.99999994, 2.        ])"
      ]
     },
     "execution_count": 32,
     "metadata": {},
     "output_type": "execute_result"
    }
   ],
   "source": [
    "np.linalg.eigvals(h)"
   ]
  },
  {
   "cell_type": "markdown",
   "metadata": {},
   "source": [
    "We have two positive eigenvalues, so the Hessian is positive definite, and we are at a minimum.\n",
    "\n",
    "We can also use tools to compute the Hessian more directly (of course you can derive the partial derivatives by hand also):\n",
    "\n"
   ]
  },
  {
   "cell_type": "code",
   "execution_count": 34,
   "metadata": {},
   "outputs": [
    {
     "data": {
      "text/plain": [
       "array([2., 6.])"
      ]
     },
     "execution_count": 34,
     "metadata": {},
     "output_type": "execute_result"
    }
   ],
   "source": [
    "import numdifftools as nd\n",
    "H = nd.Hessian(f)\n",
    "np.linalg.eigvals(H(sol.x))"
   ]
  },
  {
   "cell_type": "markdown",
   "metadata": {},
   "source": [
    "Note the order of the eigenvalues is not important.\n",
    "\n",
    "We will see more about numerical tools for computing Hessians and derivatives after Thanksgiving.\n",
    "\n"
   ]
  },
  {
   "cell_type": "markdown",
   "metadata": {},
   "source": [
    "\n",
    "# Summary\n",
    "\n"
   ]
  },
  {
   "cell_type": "markdown",
   "metadata": {},
   "source": [
    "Today we introduced the ideas behind interpolation which is a data-drive approach to model building that involves locally fitting functions to a few data points. We also introduced eigenvalues and eigenvectors, and some applications of how they are used.\n",
    "\n",
    "Next week we will conclude linear algebra with linear regression.\n",
    "\n"
   ]
  }
 ],
 "metadata": {
  "kernelspec": {
   "display_name": "Python 3",
   "language": "python",
   "name": "python3"
  },
  "language_info": {
   "codemirror_mode": {
    "name": "ipython",
    "version": 3
   },
   "file_extension": ".py",
   "mimetype": "text/x-python",
   "name": "python",
   "nbconvert_exporter": "python",
   "pygments_lexer": "ipython3",
   "version": "3.6.5"
  },
  "org": {
   "KEYWORDS": "numpy.linalg.solve, scipy.interpolate.interp1d, numpy.linalg.eigvals, numpy.linalg.eig, numpy.argsort"
  }
 },
 "nbformat": 4,
 "nbformat_minor": 1
}
