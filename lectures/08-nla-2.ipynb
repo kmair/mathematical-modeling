{
 "cells": [
  {
   "cell_type": "markdown",
   "metadata": {},
   "source": [
    "- KEYWORDS: scipy.optimize.fsolve, numpy.roots, numpy.polyder, numpy.polyval, numpy.polyint, numpy.poly1d\n"
   ]
  },
  {
   "cell_type": "markdown",
   "metadata": {},
   "source": [
    "\n",
    "# Special nonlinear systems - polynomials\n",
    "\n"
   ]
  },
  {
   "cell_type": "markdown",
   "metadata": {},
   "source": [
    "Polynomials are a special class of nonlinear algebraic equations that are especially easy to solve. A polynomial is linear in the coefficients in front of the variable. If we consider the following $n^{th}$ order polynomial:\n",
    "\n",
    "$p_0 x^n + p_1 x^{(n-1)} + ... + p_{n-1} x + p_n = 0$\n",
    "\n",
    "Let's be specific:\n",
    "\n",
    "$x^2 + 8x + 16 = 0$\n",
    "\n",
    "We express this as [1, 8, 16].\n",
    "\n"
   ]
  },
  {
   "cell_type": "code",
   "execution_count": 2,
   "metadata": {},
   "outputs": [
    {
     "data": {
      "text/plain": [
       "array([-4., -4.])"
      ]
     },
     "execution_count": 2,
     "metadata": {},
     "output_type": "execute_result"
    }
   ],
   "source": [
    "import numpy as np\n",
    "?np.roots\n",
    "p = [1, 8, 16]     # Eigen values of this function are the roots we get\n",
    "r = np.roots(p)\n",
    "r"
   ]
  },
  {
   "cell_type": "markdown",
   "metadata": {},
   "source": [
    "Note we get all the roots. We can check that with the `numpy.polyval` command.\n",
    "\n"
   ]
  },
  {
   "cell_type": "code",
   "execution_count": 3,
   "metadata": {},
   "outputs": [
    {
     "data": {
      "text/plain": [
       "array([0., 0.])"
      ]
     },
     "execution_count": 3,
     "metadata": {},
     "output_type": "execute_result"
    }
   ],
   "source": [
    "np.polyval(p, r)"
   ]
  },
  {
   "cell_type": "markdown",
   "metadata": {},
   "source": [
    "Note: If we use fsolve, it gives a lot of unwanted results. We've to iterate over various guesses to get our desired answer. If the ans is cx (say when we're solving EOS) then it's unclear by fsolve if soln even exists or are we not evaluating for right initial guess. This even gives us cx roots."
   ]
  },
  {
   "cell_type": "code",
   "execution_count": 4,
   "metadata": {},
   "outputs": [
    {
     "data": {
      "text/plain": [
       "array([-0.+1.41421356j,  0.-1.41421356j])"
      ]
     },
     "execution_count": 4,
     "metadata": {},
     "output_type": "execute_result"
    }
   ],
   "source": [
    "np.roots([1,0,2])"
   ]
  },
  {
   "cell_type": "markdown",
   "metadata": {},
   "source": [
    "Cx ans for x^2 + 2 = 0"
   ]
  },
  {
   "cell_type": "markdown",
   "metadata": {},
   "source": [
    "We can also use this to plot a polynomial.\n",
    "\n"
   ]
  },
  {
   "cell_type": "code",
   "execution_count": 5,
   "metadata": {},
   "outputs": [
    {
     "data": {
      "text/plain": [
       "Text(0,0.5,'y')"
      ]
     },
     "execution_count": 5,
     "metadata": {},
     "output_type": "execute_result"
    },
    {
     "data": {
      "image/png": "[encoded data removed]",
      "text/plain": [
       "<Figure size 432x288 with 1 Axes>"
      ]
     },
     "metadata": {},
     "output_type": "display_data"
    }
   ],
   "source": [
    "import numpy as np\n",
    "\n",
    "x = np.linspace(-5, -3)\n",
    "y = np.polyval(p, x)\n",
    "\n",
    "%matplotlib inline\n",
    "import matplotlib.pyplot as plt\n",
    "plt.plot(x, y)\n",
    "plt.xlabel('x')\n",
    "plt.ylabel('y')"
   ]
  },
  {
   "cell_type": "markdown",
   "metadata": {},
   "source": [
    "Why is this so convenient?\n",
    "\n"
   ]
  },
  {
   "cell_type": "markdown",
   "metadata": {},
   "source": [
    "\n",
    "## Cubic equations of state\n",
    "\n"
   ]
  },
  {
   "cell_type": "markdown",
   "metadata": {},
   "source": [
    "There are applications of polynomials in thermodynamics. The van der waal equation is a cubic polynomial $f(V) = V^3 - \\frac{p n b + n R T}{p} V^2 + \\frac{n^2 a}{p}V - \\frac{n^3 a b}{p} = 0$, where $a$ and $b$ are constants, $p$ is the pressure, $R$ is the gas constant, $T$ is an absolute temperature and $n$ is the number of moles. The roots of this equation tell you the volume of the gas at those conditions.\n",
    "\n"
   ]
  },
  {
   "cell_type": "code",
   "execution_count": 6,
   "metadata": {},
   "outputs": [
    {
     "name": "stdout",
     "output_type": "stream",
     "text": [
      "[5.09432376+0.j         4.4006681 +1.43502848j 4.4006681 -1.43502848j]\n"
     ]
    }
   ],
   "source": [
    "# numerical values of the constants\n",
    "a = 3.49e4  # exponential notation\n",
    "b = 1.45\n",
    "p = 679.7   # pressure in psi \n",
    "T = 683     # T in Rankine\n",
    "n = 1.136   # lb-moles\n",
    "R = 10.73   # ft^3 * psi / R / lb-mol\n",
    "\n",
    "ppar = [1.0,                                    #V^3\n",
    "        -(p * n * b + n * R * T) / p,           #V^2\n",
    "        n**2 * a / p,                           #V\n",
    "        -n**3 * a * b / p]                      #constant\n",
    "\n",
    "print(np.roots(ppar))"
   ]
  },
  {
   "cell_type": "code",
   "execution_count": 7,
   "metadata": {},
   "outputs": [
    {
     "data": {
      "text/plain": [
       "array([5.09432376+0.j        , 4.4006681 +1.43502848j,\n",
       "       4.4006681 -1.43502848j])"
      ]
     },
     "execution_count": 7,
     "metadata": {},
     "output_type": "execute_result"
    }
   ],
   "source": [
    "r=np.roots(ppar)\n",
    "r                    # First root is not imaginary. Let's try to print this"
   ]
  },
  {
   "cell_type": "code",
   "execution_count": 8,
   "metadata": {},
   "outputs": [
    {
     "data": {
      "text/plain": [
       "(5.0943237645545985, 0.0)"
      ]
     },
     "execution_count": 8,
     "metadata": {},
     "output_type": "execute_result"
    }
   ],
   "source": [
    "r[0]\n",
    "\n",
    "r[0].real, r[0].imag"
   ]
  },
  {
   "cell_type": "markdown",
   "metadata": {},
   "source": [
    "Note that only one root is real (and even then, we have to interpret 0.j as not being imaginary. Also, in a cubic polynomial, there can only be two imaginary roots). In this case that means there is only one phase present.\n",
    "\n"
   ]
  },
  {
   "cell_type": "markdown",
   "metadata": {},
   "source": [
    "\n",
    "## Other useful things to remember about polynomials\n",
    "\n"
   ]
  },
  {
   "cell_type": "markdown",
   "metadata": {},
   "source": [
    "You can easily get the parameters of the derivative of the polynomial with `numpy.polyder`.\n",
    "\n"
   ]
  },
  {
   "cell_type": "code",
   "execution_count": 9,
   "metadata": {},
   "outputs": [
    {
     "data": {
      "text/plain": [
       "array([2, 8])"
      ]
     },
     "execution_count": 9,
     "metadata": {},
     "output_type": "execute_result"
    }
   ],
   "source": [
    "p = [1, 8, 16]\n",
    "\n",
    "pd = np.polyder(p)\n",
    "pd    # result must be f'(x) = 2x+8"
   ]
  },
  {
   "cell_type": "code",
   "execution_count": 10,
   "metadata": {},
   "outputs": [
    {
     "data": {
      "text/plain": [
       "array([  3.        , -27.79131994,  66.26204267])"
      ]
     },
     "execution_count": 10,
     "metadata": {},
     "output_type": "execute_result"
    }
   ],
   "source": [
    "np.polyder(ppar) # of our EOS"
   ]
  },
  {
   "cell_type": "markdown",
   "metadata": {},
   "source": [
    "You can use these with `numpy.polyval` to compute the derivative at different points.\n",
    "\n"
   ]
  },
  {
   "cell_type": "code",
   "execution_count": 11,
   "metadata": {
    "scrolled": true
   },
   "outputs": [
    {
     "data": {
      "text/plain": [
       "array([-12,  -2,   2,  10,  12,  14])"
      ]
     },
     "execution_count": 11,
     "metadata": {},
     "output_type": "execute_result"
    }
   ],
   "source": [
    "np.polyval(pd, [-10, -5, -3, 1, 2, 3]) #Recall that root is at -4"
   ]
  },
  {
   "cell_type": "code",
   "execution_count": 12,
   "metadata": {},
   "outputs": [
    {
     "data": {
      "text/plain": [
       "array([  6.        , -27.79131994])"
      ]
     },
     "execution_count": 12,
     "metadata": {},
     "output_type": "execute_result"
    }
   ],
   "source": [
    "# We can take second derivative of the functions also\n",
    "\n",
    "np.polyder(ppar, 2)"
   ]
  },
  {
   "cell_type": "code",
   "execution_count": 13,
   "metadata": {},
   "outputs": [
    {
     "data": {
      "text/plain": [
       "array([4.85722573e-16+1.41421356j, 4.85722573e-16-1.41421356j,\n",
       "       1.00000000e+00+0.j        ])"
      ]
     },
     "execution_count": 13,
     "metadata": {},
     "output_type": "execute_result"
    }
   ],
   "source": [
    "p2 = [1,-1,2,-2]\n",
    "np.roots(p2)"
   ]
  },
  {
   "cell_type": "code",
   "execution_count": 14,
   "metadata": {},
   "outputs": [
    {
     "data": {
      "text/plain": [
       "[-1.0, -2.0]"
      ]
     },
     "execution_count": 14,
     "metadata": {},
     "output_type": "execute_result"
    }
   ],
   "source": [
    "#Sorting of roots\n",
    "p3 = np.roots([1,3,2])\n",
    "n = sorted(p3, reverse=True)\n",
    "n"
   ]
  },
  {
   "cell_type": "code",
   "execution_count": 15,
   "metadata": {},
   "outputs": [
    {
     "data": {
      "text/plain": [
       "array([-2., -1.])"
      ]
     },
     "execution_count": 15,
     "metadata": {},
     "output_type": "execute_result"
    }
   ],
   "source": [
    "p3.sort()\n",
    "p3"
   ]
  },
  {
   "cell_type": "markdown",
   "metadata": {},
   "source": [
    "You can also get the coefficients of the integral of the polynomial. The integration constant is assumed to be 0 by default.\n",
    "\n"
   ]
  },
  {
   "cell_type": "code",
   "execution_count": 16,
   "metadata": {},
   "outputs": [
    {
     "data": {
      "text/plain": [
       "array([ 0.33333333,  4.        , 16.        ,  0.        ])"
      ]
     },
     "execution_count": 16,
     "metadata": {},
     "output_type": "execute_result"
    }
   ],
   "source": [
    "p = [1,8,16]\n",
    "pint = np.polyint(p)  # We can save the constant that is returned too.\n",
    "pint"
   ]
  },
  {
   "cell_type": "markdown",
   "metadata": {},
   "source": [
    "You can use this to compute definite integrals, e.g. from x=1 to x=2:\n",
    "\n"
   ]
  },
  {
   "cell_type": "code",
   "execution_count": 17,
   "metadata": {},
   "outputs": [
    {
     "data": {
      "text/plain": [
       "30.33333333333334"
      ]
     },
     "execution_count": 17,
     "metadata": {},
     "output_type": "execute_result"
    }
   ],
   "source": [
    "np.polyval(pint, 2) - np.polyval(pint, 1)"
   ]
  },
  {
   "cell_type": "markdown",
   "metadata": {},
   "source": [
    "**exercise** Use another method to confirm the result above.\n",
    "\n",
    "Finally, the syntax `np.polyval(pint, 2)` can be a little tedious. You can create a function with `numpy.poly1d` using the array of coefficients. Conveniently, you can use the function in the roots, polyder and polyint commands!\n",
    "\n"
   ]
  },
  {
   "cell_type": "code",
   "execution_count": 18,
   "metadata": {},
   "outputs": [
    {
     "data": {
      "text/plain": [
       "30.33333333333334"
      ]
     },
     "execution_count": 18,
     "metadata": {},
     "output_type": "execute_result"
    }
   ],
   "source": [
    "p = np.poly1d(pint)\n",
    "p(2) - p(1)"
   ]
  },
  {
   "cell_type": "code",
   "execution_count": 19,
   "metadata": {},
   "outputs": [
    {
     "data": {
      "text/plain": [
       "array([-6.+3.46410162j, -6.-3.46410162j,  0.+0.j        ])"
      ]
     },
     "execution_count": 19,
     "metadata": {},
     "output_type": "execute_result"
    }
   ],
   "source": [
    "np.roots(p)"
   ]
  },
  {
   "cell_type": "markdown",
   "metadata": {},
   "source": [
    "\n",
    "# Systems of nonlinear equations\n",
    "\n"
   ]
  },
  {
   "cell_type": "markdown",
   "metadata": {},
   "source": [
    "Analogously to systems of ordinary differential equations, with systems of nonlinear equations we define functions that will return a zero for each equation in the system. Then we have to pass an initial guess for each variable to fsolve, and it will return an array of values, one for each variable.\n",
    "\n",
    "It is considerably more difficult to visualize systems of nonlinear equations. With two equations and two unknowns it is sometimes easy to plot solutions, but not always.\n",
    "\n",
    "\\begin{align}\n",
    "y &=& x^2 \\\\\n",
    "y &=& 8 - x^2\n",
    "\\end{align}\n",
    "\n",
    "One approach to visualizing this is to plot the two curves.\n",
    "\n"
   ]
  },
  {
   "cell_type": "code",
   "execution_count": 20,
   "metadata": {},
   "outputs": [
    {
     "data": {
      "text/plain": [
       "<matplotlib.legend.Legend at 0x2af38e5a5c0>"
      ]
     },
     "execution_count": 20,
     "metadata": {},
     "output_type": "execute_result"
    },
    {
     "data": {
      "image/png": "[encoded data removed]",
      "text/plain": [
       "<Figure size 432x288 with 1 Axes>"
      ]
     },
     "metadata": {},
     "output_type": "display_data"
    }
   ],
   "source": [
    "import numpy as np\n",
    "%matplotlib inline\n",
    "import matplotlib.pyplot as plt\n",
    "\n",
    "x = np.linspace(-4, 4)\n",
    "\n",
    "y1 = x**2\n",
    "y2 = 8 - x**2\n",
    "\n",
    "plt.plot(x, y1, x, y2)\n",
    "plt.xlabel('x')\n",
    "plt.ylabel('y')\n",
    "plt.legend(['y1', 'y2'])"
   ]
  },
  {
   "cell_type": "markdown",
   "metadata": {},
   "source": [
    "You can see that on this domain, there is one place where the two curves intersect near the point (2, 5), which is a solution point. At this point there is one (x, y) pair that is a solution to *both* equations.\n",
    "\n"
   ]
  },
  {
   "cell_type": "code",
   "execution_count": 21,
   "metadata": {},
   "outputs": [
    {
     "data": {
      "text/plain": [
       "array([2., 4.])"
      ]
     },
     "execution_count": 21,
     "metadata": {},
     "output_type": "execute_result"
    }
   ],
   "source": [
    "from scipy.optimize import fsolve\n",
    "\n",
    "def objective(X):\n",
    "    x, y = X\n",
    "    z1 = y - x**2\n",
    "    z2 = y - 8 + x**2        \n",
    "    return np.array([z1, z2])\n",
    "\n",
    "guess = [2, 5]\n",
    "#Note: Here we know the eq & the kind of guess to be taken. If it's difficult, we'll take help of contours \n",
    "#to know where the solution approaches 0 as done in example next.\n",
    "    \n",
    "fsolve(objective, guess)"
   ]
  },
  {
   "cell_type": "markdown",
   "metadata": {},
   "source": [
    "It is not always easy to solve for one variable in terms of the other though. In that case, we can resort to an alternate graphical approach where we evaluate the objective function over a range of the variables, and look for regions where they overlap.\n",
    "\n",
    "Consider the solution to these equations (adapted from [https://www.mathworks.com/help/optim/ug/fsolve.html](https://www.mathworks.com/help/optim/ug/fsolve.html)):\n",
    "\n",
    "$e^{-e^{-(x_1 + x_2)}} = x_2 (1 + x_1^2)$\n",
    "\n",
    "and\n",
    "\n",
    "$x_1 \\cos(x_2) + x_2 \\sin(x_1) = 1/2$\n",
    "\n",
    "It is not possible to solve either one for one variable in terms of the other. So instead, we will compute the objective function for a range of $x_1, x_2$ values, and then use a contour plot of each equation to see where there might be a solution.\n",
    "\n",
    "The key to this visualization is where we draw the contours. A good choice is to highlight only the part of the solutions that bracket zero. Then we can see where they intersect, because there is probably a solution in that neighborhood.\n",
    "\n"
   ]
  },
  {
   "cell_type": "code",
   "execution_count": 22,
   "metadata": {},
   "outputs": [
    {
     "data": {
      "text/plain": [
       "<matplotlib.colorbar.Colorbar at 0x2af39793cf8>"
      ]
     },
     "execution_count": 22,
     "metadata": {},
     "output_type": "execute_result"
    },
    {
     "data": {
      "image/png": "[encoded data removed]",
      "text/plain": [
       "<Figure size 432x288 with 2 Axes>"
      ]
     },
     "metadata": {},
     "output_type": "display_data"
    }
   ],
   "source": [
    "def objective(X):\n",
    "    x1, x2 = X\n",
    "    z1 = np.exp(-np.exp(-(x1 + x2))) - x2 * (1 + x1**2)\n",
    "    z2 = x1 * np.cos(x2) + x2 * np.sin(x1) - 0.5\n",
    "    return np.array([z1, z2])\n",
    "\n",
    "\n",
    "x1 = np.linspace(0, 1)  #If we change this we get different region\n",
    "x2 = np.linspace(0, 1)  #Is a 1-D array\n",
    "\n",
    "X1, X2 = np.meshgrid(x1, x2)  #gives a meshgrid in our range of x. Is a 2-D array\n",
    "\n",
    "Z1, Z2 = objective([X1, X2])  #Is a 2-D array\n",
    "\n",
    "plt.contour(X1, X2, Z1, levels=np.linspace(-0.1, 0.1, 100))\n",
    "plt.contour(X1, X2, Z2, levels=np.linspace(-0.1, 0.1, 100))\n",
    "#Contour plots value of Z for different return values. Here we specify -0.1 to 0.1 because in between there is a 0.\n",
    "\n",
    "plt.xlabel('$x_1$')\n",
    "plt.ylabel('$x_2$')\n",
    "plt.colorbar()"
   ]
  },
  {
   "cell_type": "code",
   "execution_count": 23,
   "metadata": {},
   "outputs": [
    {
     "data": {
      "text/plain": [
       "array([[ 0.36787944,  0.37538667,  0.3828908 , ...,  0.68167275,\n",
       "         0.68697023,  0.69220063],\n",
       "       [ 0.3549785 ,  0.36247414,  0.36994666, ...,  0.64778588,\n",
       "         0.65220879,  0.65654766],\n",
       "       [ 0.34207448,  0.3495555 ,  0.35699344, ...,  0.61383192,\n",
       "         0.6173803 ,  0.62082774],\n",
       "       ...,\n",
       "       [-0.27751093, -0.27261294, -0.26858102, ..., -0.97823812,\n",
       "        -1.01362484, -1.04985498],\n",
       "       [-0.2926216 , -0.2877992 , -0.28385983, ..., -1.01485732,\n",
       "        -1.05109596, -1.08819439],\n",
       "       [-0.30779937, -0.30305251, -0.29920558, ..., -1.05152095,\n",
       "        -1.08861088, -1.12657698]])"
      ]
     },
     "execution_count": 23,
     "metadata": {},
     "output_type": "execute_result"
    }
   ],
   "source": [
    "Z1"
   ]
  },
  {
   "cell_type": "code",
   "execution_count": 23,
   "metadata": {},
   "outputs": [
    {
     "name": "stdout",
     "output_type": "stream",
     "text": [
      "[[ 0.36787944  0.37538667  0.3828908  ...  0.68167275  0.68697023\n",
      "   0.69220063]\n",
      " [ 0.3549785   0.36247414  0.36994666 ...  0.64778588  0.65220879\n",
      "   0.65654766]\n",
      " [ 0.34207448  0.3495555   0.35699344 ...  0.61383192  0.6173803\n",
      "   0.62082774]\n",
      " ...\n",
      " [-0.27751093 -0.27261294 -0.26858102 ... -0.97823812 -1.01362484\n",
      "  -1.04985498]\n",
      " [-0.2926216  -0.2877992  -0.28385983 ... -1.01485732 -1.05109596\n",
      "  -1.08819439]\n",
      " [-0.30779937 -0.30305251 -0.29920558 ... -1.05152095 -1.08861088\n",
      "  -1.12657698]]\n"
     ]
    },
    {
     "data": {
      "text/plain": [
       "<matplotlib.colorbar.Colorbar at 0x239eb6b94e0>"
      ]
     },
     "execution_count": 23,
     "metadata": {},
     "output_type": "execute_result"
    },
    {
     "data": {
      "image/png": "[encoded data removed]",
      "text/plain": [
       "<Figure size 432x288 with 2 Axes>"
      ]
     },
     "metadata": {},
     "output_type": "display_data"
    }
   ],
   "source": [
    "#we can go directly for our ans by removing levels in the contour plot\n",
    "def objective(X):\n",
    "    x1, x2 = X\n",
    "    z1 = np.exp(-np.exp(-(x1 + x2))) - x2 * (1 + x1**2)\n",
    "    z2 = x1 * np.cos(x2) + x2 * np.sin(x1) - 0.5\n",
    "    return np.array([z1, z2])\n",
    "\n",
    "\n",
    "x1 = np.linspace(0, 1)  #If we change this we get different region\n",
    "x2 = np.linspace(0, 1)  #Is a 1-D array\n",
    "\n",
    "X1, X2 = np.meshgrid(x1, x2)  #gives a meshgrid in our range of x. Is a 2-D array\n",
    "\n",
    "Z1, Z2 = objective([X1, X2])  #Is a 2-D array\n",
    "print(Z1)\n",
    "plt.contour(X1, X2, Z1) #levels=np.linspace(-0.1, 0.1, 100))\n",
    "plt.contour(X1, X2, Z2) #levels=np.linspace(-0.1, 0.1, 100))\n",
    "#Contour plots value of Z for different return values. Here we specify -0.1 to 0.1 because in between there is a 0.\n",
    "\n",
    "plt.xlabel('$x_1$')\n",
    "plt.ylabel('$x_2$')\n",
    "plt.colorbar()"
   ]
  },
  {
   "cell_type": "markdown",
   "metadata": {},
   "source": [
    "There is an intersection near $x_1=0.4$, and $x_2$ = 0.6. We can use that as an initial guess.\n",
    "\n"
   ]
  },
  {
   "cell_type": "code",
   "execution_count": 24,
   "metadata": {},
   "outputs": [
    {
     "data": {
      "text/plain": [
       "(array([0.35324662, 0.60608174]), array([-2.22044605e-16,  1.11022302e-16]))"
      ]
     },
     "execution_count": 24,
     "metadata": {},
     "output_type": "execute_result"
    }
   ],
   "source": [
    "from scipy.optimize import fsolve\n",
    "ans = fsolve(objective, [0.4, 0.6])  # note we do not need ans, because ans will have two values in it.\n",
    "ans, objective(ans)"
   ]
  },
  {
   "cell_type": "code",
   "execution_count": 25,
   "metadata": {},
   "outputs": [
    {
     "data": {
      "text/plain": [
       "<matplotlib.image.AxesImage at 0x239eb71e470>"
      ]
     },
     "execution_count": 25,
     "metadata": {},
     "output_type": "execute_result"
    },
    {
     "data": {
      "image/png": "[encoded data removed]",
      "text/plain": [
       "<Figure size 432x288 with 1 Axes>"
      ]
     },
     "metadata": {},
     "output_type": "display_data"
    }
   ],
   "source": [
    "plt.imshow(Z1)"
   ]
  },
  {
   "cell_type": "code",
   "execution_count": 26,
   "metadata": {},
   "outputs": [
    {
     "data": {
      "text/plain": [
       "<matplotlib.image.AxesImage at 0x239ec739f60>"
      ]
     },
     "execution_count": 26,
     "metadata": {},
     "output_type": "execute_result"
    },
    {
     "data": {
      "image/png": "[encoded data removed]",
      "text/plain": [
       "<Figure size 432x288 with 1 Axes>"
      ]
     },
     "metadata": {},
     "output_type": "display_data"
    }
   ],
   "source": [
    "plt.imshow((Z1<0.1)&(Z1>-0.1) | (Z2<0.1)&(Z2>-0.1))  #The bar is a logical or, & is logical and"
   ]
  },
  {
   "cell_type": "code",
   "execution_count": 27,
   "metadata": {},
   "outputs": [
    {
     "data": {
      "text/plain": [
       "(-0.007893302890074949, 0.02050403802466083)"
      ]
     },
     "execution_count": 27,
     "metadata": {},
     "output_type": "execute_result"
    }
   ],
   "source": [
    "#The X & Y-axes are the element number of X1 and X2. By visualizing,we say our result is near (30,16). \n",
    "#To get X1 and X2 values at that index, we do:\n",
    "\n",
    "a, b = X1[30, 18], X2[30, 18]\n",
    "a,b\n",
    "\n",
    "Za, Zb = objective([a, b])  #Is a 2-D array\n",
    "Za, Zb  # Obviously not the right answer but close to 0"
   ]
  },
  {
   "cell_type": "code",
   "execution_count": 28,
   "metadata": {},
   "outputs": [
    {
     "data": {
      "text/plain": [
       "[(0.353247, 0.606082),\n",
       " (0.353247, 0.606082),\n",
       " (0.353247, 0.606082),\n",
       " (0.353247, 0.606082),\n",
       " (0.353247, 0.606082),\n",
       " (0.353247, 0.606082),\n",
       " (0.353247, 0.606082),\n",
       " (0.353247, 0.606082),\n",
       " (0.353247, 0.606082),\n",
       " (0.353247, 0.606082),\n",
       " (0.353247, 0.606082),\n",
       " (0.353247, 0.606082),\n",
       " (0.353247, 0.606082),\n",
       " (0.353247, 0.606082),\n",
       " (0.353247, 0.606082),\n",
       " (0.353247, 0.606082),\n",
       " (0.353247, 0.606082),\n",
       " (0.353247, 0.606082),\n",
       " (0.353247, 0.606082),\n",
       " (0.353247, 0.606082),\n",
       " (0.353247, 0.606082),\n",
       " (0.353247, 0.606082),\n",
       " (0.353247, 0.606082),\n",
       " (0.353247, 0.606082),\n",
       " (0.353247, 0.606082),\n",
       " (0.353247, 0.606082),\n",
       " (0.353247, 0.606082),\n",
       " (0.353247, 0.606082),\n",
       " (0.353247, 0.606082),\n",
       " (0.353247, 0.606082),\n",
       " (0.353247, 0.606082),\n",
       " (0.353247, 0.606082),\n",
       " (0.353247, 0.606082),\n",
       " (0.353247, 0.606082),\n",
       " (0.353247, 0.606082),\n",
       " (0.353247, 0.606082),\n",
       " (0.353247, 0.606082),\n",
       " (0.353247, 0.606082),\n",
       " (0.353247, 0.606082),\n",
       " (0.353247, 0.606082),\n",
       " (0.353247, 0.606082),\n",
       " (0.353247, 0.606082),\n",
       " (0.353247, 0.606082),\n",
       " (0.353247, 0.606082),\n",
       " (0.353247, 0.606082),\n",
       " (0.353247, 0.606082),\n",
       " (0.353247, 0.606082),\n",
       " (0.353247, 0.606082),\n",
       " (0.353247, 0.606082),\n",
       " (0.353247, 0.606082),\n",
       " (0.353247, 0.606082),\n",
       " (0.353247, 0.606082),\n",
       " (0.353247, 0.606082),\n",
       " (0.353247, 0.606082),\n",
       " (0.353247, 0.606082),\n",
       " (0.353247, 0.606082),\n",
       " (0.353247, 0.606082),\n",
       " (0.353247, 0.606082),\n",
       " (0.353247, 0.606082),\n",
       " (0.353247, 0.606082),\n",
       " (0.353247, 0.606082),\n",
       " (0.353247, 0.606082),\n",
       " (0.353247, 0.606082),\n",
       " (0.353247, 0.606082),\n",
       " (0.353247, 0.606082),\n",
       " (0.353247, 0.606082),\n",
       " (0.353247, 0.606082),\n",
       " (0.353247, 0.606082),\n",
       " (0.353247, 0.606082),\n",
       " (0.353247, 0.606082),\n",
       " (0.353247, 0.606082),\n",
       " (0.353247, 0.606082),\n",
       " (0.353247, 0.606082),\n",
       " (0.353247, 0.606082),\n",
       " (0.353247, 0.606082),\n",
       " (0.353247, 0.606082),\n",
       " (0.353247, 0.606082),\n",
       " (0.353247, 0.606082),\n",
       " (0.353247, 0.606082),\n",
       " (0.353247, 0.606082),\n",
       " (0.353247, 0.606082),\n",
       " (0.353247, 0.606082),\n",
       " (0.353247, 0.606082),\n",
       " (0.353247, 0.606082),\n",
       " (0.353247, 0.606082),\n",
       " (0.353247, 0.606082),\n",
       " (0.353247, 0.606082),\n",
       " (0.353247, 0.606082),\n",
       " (0.353247, 0.606082),\n",
       " (0.353247, 0.606082),\n",
       " (0.353247, 0.606082),\n",
       " (0.353247, 0.606082),\n",
       " (0.353247, 0.606082),\n",
       " (0.353247, 0.606082),\n",
       " (0.353247, 0.606082),\n",
       " (0.353247, 0.606082),\n",
       " (0.353247, 0.606082),\n",
       " (0.353247, 0.606082),\n",
       " (0.353247, 0.606082),\n",
       " (0.353247, 0.606082)]"
      ]
     },
     "execution_count": 28,
     "metadata": {},
     "output_type": "execute_result"
    }
   ],
   "source": [
    "x1 = np.linspace(0,1,10)\n",
    "x2 = np.linspace(0,1,10)\n",
    "\n",
    "solns = []\n",
    "\n",
    "for _x1 in x1:\n",
    "    for _x2 in x2:\n",
    "        ans, info, status, msg = fsolve(objective, [_x1, _x2], full_output=1)\n",
    "        if status == 1:\n",
    "            solns += [(np.round(ans[0], 6), np.round(ans[1], 6))]\n",
    "        else:\n",
    "            print(msg)\n",
    "            \n",
    "set(solns)  # set returns only a single value. \n",
    "# When we wrote => solns += [ans[0], ans[1]], we still got several ans. Only after rounding off were the similar ans removed\n",
    "\n",
    "solns"
   ]
  },
  {
   "cell_type": "markdown",
   "metadata": {},
   "source": [
    "This shows the solution, and that the objective is practically equal to zero at that point.\n",
    "\n",
    "You can see that trying to do this in more than 2 dimensions can quickly get difficult to visualize!\n",
    "\n"
   ]
  },
  {
   "cell_type": "markdown",
   "metadata": {},
   "source": [
    "\n",
    "# Summary\n",
    "\n"
   ]
  },
  {
   "cell_type": "markdown",
   "metadata": {},
   "source": [
    "-   We learned about a special class of nonlinear functions that are polynomials, and a series of useful functions to manipulate them.\n",
    "\n",
    "-   We learned that you can use fsolve to find solutions to coupled non-linear algebraic equations.\n",
    "\n",
    "-   Next time, we will apply this to solving a nonlinear boundary value differential equation.\n",
    "\n"
   ]
  }
 ],
 "metadata": {
  "kernelspec": {
   "display_name": "Python 3",
   "language": "python",
   "name": "python3"
  },
  "language_info": {
   "codemirror_mode": {
    "name": "ipython",
    "version": 3
   },
   "file_extension": ".py",
   "mimetype": "text/x-python",
   "name": "python",
   "nbconvert_exporter": "python",
   "pygments_lexer": "ipython3",
   "version": "3.6.5"
  },
  "org": {
   "KEYWORDS": "scipy.optimize.fsolve, numpy.roots, numpy.polyder, numpy.polyval, numpy.polyint, numpy.poly1d"
  }
 },
 "nbformat": 4,
 "nbformat_minor": 1
}
