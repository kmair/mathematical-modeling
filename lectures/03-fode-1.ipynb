{
 "cells": [
  {
   "cell_type": "markdown",
   "metadata": {},
   "source": [
    "- KEYWORDS: integration, quad, zeros, shape, enumerate, solve_ivp\n"
   ]
  },
  {
   "cell_type": "markdown",
   "metadata": {},
   "source": [
    "\n",
    "# Solutions to first-order differential equations by integration\n",
    "\n"
   ]
  },
  {
   "cell_type": "markdown",
   "metadata": {},
   "source": [
    "Adapted from Ch. 2 in Advanced Engineering Mathematics, 2<sup>nd</sup> Ed. by Michael Greenberg.\n",
    "\n"
   ]
  },
  {
   "cell_type": "markdown",
   "metadata": {},
   "source": [
    "\n",
    "## Homogeneous, first-order linear differential equations\n",
    "\n"
   ]
  },
  {
   "cell_type": "markdown",
   "metadata": {},
   "source": [
    "We first consider a homogeneous, first-order, linear differential equation of the form:\n",
    "\n",
    "$y' + p(x) y = 0$, with $y(a) = b$ as an initial value.\n",
    "\n",
    "You can derive a solution to this ODE as:\n",
    "\n",
    "$y(x) = b e^{-\\int_a^x p(\\xi) d\\xi}$\n",
    "\n",
    "For concreteness, consider $(x+2) y' - xy = 0, y(0) = 3$\n",
    "\n",
    "what is the value of $y(1)$?\n",
    "\n",
    "We need to cast this in the form required to identify $p(x)$. That form is:\n",
    "\n",
    "$y' + \\frac{-x}{x+2}y = 0$.\n",
    "\n",
    "Now, we simply evaluate the required integral and use it to compute the value of the solution at the desired new $x$ value.\n",
    "\n"
   ]
  },
  {
   "cell_type": "code",
   "execution_count": 67,
   "metadata": {},
   "outputs": [
    {
     "name": "stdout",
     "output_type": "stream",
     "text": [
      "y(1) = 5.542\n"
     ]
    }
   ],
   "source": [
    "a = 0\n",
    "b = 3\n",
    "x1 = 2\n",
    "\n",
    "def p(x):\n",
    "    return -x / (x + 2)\n",
    "\n",
    "import numpy as np\n",
    "from scipy.integrate import quad\n",
    "\n",
    "I, err = quad(p, a, x1)\n",
    "\n",
    "y_x1 = b * np.exp(-I)\n",
    "\n",
    "print(f'y(1) = {y_x1:1.3f}')"
   ]
  },
  {
   "cell_type": "markdown",
   "metadata": {},
   "source": [
    "It is a little trickier to evaluate the solution at several x-values, e.g. to make a plot. The `quad` function is not \"vectorized\", meaning it only performs one integral for one range at a time. You cannot pass it a list of ranges to evaluate it several times. Instead, we have to use a loop for this. In the loop, we will solve the integral, and accumulate the result in a solution array. Before we do that, here are a few useful commands we will need to use.\n",
    "\n",
    "First, it is useful to make an array to store the results in. There are a few ways to do this, the one we use today is the `np.zeros` function. You specify the size of the array as an argument. For example, to make an array with three zeros, do this:\n",
    "\n"
   ]
  },
  {
   "cell_type": "code",
   "execution_count": 68,
   "metadata": {},
   "outputs": [
    {
     "data": {
      "text/plain": [
       "array([1., 1., 1., 1., 1.])"
      ]
     },
     "execution_count": 68,
     "metadata": {},
     "output_type": "execute_result"
    }
   ],
   "source": [
    "np.zeros(5)\n",
    "np.ones(5)\n",
    "np.empty(5) "
   ]
  },
  {
   "cell_type": "markdown",
   "metadata": {},
   "source": [
    "Second, it is helpful to get the shape of an array. You use dot notation and the shape attribute of an array for this. This allows you to create an array, and later make an array of zeros with the same shape and size.\n",
    "\n"
   ]
  },
  {
   "cell_type": "code",
   "execution_count": 69,
   "metadata": {},
   "outputs": [
    {
     "data": {
      "text/plain": [
       "(50,)"
      ]
     },
     "execution_count": 69,
     "metadata": {},
     "output_type": "execute_result"
    }
   ],
   "source": [
    "x = np.linspace(0, 3.5)\n",
    "x.shape, len(x)\n",
    "len(x) - 1\n",
    "x.shape # this is a tuple"
   ]
  },
  {
   "cell_type": "code",
   "execution_count": 70,
   "metadata": {},
   "outputs": [
    {
     "data": {
      "text/plain": [
       "array([0., 0., 0., 0., 0.])"
      ]
     },
     "execution_count": 70,
     "metadata": {},
     "output_type": "execute_result"
    }
   ],
   "source": [
    "np.zeros(5)"
   ]
  },
  {
   "cell_type": "code",
   "execution_count": 71,
   "metadata": {},
   "outputs": [
    {
     "data": {
      "text/plain": [
       "array([0., 0., 0., 0., 0.])"
      ]
     },
     "execution_count": 71,
     "metadata": {},
     "output_type": "execute_result"
    }
   ],
   "source": [
    "np.zeros((5,))"
   ]
  },
  {
   "cell_type": "markdown",
   "metadata": {},
   "source": [
    "Finally we will iterate over the elements of the x array, and in each step we need to know the index of the element *and* the value of the element. `enumerate` provides this in a pretty straightforward syntax. This function iterates over an array and returns at each step the index and element, which you can assign to variables that you use inside the loop. There are other ways to achieve this, but we only consider this method today. Here, we create an array, and an array of zeros that is the same shape. Then, we iterate over the first array, and set the corresponding index in the second array equal to a computation using the index and element value.\n",
    "\n"
   ]
  },
  {
   "cell_type": "code",
   "execution_count": 72,
   "metadata": {},
   "outputs": [
    {
     "name": "stdout",
     "output_type": "stream",
     "text": [
      "Before the loop new_arr = [0. 0. 0. 0. 0.]\n",
      "The element at index 0 is  0.00: new_arr = [0. 0. 0. 0. 0.]\n",
      "The element at index 1 is  0.25: new_arr = [0.   0.25 0.   0.   0.  ]\n",
      "The element at index 2 is  0.50: new_arr = [0.   0.25 1.   0.   0.  ]\n",
      "The element at index 3 is  0.75: new_arr = [0.   0.25 1.   2.25 0.  ]\n",
      "The element at index 4 is  1.00: new_arr = [0.   0.25 1.   2.25 4.  ]\n",
      "After the loop new_arr = [0.   0.25 1.   2.25 4.  ]\n"
     ]
    }
   ],
   "source": [
    "arr = np.linspace(0, 1, 5)\n",
    "new_arr = np.zeros(arr.shape)\n",
    "print(f'Before the loop new_arr = {new_arr}')\n",
    "\n",
    "for i, val in enumerate(arr):\n",
    "    new_arr[i] = i * val\n",
    "    print(f'The element at index {i} is {val:5.2f}: new_arr = {new_arr}')\n",
    "\n",
    "print(f'After the loop new_arr = {new_arr}')"
   ]
  },
  {
   "cell_type": "markdown",
   "metadata": {},
   "source": [
    "Back to the solution to our integration problem. Our goal is to compute the value of the solution for an array of x-values. We will iterate over an array of x-values, and for each one compute the value of the solution at that x, and save the solution in a new array.\n",
    "\n"
   ]
  },
  {
   "cell_type": "code",
   "execution_count": 73,
   "metadata": {},
   "outputs": [
    {
     "data": {
      "text/plain": [
       "(0.0, 3.5)"
      ]
     },
     "execution_count": 73,
     "metadata": {},
     "output_type": "execute_result"
    },
    {
     "data": {
      "image/png": "[encoded data removed]",
      "text/plain": [
       "<Figure size 432x288 with 1 Axes>"
      ]
     },
     "metadata": {},
     "output_type": "display_data"
    }
   ],
   "source": [
    "x = np.linspace(0, 3.5)\n",
    "y = np.zeros(x.shape)\n",
    "\n",
    "for i, x1 in enumerate(x):\n",
    "    I, err = quad(p, a, x1)\n",
    "    y[i] = b * np.exp(-I)\n",
    "\n",
    "%matplotlib inline\n",
    "import matplotlib.pyplot as plt\n",
    "plt.plot(x, np.log(y))\n",
    "plt.xlabel('x')\n",
    "plt.ylabel('y')\n",
    "plt.xlim([x.min(), x.max()])\n",
    "#plt.ylim([y.min(), y.max()])  # ; suppresses the output of this command"
   ]
  },
  {
   "cell_type": "markdown",
   "metadata": {},
   "source": [
    "We should ask, how can we tell this is correct? We can confirm the initial values, which we know are correct.\n",
    "\n"
   ]
  },
  {
   "cell_type": "code",
   "execution_count": 74,
   "metadata": {},
   "outputs": [
    {
     "data": {
      "text/plain": [
       "(0.0, 3.0)"
      ]
     },
     "execution_count": 74,
     "metadata": {},
     "output_type": "execute_result"
    }
   ],
   "source": [
    "x[0], y[0]"
   ]
  },
  {
   "cell_type": "markdown",
   "metadata": {},
   "source": [
    "We can express the ODE as: $y' = \\frac{x}{x+2}y$. By inspection, we can see that the derivative will always be positive, so the solution should increase from the initial value, which it does.\n",
    "\n",
    "We can also examine the derivatives of our solution. We have to rely on numerical derivatives of our solution because x and y are arrays. `np.gradient` will compute the derivative using a reasonable approximation. We know the derivative analytically from the ODE.\n",
    "\n"
   ]
  },
  {
   "cell_type": "code",
   "execution_count": 75,
   "metadata": {},
   "outputs": [
    {
     "data": {
      "text/plain": [
       "array([ 3.        ,  3.00374012,  3.01464985,  3.03233398,  3.05647958,\n",
       "        3.08684349,  3.12324239,  3.16554484,  3.21366491,  3.26755705,\n",
       "        3.32721196,  3.39265331,  3.46393511,  3.54113963,  3.62437577,\n",
       "        3.71377786,  3.80950471,  3.91173905,  4.02068707,  4.13657836,\n",
       "        4.25966584,  4.39022603,  4.52855937,  4.67499076,  4.82987016,\n",
       "        4.99357341,  5.16650308,  5.34908954,  5.54179207,  5.74510016,\n",
       "        5.95953484,  6.18565026,  6.42403529,  6.67531529,  6.94015402,\n",
       "        7.21925568,  7.5133671 ,  7.82328006,  8.14983384,  8.49391781,\n",
       "        8.85647434,  9.23850179,  9.64105772, 10.06526237, 10.51230225,\n",
       "       10.98343404, 11.47998872, 12.00337595, 12.55508869, 13.13670822])"
      ]
     },
     "execution_count": 75,
     "metadata": {},
     "output_type": "execute_result"
    }
   ],
   "source": [
    "y"
   ]
  },
  {
   "cell_type": "code",
   "execution_count": 76,
   "metadata": {},
   "outputs": [],
   "source": [
    "?np.gradient"
   ]
  },
  {
   "cell_type": "code",
   "execution_count": 77,
   "metadata": {},
   "outputs": [
    {
     "data": {
      "text/plain": [
       "(0, 3.5)"
      ]
     },
     "execution_count": 77,
     "metadata": {},
     "output_type": "execute_result"
    },
    {
     "data": {
      "image/png": "[encoded data removed]",
      "text/plain": [
       "<Figure size 432x288 with 1 Axes>"
      ]
     },
     "metadata": {},
     "output_type": "display_data"
    }
   ],
   "source": [
    "dydx = np.gradient(y, x, edge_order=1) # edge_order affects the derivative at the end points\n",
    "\n",
    "plt.plot(x, dydx, label='numerical')\n",
    "plt.plot(x, x / (x + 2) * y, 'r--', label='analytical')\n",
    "plt.xlabel('x')\n",
    "plt.ylabel('dy/dx')\n",
    "plt.legend()\n",
    "plt.xlim([0, 3.5])"
   ]
  },
  {
   "cell_type": "markdown",
   "metadata": {},
   "source": [
    "Here you see good agreement over most of the range. The end-points are always less accurate because the derivatives there are approximated by a less accurate formula. We interpret the sum of this evidence to mean our solution to the ODE is good over this range of x values.\n",
    "\n"
   ]
  },
  {
   "cell_type": "markdown",
   "metadata": {},
   "source": [
    "\n",
    "## Non-homogeneous linear first-order ODEs\n",
    "\n"
   ]
  },
  {
   "cell_type": "markdown",
   "metadata": {},
   "source": [
    "A non-homogenous first order, linear differential equation has this form:\n",
    "\n",
    "$y' + p(x) y = q(x), y(a)=b$\n",
    "\n",
    "Equations of this form are typically solved with a method called variation of parameters. In the most general form, this leads to solutions of the form:\n",
    "\n",
    "$y(x) = e^{-\\int_a^x p(\\xi)d\\xi}\\left(\\int_a^x e^{\\int_a^{\\xi} p(\\zeta)d\\zeta} q(\\xi)d\\xi + b\\right)$\n",
    "\n",
    "It is a little tricky to implement this. It is helpful to break this down into several pieces. Note that it is not necessary to do this, it just makes it easier to read, debug, and see that you have done it correctly. Here are the easiest parts.\n",
    "\n",
    "Consider $p(x) = -2x$ and $q(x) = sin(x)$\n",
    "\n",
    "Note: I have corrected the formulas above from the ones I used in class. These are the correct formulas to use."
   ]
  },
  {
   "cell_type": "code",
   "execution_count": 78,
   "metadata": {},
   "outputs": [],
   "source": [
    "def p(xi):\n",
    "    return -2 * xi\n",
    "\n",
    "def q(xi):\n",
    "    return np.sin(xi)\n",
    "\n",
    "a = 0\n",
    "b = 3"
   ]
  },
  {
   "cell_type": "markdown",
   "metadata": {},
   "source": [
    "Next, we will break the equation into two parts:\n",
    "\n",
    "$y(x) = term1 * term2$ where\n",
    "\n",
    "$term1 = e^{-\\int_a^x p(\\xi)d\\xi}$\n",
    "\n",
    "and\n",
    "\n",
    "$term2 = \\left(\\int_a^x e^{\\int_a^{\\xi} p(\\zeta)d\\zeta} q(\\xi)d\\xi + b\\right)$\n",
    "\n",
    "We can immediately define a function for term1 as:\n",
    "\n"
   ]
  },
  {
   "cell_type": "code",
   "execution_count": 79,
   "metadata": {},
   "outputs": [],
   "source": [
    "def term1(x):\n",
    "    I1, _ = quad(p, a, x)\n",
    "    return np.exp(-I1)"
   ]
  },
  {
   "cell_type": "markdown",
   "metadata": {},
   "source": [
    "term2 is a little trickier, as it has a partial integral inside an integral. We can define a function for this term also, but we have to define an internal function to use for the integral. The internal function will have an integral inside of it.\n",
    "\n",
    "$term2 = \\left(\\int_a^x e^{\\int_a^{\\xi} p(\\zeta)d\\zeta} q(\\xi)d\\xi + b\\right)$"
   ]
  },
  {
   "cell_type": "code",
   "execution_count": 80,
   "metadata": {},
   "outputs": [],
   "source": [
    "def term2(x):\n",
    "\n",
    "    def integrand(xi):\n",
    "        internal_term1, _ = quad(p, a, xi)\n",
    "        i1 = np.exp(internal_term1) * q(xi)\n",
    "        return i1\n",
    "\n",
    "    I2, _ = quad(integrand, a, x)\n",
    "    return I2 + b"
   ]
  },
  {
   "cell_type": "markdown",
   "metadata": {},
   "source": [
    "Now, to use it, we form the product of the two terms:\n",
    "\n"
   ]
  },
  {
   "cell_type": "code",
   "execution_count": 81,
   "metadata": {},
   "outputs": [
    {
     "name": "stdout",
     "output_type": "stream",
     "text": [
      "3.991276533834524\n"
     ]
    }
   ],
   "source": [
    "x1 = 0.5\n",
    "print(term1(x1) * term2(x1))"
   ]
  },
  {
   "cell_type": "markdown",
   "metadata": {},
   "source": [
    "With some algebra and calculus on your part, you might arrive at the following non-elementary integral solution:\n",
    "\n",
    "$y(x) = e^{x^2} \\left(\\int_0^x e^{-\\xi^2} \\sin{\\xi} d\\xi + 3\\right)$\n",
    "\n",
    "The solution is called non-elementary because you cannot evaluate the integral in closed form using elementary functions, e.g. powers of x, trigonometric functions, exponentials or logarithms. You can, however, use numerical methods to integrate it.\n",
    "\n",
    "Note: This solution was derived from Advanced Engineering Mathematics, 2nd ed., Greenberg, in eq. 26, page 25."
   ]
  },
  {
   "cell_type": "code",
   "execution_count": 82,
   "metadata": {},
   "outputs": [
    {
     "data": {
      "text/plain": [
       "(3.991276533834524, 1.2035848984665079e-15)"
      ]
     },
     "execution_count": 82,
     "metadata": {},
     "output_type": "execute_result"
    }
   ],
   "source": [
    "def integrand(x):\n",
    "    return np.exp(-x**2) * np.sin(x)\n",
    "\n",
    "I, err = quad(integrand, 0, x1)\n",
    "\n",
    "sol = np.exp(x1**2) * (I + b)\n",
    "sol, err"
   ]
  },
  {
   "cell_type": "markdown",
   "metadata": {},
   "source": [
    "Note there is some conservation of effort here. If you can derive the solution above correctly (and you have all learned how to do this if you had a differential equations course), the code below is quite short to get the solution at some value of x. If you are unable to derive that solution, you can use the general solution we gave, but then it is a trickier solution to implement in code.\n",
    "\n"
   ]
  },
  {
   "cell_type": "markdown",
   "metadata": {},
   "source": [
    "\n",
    "## Limitations of solutions by integration\n",
    "\n"
   ]
  },
  {
   "cell_type": "markdown",
   "metadata": {},
   "source": [
    "Solution by integration has some advantages. You get an estimate of the error in the solution from the `quad` function, which is helpful to know how good the solution is. However, the methods described above are limited to *linear* differential equations of the form described. If you have a nonlinear differential equation, or if you are unable to separate the equations into integrable form, the methods simply don't work. Next, we consider how to approach equations where we cannot use integration to solve the problems.\n",
    "\n"
   ]
  },
  {
   "cell_type": "markdown",
   "metadata": {},
   "source": [
    "\n",
    "# Numerical solutions to differential equations\n",
    "\n"
   ]
  },
  {
   "cell_type": "markdown",
   "metadata": {},
   "source": [
    "We begin with a brief review of first order differential equations. The equations we are concerned with here all have the form:\n",
    "\n",
    "$\\frac{dy}{dx} = f(x, y)$\n",
    "\n",
    "And the value of the solution is known at some point, e.g. $y(x0) = y0$. $f(x, y)$ can be linear or nonlinear. Our goal in this section is to motivate how numerical solutions are obtained.\n",
    "\n",
    "These notes were adapted from Chapter 6 in Advanced Engineering Mathematics 2<sup>nd</sup> ed. by Michael D. Greenberg.\n",
    "\n",
    "The basic idea behind these methods is that we know the initial value of the solution *and* the derivative of the solution (it is defined by the ODE definition above), and so we can estimate the solution a small distance away from the initial value. If you repeat this process with the newly estimated point, you can estimate the next point, and so on. There are many algorithms for performing the estimation, and we will consider a two of them. These algorithms differ in efficiency, ease of implementation, and accuracy.\n",
    "\n"
   ]
  },
  {
   "cell_type": "markdown",
   "metadata": {},
   "source": [
    "\n",
    "## Euler's method\n",
    "\n"
   ]
  },
  {
   "cell_type": "markdown",
   "metadata": {},
   "source": [
    "The main idea of Euler's method is that if you know the value of the solution at some point, and you know the derivative at that point, you can estimate the solution nearby at $x0 + h$, where $h$ is a small number:\n",
    "\n",
    "$y_{n+1} = y_n + f(x_n, y_n) h$\n",
    "\n",
    "Now, you just repeat this until you get to the x-value that you want. For concreteness, consider:\n",
    "\n",
    "$y' = y + 2x - x^2; y(0) = 1$.\n",
    "\n",
    "This ODE has a known analytical solution: $y(x) = x^2 + e^x$. We will use this for comparison.\n",
    "\n"
   ]
  },
  {
   "cell_type": "code",
   "execution_count": 83,
   "metadata": {},
   "outputs": [
    {
     "name": "stdout",
     "output_type": "stream",
     "text": [
      "h = 0.003\n"
     ]
    },
    {
     "data": {
      "text/plain": [
       "0.003"
      ]
     },
     "execution_count": 83,
     "metadata": {},
     "output_type": "execute_result"
    }
   ],
   "source": [
    "import numpy as np\n",
    "\n",
    "# y' = f(x,y)\n",
    "def f(x, y):\n",
    "    return y + 2 * x - x**2\n",
    "\n",
    "x0 = 0\n",
    "y0 = 1\n",
    "\n",
    "x, h = np.linspace(x0, 1.5, 501, retstep=True)  # Note the optional argument to get the stepsize.\n",
    "print(f'h = {h}')\n",
    "x\n",
    "(x.max() - x.min()) / (len(x) - 1)  # how to calculate h"
   ]
  },
  {
   "cell_type": "code",
   "execution_count": 84,
   "metadata": {},
   "outputs": [
    {
     "data": {
      "text/plain": [
       "array([1.        , 1.003     , 1.00602697, 1.00908095, 1.01216195,\n",
       "       1.01527   , 1.01840513, 1.02156738, 1.02475676, 1.0279733 ,\n",
       "       1.03121703, 1.03448798, 1.03778618, 1.04111165, 1.04446442,\n",
       "       1.04784452, 1.05125198, 1.05468683, 1.05814908, 1.06163878,\n",
       "       1.06515595, 1.06870062, 1.07227282, 1.07587257, 1.0794999 ,\n",
       "       1.08315485, 1.08683744, 1.0905477 , 1.09428566, 1.09805135,\n",
       "       1.10184479, 1.10566603, 1.10951508, 1.11339198, 1.11729675,\n",
       "       1.12122943, 1.12519004, 1.12917862, 1.13319519, 1.13723979,\n",
       "       1.14131244, 1.14541318, 1.14954203, 1.15369903, 1.1578842 ,\n",
       "       1.16209759, 1.1663392 , 1.17060909, 1.17490727, 1.17923379,\n",
       "       1.18358866, 1.18797193, 1.19238362, 1.19682376, 1.20129239,\n",
       "       1.20578953, 1.21031523, 1.2148695 , 1.21945238, 1.22406391,\n",
       "       1.22870412, 1.23337303, 1.23807068, 1.24279711, 1.24755234,\n",
       "       1.2523364 , 1.25714933, 1.26199117, 1.26686194, 1.27176168,\n",
       "       1.27669042, 1.28164819, 1.28663503, 1.29165096, 1.29669603,\n",
       "       1.30177027, 1.3068737 , 1.31200637, 1.31716831, 1.32235955,\n",
       "       1.32758012, 1.33283006, 1.3381094 , 1.34341818, 1.34875643,\n",
       "       1.35412419, 1.35952149, 1.36494836, 1.37040484, 1.37589097,\n",
       "       1.38140678, 1.3869523 , 1.39252757, 1.39813262, 1.4037675 ,\n",
       "       1.40943223, 1.41512685, 1.4208514 , 1.42660591, 1.43239042,\n",
       "       1.43820496, 1.44404958, 1.4499243 , 1.45582916, 1.46176421,\n",
       "       1.46772947, 1.47372498, 1.47975078, 1.48580691, 1.49189341,\n",
       "       1.4980103 , 1.50415763, 1.51033544, 1.51654375, 1.52278262,\n",
       "       1.52905208, 1.53535216, 1.5416829 , 1.54804435, 1.55443654,\n",
       "       1.5608595 , 1.56731328, 1.57379791, 1.58031343, 1.58685989,\n",
       "       1.59343732, 1.60004576, 1.60668524, 1.61335581, 1.62005751,\n",
       "       1.62679038, 1.63355445, 1.64034977, 1.64717637, 1.65403429,\n",
       "       1.66092359, 1.66784428, 1.67479642, 1.68178005, 1.6887952 ,\n",
       "       1.69584192, 1.70292024, 1.71003022, 1.71717188, 1.72434527,\n",
       "       1.73155044, 1.73878741, 1.74605624, 1.75335697, 1.76068963,\n",
       "       1.76805427, 1.77545094, 1.78287966, 1.79034049, 1.79783347,\n",
       "       1.80535864, 1.81291604, 1.82050572, 1.82812771, 1.83578207,\n",
       "       1.84346883, 1.85118803, 1.85893973, 1.86672396, 1.87454077,\n",
       "       1.8823902 , 1.8902723 , 1.8981871 , 1.90613466, 1.91411502,\n",
       "       1.92212821, 1.9301743 , 1.93825331, 1.94636531, 1.95451032,\n",
       "       1.9626884 , 1.97089959, 1.97914394, 1.98742148, 1.99573228,\n",
       "       2.00407637, 2.0124538 , 2.02086461, 2.02930886, 2.03778658,\n",
       "       2.04629783, 2.05484265, 2.06342109, 2.07203319, 2.080679  ,\n",
       "       2.08935857, 2.09807194, 2.10681917, 2.1156003 , 2.12441538,\n",
       "       2.13326445, 2.14214757, 2.15106478, 2.16001613, 2.16900167,\n",
       "       2.17802145, 2.18707552, 2.19616392, 2.2052867 , 2.21444392,\n",
       "       2.22363562, 2.23286185, 2.24212266, 2.25141811, 2.26074823,\n",
       "       2.27011309, 2.27951273, 2.2889472 , 2.29841655, 2.30792084,\n",
       "       2.31746011, 2.32703442, 2.33664381, 2.34628834, 2.35596805,\n",
       "       2.36568301, 2.37543326, 2.38521885, 2.39503984, 2.40489628,\n",
       "       2.41478822, 2.4247157 , 2.4346788 , 2.44467755, 2.45471202,\n",
       "       2.46478225, 2.47488829, 2.48503021, 2.49520805, 2.50542188,\n",
       "       2.51567173, 2.52595767, 2.53627975, 2.54663803, 2.55703255,\n",
       "       2.56746338, 2.57793057, 2.58843418, 2.59897425, 2.60955085,\n",
       "       2.62016403, 2.63081385, 2.64150036, 2.65222362, 2.66298368,\n",
       "       2.6737806 , 2.68461445, 2.69548526, 2.70639311, 2.71733805,\n",
       "       2.72832013, 2.73933941, 2.75039596, 2.76148983, 2.77262107,\n",
       "       2.78378974, 2.79499591, 2.80623963, 2.81752096, 2.82883996,\n",
       "       2.84019669, 2.85159121, 2.86302357, 2.87449384, 2.88600207,\n",
       "       2.89754833, 2.90913267, 2.92075516, 2.93241586, 2.94411483,\n",
       "       2.95585212, 2.9676278 , 2.97944193, 2.99129458, 3.00318579,\n",
       "       3.01511564, 3.02708419, 3.03909149, 3.05113762, 3.06322263,\n",
       "       3.07534659, 3.08750955, 3.09971159, 3.11195276, 3.12423313,\n",
       "       3.13655276, 3.14891172, 3.16131007, 3.17374787, 3.18622519,\n",
       "       3.19874209, 3.21129865, 3.22389491, 3.23653095, 3.24920684,\n",
       "       3.26192263, 3.2746784 , 3.28747421, 3.30031012, 3.31318621,\n",
       "       3.32610253, 3.33905917, 3.35205617, 3.36509362, 3.37817157,\n",
       "       3.3912901 , 3.40444927, 3.41764915, 3.43088981, 3.44417132,\n",
       "       3.45749374, 3.47085714, 3.4842616 , 3.49770719, 3.51119396,\n",
       "       3.52472199, 3.53829136, 3.55190213, 3.56555436, 3.57924815,\n",
       "       3.59298354, 3.60676061, 3.62057944, 3.6344401 , 3.64834265,\n",
       "       3.66228717, 3.67627373, 3.69030241, 3.70437327, 3.71848638,\n",
       "       3.73264183, 3.74683968, 3.76108001, 3.77536288, 3.78968839,\n",
       "       3.80405658, 3.81846755, 3.83292137, 3.84741811, 3.86195784,\n",
       "       3.87654064, 3.89116659, 3.90583575, 3.92054822, 3.93530405,\n",
       "       3.95010334, 3.96494615, 3.97983256, 3.99476265, 4.00973649,\n",
       "       4.02475417, 4.03981576, 4.05492134, 4.07007098, 4.08526476,\n",
       "       4.10050277, 4.11578508, 4.13111176, 4.14648291, 4.1618986 ,\n",
       "       4.1773589 , 4.1928639 , 4.20841368, 4.22400832, 4.2396479 ,\n",
       "       4.25533249, 4.27106219, 4.28683707, 4.30265722, 4.3185227 ,\n",
       "       4.33443362, 4.35039005, 4.36639206, 4.38243976, 4.39853321,\n",
       "       4.4146725 , 4.43085772, 4.44708894, 4.46336626, 4.47968976,\n",
       "       4.49605952, 4.51247562, 4.52893816, 4.54544721, 4.56200286,\n",
       "       4.5786052 , 4.59525432, 4.61195029, 4.62869322, 4.64548317,\n",
       "       4.66232025, 4.67920454, 4.69613612, 4.71311508, 4.73014152,\n",
       "       4.74721552, 4.76433716, 4.78150655, 4.79872376, 4.81598889,\n",
       "       4.83330202, 4.85066325, 4.86807267, 4.88553037, 4.90303643,\n",
       "       4.92059095, 4.93819403, 4.95584574, 4.97354619, 4.99129547,\n",
       "       5.00909366, 5.02694087, 5.04483718, 5.06278268, 5.08077749,\n",
       "       5.09882167, 5.11691534, 5.13505857, 5.15325148, 5.17149415,\n",
       "       5.18978668, 5.20812917, 5.2265217 , 5.24496439, 5.26345731,\n",
       "       5.28200058, 5.30059428, 5.31923851, 5.33793338, 5.35667898,\n",
       "       5.3754754 , 5.39432276, 5.41322113, 5.43217063, 5.45117136,\n",
       "       5.4702234 , 5.48932687, 5.50848187, 5.52768848, 5.54694683,\n",
       "       5.566257  , 5.58561909, 5.60503322, 5.62449947, 5.64401796,\n",
       "       5.66358879, 5.68321206, 5.70288787, 5.72261632, 5.74239753,\n",
       "       5.76223159, 5.78211861, 5.80205869, 5.82205194, 5.84209847,\n",
       "       5.86219838, 5.88235178, 5.90255876, 5.92281945, 5.94313395,\n",
       "       5.96350236, 5.98392479, 6.00440135, 6.02493215, 6.0455173 ,\n",
       "       6.06615691, 6.08685108, 6.10759992, 6.12840356, 6.14926208,\n",
       "       6.17017562, 6.19114427, 6.21216815, 6.23324737, 6.25438205,\n",
       "       6.27557228, 6.2968182 , 6.31811991, 6.33947752, 6.36089115,\n",
       "       6.38236091, 6.40388692, 6.42546929, 6.44710813, 6.46880357,\n",
       "       6.49055571, 6.51236468, 6.53423059, 6.55615355, 6.57813369,\n",
       "       6.60017112, 6.62226596, 6.64441832, 6.66662833, 6.68889611,\n",
       "       6.71122177])"
      ]
     },
     "execution_count": 84,
     "metadata": {},
     "output_type": "execute_result"
    }
   ],
   "source": [
    "y = np.zeros(x.shape)\n",
    "y[0] = y0\n",
    "\n",
    "# Implementation of Euler's method\n",
    "for n in range(0, len(x) - 1):\n",
    "    y[n + 1] = y[n] + f(x[n], y[n]) * h\n",
    "    \n",
    "y"
   ]
  },
  {
   "cell_type": "markdown",
   "metadata": {},
   "source": [
    "We can check out the solution graphically:\n",
    "\n"
   ]
  },
  {
   "cell_type": "code",
   "execution_count": 85,
   "metadata": {},
   "outputs": [
    {
     "data": {
      "text/plain": [
       "<matplotlib.legend.Legend at 0x1f59ebbd4e0>"
      ]
     },
     "execution_count": 85,
     "metadata": {},
     "output_type": "execute_result"
    },
    {
     "data": {
      "image/png": "[encoded data removed]",
      "text/plain": [
       "<Figure size 432x288 with 1 Axes>"
      ]
     },
     "metadata": {},
     "output_type": "display_data"
    }
   ],
   "source": [
    "%matplotlib inline\n",
    "import matplotlib.pyplot as plt\n",
    "plt.plot(x, y, label='Euler')\n",
    "plt.plot(x, x**2 + np.exp(x), 'r--', label='Analytical')\n",
    "plt.xlabel('x')\n",
    "plt.ylabel('y')\n",
    "plt.legend()"
   ]
  },
  {
   "cell_type": "markdown",
   "metadata": {},
   "source": [
    "This solution does not look that good until you increase the number of points (i.e. decrease the value of $h$, significantly). It is known the error decreases only linearly with $h$.\n",
    "\n",
    "**Exercise** Increase the number of points in the x array and see how it affects the solution.\n",
    "\n",
    "This method is not used in practice; it is not very accurate, and you need quite small $h$ to get a good solution. It is used here to illustrate the idea of how one integrates a differential equation. We will consider one more advanced method, the fourth-order Runge-Kutta method.\n",
    "\n"
   ]
  },
  {
   "cell_type": "markdown",
   "metadata": {},
   "source": [
    "\n",
    "## Fourth-order Runge-Kutta method\n",
    "\n"
   ]
  },
  {
   "cell_type": "markdown",
   "metadata": {},
   "source": [
    "The general idea of the more advanced methods is to use a weighted average of slopes at various points around a point to best estimate the next function value. Here we consider the fourth-order Runge-Kutta algorithm. The terms are tedious to derive, and we will not do it here as they can be looked up in several places (e.g. [https://en.wikipedia.org/wiki/Runge%E2%80%93Kutta_methods#The_Runge%E2%80%93Kutta_method](https://en.wikipedia.org/wiki/Runge%E2%80%93Kutta_methods#The_Runge%E2%80%93Kutta_method)).\n",
    "\n"
   ]
  },
  {
   "cell_type": "code",
   "execution_count": 86,
   "metadata": {},
   "outputs": [
    {
     "name": "stdout",
     "output_type": "stream",
     "text": [
      "h = 0.375\n"
     ]
    }
   ],
   "source": [
    "x0 = 0\n",
    "y0 = 1\n",
    "\n",
    "x, h = np.linspace(x0, 1.5, 5, retstep=True)\n",
    "print(f'h = {h}')\n",
    "y = np.zeros(x.shape)\n",
    "y[0] = y0\n",
    "\n",
    "# Implementation of fourth order Runge Kutta method\n",
    "for i in range(0, len(x) - 1):\n",
    "    k1 = h * f(x[i], y[i]) # Note this is like Euler's method\n",
    "    k2 = h * f(x[i] + h / 2, y[i] + k1 / 2)  # This is the increment at the midpoint using y, k1\n",
    "    k3 = h * f(x[i] + h / 2, y[i] + k2 / 2)  # This is the increment at the midpoint using y, k2\n",
    "    k4 = h * f(x[i + 1], y[i] + k3) # This is the increment at the end of the interval\n",
    "    # This is a weighted average of the four increments computed above. There is a heavier weight on the midpoints\n",
    "    y[i + 1] = y[i] + (k1 + (2 * k2) + (2 * k3) + k4) / 6"
   ]
  },
  {
   "cell_type": "code",
   "execution_count": 87,
   "metadata": {},
   "outputs": [
    {
     "data": {
      "text/plain": [
       "<matplotlib.legend.Legend at 0x1f59e794240>"
      ]
     },
     "execution_count": 87,
     "metadata": {},
     "output_type": "execute_result"
    },
    {
     "data": {
      "image/png": "[encoded data removed]",
      "text/plain": [
       "<Figure size 432x288 with 1 Axes>"
      ]
     },
     "metadata": {},
     "output_type": "display_data"
    }
   ],
   "source": [
    "plt.plot(x, y, label='RK-4')\n",
    "plt.plot(x, x**2 + np.exp(x), 'r--', label='Analytical')\n",
    "plt.xlabel('x')\n",
    "plt.ylabel('y')\n",
    "plt.legend()"
   ]
  },
  {
   "cell_type": "markdown",
   "metadata": {},
   "source": [
    "Note you can get a much more accurate solution with a larger $h$ with this method.\n",
    "\n",
    "*If* our differential equation is just $\\frac{dy}{dt} = f(x)$, i.e. $f$ is independent of $y$, then this method is equivalent to Simpson't rule of integration.\n",
    "\n",
    "Both of these methods leave some things to be desired:\n",
    "\n",
    "1.  We had to code them, and there are many places to make mistakes.\n",
    "2.  You have to choose $h$, or equivalently the number of points to use, and then make sure the solution has converged (does not depend on your choice).\n",
    "3.  $h$ is fixed in these examples, and you might prefer to use an adaptive value.\n",
    "4.  It is not easy to solve the inverse problem, e.g. for what value of $x$ does $y=4$?\n",
    "\n",
    "In practice, there are well-written ODE integrators to solve this kind of problem that address all the short-comings listed above. To use them, we just need to learn the syntax. We do that next.\n",
    "\n"
   ]
  },
  {
   "cell_type": "markdown",
   "metadata": {},
   "source": [
    "\n",
    "# scipy.integrate.solve\\_ivp\n",
    "\n"
   ]
  },
  {
   "cell_type": "markdown",
   "metadata": {},
   "source": [
    "The `scipy.integrate` library provides `solve_ivp` to solve first order differential equations. It is not the only one available, but this function is recommended. You import the function like this:\n",
    "\n"
   ]
  },
  {
   "cell_type": "code",
   "execution_count": 97,
   "metadata": {},
   "outputs": [],
   "source": [
    "from scipy.integrate import solve_ivp"
   ]
  },
  {
   "cell_type": "code",
   "execution_count": 98,
   "metadata": {},
   "outputs": [],
   "source": [
    "?solve_ivp"
   ]
  },
  {
   "cell_type": "markdown",
   "metadata": {},
   "source": [
    "Here is a minimal use of the function, with keyword arguments.\n",
    "\n",
    "`y0` is an array containing the initial values.  `fun` is a function with a signature of f(t, y). Here, $t$ is considered the independent variable. You can call it whatever you want, so f(x, y) is also fine. Since `solve_ivp` had $t$ in mind, the second argument is the `t_span`, which is a tuple of two numbers for where the integration starts (t0, or x0) and where it ends.  `solve_ivp` returns an object.\n",
    "\n"
   ]
  },
  {
   "cell_type": "code",
   "execution_count": 99,
   "metadata": {},
   "outputs": [
    {
     "data": {
      "text/plain": [
       "<function __main__.f(x, y)>"
      ]
     },
     "execution_count": 99,
     "metadata": {},
     "output_type": "execute_result"
    }
   ],
   "source": [
    "f"
   ]
  },
  {
   "cell_type": "code",
   "execution_count": 100,
   "metadata": {},
   "outputs": [],
   "source": [
    "import numpy as np\n"
   ]
  },
  {
   "cell_type": "code",
   "execution_count": 101,
   "metadata": {},
   "outputs": [
    {
     "data": {
      "text/plain": [
       "array([1])"
      ]
     },
     "execution_count": 101,
     "metadata": {},
     "output_type": "execute_result"
    }
   ],
   "source": [
    "y0 = 1\n",
    "y0 = np.array([y0])\n",
    "y0"
   ]
  },
  {
   "cell_type": "code",
   "execution_count": 104,
   "metadata": {},
   "outputs": [],
   "source": [
    "y0 = 1\n",
    "y0 = np.array([y0]) # It is a good idea to make y0 an array. It will be important later.\n",
    "sol = solve_ivp(fun=f, t_span=(x0, 1.5), y0=y0)"
   ]
  },
  {
   "cell_type": "markdown",
   "metadata": {},
   "source": [
    "The output of `solve_ivp` is an object containing results in attributes on the object.\n",
    "\n"
   ]
  },
  {
   "cell_type": "code",
   "execution_count": 105,
   "metadata": {},
   "outputs": [
    {
     "data": {
      "text/plain": [
       "  message: 'The solver successfully reached the end of the integration interval.'\n",
       "     nfev: 20\n",
       "     njev: 0\n",
       "      nlu: 0\n",
       "      sol: None\n",
       "   status: 0\n",
       "  success: True\n",
       "        t: array([0.        , 0.08034384, 0.86683456, 1.5       ])\n",
       " t_events: None\n",
       "        y: array([[1.        , 1.09011474, 3.13086569, 6.73191444]])"
      ]
     },
     "execution_count": 105,
     "metadata": {},
     "output_type": "execute_result"
    }
   ],
   "source": [
    "sol"
   ]
  },
  {
   "cell_type": "markdown",
   "metadata": {},
   "source": [
    "You should look for a few things here. One is that the message indicates success. Second, we access the solution using dot notation. Here are the independent variable values the solution was evaluated at.\n",
    "\n"
   ]
  },
  {
   "cell_type": "code",
   "execution_count": 106,
   "metadata": {},
   "outputs": [
    {
     "data": {
      "text/plain": [
       "array([0.        , 0.08034384, 0.86683456, 1.5       ])"
      ]
     },
     "execution_count": 106,
     "metadata": {},
     "output_type": "execute_result"
    }
   ],
   "source": [
    "sol.t"
   ]
  },
  {
   "cell_type": "markdown",
   "metadata": {},
   "source": [
    "Third, the solution is in a 2D array. We only have one equation here, so we use indexing to get the first row as an array.\n",
    "\n"
   ]
  },
  {
   "cell_type": "code",
   "execution_count": 108,
   "metadata": {},
   "outputs": [
    {
     "data": {
      "text/plain": [
       "array([1.        , 1.09011474, 3.13086569, 6.73191444])"
      ]
     },
     "execution_count": 108,
     "metadata": {},
     "output_type": "execute_result"
    }
   ],
   "source": [
    "sol.y[0]"
   ]
  },
  {
   "cell_type": "markdown",
   "metadata": {},
   "source": [
    "Now, we can plot the solution.\n",
    "\n"
   ]
  },
  {
   "cell_type": "code",
   "execution_count": 99,
   "metadata": {},
   "outputs": [
    {
     "data": {
      "text/plain": [
       "<matplotlib.legend.Legend at 0x10fd96780>"
      ]
     },
     "execution_count": 99,
     "metadata": {},
     "output_type": "execute_result"
    },
    {
     "data": {
      "image/png": "[encoded data removed]",
      "text/plain": [
       "<matplotlib.figure.Figure at 0x110155780>"
      ]
     },
     "metadata": {},
     "output_type": "display_data"
    }
   ],
   "source": [
    "plt.plot(sol.t, sol.y[0], 'bo', label='solve_ivp')\n",
    "plt.plot(sol.t, sol.t**2 + np.exp(sol.t), 'r--', label='Analytical')\n",
    "plt.xlabel('x')\n",
    "plt.ylabel('y')\n",
    "plt.legend()"
   ]
  },
  {
   "cell_type": "markdown",
   "metadata": {},
   "source": [
    "That doesn't looks so great since there are only four data points. By default, the algorithm only uses as many points as it needs to achieve a specified tolerance. We can specify that we want the solution evaluated at other points using the optional `t_eval` keyword arg.\n",
    "\n"
   ]
  },
  {
   "cell_type": "code",
   "execution_count": 103,
   "metadata": {},
   "outputs": [
    {
     "data": {
      "text/plain": [
       "('The solver successfully reached the interval end.', True)"
      ]
     },
     "execution_count": 103,
     "metadata": {},
     "output_type": "execute_result"
    }
   ],
   "source": [
    "X = np.linspace(x0, 1.5)\n",
    "sol = solve_ivp(fun=f, t_span=(x0, 1.5), y0=y0, t_eval=X)\n",
    "sol.message, sol.success"
   ]
  },
  {
   "cell_type": "code",
   "execution_count": 101,
   "metadata": {},
   "outputs": [
    {
     "data": {
      "text/plain": [
       "<matplotlib.legend.Legend at 0x10fc81ac8>"
      ]
     },
     "execution_count": 101,
     "metadata": {},
     "output_type": "execute_result"
    },
    {
     "data": {
      "image/png": "[encoded data removed]",
      "text/plain": [
       "<matplotlib.figure.Figure at 0x110041630>"
      ]
     },
     "metadata": {},
     "output_type": "display_data"
    }
   ],
   "source": [
    "plt.plot(sol.t, sol.y[0], label='solve_ivp')\n",
    "plt.plot(X, X**2 + np.exp(X), 'r--', label='Analytical')\n",
    "plt.xlabel('x')\n",
    "plt.ylabel('y')\n",
    "plt.legend()"
   ]
  },
  {
   "cell_type": "markdown",
   "metadata": {},
   "source": [
    "So far, `solve_ivp` solves the issues with item 1 (we did not have to code the algorithm), and items 2 and 3 (it uses an adaptive step and converges to a tolerance for us). It will also help us solve for the inverse problem, i.e. for what value of $x$ is $y=4$?\n",
    "\n",
    "To do this, we need a new concept of an \"event function\". During each step of the integration, you can run a function that can detect an \"event\". When an event is detected, the location of the event is stored, and if desired integration can be terminated. `solve_ivp` can take a list of event functions. We consider only one for now.\n",
    "\n",
    "An event occurs when an event function is equal to zero. During integration, if the event function changes sign, then it is clear an event has occurred, and the algorithm determines where it occurred. Since we want to know when $y=4$, we will define a function that returns $y - 4$, because that will equal zero at that condition. We want the integration to terminate when that happens, so we set the \"terminal\" attribute on our function to True.\n",
    "\n",
    "An event function has a signature of f(x, y). Remember that $y$ is going to be an array,\n",
    "\n"
   ]
  },
  {
   "cell_type": "code",
   "execution_count": 106,
   "metadata": {},
   "outputs": [
    {
     "data": {
      "text/plain": [
       "array([1])"
      ]
     },
     "execution_count": 106,
     "metadata": {},
     "output_type": "execute_result"
    }
   ],
   "source": [
    "y0"
   ]
  },
  {
   "cell_type": "code",
   "execution_count": 111,
   "metadata": {},
   "outputs": [
    {
     "name": "stdout",
     "output_type": "stream",
     "text": [
      "[1]\n",
      "[1.09011474]\n",
      "[3.13086569]\n",
      "[6.73191444]\n",
      "[3.13086569]\n",
      "[6.73191444]\n",
      "[3.81207477]\n",
      "[4.00561622]\n",
      "[3.99989386]\n",
      "[3.99999994]\n",
      "[4.]\n",
      "[4.]\n"
     ]
    },
    {
     "data": {
      "text/plain": [
       "  message: 'A termination event occurred.'\n",
       "     nfev: 20\n",
       "     njev: 0\n",
       "      nlu: 0\n",
       "      sol: None\n",
       "   status: 1\n",
       "  success: True\n",
       "        t: array([0.        , 0.08034384, 0.86683456, 1.05797402])\n",
       " t_events: [array([1.05797402])]\n",
       "        y: array([[1.        , 1.09011474, 3.13086569, 4.        ]])"
      ]
     },
     "execution_count": 111,
     "metadata": {},
     "output_type": "execute_result"
    }
   ],
   "source": [
    "def event1(x, y):\n",
    "    y = np.array(y)\n",
    "    print(y)\n",
    "    return y - 4\n",
    "\n",
    "event1.terminal = True\n",
    "\n",
    "y0 = [1]\n",
    "sol = solve_ivp(fun=f, t_span=(x0, 1.5), y0=y0, events=event1)\n",
    "sol"
   ]
  },
  {
   "cell_type": "markdown",
   "metadata": {},
   "source": [
    "Now, there are a couple of new things to note. First, we got a message that a termination event occurred. Second, the sol.y array ends at 4.0, because we made the event function *terminal*. Next, sol.t\\_events is not empty, because an event occurred. It now contains the value where the event occurred, which is where $y=4$!\n",
    "\n"
   ]
  },
  {
   "cell_type": "code",
   "execution_count": 111,
   "metadata": {},
   "outputs": [
    {
     "data": {
      "text/plain": [
       "array([ 1.05797402])"
      ]
     },
     "execution_count": 111,
     "metadata": {},
     "output_type": "execute_result"
    }
   ],
   "source": [
    "sol.t_events[0]"
   ]
  },
  {
   "cell_type": "code",
   "execution_count": 1,
   "metadata": {},
   "outputs": [
    {
     "name": "stdout",
     "output_type": "stream",
     "text": [
      "array([ 0.        ,  0.08034384,  0.86683456,  1.05797402])"
     ]
    }
   ],
   "source": [
    "sol.t"
   ]
  },
  {
   "cell_type": "code",
   "execution_count": 1,
   "metadata": {},
   "outputs": [
    {
     "name": "stdout",
     "output_type": "stream",
     "text": [
      "y=4 at x=1.0579740235381914. Confirming: y = 3.9998382237380805"
     ]
    }
   ],
   "source": [
    "print(f'y=4 at x={sol.t[-1]}. Confirming: y = {sol.t[-1]**2 + np.exp(sol.t[-1])}')"
   ]
  },
  {
   "cell_type": "markdown",
   "metadata": {},
   "source": [
    "That is pretty close. You have to decide if it is close enough for the purpose you want. You can control the tolerance with optional `atol` and `rtol` keywords. You should read the documentation before changing this.\n",
    "\n"
   ]
  },
  {
   "cell_type": "code",
   "execution_count": 1,
   "metadata": {},
   "outputs": [
    {
     "name": "stdout",
     "output_type": "stream",
     "text": [
      "3.9999993427868006"
     ]
    }
   ],
   "source": [
    "def event1(x, y):\n",
    "    return y[0] - 4\n",
    "\n",
    "event1.terminal = True\n",
    "\n",
    "sol = solve_ivp(fun=f, t_span=(x0, 1.5), y0=y0, events=event1, rtol=1e-9)\n",
    "sol\n",
    "sol.t[-1]**2 + np.exp(sol.t[-1])"
   ]
  },
  {
   "cell_type": "markdown",
   "metadata": {},
   "source": [
    "\n",
    "# Summary\n",
    "\n"
   ]
  },
  {
   "cell_type": "markdown",
   "metadata": {},
   "source": [
    "We learned how to solve different types of first-order differential equations. Linear equations can be solved by integration, which has the benefit of providing an estimate of error if the `scipy.integrate.quad` function is used.\n",
    "\n",
    "Most first-order differential equations can be solved numerically with `scipy.integrate.solve_ivp`. This solver allows you to specify the points the solution is evaluated on, and to define event functions that can terminate the integration, or record where events occur.\n",
    "\n"
   ]
  }
 ],
 "metadata": {
  "kernelspec": {
   "display_name": "Python 3",
   "language": "python",
   "name": "python3"
  },
  "language_info": {
   "codemirror_mode": {
    "name": "ipython",
    "version": 3
   },
   "file_extension": ".py",
   "mimetype": "text/x-python",
   "name": "python",
   "nbconvert_exporter": "python",
   "pygments_lexer": "ipython3",
   "version": "3.6.5"
  },
  "org": {
   "KEYWORDS": "integration, quad, zeros, shape, enumerate, solve_ivp"
  }
 },
 "nbformat": 4,
 "nbformat_minor": 1
}
