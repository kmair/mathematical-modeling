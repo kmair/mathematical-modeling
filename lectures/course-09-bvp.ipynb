{
 "cells": [
  {
   "cell_type": "markdown",
   "metadata": {},
   "source": [
    "- KEYWORDS: scipy.integrate.solve_bvp, numpy.polyfit\n"
   ]
  },
  {
   "cell_type": "markdown",
   "metadata": {},
   "source": [
    "\n",
    "# Solving nonlinear BVPs by finite differences\n",
    "\n"
   ]
  },
  {
   "cell_type": "markdown",
   "metadata": {},
   "source": [
    "Adapted from Example 8.7 in <span class=\"underline\">Numerical Methods in Engineering with Python</span> by Jaan Kiusalaas.\n",
    "\n",
    "We want to solve $y''(x) = -3 y(x) y'(x)$ with $y(0) = 0$ and $y(2) = 1$.\n",
    "\n",
    "This is a boundary value problem. First we consider using a finite difference method. We discretize the region and approximate the derivatives as:\n",
    "\n",
    "$y''(x) \\approx \\frac{y_{i-1} - 2 y_i + y_{i+1}}{h^2} $\n",
    "\n",
    "$y'(x) \\approx \\frac{y_{i+1} - y_{i-1}}{2 h} $\n",
    "\n",
    "We define a function $y''(x) = F(x, y, y')$. At each node in our discretized region, we will have an equation that looks like $y''(x) - F(x, y, y') = 0$, which will be nonlinear in the unknown solution $y$. The set of equations to solve is:\n",
    "\n",
    "\\begin{eqnarray}\n",
    "y_0 - \\alpha &=& 0 \\\\\n",
    "\\frac{y_{i-1} - 2 y_i + y_{i+1}}{h^2} + (3 y_i) (\\frac{y_{i+1} - y_{i-1}}{2 h}) &=& 0 \\\\\n",
    "y_L - \\beta &=&0\n",
    "\\end{eqnarray}\n",
    "\n",
    "Since we use a nonlinear solver, we will have to provide an initial guess to the solution. We will in this case assume a line. In other cases, a bad initial guess may lead to no solution.\n",
    "\n"
   ]
  },
  {
   "cell_type": "code",
   "execution_count": 1,
   "metadata": {},
   "outputs": [],
   "source": [
    "import numpy as np\n",
    "from scipy.optimize import fsolve\n",
    "%matplotlib inline\n",
    "import matplotlib.pyplot as plt\n",
    "\n",
    "x1 = 0.0\n",
    "x2 = 2.0\n",
    "\n",
    "alpha = 0.0   # y(x1) = alpha\n",
    "beta = 1.0    # y(x2) = beta"
   ]
  },
  {
   "cell_type": "markdown",
   "metadata": {},
   "source": [
    "We need to specify a grid of points to discretize the solution on. We will start with a small grid because it is easy to visualize, but note that the grid spacing determines how good the approximation to the derivative is, so we will have to return here to see what the impact of our spacing is.\n",
    "\n"
   ]
  },
  {
   "cell_type": "code",
   "execution_count": 2,
   "metadata": {},
   "outputs": [],
   "source": [
    "N = 500\n",
    "X, h = np.linspace(x1, x2, N, retstep=True)"
   ]
  },
  {
   "cell_type": "markdown",
   "metadata": {},
   "source": [
    "Now, we can define functions for the differential equation, and for the nonlinear equations.\n",
    "\n"
   ]
  },
  {
   "cell_type": "code",
   "execution_count": 3,
   "metadata": {},
   "outputs": [],
   "source": [
    "def residuals(y):\n",
    "    \"When we have the right values of y, this function will be zero.\"\n",
    "\n",
    "    res = np.zeros(y.shape) # we need a zero for each node\n",
    "\n",
    "    res[0] = y[0] - alpha # this is the boundary value y(alpha) = 0\n",
    "\n",
    "    for i in range(1, N - 1):\n",
    "        # Approximation of y'' from the current point\n",
    "        YPP = (y[i - 1] - 2 * y[i] + y[i + 1]) / h**2\n",
    "\n",
    "        # Approximation of y'\n",
    "        YP = (y[i + 1] - y[i - 1]) / (2 * h)\n",
    "\n",
    "        # y'' + 3 * y * y' = 0\n",
    "        res[i] = YPP + 3 * y[i] * YP\n",
    "\n",
    "    res[-1] = y[-1] - beta # y(beta) = 0\n",
    "    return res"
   ]
  },
  {
   "cell_type": "markdown",
   "metadata": {},
   "source": [
    "We need a guess, and here we guess a line.\n",
    "\n"
   ]
  },
  {
   "cell_type": "code",
   "execution_count": 4,
   "metadata": {},
   "outputs": [],
   "source": [
    "?np.polyfit"
   ]
  },
  {
   "cell_type": "code",
   "execution_count": 5,
   "metadata": {},
   "outputs": [
    {
     "name": "stdout",
     "output_type": "stream",
     "text": [
      "[ 0.5  0. ]\n"
     ]
    },
    {
     "data": {
      "text/plain": [
       "[<matplotlib.lines.Line2D at 0x107eef8d0>]"
      ]
     },
     "execution_count": 5,
     "metadata": {},
     "output_type": "execute_result"
    },
    {
     "data": {
      "image/png": "[encoded data removed]",
      "text/plain": [
       "<matplotlib.figure.Figure at 0x106fe6ac8>"
      ]
     },
     "metadata": {},
     "output_type": "display_data"
    }
   ],
   "source": [
    "# we need an initial guess\n",
    "#init = alpha + (beta - alpha) / (x2 - x1) * X\n",
    "\n",
    "p = np.polyfit([x1, x2], [alpha, beta], 1)  # short hand of fitting a line through 2 points\n",
    "print(p)\n",
    "init = np.polyval(p, X)\n",
    "plt.plot(X, init, 'bo')"
   ]
  },
  {
   "cell_type": "markdown",
   "metadata": {},
   "source": [
    "We should check our residuals function. We mostly want to see that it runs, and produces the right shaped output.\n",
    "\n"
   ]
  },
  {
   "cell_type": "code",
   "execution_count": 6,
   "metadata": {},
   "outputs": [
    {
     "data": {
      "text/plain": [
       "array([  0.00000000e+00,   3.00601202e-03,   6.01202405e-03,\n",
       "         9.01803607e-03,   1.20240481e-02,   1.50300601e-02,\n",
       "         1.80360721e-02,   2.10420842e-02,   2.40480962e-02,\n",
       "         2.70541082e-02,   3.00601202e-02,   3.30661323e-02,\n",
       "         3.60721443e-02,   3.90781563e-02,   4.20841683e-02,\n",
       "         4.50901804e-02,   4.80961924e-02,   5.11022044e-02,\n",
       "         5.41082164e-02,   5.71142285e-02,   6.01202405e-02,\n",
       "         6.31262525e-02,   6.61322645e-02,   6.91382766e-02,\n",
       "         7.21442886e-02,   7.51503006e-02,   7.81563126e-02,\n",
       "         8.11623246e-02,   8.41683367e-02,   8.71743487e-02,\n",
       "         9.01803607e-02,   9.31863727e-02,   9.61923848e-02,\n",
       "         9.91983968e-02,   1.02204409e-01,   1.05210421e-01,\n",
       "         1.08216433e-01,   1.11222445e-01,   1.14228457e-01,\n",
       "         1.17234469e-01,   1.20240481e-01,   1.23246493e-01,\n",
       "         1.26252505e-01,   1.29258517e-01,   1.32264529e-01,\n",
       "         1.35270541e-01,   1.38276553e-01,   1.41282565e-01,\n",
       "         1.44288577e-01,   1.47294589e-01,   1.50300601e-01,\n",
       "         1.53306613e-01,   1.56312625e-01,   1.59318637e-01,\n",
       "         1.62324649e-01,   1.65330661e-01,   1.68336673e-01,\n",
       "         1.71342685e-01,   1.74348697e-01,   1.77354709e-01,\n",
       "         1.80360721e-01,   1.83366733e-01,   1.86372745e-01,\n",
       "         1.89378758e-01,   1.92384770e-01,   1.95390782e-01,\n",
       "         1.98396794e-01,   2.01402806e-01,   2.04408818e-01,\n",
       "         2.07414830e-01,   2.10420842e-01,   2.13426854e-01,\n",
       "         2.16432866e-01,   2.19438878e-01,   2.22444890e-01,\n",
       "         2.25450902e-01,   2.28456914e-01,   2.31462926e-01,\n",
       "         2.34468938e-01,   2.37474950e-01,   2.40480962e-01,\n",
       "         2.43486974e-01,   2.46492986e-01,   2.49498998e-01,\n",
       "         2.52505010e-01,   2.55511022e-01,   2.58517034e-01,\n",
       "         2.61523046e-01,   2.64529058e-01,   2.67535070e-01,\n",
       "         2.70541082e-01,   2.73547094e-01,   2.76553106e-01,\n",
       "         2.79559118e-01,   2.82565130e-01,   2.85571142e-01,\n",
       "         2.88577154e-01,   2.91583166e-01,   2.94589178e-01,\n",
       "         2.97595190e-01,   3.00601202e-01,   3.03607214e-01,\n",
       "         3.06613226e-01,   3.09619238e-01,   3.12625251e-01,\n",
       "         3.15631263e-01,   3.18637275e-01,   3.21643287e-01,\n",
       "         3.24649299e-01,   3.27655311e-01,   3.30661323e-01,\n",
       "         3.33667335e-01,   3.36673347e-01,   3.39679359e-01,\n",
       "         3.42685371e-01,   3.45691383e-01,   3.48697395e-01,\n",
       "         3.51703407e-01,   3.54709419e-01,   3.57715431e-01,\n",
       "         3.60721443e-01,   3.63727455e-01,   3.66733467e-01,\n",
       "         3.69739479e-01,   3.72745491e-01,   3.75751503e-01,\n",
       "         3.78757515e-01,   3.81763527e-01,   3.84769539e-01,\n",
       "         3.87775551e-01,   3.90781563e-01,   3.93787575e-01,\n",
       "         3.96793587e-01,   3.99799599e-01,   4.02805611e-01,\n",
       "         4.05811623e-01,   4.08817635e-01,   4.11823647e-01,\n",
       "         4.14829659e-01,   4.17835671e-01,   4.20841683e-01,\n",
       "         4.23847695e-01,   4.26853707e-01,   4.29859719e-01,\n",
       "         4.32865731e-01,   4.35871743e-01,   4.38877756e-01,\n",
       "         4.41883768e-01,   4.44889780e-01,   4.47895792e-01,\n",
       "         4.50901804e-01,   4.53907816e-01,   4.56913828e-01,\n",
       "         4.59919840e-01,   4.62925852e-01,   4.65931864e-01,\n",
       "         4.68937876e-01,   4.71943888e-01,   4.74949900e-01,\n",
       "         4.77955912e-01,   4.80961924e-01,   4.83967936e-01,\n",
       "         4.86973948e-01,   4.89979960e-01,   4.92985972e-01,\n",
       "         4.95991984e-01,   4.98997996e-01,   5.02004008e-01,\n",
       "         5.05010020e-01,   5.08016032e-01,   5.11022044e-01,\n",
       "         5.14028056e-01,   5.17034068e-01,   5.20040080e-01,\n",
       "         5.23046092e-01,   5.26052104e-01,   5.29058116e-01,\n",
       "         5.32064128e-01,   5.35070140e-01,   5.38076152e-01,\n",
       "         5.41082164e-01,   5.44088176e-01,   5.47094188e-01,\n",
       "         5.50100200e-01,   5.53106212e-01,   5.56112224e-01,\n",
       "         5.59118236e-01,   5.62124248e-01,   5.65130261e-01,\n",
       "         5.68136273e-01,   5.71142285e-01,   5.74148297e-01,\n",
       "         5.77154309e-01,   5.80160321e-01,   5.83166333e-01,\n",
       "         5.86172345e-01,   5.89178357e-01,   5.92184369e-01,\n",
       "         5.95190381e-01,   5.98196393e-01,   6.01202405e-01,\n",
       "         6.04208417e-01,   6.07214429e-01,   6.10220441e-01,\n",
       "         6.13226453e-01,   6.16232465e-01,   6.19238477e-01,\n",
       "         6.22244489e-01,   6.25250501e-01,   6.28256513e-01,\n",
       "         6.31262525e-01,   6.34268537e-01,   6.37274549e-01,\n",
       "         6.40280561e-01,   6.43286573e-01,   6.46292585e-01,\n",
       "         6.49298597e-01,   6.52304609e-01,   6.55310621e-01,\n",
       "         6.58316633e-01,   6.61322645e-01,   6.64328657e-01,\n",
       "         6.67334669e-01,   6.70340681e-01,   6.73346693e-01,\n",
       "         6.76352705e-01,   6.79358717e-01,   6.82364729e-01,\n",
       "         6.85370741e-01,   6.88376754e-01,   6.91382766e-01,\n",
       "         6.94388778e-01,   6.97394790e-01,   7.00400802e-01,\n",
       "         7.03406814e-01,   7.06412826e-01,   7.09418838e-01,\n",
       "         7.12424850e-01,   7.15430862e-01,   7.18436874e-01,\n",
       "         7.21442886e-01,   7.24448898e-01,   7.27454910e-01,\n",
       "         7.30460922e-01,   7.33466934e-01,   7.36472946e-01,\n",
       "         7.39478958e-01,   7.42484970e-01,   7.45490982e-01,\n",
       "         7.48496994e-01,   7.51503006e-01,   7.54509018e-01,\n",
       "         7.57515030e-01,   7.60521042e-01,   7.63527054e-01,\n",
       "         7.66533066e-01,   7.69539078e-01,   7.72545090e-01,\n",
       "         7.75551102e-01,   7.78557114e-01,   7.81563126e-01,\n",
       "         7.84569138e-01,   7.87575150e-01,   7.90581162e-01,\n",
       "         7.93587174e-01,   7.96593186e-01,   7.99599198e-01,\n",
       "         8.02605210e-01,   8.05611222e-01,   8.08617234e-01,\n",
       "         8.11623246e-01,   8.14629259e-01,   8.17635271e-01,\n",
       "         8.20641283e-01,   8.23647295e-01,   8.26653307e-01,\n",
       "         8.29659319e-01,   8.32665331e-01,   8.35671343e-01,\n",
       "         8.38677355e-01,   8.41683367e-01,   8.44689379e-01,\n",
       "         8.47695391e-01,   8.50701403e-01,   8.53707415e-01,\n",
       "         8.56713427e-01,   8.59719439e-01,   8.62725451e-01,\n",
       "         8.65731463e-01,   8.68737475e-01,   8.71743487e-01,\n",
       "         8.74749499e-01,   8.77755511e-01,   8.80761523e-01,\n",
       "         8.83767535e-01,   8.86773547e-01,   8.89779559e-01,\n",
       "         8.92785571e-01,   8.95791583e-01,   8.98797595e-01,\n",
       "         9.01803607e-01,   9.04809619e-01,   9.07815631e-01,\n",
       "         9.10821643e-01,   9.13827655e-01,   9.16833667e-01,\n",
       "         9.19839679e-01,   9.22845691e-01,   9.25851703e-01,\n",
       "         9.28857715e-01,   9.31863727e-01,   9.34869739e-01,\n",
       "         9.37875752e-01,   9.40881764e-01,   9.43887776e-01,\n",
       "         9.46893788e-01,   9.49899800e-01,   9.52905812e-01,\n",
       "         9.55911824e-01,   9.58917836e-01,   9.61923848e-01,\n",
       "         9.64929860e-01,   9.67935872e-01,   9.70941884e-01,\n",
       "         9.73947896e-01,   9.76953908e-01,   9.79959920e-01,\n",
       "         9.82965932e-01,   9.85971944e-01,   9.88977956e-01,\n",
       "         9.91983968e-01,   9.94989980e-01,   9.97995992e-01,\n",
       "         1.00100200e+00,   1.00400802e+00,   1.00701403e+00,\n",
       "         1.01002004e+00,   1.01302605e+00,   1.01603206e+00,\n",
       "         1.01903808e+00,   1.02204409e+00,   1.02505010e+00,\n",
       "         1.02805611e+00,   1.03106212e+00,   1.03406814e+00,\n",
       "         1.03707415e+00,   1.04008016e+00,   1.04308617e+00,\n",
       "         1.04609218e+00,   1.04909820e+00,   1.05210421e+00,\n",
       "         1.05511022e+00,   1.05811623e+00,   1.06112224e+00,\n",
       "         1.06412826e+00,   1.06713427e+00,   1.07014028e+00,\n",
       "         1.07314629e+00,   1.07615230e+00,   1.07915832e+00,\n",
       "         1.08216433e+00,   1.08517034e+00,   1.08817635e+00,\n",
       "         1.09118236e+00,   1.09418838e+00,   1.09719439e+00,\n",
       "         1.10020040e+00,   1.10320641e+00,   1.10621242e+00,\n",
       "         1.10921844e+00,   1.11222445e+00,   1.11523046e+00,\n",
       "         1.11823647e+00,   1.12124248e+00,   1.12424850e+00,\n",
       "         1.12725451e+00,   1.13026052e+00,   1.13326653e+00,\n",
       "         1.13627255e+00,   1.13927856e+00,   1.14228457e+00,\n",
       "         1.14529058e+00,   1.14829659e+00,   1.15130261e+00,\n",
       "         1.15430862e+00,   1.15731463e+00,   1.16032064e+00,\n",
       "         1.16332665e+00,   1.16633267e+00,   1.16933868e+00,\n",
       "         1.17234469e+00,   1.17535070e+00,   1.17835671e+00,\n",
       "         1.18136273e+00,   1.18436874e+00,   1.18737475e+00,\n",
       "         1.19038076e+00,   1.19338677e+00,   1.19639279e+00,\n",
       "         1.19939880e+00,   1.20240481e+00,   1.20541082e+00,\n",
       "         1.20841683e+00,   1.21142285e+00,   1.21442886e+00,\n",
       "         1.21743487e+00,   1.22044088e+00,   1.22344689e+00,\n",
       "         1.22645291e+00,   1.22945892e+00,   1.23246493e+00,\n",
       "         1.23547094e+00,   1.23847695e+00,   1.24148297e+00,\n",
       "         1.24448898e+00,   1.24749499e+00,   1.25050100e+00,\n",
       "         1.25350701e+00,   1.25651303e+00,   1.25951904e+00,\n",
       "         1.26252505e+00,   1.26553106e+00,   1.26853707e+00,\n",
       "         1.27154309e+00,   1.27454910e+00,   1.27755511e+00,\n",
       "         1.28056112e+00,   1.28356713e+00,   1.28657315e+00,\n",
       "         1.28957916e+00,   1.29258517e+00,   1.29559118e+00,\n",
       "         1.29859719e+00,   1.30160321e+00,   1.30460922e+00,\n",
       "         1.30761523e+00,   1.31062124e+00,   1.31362725e+00,\n",
       "         1.31663327e+00,   1.31963928e+00,   1.32264529e+00,\n",
       "         1.32565130e+00,   1.32865731e+00,   1.33166333e+00,\n",
       "         1.33466934e+00,   1.33767535e+00,   1.34068136e+00,\n",
       "         1.34368737e+00,   1.34669339e+00,   1.34969940e+00,\n",
       "         1.35270541e+00,   1.35571142e+00,   1.35871743e+00,\n",
       "         1.36172345e+00,   1.36472946e+00,   1.36773547e+00,\n",
       "         1.37074148e+00,   1.37374749e+00,   1.37675351e+00,\n",
       "         1.37975952e+00,   1.38276553e+00,   1.38577154e+00,\n",
       "         1.38877756e+00,   1.39178357e+00,   1.39478958e+00,\n",
       "         1.39779559e+00,   1.40080160e+00,   1.40380762e+00,\n",
       "         1.40681363e+00,   1.40981964e+00,   1.41282565e+00,\n",
       "         1.41583166e+00,   1.41883768e+00,   1.42184369e+00,\n",
       "         1.42484970e+00,   1.42785571e+00,   1.43086172e+00,\n",
       "         1.43386774e+00,   1.43687375e+00,   1.43987976e+00,\n",
       "         1.44288577e+00,   1.44589178e+00,   1.44889780e+00,\n",
       "         1.45190381e+00,   1.45490982e+00,   1.45791583e+00,\n",
       "         1.46092184e+00,   1.46392786e+00,   1.46693387e+00,\n",
       "         1.46993988e+00,   1.47294589e+00,   1.47595190e+00,\n",
       "         1.47895792e+00,   1.48196393e+00,   1.48496994e+00,\n",
       "         1.48797595e+00,   1.49098196e+00,   1.49398798e+00,\n",
       "         1.49699399e+00,  -2.22044605e-16])"
      ]
     },
     "execution_count": 6,
     "metadata": {},
     "output_type": "execute_result"
    }
   ],
   "source": [
    "residuals(init)"
   ]
  },
  {
   "cell_type": "markdown",
   "metadata": {},
   "source": [
    "Now, we solve the BVP.\n",
    "\n"
   ]
  },
  {
   "cell_type": "code",
   "execution_count": 7,
   "metadata": {},
   "outputs": [
    {
     "name": "stdout",
     "output_type": "stream",
     "text": [
      "The solution converged.\n"
     ]
    },
    {
     "data": {
      "text/plain": [
       "<matplotlib.text.Text at 0x107ff10f0>"
      ]
     },
     "execution_count": 7,
     "metadata": {},
     "output_type": "execute_result"
    },
    {
     "data": {
      "image/png": "[encoded data removed]",
      "text/plain": [
       "<matplotlib.figure.Figure at 0x107a38128>"
      ]
     },
     "metadata": {},
     "output_type": "display_data"
    }
   ],
   "source": [
    "Y, info, status, msg = fsolve(residuals, init, full_output=1)\n",
    "print(msg)\n",
    "\n",
    "plt.plot(X, Y)\n",
    "plt.xlabel('x')\n",
    "plt.ylabel('y')"
   ]
  },
  {
   "cell_type": "code",
   "execution_count": 8,
   "metadata": {},
   "outputs": [
    {
     "data": {
      "text/plain": [
       "array([ -5.44978132e-19,   1.39611933e-10,   2.79348752e-10,\n",
       "         4.18838561e-10,   5.59607846e-10,   6.99661551e-10,\n",
       "         8.40660402e-10,   9.81589893e-10,   1.12381995e-09,\n",
       "         1.26530703e-09,   1.40882361e-09,   1.55214325e-09,\n",
       "         1.69620568e-09,   1.83954979e-09,   1.98397065e-09,\n",
       "         2.13065804e-09,   2.27424474e-09,   2.41959197e-09,\n",
       "         2.56503041e-09,   2.70819722e-09,   2.85300628e-09,\n",
       "         2.99380143e-09,   3.13669901e-09,   3.27657801e-09,\n",
       "         3.41332196e-09,   3.54855978e-09,   3.68028452e-09,\n",
       "         3.80947207e-09,   3.93323274e-09,   4.05103395e-09,\n",
       "         4.16579127e-09,   4.27386926e-09,   4.37451642e-09,\n",
       "         4.46551485e-09,   4.55246330e-09,   4.62499006e-09,\n",
       "         4.69163242e-09,   4.74412643e-09,   4.78464013e-09,\n",
       "         4.81301599e-09,   4.82670259e-09,   4.82755058e-09,\n",
       "         4.80906293e-09,   4.77219042e-09,   4.72117012e-09,\n",
       "         4.64808059e-09,   4.55820959e-09,   4.44502857e-09,\n",
       "         4.30692859e-09,   4.15119961e-09,   3.96880240e-09,\n",
       "         3.76050124e-09,   3.52920848e-09,   3.27093908e-09,\n",
       "         2.98318370e-09,   2.67163669e-09,   2.33283193e-09,\n",
       "         1.96296823e-09,   1.56045243e-09,   1.14506959e-09,\n",
       "         6.78401779e-10,   2.02567296e-10,  -3.08320702e-10,\n",
       "        -8.52806492e-10,  -1.41926093e-09,  -2.01285189e-09,\n",
       "        -2.63757394e-09,  -3.27868088e-09,  -3.95526656e-09,\n",
       "        -4.64282968e-09,  -5.36343570e-09,  -6.09818862e-09,\n",
       "        -6.85393653e-09,  -7.62190355e-09,  -8.40802783e-09,\n",
       "        -9.21079257e-09,  -1.00156907e-08,  -1.08342293e-08,\n",
       "        -1.16526759e-08,  -1.24772535e-08,  -1.33066025e-08,\n",
       "        -1.41178236e-08,  -1.49424988e-08,  -1.57387683e-08,\n",
       "        -1.65331715e-08,  -1.73071983e-08,  -1.80673785e-08,\n",
       "        -1.88021274e-08,  -1.95016798e-08,  -2.01828352e-08,\n",
       "        -2.08287581e-08,  -2.14343103e-08,  -2.20019860e-08,\n",
       "        -2.25198240e-08,  -2.30014154e-08,  -2.34156654e-08,\n",
       "        -2.38008884e-08,  -2.41040712e-08,  -2.43648259e-08,\n",
       "        -2.45502874e-08,  -2.46878775e-08,  -2.47337621e-08,\n",
       "        -2.47275367e-08,  -2.46433185e-08,  -2.44807306e-08,\n",
       "        -2.42484806e-08,  -2.39347755e-08,  -2.35387188e-08,\n",
       "        -2.30640540e-08,  -2.25216645e-08,  -2.18697240e-08,\n",
       "        -2.11667495e-08,  -2.03617725e-08,  -1.94803982e-08,\n",
       "        -1.85283835e-08,  -1.74838442e-08,  -1.63635134e-08,\n",
       "        -1.51681345e-08,  -1.39060727e-08,  -1.25628321e-08,\n",
       "        -1.11399037e-08,  -9.67927294e-09,  -8.11999290e-09,\n",
       "        -6.52582988e-09,  -4.86747842e-09,  -3.13920046e-09,\n",
       "        -1.38866763e-09,   4.24442259e-10,   2.27112062e-09,\n",
       "         4.15702273e-09,   6.07387718e-09,   7.99860334e-09,\n",
       "         9.96848137e-09,   1.19417283e-08,   1.39136955e-08,\n",
       "         1.59022213e-08,   1.78843573e-08,   1.98505465e-08,\n",
       "         2.18105860e-08,   2.37438795e-08,   2.56460118e-08,\n",
       "         2.75264609e-08,   2.93567803e-08,   3.11489445e-08,\n",
       "         3.28870027e-08,   3.45741389e-08,   3.61805370e-08,\n",
       "         3.77475518e-08,   3.92187076e-08,   4.06193366e-08,\n",
       "         4.19418027e-08,   4.31635472e-08,   4.43082662e-08,\n",
       "         4.53347999e-08,   4.62958396e-08,   4.71087107e-08,\n",
       "         4.78573692e-08,   4.84564713e-08,   4.89692464e-08,\n",
       "         4.93486327e-08,   4.96301196e-08,   4.97673873e-08,\n",
       "         4.98009858e-08,   4.97027686e-08,   4.94824821e-08,\n",
       "         4.91554377e-08,   4.86733531e-08,   4.81018905e-08,\n",
       "         4.73798434e-08,   4.65579142e-08,   4.56042197e-08,\n",
       "         4.45424173e-08,   4.33623311e-08,   4.20612201e-08,\n",
       "         4.06564202e-08,   3.91474688e-08,   3.75444951e-08,\n",
       "         3.58168948e-08,   3.40176949e-08,   3.21192506e-08,\n",
       "         3.01331269e-08,   2.80716894e-08,   2.59297042e-08,\n",
       "         2.37201057e-08,   2.14526270e-08,   1.91095653e-08,\n",
       "         1.67221181e-08,   1.43044983e-08,   1.18173729e-08,\n",
       "         9.30607080e-09,   6.78401868e-09,   4.22632795e-09,\n",
       "         1.64619007e-09,  -9.33253252e-10,  -3.51599416e-09,\n",
       "        -6.08265749e-09,  -8.66051009e-09,  -1.12032115e-08,\n",
       "        -1.37235101e-08,  -1.62235501e-08,  -1.86713625e-08,\n",
       "        -2.11009450e-08,  -2.34556687e-08,  -2.57633421e-08,\n",
       "        -2.80285899e-08,  -3.02013563e-08,  -3.23339242e-08,\n",
       "        -3.43592310e-08,  -3.63206270e-08,  -3.82106631e-08,\n",
       "        -3.99849354e-08,  -4.16767783e-08,  -4.32877596e-08,\n",
       "        -4.47785291e-08,  -4.61683922e-08,  -4.74602693e-08,\n",
       "        -4.86466085e-08,  -4.97140766e-08,  -5.06612293e-08,\n",
       "        -5.15157194e-08,  -5.22332350e-08,  -5.28523820e-08,\n",
       "        -5.33387858e-08,  -5.37129036e-08,  -5.39784641e-08,\n",
       "        -5.41067464e-08,  -5.41400536e-08,  -5.40476465e-08,\n",
       "        -5.38250249e-08,  -5.35197519e-08,  -5.30790215e-08,\n",
       "        -5.25314122e-08,  -5.18812588e-08,  -5.11296236e-08,\n",
       "        -5.02635876e-08,  -4.93109515e-08,  -4.82458048e-08,\n",
       "        -4.70978645e-08,  -4.58718569e-08,  -4.45251607e-08,\n",
       "        -4.31364851e-08,  -4.16423931e-08,  -4.00820991e-08,\n",
       "        -3.84597835e-08,  -3.67693056e-08,  -3.50024995e-08,\n",
       "        -3.31965477e-08,  -3.13472083e-08,  -2.94297112e-08,\n",
       "        -2.74938188e-08,  -2.54934208e-08,  -2.34871135e-08,\n",
       "        -2.14494865e-08,  -1.93768418e-08,  -1.72945201e-08,\n",
       "        -1.52064804e-08,  -1.31046557e-08,  -1.10109796e-08,\n",
       "        -8.89957408e-09,  -6.81051004e-09,  -4.74031492e-09,\n",
       "        -2.66117373e-09,  -6.28571972e-10,   1.39692191e-09,\n",
       "         3.38449602e-09,   5.33925737e-09,   7.25881955e-09,\n",
       "         9.14714648e-09,   1.09751103e-08,   1.27678776e-08,\n",
       "         1.45008707e-08,   1.61844180e-08,   1.78195436e-08,\n",
       "         1.93763654e-08,   2.08996408e-08,   2.23259088e-08,\n",
       "         2.37040247e-08,   2.50244019e-08,   2.62502906e-08,\n",
       "         2.74283120e-08,   2.85108132e-08,   2.95401489e-08,\n",
       "         3.04831470e-08,   3.13443108e-08,   3.21578449e-08,\n",
       "         3.28641184e-08,   3.35002256e-08,   3.40688155e-08,\n",
       "         3.45611603e-08,   3.49624999e-08,   3.53020664e-08,\n",
       "         3.55606757e-08,   3.57470873e-08,   3.58670851e-08,\n",
       "         3.58953092e-08,   3.58611336e-08,   3.57788643e-08,\n",
       "         3.55942945e-08,   3.53633298e-08,   3.50745755e-08,\n",
       "         3.46957200e-08,   3.42795167e-08,   3.38034064e-08,\n",
       "         3.32610869e-08,   3.26753361e-08,   3.20242800e-08,\n",
       "         3.13303956e-08,   3.05944288e-08,   2.98157738e-08,\n",
       "         2.89821975e-08,   2.81189654e-08,   2.72173800e-08,\n",
       "         2.62846728e-08,   2.53151239e-08,   2.43205683e-08,\n",
       "         2.33028541e-08,   2.22579966e-08,   2.11846375e-08,\n",
       "         2.01177622e-08,   1.90003285e-08,   1.79123231e-08,\n",
       "         1.67786251e-08,   1.56549266e-08,   1.45210223e-08,\n",
       "         1.33890874e-08,   1.22579652e-08,   1.11202553e-08,\n",
       "         9.99505756e-09,   8.87548957e-09,   7.76381442e-09,\n",
       "         6.65621502e-09,   5.58093932e-09,   4.50279170e-09,\n",
       "         3.44002793e-09,   2.42079101e-09,   1.38847739e-09,\n",
       "         3.96104816e-10,  -5.74252368e-10,  -1.51090912e-09,\n",
       "        -2.44637022e-09,  -3.33210420e-09,  -4.19158758e-09,\n",
       "        -5.04041864e-09,  -5.83489757e-09,  -6.60926264e-09,\n",
       "        -7.35190009e-09,  -8.06233569e-09,  -8.73388939e-09,\n",
       "        -9.37926131e-09,  -9.98134325e-09,  -1.05629936e-08,\n",
       "        -1.10921199e-08,  -1.15954988e-08,  -1.20736000e-08,\n",
       "        -1.24921158e-08,  -1.28997359e-08,  -1.32565078e-08,\n",
       "        -1.35880659e-08,  -1.38855824e-08,  -1.41446714e-08,\n",
       "        -1.43641103e-08,  -1.45664444e-08,  -1.47225216e-08,\n",
       "        -1.48638317e-08,  -1.49468671e-08,  -1.50227087e-08,\n",
       "        -1.50619325e-08,  -1.50633722e-08,  -1.50538054e-08,\n",
       "        -1.50050587e-08,  -1.49386609e-08,  -1.48309294e-08,\n",
       "        -1.47054192e-08,  -1.45742802e-08,  -1.44005150e-08,\n",
       "        -1.42134568e-08,  -1.39899435e-08,  -1.37780847e-08,\n",
       "        -1.35242167e-08,  -1.32599586e-08,  -1.29723138e-08,\n",
       "        -1.26883505e-08,  -1.23737679e-08,  -1.20463481e-08,\n",
       "        -1.17175049e-08,  -1.13753880e-08,  -1.10100230e-08,\n",
       "        -1.06531618e-08,  -1.02730991e-08,  -9.91204310e-09,\n",
       "        -9.51272988e-09,  -9.12579778e-09,  -8.73768588e-09,\n",
       "        -8.34023173e-09,  -7.94588759e-09,  -7.54093826e-09,\n",
       "        -7.14282625e-09,  -6.74033745e-09,  -6.35161806e-09,\n",
       "        -5.95808422e-09,  -5.54911306e-09,  -5.17453957e-09,\n",
       "        -4.78951376e-09,  -4.39676032e-09,  -4.03091840e-09,\n",
       "        -3.65258718e-09,  -3.29861452e-09,  -2.94243480e-09,\n",
       "        -2.58936877e-09,  -2.24120403e-09,  -1.92315150e-09,\n",
       "        -1.58619959e-09,  -1.27270756e-09,  -9.71318914e-10,\n",
       "        -6.71954978e-10,  -3.79939455e-10,  -1.09611931e-10,\n",
       "         1.63680375e-10,   4.26855273e-10,   6.62535207e-10,\n",
       "         9.03596920e-10,   1.12832206e-09,   1.34882858e-09,\n",
       "         1.55443004e-09,   1.74457701e-09,   1.92731420e-09,\n",
       "         2.11065578e-09,   2.26594278e-09,   2.41581093e-09,\n",
       "         2.57016147e-09,   2.69603907e-09,   2.81916793e-09,\n",
       "         2.93890647e-09,   3.03249321e-09,   3.12880387e-09,\n",
       "         3.21606601e-09,   3.29441342e-09,   3.35949217e-09,\n",
       "         3.42058296e-09,   3.46327428e-09,   3.51593592e-09,\n",
       "         3.54313623e-09,   3.57413740e-09,   3.58956030e-09,\n",
       "         3.60133588e-09,   3.61539898e-09,   3.60781940e-09,\n",
       "         3.60492118e-09,   3.58358075e-09,   3.57194466e-09,\n",
       "         3.54972259e-09,   3.51414255e-09,   3.48412407e-09,\n",
       "         3.44887911e-09,   3.39933241e-09,   3.35297384e-09,\n",
       "         3.30253708e-09,   3.24750495e-09,   3.19124409e-09,\n",
       "         3.13116735e-09,   3.06270123e-09,   2.99722609e-09,\n",
       "         2.92463141e-09,   2.86582967e-09,   2.77991993e-09,\n",
       "         2.70665571e-09,   2.63254479e-09,   2.55004445e-09,\n",
       "         2.46883368e-09,   2.39944194e-09,   2.30890466e-09,\n",
       "         2.22193103e-09,   2.14255399e-09,   2.05830780e-09,\n",
       "         1.97926177e-09,   1.88717885e-09,   1.80925441e-09,\n",
       "         1.71201368e-09,   1.64427631e-09,   1.54120135e-09,\n",
       "         1.47795075e-09,   1.37023142e-09,   1.31093571e-09,\n",
       "         1.20865335e-09,   1.13106408e-09,   1.05457751e-09,\n",
       "         9.72550984e-10,   8.86669016e-10,   8.12175237e-10,\n",
       "         7.27597163e-10,   6.56023139e-10,   5.80545015e-10,\n",
       "         4.97792654e-10,   4.23500006e-10,   3.56474940e-10,\n",
       "         2.76955292e-10,   2.07578184e-10,   1.43035785e-10,\n",
       "         6.23736965e-11,   0.00000000e+00])"
      ]
     },
     "execution_count": 8,
     "metadata": {},
     "output_type": "execute_result"
    }
   ],
   "source": [
    "residuals(Y)"
   ]
  },
  {
   "cell_type": "markdown",
   "metadata": {},
   "source": [
    "The solution is jagged because we only used about 10 points. How can you tell if the solution is correct? We can estimate the derivatives, and see how well they fit the equation. We look for:\n",
    "\n",
    "$y'' + 3 y y' = 0$ for all $x$.\n",
    "\n"
   ]
  },
  {
   "cell_type": "code",
   "execution_count": 9,
   "metadata": {},
   "outputs": [
    {
     "data": {
      "text/plain": [
       "<matplotlib.text.Text at 0x107f96c50>"
      ]
     },
     "execution_count": 9,
     "metadata": {},
     "output_type": "execute_result"
    },
    {
     "data": {
      "image/png": "[encoded data removed]",
      "text/plain": [
       "<matplotlib.figure.Figure at 0x10806f1d0>"
      ]
     },
     "metadata": {},
     "output_type": "display_data"
    }
   ],
   "source": [
    "yp = np.gradient(Y, X, edge_order=2)\n",
    "ypp = np.gradient(yp, X, edge_order=2)\n",
    "\n",
    "plt.plot(X, ypp + 3 * Y * yp)\n",
    "plt.xlabel('x')\n",
    "plt.ylabel('residuals')"
   ]
  },
  {
   "cell_type": "code",
   "execution_count": 10,
   "metadata": {},
   "outputs": [],
   "source": [
    "np.gradient?"
   ]
  },
  {
   "cell_type": "markdown",
   "metadata": {},
   "source": [
    "This result doesn't look great at the origin, but remember:\n",
    "\n",
    "1.  we used a coarse grid, so the derivative *approximations* are probably not that accurate\n",
    "2.  Numerical derivatives at the end-points are less accurate than in the middle.\n",
    "\n",
    "**exercise** Go back and repeat this for a finer grid, e.g. with 50, 100 points.\n",
    "\n",
    "The approach described here is pretty general. Here, we were able to solve a second-order BVP by discretizing it, approximating the derivatives at the points, and solving the corresponding nonlinear algebra equations. This approach can be extended in a variety of ways, including to systems of equations, and to 2D or 3D systems (where this approach is called finite-element). You will see these kinds of problems extensively in the spring semster in the Transport class.\n",
    "\n",
    "As we have seen before, however, there are functions in `scipy` that can help solve these problems.\n",
    "\n"
   ]
  },
  {
   "cell_type": "markdown",
   "metadata": {},
   "source": [
    "\n",
    "# Introduction to solve\\_bvp\n",
    "\n"
   ]
  },
  {
   "cell_type": "code",
   "execution_count": 11,
   "metadata": {},
   "outputs": [],
   "source": [
    "from scipy.integrate import solve_bvp\n",
    "\n",
    "solve_bvp?"
   ]
  },
  {
   "cell_type": "markdown",
   "metadata": {},
   "source": [
    "\n",
    "## A worked bvp problem\n",
    "\n"
   ]
  },
  {
   "cell_type": "markdown",
   "metadata": {},
   "source": [
    "In the pressure driven flow of a fluid with viscosity $\\mu$ between two stationary plates separated by distance $d$ and driven by a pressure drop $\\Delta P/\\Delta x$, the governing equations on the velocity $u$ of the fluid are (assuming flow in the x-direction with the velocity varying only in the y-direction):\n",
    "\n",
    "$$\\frac{\\Delta P}{\\Delta x} = \\mu \\frac{d^2u}{dy^2}$$\n",
    "\n",
    "with boundary conditions $u(y=0) = 0$ and $u(y=d) = 0$, i.e. the no-slip condition at the edges of the plate.\n",
    "\n",
    "we convert this second order BVP to a system of ODEs by letting $u_1 = u$, $u_2 = u_1'$ and then $u_2' = u_1''$. This leads to:\n",
    "\n",
    "$\\frac{d u_1}{dy} = u_2$\n",
    "\n",
    "$\\frac{d u_2}{dy} = \\frac{1}{\\mu}\\frac{\\Delta P}{\\Delta x}$\n",
    "\n",
    "with boundary conditions $u_1(y=0) = 0$ and $u_1(y=d) = 0$.\n",
    "\n",
    "for this problem we let the plate separation be d=0.1, the viscosity $\\mu = 1$, and $\\frac{\\Delta P}{\\Delta x} = -100$.\n",
    "\n"
   ]
  },
  {
   "cell_type": "code",
   "execution_count": 12,
   "metadata": {},
   "outputs": [],
   "source": [
    "import numpy as np\n",
    "\n",
    "d = 0.1\n",
    "mu = 1\n",
    "deltaPdeltax = -100"
   ]
  },
  {
   "cell_type": "markdown",
   "metadata": {},
   "source": [
    "The function defining the BVP has to return an array that has a row for each equation, and a column for each value in the grid.\n",
    "\n"
   ]
  },
  {
   "cell_type": "code",
   "execution_count": 13,
   "metadata": {},
   "outputs": [],
   "source": [
    "def bvp(y, U):\n",
    "    u1, u2 = U\n",
    "    du1dy = u2\n",
    "    du2dy = np.ones(y.shape) / mu * deltaPdeltax  # subtle point, this must be an array\n",
    "    return [du1dy, du2dy]"
   ]
  },
  {
   "cell_type": "markdown",
   "metadata": {},
   "source": [
    "The boundary condition function will get the whole numeric solution at each boundary. We want $u1(a) = 0$ and $u1(b)=0$.\n",
    "\n"
   ]
  },
  {
   "cell_type": "code",
   "execution_count": 14,
   "metadata": {},
   "outputs": [],
   "source": [
    "def bc(Ua, Ub):\n",
    "    u1a, u2a = Ua\n",
    "    u1b, u2b = Ub\n",
    "    return [u1a, u1b]  # u1(a)=0 and u1(b)=0"
   ]
  },
  {
   "cell_type": "markdown",
   "metadata": {},
   "source": [
    "Next, we need an initial guess for u1 and u2 on a grid of points. You have to make some decisions here. You need a guess that is reasonably close, but not hard to construct. Here, we anticipate a solution that looks parabolic, and that goes through the points: (0, 0), (d, 0), and some point at (d / 2, ?), where ? represents the point of maximum velocity in middle. We can easily get this polynomial with np.polyfit.\n",
    "\n",
    "We don't know what the maximum velocity is, so we make a guess, say 0.5. Then, we get the parameters, and apply them to an array of y values.\n",
    "\n"
   ]
  },
  {
   "cell_type": "code",
   "execution_count": 15,
   "metadata": {},
   "outputs": [
    {
     "data": {
      "text/plain": [
       "array([ -2.00000000e+02,   2.00000000e+01,  -4.48803257e-16])"
      ]
     },
     "execution_count": 15,
     "metadata": {},
     "output_type": "execute_result"
    }
   ],
   "source": [
    "pars = np.polyfit([0, d / 2, d], [0, 0.5, 0], 2)\n",
    "pars"
   ]
  },
  {
   "cell_type": "markdown",
   "metadata": {},
   "source": [
    "Now, we can define a Y grid and define the guess for the first U1.\n",
    "\n"
   ]
  },
  {
   "cell_type": "code",
   "execution_count": 36,
   "metadata": {},
   "outputs": [
    {
     "data": {
      "text/plain": [
       "[<matplotlib.lines.Line2D at 0x111aa8710>]"
      ]
     },
     "execution_count": 36,
     "metadata": {},
     "output_type": "execute_result"
    },
    {
     "data": {
      "image/png": "[encoded data removed]",
      "text/plain": [
       "<matplotlib.figure.Figure at 0x11138bac8>"
      ]
     },
     "metadata": {},
     "output_type": "display_data"
    }
   ],
   "source": [
    "Y = np.linspace(0, d)\n",
    "\n",
    "lp1 = np.polyfit([0, d/2], [0, 0.25], 1)\n",
    "lp2 = np.polyfit([d/2, d], [0.25, 0], 1)\n",
    "\n",
    "U1 = np.zeros(Y.shape)\n",
    "\n",
    "#ind1 = Y <= d/2\n",
    "#U1[ind1] = np.polyval(lp1, Y[ind1])\n",
    "\n",
    "#ind2 = Y > d/2\n",
    "#U1[ind2] = np.polyval(lp2, Y[ind2])\n",
    "\n",
    "# triangle wave\n",
    "#for i, y in enumerate(Y):\n",
    "#    if y < d / 2:\n",
    "#        U1[i] = np.polyval(lp1, y)\n",
    "#    else:\n",
    "#        U1[i] = np.polyval(lp2, y)\n",
    " \n",
    "U1 = 0.25 * np.sin(Y / d * np.pi)    \n",
    "plt.plot(Y, U1)"
   ]
  },
  {
   "cell_type": "markdown",
   "metadata": {},
   "source": [
    "We also need a guess for U2, and in this case we know that $u2 = u1'$, so we just use that.\n",
    "\n"
   ]
  },
  {
   "cell_type": "code",
   "execution_count": 37,
   "metadata": {},
   "outputs": [
    {
     "name": "stdout",
     "output_type": "stream",
     "text": [
      "(2, 50)\n"
     ]
    }
   ],
   "source": [
    "U2 = np.gradient(U1, Y, edge_order=2)\n",
    "\n",
    "U = np.array([U1, U2])\n",
    "print(U.shape)"
   ]
  },
  {
   "cell_type": "markdown",
   "metadata": {},
   "source": [
    "You should *always* visualize the guess to make sure it does what you want. It is **hard** to make these!\n",
    "\n"
   ]
  },
  {
   "cell_type": "code",
   "execution_count": 39,
   "metadata": {},
   "outputs": [
    {
     "data": {
      "text/plain": [
       "<matplotlib.legend.Legend at 0x111dca9e8>"
      ]
     },
     "execution_count": 39,
     "metadata": {},
     "output_type": "execute_result"
    },
    {
     "data": {
      "image/png": "[encoded data removed]",
      "text/plain": [
       "<matplotlib.figure.Figure at 0x111a834a8>"
      ]
     },
     "metadata": {},
     "output_type": "display_data"
    }
   ],
   "source": [
    "%matplotlib inline\n",
    "import matplotlib.pyplot as plt\n",
    "plt.plot(Y, U[0], 'b-', label='u1')\n",
    "plt.gca().tick_params('y', colors='b')  # makes the y-axis blue\n",
    "plt.ylabel('u1')\n",
    "plt.legend(loc='center left')\n",
    "\n",
    "plt.twinx()\n",
    "plt.plot(Y, U[1], 'r', label='u2')\n",
    "plt.gca().tick_params('y', colors='r')  # makes y-axis 2 red\n",
    "plt.ylabel('u2')\n",
    "plt.legend()"
   ]
  },
  {
   "cell_type": "markdown",
   "metadata": {},
   "source": [
    "Now, we are ready to solve the BVP.\n",
    "\n"
   ]
  },
  {
   "cell_type": "code",
   "execution_count": 40,
   "metadata": {},
   "outputs": [
    {
     "name": "stdout",
     "output_type": "stream",
     "text": [
      "The algorithm converged to the desired accuracy.\n"
     ]
    },
    {
     "data": {
      "text/plain": [
       "<matplotlib.text.Text at 0x111d02a58>"
      ]
     },
     "execution_count": 40,
     "metadata": {},
     "output_type": "execute_result"
    },
    {
     "data": {
      "image/png": "[encoded data removed]",
      "text/plain": [
       "<matplotlib.figure.Figure at 0x110b549e8>"
      ]
     },
     "metadata": {},
     "output_type": "display_data"
    }
   ],
   "source": [
    "from scipy.integrate import solve_bvp\n",
    "\n",
    "sol = solve_bvp(bvp, bc, Y, U)\n",
    "print(sol.message)\n",
    "plt.plot(sol.x, sol.y[0])\n",
    "plt.xlabel('y')\n",
    "plt.ylabel('U')"
   ]
  },
  {
   "cell_type": "markdown",
   "metadata": {},
   "source": [
    "**exercise** Try using different guesses, e.g. lines, or triangle shapes, etc. What else looks like this shape? Half a cycle of a sin wave? A semi-circle?\n",
    "\n"
   ]
  },
  {
   "cell_type": "markdown",
   "metadata": {},
   "source": [
    "\n",
    "## Concentration profile in a particle\n",
    "\n"
   ]
  },
  {
   "cell_type": "markdown",
   "metadata": {},
   "source": [
    "Another typical boundary value problem in chemical engineering is the concentration profile inside a catalyst particle. Here is the dimensionless equation for a second order reaction in a slab. Note here we have a boundary condition on the derivative at the origin. This kind of condition means either there is no flux at this position, or that the slab is symmetric about this position.\n",
    "\n",
    "$\\frac{d^2c}{dx^2} = \\Phi^2 c^2$\n",
    "\n",
    "with $c'(0)$ = 0 and $c(1) = 1$\n",
    "\n",
    "We again convert this to a system of first order differential equations like this:\n",
    "\n",
    "Let c1 = c, c1' = c', and c2 = c1', so c2' = c1'' = c''\n",
    "\n",
    "Then we have:\n",
    "\n",
    "$c1' = c2$\n",
    "\n",
    "$c2' = \\Phi^2 c1^2$\n",
    "\n",
    "with boundary conditions $c1'(0) = 0$ and $c1(1) = 1$.\n",
    "\n",
    "We begin with the required functions:\n",
    "\n"
   ]
  },
  {
   "cell_type": "code",
   "execution_count": 57,
   "metadata": {},
   "outputs": [],
   "source": [
    "Phi = 0.050\n",
    "\n",
    "def bvp(x, C):\n",
    "    c1, c2 = C\n",
    "    dc1dx = c2\n",
    "    dc2dx = Phi**2 * c1**2\n",
    "    return [dc1dx, dc2dx]\n",
    "\n",
    "def bc(Ca, Cb):\n",
    "    c1a, c2a = Ca\n",
    "    c1b, c2b = Cb\n",
    "\n",
    "    # Now, evaluate the derivatives at the first boundary condition\n",
    "    #c1prime, c2prime = bvp(0, [c1a, c2a])\n",
    "    # c2 = c1', so c2a=0 is also a good way to set this boundary condition\n",
    "    return [c2a,  # will all equal zero\n",
    "            c1b - 1]  # c1(b) = 1"
   ]
  },
  {
   "cell_type": "markdown",
   "metadata": {},
   "source": [
    "We need an initial guess. We make a naive one, that $c(x) = 1$ in the slab, i.e. there is no reaction. As usual, we visualize the guess to be sure it does what we intended.\n",
    "\n"
   ]
  },
  {
   "cell_type": "code",
   "execution_count": 58,
   "metadata": {},
   "outputs": [
    {
     "data": {
      "text/plain": [
       "[<matplotlib.lines.Line2D at 0x1127426d8>,\n",
       " <matplotlib.lines.Line2D at 0x112742fd0>]"
      ]
     },
     "execution_count": 58,
     "metadata": {},
     "output_type": "execute_result"
    },
    {
     "data": {
      "image/png": "[encoded data removed]",
      "text/plain": [
       "<matplotlib.figure.Figure at 0x112518ba8>"
      ]
     },
     "metadata": {},
     "output_type": "display_data"
    }
   ],
   "source": [
    "X = np.linspace(0, 1)\n",
    "\n",
    "C1 = np.ones(X.shape)\n",
    "C2 = np.gradient(C1, X)\n",
    "\n",
    "plt.plot(X, C1, X, C2)"
   ]
  },
  {
   "cell_type": "markdown",
   "metadata": {},
   "source": [
    "Now we solve the system.\n",
    "\n"
   ]
  },
  {
   "cell_type": "code",
   "execution_count": 59,
   "metadata": {},
   "outputs": [
    {
     "data": {
      "text/plain": [
       "'The algorithm converged to the desired accuracy.'"
      ]
     },
     "execution_count": 59,
     "metadata": {},
     "output_type": "execute_result"
    }
   ],
   "source": [
    "C = [C1, C2]  # Combine into a single guess for the solution\n",
    "sol = solve_bvp(bvp, bc, X, C)\n",
    "sol.message"
   ]
  },
  {
   "cell_type": "code",
   "execution_count": 60,
   "metadata": {},
   "outputs": [
    {
     "data": {
      "text/plain": [
       "array([ 0.99955082,  0.00199607])"
      ]
     },
     "execution_count": 60,
     "metadata": {},
     "output_type": "execute_result"
    }
   ],
   "source": [
    "sol.sol(0.8)"
   ]
  },
  {
   "cell_type": "code",
   "execution_count": 64,
   "metadata": {},
   "outputs": [
    {
     "data": {
      "text/plain": [
       "(0, 1)"
      ]
     },
     "execution_count": 64,
     "metadata": {},
     "output_type": "execute_result"
    },
    {
     "data": {
      "image/png": "[encoded data removed]",
      "text/plain": [
       "<matplotlib.figure.Figure at 0x1128e5080>"
      ]
     },
     "metadata": {},
     "output_type": "display_data"
    }
   ],
   "source": [
    "plt.plot(sol.x, sol.y[0] - 1)\n",
    "plt.xlabel('x')\n",
    "plt.ylabel('C')\n",
    "plt.xlim([0, 1])\n",
    "#plt.ylim([0, 1.1])"
   ]
  },
  {
   "cell_type": "markdown",
   "metadata": {},
   "source": [
    "You can see the solution looks nothing like our initial guess. In this case, a high thiele modulus means most of the reaction happens near the catalyst surface, and the interior of the slab has hardly any reactant in it. This solution is consistent with that.\n",
    "\n",
    "The effectiveness factor for this system is defined by:\n",
    "\n",
    "$E = \\int_0^1 c^2 dx$\n",
    "\n",
    "We can estimate this with the trapezoid or Simpson's method (remember that the solution is a vector of numbers).\n",
    "\n"
   ]
  },
  {
   "cell_type": "code",
   "execution_count": 1,
   "metadata": {},
   "outputs": [
    {
     "name": "stdout",
     "output_type": "stream",
     "text": [
      "0.016528962861\n",
      "0.0163346209448"
     ]
    }
   ],
   "source": [
    "c = sol.y[0]\n",
    "print(np.trapz(c**2, sol.x))\n",
    "\n",
    "from scipy.integrate import simps\n",
    "print(simps(c**2, sol.x))"
   ]
  },
  {
   "cell_type": "markdown",
   "metadata": {},
   "source": [
    "Or, we can use the dense\\_output of the solution with quad.\n",
    "\n"
   ]
  },
  {
   "cell_type": "code",
   "execution_count": 1,
   "metadata": {},
   "outputs": [
    {
     "name": "stdout",
     "output_type": "stream",
     "text": [
      "(0.016329985883573546, 9.761482252679577e-09)"
     ]
    }
   ],
   "source": [
    "from scipy.integrate import quad\n",
    "\n",
    "def integrand(x):\n",
    "    c1, c2 = sol.sol(x)\n",
    "    return c1**2\n",
    "\n",
    "quad(integrand, 0, 1)"
   ]
  },
  {
   "cell_type": "markdown",
   "metadata": {},
   "source": [
    "**excercise** Repeat this example for different values of &Phi;.\n",
    "\n",
    "**exercise** Try different kinds of guesses. Think of a guess that has the properties of the boundary conditions, e.g. c'(0) = 0, and c(1) = 1.\n",
    "\n",
    "**exercise** Evaluate the quality of the solution based on the equations.\n",
    "\n"
   ]
  },
  {
   "cell_type": "markdown",
   "metadata": {},
   "source": [
    "\n",
    "# Summary\n",
    "\n"
   ]
  },
  {
   "cell_type": "markdown",
   "metadata": {},
   "source": [
    "Today, we leveraged the ability to solve systems of nonlinear algebraic equations to solve boundary value problems by discretizing them on a grid, approximating them at the grid points, and then solving the resulting nonlinear equations.\n",
    "\n",
    "We also learned about the solve\\_bvp function, which is in scipy.integrate to solve systems of first-order boundary value problems.\n",
    "\n",
    "Next time, we will return to nonlinear algebra to see how the algorithms can be used to find minima and maxima.\n",
    "\n"
   ]
  }
 ],
 "metadata": {
  "kernelspec": {
   "display_name": "Python 3",
   "language": "python",
   "name": "python3"
  },
  "language_info": {
   "codemirror_mode": {
    "name": "ipython",
    "version": 3
   },
   "file_extension": ".py",
   "mimetype": "text/x-python",
   "name": "python",
   "nbconvert_exporter": "python",
   "pygments_lexer": "ipython3",
   "version": "3.6.5"
  },
  "org": {
   "KEYWORDS": "scipy.integrate.solve_bvp, numpy.polyfit"
  }
 },
 "nbformat": 4,
 "nbformat_minor": 1
}
