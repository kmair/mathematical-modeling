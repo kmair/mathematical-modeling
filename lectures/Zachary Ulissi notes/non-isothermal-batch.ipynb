{
 "cells": [
  {
   "cell_type": "markdown",
   "metadata": {},
   "source": [
    "\n",
    "# The energy balance and the batch reactor\n",
    "\n"
   ]
  },
  {
   "cell_type": "markdown",
   "metadata": {},
   "source": [
    "-   There are no flows in the batch reactor\n",
    "\n",
    "-   The mole balances are\n",
    "\n",
    "\\begin{align}\n",
    "\\frac{dn_j}{dt} = r_j V\n",
    "\\end{align}\n",
    "\n",
    "-   We assume the volume is constant and pressure is constant\n",
    "    -   This is practically valid for liquid phase reactions and constant mole reactions\n",
    "\n",
    "-   The energy balance becomes\n",
    "\n",
    "\\begin{align}\n",
    "\\sum N_j C_{p,j} \\frac{dT}{dt} = - \\sum H_j \\alpha_j r V + \\dot{W}_s + \\dot{Q}\n",
    "\\end{align}\n",
    "\n",
    "-   Recall that $\\Delta H_{rx} = \\sum \\alpha_j H_j$\n",
    "\n",
    "-   This leads to\n",
    "\n",
    "\\begin{align}\n",
    "\\sum N_j C_{p,j} \\frac{dT}{dt} = - \\Delta H_{rx} r V + \\dot{W}_s + \\dot{Q}\n",
    "\\end{align}\n"
   ]
  },
  {
   "cell_type": "markdown",
   "metadata": {},
   "source": [
    "\n",
    "## Constant volume, adiabatic batch reactor\n",
    "\n"
   ]
  },
  {
   "cell_type": "markdown",
   "metadata": {},
   "source": [
    "-   Let us consider a constant volume, adiabatic batch reactor\n",
    "    -   Adiabatic means no heat enters or leaves the reactor, $\\dot{Q} = 0$\n",
    "    -   We will neglect any shaft work $\\dot{W}_S=0$\n",
    "\n",
    "-   We consider the reaction $A + B \\rightarrow C$\n",
    "    -   Since this is a liquid reaction, we assume constant pressure\n",
    "\n",
    "-   The reaction mixture starts at 27 \\degC with initial concentrations of $A$ and $B$ at 2 M, and no C\n",
    "\n",
    "-   The heat of reaction is -10 kcal/mol\n",
    "\n",
    "-   The partial molar heat capacities are $\\overline{C}_{pA} = \\overline{C}_{pB} = 20$ cal/(mol K) and  $\\overline{C}_{pC} = 40$ cal/mol/K.\n",
    "\n",
    "-   The rate constant is $k = 0.01725$ L/mol/min at 27 \\degC and the activation energy is 1500 cal/mol/K\n",
    "\n",
    "-   The reactor volume is 1200 L\n",
    "\n",
    "-   We will neglect the temperature dependence of the rate constant and reaction enthalpy\n",
    "\n",
    "-   We will assume the reaction is liquid phase and it is incompressible\n",
    "\n",
    "-   We want to plot the temperature and concentration vs. time\n",
    "\n",
    "-   Since the reactor is adiabatic $\\dot{Q}=0$\n",
    "\n",
    "-   We are left with this for the energy balance:\n",
    "\n",
    "$$\\frac{dT}{dt} =  \\frac{-\\Delta H_R\\; r\\; V_r}{ \\sum N_i C_{p,i} } $$\n",
    "\n",
    "-   We can relate the number of moles of $A$, $B$ and $C$ via the reaction extent and stoichiometry.\n",
    "\n"
   ]
  },
  {
   "cell_type": "code",
   "execution_count": 2,
   "metadata": {},
   "outputs": [
    {
     "data": {
      "image/png": "[encoded data removed]",
      "text/plain": [
       "<matplotlib.figure.Figure at 0x7f87ab1bfe10>"
      ]
     },
     "metadata": {},
     "output_type": "display_data"
    }
   ],
   "source": [
    "import numpy as np\n",
    "from scipy.integrate import odeint\n",
    "\n",
    "V = 1200.0 # L\n",
    "T0 = 273.15 + 27\n",
    "CA0 = CB0 = 2.0\n",
    "CC0 = 0.0\n",
    "\n",
    "# heat capacities\n",
    "cpa = cpb = 20.0  # cal/mol/K\n",
    "cpc = 40.0        # cal/mol/K\n",
    "\n",
    "# rate constants\n",
    "k0 = 0.01725      # L / mol / min at 27 degC\n",
    "E = 1500.0        # cal/mol\n",
    "R = 1.987         # cal/mol/K\n",
    "dH = -10000.0     # cal/mol\n",
    "\n",
    "def adiabatic_batch(Y, t):\n",
    "    na, T = Y\n",
    "\n",
    "    # extent based on moles\n",
    "    xi = (na - CA0 * V) / -1.0\n",
    "    nb = CB0 * V - xi\n",
    "    nc = CC0 * V + xi\n",
    "\n",
    "    # concentrations\n",
    "    Ca = na / V\n",
    "    Cb = nb / V\n",
    "\n",
    "    # temperature dependent rate constant\n",
    "    k = k0 * np.exp(-E / R * (1.0 / T - 1.0 / T0))\n",
    "    r = k * Ca * Cb\n",
    "\n",
    "    dnadt = -r * V\n",
    "\n",
    "    # energy balance\n",
    "    dTdt = -(dH * r * V)/(na * cpa + nb * cpb + nc * cpc)\n",
    "    return [dnadt, dTdt]\n",
    "\n",
    "# initial conditions\n",
    "Y0 = [V * CA0, T0]\n",
    "\n",
    "tspan = np.linspace(0, 200)\n",
    "sol = odeint(adiabatic_batch, Y0, tspan)\n",
    "\n",
    "import matplotlib.pyplot as plt\n",
    "plt.plot(tspan, sol[:,1])\n",
    "plt.xlabel('Time (min)')\n",
    "plt.ylabel('Temperature (K)')\n",
    "plt.show()"
   ]
  },
  {
   "cell_type": "markdown",
   "metadata": {},
   "source": [
    "\n",
    "-   You can see that because of the exothermic reaction, the temperature increases signifcantly, from about 300K to almost 550 K.\n",
    "    -   This increases the rate constant and the reaction rate\n",
    "\n",
    "-   The temperature rise begins to slow because the reaction rate slows down due to consumption of reactants\n",
    "\n",
    "-   Considering  a solvent like water would boil at about 373K there may be a safety concern here as the pressure would then start to significantly increase in the reactor\n",
    "\n"
   ]
  },
  {
   "cell_type": "markdown",
   "metadata": {},
   "source": [
    "\n",
    "## Batch with heat exchanger\n",
    "\n"
   ]
  },
  {
   "cell_type": "markdown",
   "metadata": {},
   "source": [
    "-   Let us reconsider the last example, but now add a heat exchanger.\n",
    "    -   This could be as simple as immersing the batch reactor in a coolant that is well-stirred and at constant temperature\n",
    "    -   Or it could be a heat exchanger immersed in the reactor\n",
    "\n",
    "![img](./images/batch-reactor-heat-exchange.png)\n",
    "\n",
    "-   Now $\\dot{Q} \\ne 0$\n",
    "-   We need a model for the heat exchange\n",
    "-   A common model is $\\dot{Q} = Ua(T_{coolant} - T)$\n",
    "    -   $Ua$ is an overall heat transfer coefficient with units energy / volume / time\n",
    "    -   If $T > T_{coolant}$ there is loss of heat from the reactor\n",
    "    -   We write the heat transfer this way so we can *add* $\\dot{Q}$ in the energy balance\n",
    "\n",
    "-   Let $UA = 5000$ cal/L/min, and the temperature of the coolant be 77 \\degC\n",
    "\n",
    "-   The energy balance becomes\n",
    "\n",
    "$$\\frac{dT}{dt} =  \\frac{-\\Delta H_R r V_r + Ua(T_{coolant} - T)}{ \\sum n_i C_{p,i} } $$\n",
    "\n"
   ]
  },
  {
   "cell_type": "code",
   "execution_count": 9,
   "metadata": {},
   "outputs": [
    {
     "data": {
      "image/png": "[encoded data removed]",
      "text/plain": [
       "<matplotlib.figure.Figure at 0x7f87ab208e48>"
      ]
     },
     "metadata": {},
     "output_type": "display_data"
    }
   ],
   "source": [
    "import numpy as np\n",
    "from scipy.integrate import odeint\n",
    "\n",
    "V = 1200.0 # L\n",
    "T0 = 273.15 + 27\n",
    "CA0 = CB0 = 2.0\n",
    "CC0 = 0.0\n",
    "\n",
    "cpa = cpb = 20.0  # cal/mol/K\n",
    "cpc = 40.0        # cal/mol/K\n",
    "\n",
    "k0 = 0.01725    # L / mol / min at 27 degC\n",
    "E = 1500.0     # cal/mol\n",
    "R = 1.987       # cal/mol/K\n",
    "dH = -10000.0  # cal/mol\n",
    "\n",
    "Ua = 20000 # overall heat transfer coefficient\n",
    "Tcoolant = 77 + 273.15  # coolant temperature\n",
    "\n",
    "def batch(Y, t):\n",
    "    na, T = Y\n",
    "    xi = (na - CA0*V) / -1.0\n",
    "    nb = CB0 * V - xi\n",
    "    nc = CC0 * V + xi\n",
    "\n",
    "    Ca = na / V\n",
    "    Cb = nb / V\n",
    "    k = k0 * np.exp(-E / R * (1.0 / T - 1.0 / T0))\n",
    "    r = k * Ca * Cb\n",
    "    ra = -r\n",
    "\n",
    "    Qdot = Ua*(Tcoolant - T)\n",
    "\n",
    "    dnadt = ra * V\n",
    "    dTdt = (-dH * r * V + Qdot)/(na * cpa + nb * cpb + nc * cpc)\n",
    "    return [dnadt, dTdt]\n",
    "\n",
    "\n",
    "Y0 = [V * CA0, T0]\n",
    "\n",
    "tspan = np.linspace(0, 200)\n",
    "sol = odeint(batch, Y0, tspan)\n",
    "import matplotlib.pyplot as plt\n",
    "plt.plot(tspan, sol[:,1])\n",
    "plt.xlabel('Time (min)')\n",
    "plt.ylabel('Temperature (K)')\n",
    "plt.show()"
   ]
  },
  {
   "cell_type": "markdown",
   "metadata": {},
   "source": [
    "\n",
    "-   Note that the temperature initially rises\n",
    "    -   Partly because of the exothermic reaction occuring\n",
    "    -   Partly because the initial temperature is lower than $T_{coolant}$ so there is heat transferred into the reactor\n",
    "\n",
    "-   But it does not rise as quickly or as high as the adiabatic case\n",
    "\n",
    "-   After a while the temperature begins to drop\n",
    "    -   Because we are removing heat whenever $T > T_{coolant}$\n",
    "\n",
    "-   Over time the temperature will approach $T_{coolant}$\n",
    "\n",
    "-   We might still have to consider safety concerns here\n",
    "    -   There is still a 100 K increase in temperature\n",
    "    -   Using a heat exchanger with larger $Ua$ would help reduce that\n",
    "    -   Using a lower temperature in the coolant would help that\n",
    "    -   Using lower initial concentration would help that\n",
    "    -   Diluting with a high heat capacity solvent would help that\n",
    "\n"
   ]
  },
  {
   "cell_type": "markdown",
   "metadata": {},
   "source": [
    "# The energy balance and the CSTR"
   ]
  },
  {
   "cell_type": "markdown",
   "metadata": {},
   "source": [
    "-   There are flows in the CSTR\n",
    "\n",
    "-   The mole balance in a CSTR is\n",
    "\n",
    "\\begin{equation}\n",
    "\\frac{dN_j}{dt} = F_{j0} - F_j + r_j V = F_{j0} - F_j + \\alpha_j r V\n",
    "\\end{equation}\n",
    "\n",
    "-   Let us again assume constant pressure, and neglect shaft work\n",
    "\n",
    "-   The beginning energy balance becomes\n",
    "\n",
    "\\begin{equation}\n",
    "\\sum N_j C_{p,j} \\frac{dT}{dt} = -\\sum H_j (F_{j0} - F_j + \\alpha_j r V) + \\sum F_{j0} H_{j0} - \\sum F_j H_j + \\dot{Q}\n",
    "\\end{equation}\n",
    "\n",
    "-   With some rearrangement, and recognizing that\n",
    "    -   $\\Delta H_{rx} = \\sum \\alpha_j H_j $\n",
    "    \n",
    "    -   $H_{j0} - H_{j} = C_{p,j}(T_0 - T) $\n",
    "\n",
    "-   We arrive at\n",
    "\n",
    "\\begin{equation}\n",
    "\\sum N_j C_{p,j} \\frac{dT}{dt} = \\sum F_{j0} C_{p,j} (T_0 - T) - \\Delta H_{rx} r V + \\dot{Q}\n",
    "\\end{equation}\n",
    "\n",
    "-   At steady state, this simplifies to\n",
    "\n",
    "\\begin{equation}\n",
    "0 = \\sum F_{j0} C_{p,j} (T_0 - T) - \\Delta H_{rx} r V + \\dot{Q}\n",
    "\\end{equation}\n",
    "\n"
   ]
  },
  {
   "cell_type": "markdown",
   "metadata": {},
   "source": [
    "Alternate derivation (being more explicit):\n",
    "\n",
    "\\begin{align}\n",
    "\\sum N_i C_{p,i} \\frac{dT}{dt} + \n",
    "  V(1 - \\alpha T) \\frac{dP}{dt} + \n",
    "  \\sum_j \\overline{H}_j \\frac{dn_j}{dt} &= \\sum_j F_{j,in} \\overline{H}_{j,in} - \\sum_j F_{j,out} \\overline{H}_{j,out} + \\dot{W_s} + \\dot{Q}\\\\\n",
    "0&=\\sum F_{j0} H_{j0} - \\sum F_j H_j + \\dot{Q} \\\\\n",
    "0&=\\sum F_{j0}H_{j0} - \\sum F_j (H_{j0}+C_{p,j}(T-T_0)) + \\dot{Q}\\\\\n",
    "0&=\\sum F_{j0}H_{j0} - \\sum (F_{j0} + \\alpha_j rV) (H_{j0}+C_{p,j}(T-T_0)) + \\dot{Q}\\\\\n",
    "0&=\\sum F_{j0}H_{j0} - \\sum [(H_{j0}+C_{p,j}(T-T_0))F_{j0} + \\alpha_j rV(H_{j0}+C_{p,j}(T-T0))] + \\dot{Q}\\\\\n",
    "0&=\\sum F_{j0}H_{j0} - \\sum [(H_{j0}+C_{p,j}(T-T_0))F_{j0} + \\alpha_j rVH_j] + \\dot{Q}\\\\\n",
    "0&=-\\sum(C_{p,j}(T-T_0))F_{j0}-\\sum \\alpha_j rVH_j + \\dot{Q}\\\\\n",
    "0&=\\sum(C_{p,j}(T_0-T))F_{j0}-\\Delta H_{rxn} rV+ \\dot{Q}\n",
    "\\end{align}\n"
   ]
  },
  {
   "cell_type": "markdown",
   "metadata": {},
   "source": [
    "## Steady state adiabatic CSTR"
   ]
  },
  {
   "cell_type": "markdown",
   "metadata": {},
   "source": [
    "-   Let us consider an adiabatic CSTR where a liquid phase isomerization occurs\n",
    "\n",
    "\\begin{equation}\n",
    "A \\rightarrow B\n",
    "\\end{equation}\n",
    "\n",
    "-   We feed the reactor 163 kmol / hr of a mixture of 90% A and 10% inert C\n",
    "\n",
    "-   The initial concentration of A is 9.3 mol / L at a feed temperature of 330 K\n",
    "\n",
    "-   The equilibrium constant is 3.03 at 60 \\degC\n",
    "\n",
    "-   The reaction energy is -6.9 kJ / mol at 330K\n",
    "\n",
    "-   The heat capacities are\n",
    "\n",
    "<table border=\"2\" cellspacing=\"0\" cellpadding=\"6\" rules=\"groups\" frame=\"hsides\">\n",
    "\n",
    "\n",
    "<colgroup>\n",
    "<col  class=\"org-left\" />\n",
    "\n",
    "<col  class=\"org-right\" />\n",
    "</colgroup>\n",
    "<thead>\n",
    "<tr>\n",
    "<th scope=\"col\" class=\"org-left\">species</th>\n",
    "<th scope=\"col\" class=\"org-right\">heat capacity (J/mol/K)</th>\n",
    "</tr>\n",
    "</thead>\n",
    "\n",
    "<tbody>\n",
    "<tr>\n",
    "<td class=\"org-left\">A</td>\n",
    "<td class=\"org-right\">141</td>\n",
    "</tr>\n",
    "\n",
    "\n",
    "<tr>\n",
    "<td class=\"org-left\">B</td>\n",
    "<td class=\"org-right\">141</td>\n",
    "</tr>\n",
    "\n",
    "\n",
    "<tr>\n",
    "<td class=\"org-left\">C</td>\n",
    "<td class=\"org-right\">161</td>\n",
    "</tr>\n",
    "</tbody>\n",
    "</table>\n",
    "\n",
    "-   the rate constant is 31.1 1/hr at 330 K, with an activation energy of 65.7 kJ/mol\n",
    "\n",
    "-   We want to know the volume required to reach 70% conversion and the exit temperature.\n",
    "\n",
    "-   We will solve the mole balance and energy balance simultaneously\n",
    "\n",
    "-   The mole balance is the same as before\n",
    "\n",
    "\\begin{equation}\n",
    "0 = F_{A0} - F_A + r_A V\n",
    "\\end{equation}\n",
    "\n",
    "-   The energy balance in this case is\n",
    "\n",
    "\\begin{equation}\n",
    "0 = \\sum F_{j0} C_{p,j} (T_{feed} - T) - \\Delta H_{rx}(T) r V\n",
    "\\end{equation}\n"
   ]
  },
  {
   "cell_type": "code",
   "execution_count": 14,
   "metadata": {},
   "outputs": [
    {
     "name": "stdout",
     "output_type": "stream",
     "text": [
      "Volume = 16.43 m^3\n",
      "The exit temperature is 360.40 K\n"
     ]
    }
   ],
   "source": [
    "import numpy as np\n",
    "\n",
    "R = 8.314e-3      # gas constant kJ/mol/K\n",
    "\n",
    "Hrx = -6.900      # Reaction enthalpy kJ/mol at 330 K\n",
    "\n",
    "Tfeed = 330.0     # Feed temperature in K\n",
    "k1 = 31.1         # Rate constant at 360 K\n",
    "T1 = 360.0        # Reference T for the rate constant\n",
    "E = 65.7          # Activation energy\n",
    "Kc1 = 3.03        # at 60degC\n",
    "T2 = 273.15 + 60  # Reference T for the equilibrium constant\n",
    "\n",
    "Cao = 9300.0      # initial concentration mol / m**3\n",
    "Fto = 163000.0    # Total molar feed rate mol / hour\n",
    "Fao = 0.9 * Fto   # inlet molar flow of A\n",
    "Fbo = 0.0 * Fto\n",
    "Fio = 0.1 * Fto\n",
    "\n",
    "CpA = 0.141       # heat capacity kJ / mol / K\n",
    "CpB = 0.141\n",
    "dCp = CpB - CpA   # change in heat capacity due to reaction\n",
    "\n",
    "CpI = 0.161\n",
    "\n",
    "X = 0.7           # fractional conversion\n",
    "Ca = Cao * (1.0 - X)\n",
    "Cb = Cao * X\n",
    "\n",
    "Fa = Fao * (1.0 - X)\n",
    "\n",
    "def objective(Y):\n",
    "    V, T = Y  # unpack the variables\n",
    "\n",
    "    # Calculate reaction energy at reaction conditions\n",
    "    Hrxn = Hrx + dCp * (T - Tfeed)\n",
    "\n",
    "    k = k1 * np.exp(-E / R * (1.0 / T - 1.0 / T1))\n",
    "    Kc = Kc1 * np.exp(-Hrxn / R * ( 1.0 / T - 1.0 / T2))\n",
    "\n",
    "    r = k * (Ca - Cb / Kc)\n",
    "    ra = -r\n",
    "    # mole balance\n",
    "    z1 = Fao - Fa + ra * V\n",
    "\n",
    "    # energy balance\n",
    "    z2 = (Fao * CpA + Fbo * CpB + Fio * CpI) * (Tfeed - T) + (-Hrxn * r * V)\n",
    "    return [z1, z2]\n",
    "\n",
    "from scipy.optimize import fsolve\n",
    "\n",
    "V, Texit = fsolve(objective, [16.42, 360])\n",
    "print('Volume = {0:1.2f} m^3'.format(V))\n",
    "print('The exit temperature is {0:1.2f} K'.format(Texit))"
   ]
  },
  {
   "cell_type": "markdown",
   "metadata": {},
   "source": [
    "-   You can see that the exit stream is hotter than the feed temperature\n",
    "    -   That is because the reaction is mildly exothermic, so heat is generated\n",
    "    -   The reactor is adiabatic, so the temperature goes up\n",
    "\n",
    "-   Note that this was an exothermic, reversible reaction\n",
    "\n",
    "-   We should have checked if a conversion of 70% is even possible\n",
    "\n"
   ]
  },
  {
   "cell_type": "code",
   "execution_count": 6,
   "metadata": {},
   "outputs": [
    {
     "data": {
      "image/png": "[encoded data removed]",
      "text/plain": [
       "<matplotlib.figure.Figure at 0x7f9c2850b550>"
      ]
     },
     "metadata": {},
     "output_type": "display_data"
    }
   ],
   "source": [
    "import numpy as np\n",
    "import matplotlib.pyplot as plt\n",
    "\n",
    "Hrx = -6.9   # kJ / mol\n",
    "R = 8.314e-3\n",
    "K_ref = 3.03\n",
    "T_ref = 273.15 + 60\n",
    "\n",
    "T = np.linspace(300, 600)\n",
    "\n",
    "K = K_ref * np.exp(-Hrx / R * (1.0 / T - 1.0 / T_ref))\n",
    "\n",
    "Xeq = K / (1.0 + K)\n",
    "\n",
    "plt.plot(T, Xeq)\n",
    "plt.xlabel('Temperature (K)')\n",
    "plt.ylabel('$X_{eq}$')\n",
    "plt.show()"
   ]
  },
  {
   "cell_type": "markdown",
   "metadata": {},
   "source": [
    "-   You can see that a conversion of 70% is only possible below a temperature of about 360 K\n",
    "\n",
    "-   The equations we solve are nonlinear, and it is not obvious there is only one solution\n",
    "\n"
   ]
  },
  {
   "cell_type": "code",
   "execution_count": null,
   "metadata": {},
   "outputs": [],
   "source": []
  }
 ],
 "metadata": {
  "kernelspec": {
   "display_name": "Python 3",
   "language": "python",
   "name": "python3"
  },
  "language_info": {
   "codemirror_mode": {
    "name": "ipython",
    "version": 3
   },
   "file_extension": ".py",
   "mimetype": "text/x-python",
   "name": "python",
   "nbconvert_exporter": "python",
   "pygments_lexer": "ipython3",
   "version": "3.6.2"
  },
  "toc": {
   "colors": {
    "hover_highlight": "#DAA520",
    "navigate_num": "#000000",
    "navigate_text": "#333333",
    "running_highlight": "#FF0000",
    "selected_highlight": "#FFD700",
    "sidebar_border": "#EEEEEE",
    "wrapper_background": "#FFFFFF"
   },
   "moveMenuLeft": true,
   "nav_menu": {
    "height": "97px",
    "width": "252px"
   },
   "navigate_menu": true,
   "number_sections": true,
   "sideBar": true,
   "threshold": 4,
   "toc_cell": false,
   "toc_section_display": "block",
   "toc_window_display": false,
   "widenNotebook": false
  }
 },
 "nbformat": 4,
 "nbformat_minor": 1
}
