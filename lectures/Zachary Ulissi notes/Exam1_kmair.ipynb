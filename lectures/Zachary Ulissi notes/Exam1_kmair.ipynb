{
 "cells": [
  {
   "cell_type": "markdown",
   "metadata": {},
   "source": [
    "$$\\require{mhchem}$$"
   ]
  },
  {
   "cell_type": "markdown",
   "metadata": {},
   "source": [
    "# Problem 1. Transient CSTR (60 pt)\n",
    "\n",
    "Consider two competing reactions:\n",
    "\\begin{align*}\n",
    "\\ce{A + 2B ->[k_1] C}\\\\\n",
    "\\ce{A + B ->[k_2] D}\n",
    "\\end{align*}\n",
    "where we want to maximize the amount of species D. Both reactions are elementary. $k_1=0.1$/M^2/min. $k_2=0.2$/M/min. The volume is 200 L. The inlet flow rate is 5 L/min and inlet concentrations are C_A = 5M, C_B = 10M. The tank is initially filled with water (all concentrations = 0). You can neglect volume expansion/etc with changing number of moles due to the aqueous conditions."
   ]
  },
  {
   "cell_type": "markdown",
   "metadata": {},
   "source": [
    "## 1.1 Write the mol balance for the two species in the CSTR (10 pt)"
   ]
  },
  {
   "cell_type": "markdown",
   "metadata": {},
   "source": [
    "The relationship for mole consumption is:\n",
    "Reaction 1\n",
    "<center> $\\displaystyle -0.5 \\frac{dN_B}{dt} = -\\frac{dN_A}{dt} = \\frac{dN_C}{dt} = rate1$\n",
    "\n",
    "$rate1 = k_1 * C_A * C_B^2$\n",
    "\n",
    "Reaction 2\n",
    "<center> $\\displaystyle -\\frac{dN_B}{dt} = -\\frac{dN_A}{dt} = \\frac{dN_D}{dt} = rate2$\n",
    "\n",
    "$rate1 = k_2 * C_A * C_B$\n",
    " \n",
    "In mole balances,\n",
    "<center>Accumulation = Feed in - Feed out + Generation\n",
    "\n",
    "For Transient CSTR reactor, of A and B we get\n",
    "\n",
    "1. For A\n",
    "\n",
    "$r_A = -rate1 - rate2$\n",
    "<center> $\\displaystyle \\frac{dN_A}{dt} = F_{A, in} - F_{A,out} + r_A V $\n",
    "\n",
    "2. For B\n",
    "\n",
    "$r_B = -2 rate1 - rate2$\n",
    "\n",
    "<center> $\\displaystyle \\frac{dN_B}{dt} = F_{B, in} - F_{B,out} + r_B V $\n",
    "\n",
    "3. For C\n",
    "\n",
    "$r_C = rate1$\n",
    "<center> $\\displaystyle \\frac{dN_C}{dt} = F_{C, in} - F_{A,out} + r_C V $\n",
    "\n",
    "4. For D\n",
    "\n",
    "$r_D = rate2$\n",
    "<center> $\\displaystyle \\frac{dN_A}{dt} = F_{A, in} - F_{A,out} + r_D V $\n",
    "\n"
   ]
  },
  {
   "cell_type": "markdown",
   "metadata": {},
   "source": [
    "## 1.2 For a single CSTR, calculate and plot the concentrations of all four species (A, B, C, and D) in the reactor from t=0 to 60 mins. (20 pt)."
   ]
  },
  {
   "cell_type": "code",
   "execution_count": 82,
   "metadata": {},
   "outputs": [
    {
     "data": {
      "image/png": "[encoded data removed]",
      "text/plain": [
       "<Figure size 432x288 with 1 Axes>"
      ]
     },
     "metadata": {},
     "output_type": "display_data"
    }
   ],
   "source": [
    "import numpy as np\n",
    "from scipy.integrate import solve_ivp\n",
    "\n",
    "V= 200 #L\n",
    "v = 5 #L/min\n",
    "CA0 = 5 #M\n",
    "CB0 = 10 #M\n",
    "k1=0.1 #/M^2/min. \n",
    "k2=0.2 #/M/min\n",
    "F0 = np.array([CA0*v, CB0*v, 0, 0])\n",
    "#print(F0)\n",
    "\n",
    "def dFdt(t, F):\n",
    "    Fa, Fb, Fc, Fd = F\n",
    "    Ca = Fa/v\n",
    "    Cb = Fb/v\n",
    "    Cc = Fc/v\n",
    "    Cd = Fd/v\n",
    "    \n",
    "    r1 = k1 * Ca * Cb**2\n",
    "    r2 = k2 * Ca* Cb\n",
    "    \n",
    "    dFadt = F0[0] - Fa -r1 - r2\n",
    "    dFbdt = F0[1] - Fb - 2*r1 -r2\n",
    "    dFcdt = F0[2] - Fc + r1\n",
    "    dFddt = F0[3] - Fd + r2\n",
    "    \n",
    "    return [dFadt, dFbdt, dFcdt, dFddt]\n",
    "\n",
    "tspan = np.array([0, 60])\n",
    "teval, h = np.linspace(*tspan, 100, retstep = True)\n",
    "sol1 = solve_ivp(dFdt, tspan, F0, max_step = h)\n",
    "\n",
    "F = sol1.y\n",
    "Ca = F[0]/v\n",
    "Cb = F[1]/v\n",
    "Cc = F[2]/v\n",
    "Cd = F[3]/v\n",
    "\n",
    "import matplotlib.pyplot as plt\n",
    "plt.plot(sol1.t, Ca, label = 'C_A')\n",
    "plt.plot(sol1.t, Cb, label = 'C_B')\n",
    "plt.plot(sol1.t, Cc, label = 'C_C')\n",
    "plt.plot(sol1.t, Cd, label = 'C_D')\n",
    "plt.legend()\n",
    "plt.ylabel('Concentration(M)')\n",
    "plt.xlabel('time(min)')\n",
    "plt.title('Concentration profile')\n",
    "plt.show()\n"
   ]
  },
  {
   "cell_type": "markdown",
   "metadata": {},
   "source": [
    "## 1.3 Calculate the selectivity, as defined as $C_D/(C_C+C_D)$ in the outlet stream for the first 60 minutes. (10 pt)\n",
    "\n"
   ]
  },
  {
   "cell_type": "code",
   "execution_count": 96,
   "metadata": {},
   "outputs": [
    {
     "name": "stdout",
     "output_type": "stream",
     "text": [
      "0.999933341184267\n",
      "0.9992673228283515\n",
      "0.9926636394408278\n",
      "0.9318344462740346\n",
      "0.6935998647144836\n",
      "0.5139769807398877\n",
      "0.4003854574950101\n",
      "0.33891170300888074\n",
      "0.3051298857091065\n",
      "0.2847204904502231\n",
      "0.27087171835957624\n",
      "0.2601525383841609\n",
      "0.2510747362943716\n",
      "0.24597015865972113\n",
      "0.24301149482810824\n",
      "0.24131417856172194\n",
      "0.24035782772234499\n",
      "0.23983001543660445\n",
      "0.23953149003159507\n",
      "0.23935332250925986\n",
      "0.23925199049193266\n",
      "0.239200789803706\n",
      "0.23917849677528624\n",
      "0.23917361387410865\n",
      "0.2391445967651087\n",
      "0.23912838389768962\n",
      "0.23912925479363523\n",
      "0.23913568659713436\n",
      "0.23914551239598453\n",
      "0.2391588854000482\n",
      "0.23913265979085116\n",
      "0.23911932942899722\n",
      "0.23912343811532877\n",
      "0.23913097611465703\n",
      "0.23914098767783207\n",
      "0.23915394464733594\n",
      "0.23913225777856004\n",
      "0.23912066098997817\n",
      "0.23912478899938225\n",
      "0.2391328411176349\n",
      "0.2391434403696753\n",
      "0.23915709836341367\n",
      "0.2391322662905565\n",
      "0.23911949155146056\n",
      "0.2391236871213642\n",
      "0.23913139738001657\n",
      "0.23914158082135822\n",
      "0.2391547280809856\n",
      "0.23913224737381725\n"
     ]
    }
   ],
   "source": [
    "for i in range(1, 50):\n",
    "    S = Cd[i]/(Cc[i] + Cd[i])\n",
    "    print(S)\n"
   ]
  },
  {
   "cell_type": "markdown",
   "metadata": {},
   "source": [
    "## 1.4 Consider a membrane CSTR, where the feed stream contains pure $A$, and $B$ can permeate through the walls of the CSTR. The CSTR area is 10 m$^2$, the mass transport constant is $0.3 m/s$, and the concentration of B outside the reactor is 10 M. The volume is of the CSTR is still 200 L. The inlet flow rate is still 5 L/min and inlet concentration of A is C$_A$ = 5M.Write the new mol balance for each species in the CSTR. (10 pt)\n",
    "\n",
    "![img](E1P1_2018.png)"
   ]
  },
  {
   "cell_type": "markdown",
   "metadata": {},
   "source": [
    "For this CSTR reactor:\n",
    "\n",
    "1. <center>For A\n",
    "\n",
    "$r_A = -rate1 - rate2$\n",
    "\n",
    "<center> $\\displaystyle \\frac{dN_A}{dt} = F_{A, in} - F_{A,out} + r_A V $ <center\\>\n",
    "\n",
    "2. For B\n",
    "\n",
    "Since B transfers from reactor membrane, we incorporate mass transfer rates as:\n",
    "\n",
    "<center>$R_B = K_B a (Cb - C_{b,reactor})$\n",
    "<center>where: a = Surface Area / Volume\n",
    "\n",
    "$r_B = -2 rate1 - rate2$\n",
    "\n",
    "<center> $\\displaystyle \\frac{dN_B}{dt} = R_B - F_{B,out} + r_B V $\n",
    "    \n",
    "3. For C\n",
    "\n",
    "$r_C = rate1$\n",
    "<center> $\\displaystyle \\frac{dN_C}{dt} = F_{C, in} - F_{A,out} + r_C V $\n",
    "\n",
    "4. For D\n",
    "\n",
    "$r_D = rate2$\n",
    "<center> $\\displaystyle \\frac{dN_A}{dt} = F_{A, in} - F_{A,out} + r_D V $\n",
    "\n"
   ]
  },
  {
   "cell_type": "markdown",
   "metadata": {},
   "source": [
    "## 1.5 Solve for the new transient profile with the membrane included using the information from 1.4. & Plot the concentration profiles of all four species in the reactor.(10 pt)"
   ]
  },
  {
   "cell_type": "code",
   "execution_count": 83,
   "metadata": {},
   "outputs": [
    {
     "name": "stdout",
     "output_type": "stream",
     "text": [
      "[25  0  0  0]\n"
     ]
    },
    {
     "data": {
      "image/png": "[encoded data removed]",
      "text/plain": [
       "<Figure size 432x288 with 1 Axes>"
      ]
     },
     "metadata": {},
     "output_type": "display_data"
    }
   ],
   "source": [
    "import numpy as np\n",
    "from scipy.integrate import solve_ivp\n",
    "\n",
    "V= 200 #L\n",
    "A = 1000 # dm^2\n",
    "a = A/V\n",
    "Kb = 3 #dm/min\n",
    "v = 5 #L/min\n",
    "CA0 = 5 #M\n",
    "CBout = 10 #M\n",
    "k1=0.1 #/M^2/min. \n",
    "k2=0.2 #/M/min\n",
    "F0 = np.array([CA0*v, 0, 0, 0])\n",
    "print(F0)\n",
    "\n",
    "def dF2dt(t, F):\n",
    "    Fa, Fb, Fc, Fd = F\n",
    "    Ca = Fa/v\n",
    "    Cb = Fb/v\n",
    "    Cc = Fc/v\n",
    "    Cd = Fd/v\n",
    "    \n",
    "    r1 = k1 * Ca * Cb**2\n",
    "    r2 = k2 * Ca* Cb\n",
    "    Rb = Kb * a * (CBout - Cb)\n",
    "    \n",
    "    dFadt = F0[0] - Fa -r1 - r2\n",
    "    dFbdt = Rb - Fb - 2*r1 -r2\n",
    "    dFcdt = F0[2] - Fc + r1\n",
    "    dFddt = F0[3] - Fd + r2\n",
    "    \n",
    "    return [dFadt, dFbdt, dFcdt, dFddt]\n",
    "\n",
    "tspan = np.array([0, 60])\n",
    "teval, h = np.linspace(*tspan, 100, retstep = True)\n",
    "sol2 = solve_ivp(dF2dt, tspan, F0, max_step = h)\n",
    "\n",
    "F = sol2.y\n",
    "Ca = F[0]/v\n",
    "Cb = F[1]/v\n",
    "Cc = F[2]/v\n",
    "Cd = F[3]/v\n",
    "\n",
    "import matplotlib.pyplot as plt\n",
    "plt.plot(sol2.t, Ca, label = 'C_A')\n",
    "plt.plot(sol2.t, Cb, label = 'C_B')\n",
    "plt.plot(sol2.t, Cc, label = 'C_C')\n",
    "plt.plot(sol2.t, Cd, label = 'C_D')\n",
    "plt.legend()\n",
    "plt.ylabel('Concentration(M)')\n",
    "plt.xlabel('time(min)')\n",
    "plt.title('Concentration profile')\n",
    "plt.show()\n"
   ]
  },
  {
   "cell_type": "markdown",
   "metadata": {},
   "source": [
    "# Problem 2. PFR (40 points)\n",
    "\n",
    "Consider the system \n",
    "\\begin{align*}\n",
    "\\ce{A ->[k_1] 6B}\n",
    "\\end{align*}\n",
    "in the gas phase at 500 K and 10 atm. The inlet is 5 mol/s pure A. The reactor volume is 1200 L. R=0.082 L*atm/mol/K. The reaction is elementary and $k_1=0.1/s$"
   ]
  },
  {
   "cell_type": "markdown",
   "metadata": {},
   "source": [
    "## 2.1 Calculate the inlet volumetric flow rate and write the mole balance assuming no pressure drop (10 pt)"
   ]
  },
  {
   "cell_type": "code",
   "execution_count": 33,
   "metadata": {},
   "outputs": [
    {
     "name": "stdout",
     "output_type": "stream",
     "text": [
      "The volumetric flow rate is: 20.50 L/s.\n"
     ]
    }
   ],
   "source": [
    "T = 500 #K \n",
    "P = 10 #atm\n",
    "Fa0 = 5 #mol/s pure A. The reactor \n",
    "V = 1200 #L\n",
    "R=0.082 #L*atm/mol/K\n",
    "k1 = 0.1 # /s\n",
    "v0 = Fa0 * R * T / P\n",
    "print(f'The volumetric flow rate is: {v0:1.2f} L/s.')"
   ]
  },
  {
   "cell_type": "markdown",
   "metadata": {},
   "source": [
    "The mole balance for the PFR is:\n",
    " \n",
    "<center> $\\displaystyle -\\frac{dN_A}{dt} = 6\\frac{dN_B}{dt}$\n",
    "\n",
    "$Rate = k_1 * C_A$\n",
    "\n",
    "1. For A\n",
    "<center> $\\displaystyle \\frac{dF_A}{dV} = - Rate \\times V $\n",
    "\n",
    "2. For B\n",
    "<center> $\\displaystyle \\frac{dF_B}{dV} = 6 \\times Rate \\times V $\n"
   ]
  },
  {
   "cell_type": "markdown",
   "metadata": {},
   "source": [
    "## 2.2 Solve for the molar flow rate of each species along the volume of the reactor. (15 pt)"
   ]
  },
  {
   "cell_type": "code",
   "execution_count": 91,
   "metadata": {},
   "outputs": [
    {
     "data": {
      "image/png": "[encoded data removed]",
      "text/plain": [
       "<Figure size 432x288 with 1 Axes>"
      ]
     },
     "metadata": {},
     "output_type": "display_data"
    },
    {
     "data": {
      "text/plain": [
       "24.223527303921937"
      ]
     },
     "execution_count": 91,
     "metadata": {},
     "output_type": "execute_result"
    }
   ],
   "source": [
    "T = 500 #K \n",
    "P = 10 #atm\n",
    "Fa0 = 5 #mol/s pure A. The reactor \n",
    "V = 1200 #L\n",
    "R=0.082 #L*atm/mol/K\n",
    "k1 = 0.1 # /s\n",
    "v0 = Fa0 * R * T / P\n",
    "#print(f'The volumetric flow rate is: {v0})\n",
    "F0 = np.array([Fa0, 0])\n",
    "\n",
    "def PFR(V, F):\n",
    "    Fa, Fb = F\n",
    "    Ft = Fa + Fb\n",
    "    v = v0 * Ft/Fa0\n",
    "    Ca = Fa/ v\n",
    "    Cb = Fb/ v\n",
    "    \n",
    "    r = k1 * Ca\n",
    "    \n",
    "    dFadV = -r\n",
    "    dFbdV = 6 * r\n",
    "    return [dFadV, dFbdV]\n",
    "\n",
    "Vspan = np.array([0, 1200])\n",
    "Veval = np.linspace(*Vspan, 100)\n",
    "\n",
    "ans1 = solve_ivp(PFR, Vspan, F0, t_eval = Veval)\n",
    "Fa = ans1.y[0]\n",
    "Fb = ans1.y[1]\n",
    "V = ans1.t\n",
    "\n",
    "plt.plot(V, Fa, label = 'Fa')\n",
    "plt.plot(V, Fb, label = 'Fb')\n",
    "plt.legend()\n",
    "plt.ylabel('Concentration(M)')\n",
    "plt.xlabel('Volume(L)')\n",
    "plt.title('Concentration profile')\n",
    "plt.show()\n",
    "Fb[-1]"
   ]
  },
  {
   "cell_type": "markdown",
   "metadata": {},
   "source": [
    "## 2.3 Would pressure drop along the length of the reactor increase or decrease the final conversion? Why? (5 pt)"
   ]
  },
  {
   "cell_type": "markdown",
   "metadata": {},
   "source": [
    "By Le Chatalier's principle, if pressure drop occurs, final conversion will increase as moving forward in reaction we increase the moles that causes increase in pressure."
   ]
  },
  {
   "cell_type": "markdown",
   "metadata": {},
   "source": [
    "##  2.4 Solve for and plot the pressure with profile pressure drop effects and a combined coefficient $\\alpha=0.00005$/L. (10 pt)"
   ]
  },
  {
   "cell_type": "code",
   "execution_count": 90,
   "metadata": {},
   "outputs": [
    {
     "data": {
      "image/png": "[encoded data removed]",
      "text/plain": [
       "<Figure size 432x288 with 1 Axes>"
      ]
     },
     "metadata": {},
     "output_type": "display_data"
    },
    {
     "data": {
      "text/plain": [
       "23.85852810244719"
      ]
     },
     "execution_count": 90,
     "metadata": {},
     "output_type": "execute_result"
    }
   ],
   "source": [
    "T = 500 #K \n",
    "P0 = 10 #atm\n",
    "Fa0 = 5 #mol/s pure A. The reactor \n",
    "V = 1200 #L\n",
    "R=0.082 #L*atm/mol/K\n",
    "k1 = 0.1 # /s\n",
    "v0 = Fa0 * R * T / P\n",
    "Alpha=0.00005 #/L\n",
    "F0 = np.array([Fa0, 0, 1])\n",
    "\n",
    "def PFR(V, F):\n",
    "    Fa, Fb, y = F\n",
    "    P = y * P0\n",
    "    Ft = Fa + Fb\n",
    "    \n",
    "    Pa = Fa / Ft * P\n",
    "    Pb = Fb / Ft * P\n",
    "\n",
    "    v = v0 * Ft/Fa0 * (1/y)\n",
    "    Ca = Fa/ v\n",
    "    Cb = Fb/ v\n",
    "    \n",
    "    r = k1 * Ca\n",
    "    \n",
    "    dFadV = -r\n",
    "    dFbdV = 6 * r\n",
    "    dydV = -Alpha/(2 * y) * Ft / Fa0 \n",
    "    return [dFadV, dFbdV, dydV]\n",
    "\n",
    "Vspan = np.array([0, 1200])\n",
    "Veval = np.linspace(*Vspan, 100)\n",
    "\n",
    "ans2 = solve_ivp(PFR, Vspan, F0, t_eval = Veval)\n",
    "Fa = ans2.y[0]\n",
    "Fb = ans2.y[1]\n",
    "V = ans1.t\n",
    "\n",
    "plt.plot(V, Fa, label = 'Fa')\n",
    "plt.plot(V, Fb, label = 'Fb')\n",
    "plt.ylabel('Concentration(M)')\n",
    "plt.xlabel('Volume(L)')\n",
    "plt.title('Concentration profile')\n",
    "plt.legend()\n",
    "plt.show()\n",
    "Fb[-1]"
   ]
  },
  {
   "cell_type": "markdown",
   "metadata": {},
   "source": [
    "## 2.5 Calculate the coefficient $\\alpha$ ($L^{-1}$)  that halves the inlet pressure at the end of the reactor. ($P_{exit}$ = 0.5$P_{in}$) (bonus 5pt)"
   ]
  },
  {
   "cell_type": "code",
   "execution_count": null,
   "metadata": {},
   "outputs": [],
   "source": []
  }
 ],
 "metadata": {
  "kernelspec": {
   "display_name": "Python 3",
   "language": "python",
   "name": "python3"
  },
  "language_info": {
   "codemirror_mode": {
    "name": "ipython",
    "version": 3
   },
   "file_extension": ".py",
   "mimetype": "text/x-python",
   "name": "python",
   "nbconvert_exporter": "python",
   "pygments_lexer": "ipython3",
   "version": "3.6.3"
  },
  "toc": {
   "base_numbering": 1,
   "nav_menu": {
    "height": "173px",
    "width": "252px"
   },
   "number_sections": true,
   "sideBar": true,
   "skip_h1_title": false,
   "title_cell": "Table of Contents",
   "title_sidebar": "Contents",
   "toc_cell": false,
   "toc_position": {},
   "toc_section_display": "block",
   "toc_window_display": false
  }
 },
 "nbformat": 4,
 "nbformat_minor": 2
}
