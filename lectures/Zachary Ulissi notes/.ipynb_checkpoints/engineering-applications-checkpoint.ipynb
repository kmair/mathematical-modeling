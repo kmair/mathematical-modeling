{
 "cells": [
  {
   "cell_type": "markdown",
   "metadata": {},
   "source": [
    "\n",
    "# Engineering applications of mole balances\n",
    "\n"
   ]
  },
  {
   "cell_type": "markdown",
   "metadata": {},
   "source": [
    "-   So far you have learned to design a variety of reactors with single reactions occurring in them\n",
    "\n",
    "-   Usually, we need additional information to tell us which reactor design is better, e.g. a larger volume with low volumetric flow rate vs. a smaller volume with higher volumetric flow rate\n",
    "\n",
    "-   That information may be the cost of different configurations, or the profit from different configurations\n",
    "\n"
   ]
  },
  {
   "cell_type": "markdown",
   "metadata": {},
   "source": [
    "\n",
    "## Total cost example\n",
    "\n"
   ]
  },
  {
   "cell_type": "markdown",
   "metadata": {},
   "source": [
    "-   Let us consider a simple model for the total cost of an operation\n",
    "\n",
    "-   Let the total cost be the operating cost of the reactor plus the cost of the feedstocks\n",
    "\n",
    "-   The operating cost of a reactor can be determined by amortizing the reactor cost over some length of time, and adding the cost required for maintenance, and paying workers.\n",
    "    -   The units of this cost will usually be $/volume/time\n",
    "    -   The cost of operating the reactor then is $C_R = V_R operating_{cost}$\n",
    "\n",
    "-   Feedstock costs are related to the cost of raw materials times the rate at which they are consumed\n",
    "    -   The cost associated with each reactant will be $C_{j} = F_j reactant_{cost}$ if $reactant_{cost}$ is in $/mol.\n",
    "\n",
    "-   Let us consider an example\n",
    "\n",
    "-   Y is produced at a rate of 90 kmol/min in a CSTR by the reaction $X \\rightarrow Y$ at a reaction rate of $r = 0.1 C_X$ (kmol/m^3/min)  with an inlet concentration of $C_{X0} = 1.5$ kmol/m^3.  The reactant X costs \\\\$1.20 per kmol. The cost of the reactor is \\\\$0.1 per minute per cubic meter. If we discard unreacted X, what is the minimum cost of making Y?\n",
    "\n",
    "-   We need to know the volume and volumetric flow that will minimize the total cost.\n",
    "\n",
    "-   We have a mole balance on X:\n",
    "\n",
    "\\begin{align}\n",
    "0 = F_{X0} - F_X + r_X V \\\\\n",
    "0 = F_{X0} * C_X v_0 - k C_X V\n",
    "\\end{align}\n",
    "\n",
    "-   We have two unknowns and one equation, but if we specify one variable, we can solve for the other one\n",
    "\n",
    "-   Let us start by specifying a $v_0$, and solving for $V$\n",
    "-   Then we calculate the cost\n",
    "\n",
    "-   Then we vary $v_0$ to minimize the cost\n",
    "\n",
    "-   There are some bounds on $v_0$: We must have at least 90 kmol/min of X entering the reactor to produce 90 kmol/min of Y\n",
    "    -   Actually that would be a conversion of 100%, which is not reasonable.\n",
    "    -   Let us assume 90% conversion is acceptable for now, which means v\\_0 must be at least 100 kmol/min / 1.5 mol/m^3 &asymp; 66 m^3/min.\n",
    "\n"
   ]
  },
  {
   "cell_type": "code",
   "execution_count": 2,
   "metadata": {},
   "outputs": [
    {
     "data": {
      "image/png": "[encoded data removed]",
      "text/plain": [
       "<matplotlib.figure.Figure at 0x7f17b40a7f28>"
      ]
     },
     "metadata": {},
     "output_type": "display_data"
    },
    {
     "name": "stdout",
     "output_type": "stream",
     "text": [
      "Min cost of $3.655542086044227 at V=104.93877551020408\n",
      "Optimization terminated successfully.\n",
      "         Current function value: 3.655521\n",
      "         Iterations: 19\n",
      "         Function evaluations: 38\n",
      "Lowest cost is at a volumetric flow of 104.72140502929688 m^3/min\n",
      "The lowest cost is $3.6555210486674237\n"
     ]
    },
    {
     "ename": "NameError",
     "evalue": "name 'v_opt242' is not defined",
     "output_type": "error",
     "traceback": [
      "\u001b[0;31m---------------------------------------------------------------------------\u001b[0m",
      "\u001b[0;31mNameError\u001b[0m                                 Traceback (most recent call last)",
      "\u001b[0;32m<ipython-input-2-f4a78af46315>\u001b[0m in \u001b[0;36m<module>\u001b[0;34m()\u001b[0m\n\u001b[1;32m     55\u001b[0m \u001b[0mprint\u001b[0m\u001b[0;34m(\u001b[0m\u001b[0;34m'The lowest cost is ${}'\u001b[0m\u001b[0;34m.\u001b[0m\u001b[0mformat\u001b[0m\u001b[0;34m(\u001b[0m\u001b[0mcost\u001b[0m\u001b[0;34m(\u001b[0m\u001b[0mv_opt\u001b[0m\u001b[0;34m)\u001b[0m\u001b[0;34m)\u001b[0m\u001b[0;34m)\u001b[0m\u001b[0;34m\u001b[0m\u001b[0m\n\u001b[1;32m     56\u001b[0m \u001b[0;34m\u001b[0m\u001b[0m\n\u001b[0;32m---> 57\u001b[0;31m \u001b[0mv_opt242\u001b[0m\u001b[0;34m\u001b[0m\u001b[0m\n\u001b[0m",
      "\u001b[0;31mNameError\u001b[0m: name 'v_opt242' is not defined"
     ]
    }
   ],
   "source": [
    "from scipy.optimize import fsolve\n",
    "import numpy as np\n",
    "\n",
    "k = 0.1    # rate constant 1/min\n",
    "Cx0 = 1.5  # initial concentration\n",
    "Fy = 90.0  # exit molar flow of Y\n",
    "\n",
    "\n",
    "def objective(V, v0):\n",
    "    Fx0 = Cx0 * v0\n",
    "    Fx = Fx0 - Fy\n",
    "    Cx = Fx / v0\n",
    "    rx = -k * Cx\n",
    "    return Fx0 - Fx + rx * V\n",
    "\n",
    "v0 = np.linspace(63, 200)\n",
    "\n",
    "reactor_cost = 0.1  # $/m^3\n",
    "Xcost = 1.20        # $/kmol\n",
    "\n",
    "# this is a decorator that makes cost work element-wise\n",
    "@np.vectorize\n",
    "def cost(v0):\n",
    "    V, = fsolve(objective, 10000, args=(v0,))\n",
    "    CR = reactor_cost * V\n",
    "    CX = v0 * Cx0 * Xcost\n",
    "    return (CR + CX) / Fy  # cost in $/mol Y\n",
    "\n",
    "@np.vectorize\n",
    "def costCR(v0):\n",
    "    V, = fsolve(objective, 10000, args=(v0,))\n",
    "    CR = reactor_cost * V\n",
    "    CX = v0 * Cx0 * Xcost\n",
    "    return (CR) / Fy  # cost in $/mol Y\n",
    "\n",
    "@np.vectorize\n",
    "def costCX(v0):\n",
    "    V, = fsolve(objective, 10000, args=(v0,))\n",
    "    CR = reactor_cost * V\n",
    "    CX = v0 * Cx0 * Xcost\n",
    "    return (CX) / Fy  # cost in $/mol Y\n",
    "\n",
    "import matplotlib.pyplot as plt\n",
    "plt.plot(v0, cost(v0),v0,costCR(v0),v0,costCX(v0))\n",
    "plt.xlabel('volumetric flow')\n",
    "plt.ylabel('Cost ($/mol)')\n",
    "plt.show()\n",
    "\n",
    "imin = np.argmin(cost(v0))\n",
    "print('Min cost of ${} at V={}'.format(cost(v0)[imin], v0[imin]))\n",
    "\n",
    "from scipy.optimize import fmin\n",
    "v_opt, = fmin(cost, 120)\n",
    "print('Lowest cost is at a volumetric flow of {0} m^3/min'.format(v_opt))\n",
    "print('The lowest cost is ${}'.format(cost(v_opt)))\n",
    "\n",
    "v_opt242"
   ]
  },
  {
   "cell_type": "markdown",
   "metadata": {},
   "source": [
    "-   The cost at low volumetric flow is dominated by the increasing reactor size\n",
    "\n",
    "-   The cost at high volumetric flow is dominated by the cost of the feedstock $X$\n",
    "\n",
    "Show that the costs in the example above are dominated by reactor volume at low flowrate, and reactant cost at high flowrate.\n",
    "\n"
   ]
  },
  {
   "cell_type": "markdown",
   "metadata": {},
   "source": [
    "\n",
    "## Profit example\n",
    "\n"
   ]
  },
  {
   "cell_type": "markdown",
   "metadata": {},
   "source": [
    "-   Now, let us consider profit\n",
    "\n",
    "-   Profit is the difference between the value of the products and the cost to make them\n",
    "\n",
    "-   Say compound X with a concentration of 2.5 kmol / m^3 flows at a rate of 12 m^3/min into a tubular reactor where it is converted to $Y$.\n",
    "\n",
    "-   The reaction occurs at a rate of $r = 30.0 C_X$ 1/min\n",
    "\n",
    "-   $Y$ has a value $V_Y$ of $1.50 / kmol, and the cost of reactor operation $C_R$ is $2.50 per minute per m^3.\n",
    "\n",
    "-   What is the maximum profit?\n",
    "\n",
    "-   The value of the products will be $F_Y V_Y$ and the operating cost will be $V_R C_R$.\n",
    "\n",
    "-   We have to compute the exit molar flow of product as a function of reactor volume, and then compute the profit for each volume.\n",
    "\n",
    "-   Here we set up mole balances on $X$ and $Y$.\n",
    "    -   It is not strictly necessary, we could just get $F_X$, and compute $F_Y$ by stoichiometry later\n",
    "    -   Instead, we compute $F_Y$ in the solution\n",
    "\n"
   ]
  },
  {
   "cell_type": "code",
   "execution_count": 17,
   "metadata": {},
   "outputs": [
    {
     "data": {
      "image/png": "[encoded data removed]",
      "text/plain": [
       "<matplotlib.figure.Figure at 0x7ffa575d3128>"
      ]
     },
     "metadata": {},
     "output_type": "display_data"
    },
    {
     "name": "stdout",
     "output_type": "stream",
     "text": [
      "25\n",
      "Max profit of $40.193141393479685 at V = 1.530612244897959\n",
      "40.1931703548\n",
      "Optimization terminated successfully.\n",
      "         Current function value: -40.193337\n",
      "         Iterations: 11\n",
      "         Function evaluations: 22\n",
      "Maximum profit is 40.19333745971681 at V = 1.5226318359375\n"
     ]
    }
   ],
   "source": [
    "import numpy as np\n",
    "from scipy.integrate import odeint\n",
    "import matplotlib.pyplot as plt\n",
    "\n",
    "k = 30.0\n",
    "CX0 = 2.5 # kmol / m^3\n",
    "v0 = 12.0 # m^3 / min\n",
    "FX0 = CX0 * v0\n",
    "FY0 = 0.0\n",
    "\n",
    "def dFdV(F, V):\n",
    "    Fx, Fy = F\n",
    "    Cx = Fx / v0\n",
    "    r = k * Cx\n",
    "    rx = -r\n",
    "    ry =  r\n",
    "    dFxdV = rx\n",
    "    dFydV = ry\n",
    "    return [dFxdV, dFydV]\n",
    "\n",
    "Vspan = np.linspace(0, 3)\n",
    "\n",
    "sol = odeint(dFdV, [FX0, FY0], Vspan)\n",
    "\n",
    "Fy = sol[:, 1]\n",
    "\n",
    "V_Y = 1.50 # $/kmol\n",
    "C_R = 2.50 # $/m^3/min\n",
    "\n",
    "product_value = Fy * V_Y\n",
    "operating_cost = Vspan * C_R\n",
    "\n",
    "profit = product_value - operating_cost\n",
    "plt.plot(Vspan, profit,'o')\n",
    "plt.xlabel('Reactor volume (m$^3$)')\n",
    "plt.ylabel('Profit ($)')\n",
    "plt.show()\n",
    "\n",
    "imax = np.argmax(profit)\n",
    "print(imax)\n",
    "print('Max profit of ${} at V = {}'.format(profit[imax], Vspan[imax]))\n",
    "\n",
    "\n",
    "def profit(V, sign=1):\n",
    "   F = odeint(dFdV, [FX0, FY0], [0, V])\n",
    "   FY = F[-1, 1]\n",
    "   profit = FY * V_Y - V * C_R\n",
    "   return profit * sign\n",
    "\n",
    "print(profit(1.53))\n",
    "\n",
    "from scipy.optimize import fmin\n",
    "\n",
    "opt_V, = fmin(profit, 1.5, args=(-1,))\n",
    "print('Maximum profit is {} at V = {}'.format(profit(opt_V), opt_V))"
   ]
  },
  {
   "cell_type": "code",
   "execution_count": 15,
   "metadata": {
    "scrolled": true
   },
   "outputs": [
    {
     "name": "stdout",
     "output_type": "stream",
     "text": [
      "Optimization terminated successfully.\n",
      "         Current function value: -40.193337\n",
      "         Iterations: 11\n",
      "         Function evaluations: 22\n"
     ]
    },
    {
     "ename": "ValueError",
     "evalue": "not enough values to unpack (expected 2, got 1)",
     "output_type": "error",
     "traceback": [
      "\u001b[0;31m---------------------------------------------------------------------------\u001b[0m",
      "\u001b[0;31mValueError\u001b[0m                                Traceback (most recent call last)",
      "\u001b[0;32m<ipython-input-15-7782bda2e0bc>\u001b[0m in \u001b[0;36m<module>\u001b[0;34m()\u001b[0m\n\u001b[0;32m----> 1\u001b[0;31m \u001b[0mV\u001b[0m\u001b[0;34m,\u001b[0m\u001b[0mp\u001b[0m\u001b[0;34m=\u001b[0m\u001b[0mfmin\u001b[0m\u001b[0;34m(\u001b[0m\u001b[0mprofit\u001b[0m\u001b[0;34m,\u001b[0m \u001b[0;36m1.5\u001b[0m\u001b[0;34m,\u001b[0m \u001b[0margs\u001b[0m\u001b[0;34m=\u001b[0m\u001b[0;34m(\u001b[0m\u001b[0;34m-\u001b[0m\u001b[0;36m1\u001b[0m\u001b[0;34m,\u001b[0m\u001b[0;34m)\u001b[0m\u001b[0;34m)\u001b[0m\u001b[0;34m\u001b[0m\u001b[0m\n\u001b[0m",
      "\u001b[0;31mValueError\u001b[0m: not enough values to unpack (expected 2, got 1)"
     ]
    }
   ],
   "source": [
    "V,p=fmin(profit, 1.5, args=(-1,))"
   ]
  },
  {
   "cell_type": "code",
   "execution_count": 16,
   "metadata": {},
   "outputs": [
    {
     "name": "stdout",
     "output_type": "stream",
     "text": [
      "Help on function fmin in module scipy.optimize.optimize:\n",
      "\n",
      "fmin(func, x0, args=(), xtol=0.0001, ftol=0.0001, maxiter=None, maxfun=None, full_output=0, disp=1, retall=0, callback=None, initial_simplex=None)\n",
      "    Minimize a function using the downhill simplex algorithm.\n",
      "    \n",
      "    This algorithm only uses function values, not derivatives or second\n",
      "    derivatives.\n",
      "    \n",
      "    Parameters\n",
      "    ----------\n",
      "    func : callable func(x,*args)\n",
      "        The objective function to be minimized.\n",
      "    x0 : ndarray\n",
      "        Initial guess.\n",
      "    args : tuple, optional\n",
      "        Extra arguments passed to func, i.e. ``f(x,*args)``.\n",
      "    xtol : float, optional\n",
      "        Absolute error in xopt between iterations that is acceptable for\n",
      "        convergence.\n",
      "    ftol : number, optional\n",
      "        Absolute error in func(xopt) between iterations that is acceptable for\n",
      "        convergence.\n",
      "    maxiter : int, optional\n",
      "        Maximum number of iterations to perform.\n",
      "    maxfun : number, optional\n",
      "        Maximum number of function evaluations to make.\n",
      "    full_output : bool, optional\n",
      "        Set to True if fopt and warnflag outputs are desired.\n",
      "    disp : bool, optional\n",
      "        Set to True to print convergence messages.\n",
      "    retall : bool, optional\n",
      "        Set to True to return list of solutions at each iteration.\n",
      "    callback : callable, optional\n",
      "        Called after each iteration, as callback(xk), where xk is the\n",
      "        current parameter vector.\n",
      "    initial_simplex : array_like of shape (N + 1, N), optional\n",
      "        Initial simplex. If given, overrides `x0`.\n",
      "        ``initial_simplex[j,:]`` should contain the coordinates of\n",
      "        the j-th vertex of the ``N+1`` vertices in the simplex, where\n",
      "        ``N`` is the dimension.\n",
      "    \n",
      "    Returns\n",
      "    -------\n",
      "    xopt : ndarray\n",
      "        Parameter that minimizes function.\n",
      "    fopt : float\n",
      "        Value of function at minimum: ``fopt = func(xopt)``.\n",
      "    iter : int\n",
      "        Number of iterations performed.\n",
      "    funcalls : int\n",
      "        Number of function calls made.\n",
      "    warnflag : int\n",
      "        1 : Maximum number of function evaluations made.\n",
      "        2 : Maximum number of iterations reached.\n",
      "    allvecs : list\n",
      "        Solution at each iteration.\n",
      "    \n",
      "    See also\n",
      "    --------\n",
      "    minimize: Interface to minimization algorithms for multivariate\n",
      "        functions. See the 'Nelder-Mead' `method` in particular.\n",
      "    \n",
      "    Notes\n",
      "    -----\n",
      "    Uses a Nelder-Mead simplex algorithm to find the minimum of function of\n",
      "    one or more variables.\n",
      "    \n",
      "    This algorithm has a long history of successful use in applications.\n",
      "    But it will usually be slower than an algorithm that uses first or\n",
      "    second derivative information. In practice it can have poor\n",
      "    performance in high-dimensional problems and is not robust to\n",
      "    minimizing complicated functions. Additionally, there currently is no\n",
      "    complete theory describing when the algorithm will successfully\n",
      "    converge to the minimum, or how fast it will if it does. Both the ftol and\n",
      "    xtol criteria must be met for convergence.\n",
      "    \n",
      "    References\n",
      "    ----------\n",
      "    .. [1] Nelder, J.A. and Mead, R. (1965), \"A simplex method for function\n",
      "           minimization\", The Computer Journal, 7, pp. 308-313\n",
      "    \n",
      "    .. [2] Wright, M.H. (1996), \"Direct Search Methods: Once Scorned, Now\n",
      "           Respectable\", in Numerical Analysis 1995, Proceedings of the\n",
      "           1995 Dundee Biennial Conference in Numerical Analysis, D.F.\n",
      "           Griffiths and G.A. Watson (Eds.), Addison Wesley Longman,\n",
      "           Harlow, UK, pp. 191-208.\n",
      "\n"
     ]
    }
   ],
   "source": [
    "help(fmin)"
   ]
  },
  {
   "cell_type": "markdown",
   "metadata": {},
   "source": [
    "\n",
    "[scipy.optimize.fmin](https://docs.scipy.org/doc/scipy/reference/generated/scipy.optimize.fmin.html)\n",
    "\n",
    "-   You can see a maximum in profit at a reactor volume of about 1.5 m^3.\n",
    "\n",
    "-   To get a more quantitative answer, we need to use optimization\n",
    "\n",
    "-   We need to define an objective function to minimize\n",
    "\n",
    "-   The profit goes through a maximum, so -profit will go through a minimum\n",
    "\n",
    "-   We will use an optional argument to our profit function that determines the sign of the return value\n",
    "    -   For the optimization we set the sign to be -1\n",
    "    -   After we have a solution we use the default sign of +1 to compute the profit\n",
    "    -   This is just for convenience. You could multiply by &plusmn; 1 as needed.\n",
    "\n"
   ]
  },
  {
   "cell_type": "code",
   "execution_count": 11,
   "metadata": {},
   "outputs": [
    {
     "name": "stdout",
     "output_type": "stream",
     "text": [
      "32.4998323014\n",
      "Optimization terminated successfully.\n",
      "         Current function value: -40.193337\n",
      "         Iterations: 11\n",
      "         Function evaluations: 22\n",
      "The maximum profit is $40.19 at V=1.52 m^3\n"
     ]
    }
   ],
   "source": [
    "import numpy as np\n",
    "from scipy.integrate import odeint\n",
    "import matplotlib.pyplot as plt\n",
    "\n",
    "k = 30.0\n",
    "CX0 = 2.5 # kmol / m^3\n",
    "v0 = 12.0 # m^3 / min\n",
    "FX0 = CX0 * v0\n",
    "FY0 = 0.0\n",
    "\n",
    "def dFdV(F, V):\n",
    "    Fx, Fy = F\n",
    "    Cx = Fx / v0\n",
    "    r = k * Cx\n",
    "    rx = -r\n",
    "    ry =  r\n",
    "    dFxdV = rx\n",
    "    dFydV = ry\n",
    "    return [dFxdV, dFydV]\n",
    "\n",
    "V_Y = 1.50 # $/kmol\n",
    "C_R = 2.50 # $/m^3/min\n",
    "\n",
    "def profit(V, sign=1): # the default value of sign is 1\n",
    "    Vspan = np.linspace(0, V)\n",
    "    sol = odeint(dFdV, [FX0, FY0], Vspan)\n",
    "    Fx, Fy = sol[-1] # at exit\n",
    "\n",
    "    product_value = Fy * V_Y\n",
    "    operating_cost = V * C_R\n",
    "\n",
    "    profit = product_value - operating_cost\n",
    "    return profit * sign\n",
    "\n",
    "print(profit(5))\n",
    "from scipy.optimize import fmin\n",
    "\n",
    "V_opt, = fmin(profit, 1.5, args=(-1,))\n",
    "\n",
    "print('The maximum profit is ${0:1.2f} at V={1:1.2f} m^3'.format(profit(V_opt), V_opt))"
   ]
  },
  {
   "cell_type": "markdown",
   "metadata": {},
   "source": [
    "-   The point of these examples is to illustrate how to combine mole balance and reactor design equations with additional information to help select the best design\n",
    "    -   You may want to minimize total cost\n",
    "    -   or maximize profit\n",
    "\n",
    "-   Other applications might be finding operating conditions to avoid certain pressure increases, or minimizing a pressure drop\n",
    "\n"
   ]
  },
  {
   "cell_type": "code",
   "execution_count": null,
   "metadata": {},
   "outputs": [],
   "source": []
  }
 ],
 "metadata": {
  "kernelspec": {
   "display_name": "Python 3",
   "language": "python",
   "name": "python3"
  },
  "language_info": {
   "codemirror_mode": {
    "name": "ipython",
    "version": 3
   },
   "file_extension": ".py",
   "mimetype": "text/x-python",
   "name": "python",
   "nbconvert_exporter": "python",
   "pygments_lexer": "ipython3",
   "version": "3.6.2"
  },
  "toc": {
   "colors": {
    "hover_highlight": "#DAA520",
    "navigate_num": "#000000",
    "navigate_text": "#333333",
    "running_highlight": "#FF0000",
    "selected_highlight": "#FFD700",
    "sidebar_border": "#EEEEEE",
    "wrapper_background": "#FFFFFF"
   },
   "moveMenuLeft": true,
   "nav_menu": {
    "height": "79px",
    "width": "252px"
   },
   "navigate_menu": true,
   "number_sections": true,
   "sideBar": true,
   "threshold": 4,
   "toc_cell": false,
   "toc_section_display": "block",
   "toc_window_display": false,
   "widenNotebook": false
  }
 },
 "nbformat": 4,
 "nbformat_minor": 1
}
