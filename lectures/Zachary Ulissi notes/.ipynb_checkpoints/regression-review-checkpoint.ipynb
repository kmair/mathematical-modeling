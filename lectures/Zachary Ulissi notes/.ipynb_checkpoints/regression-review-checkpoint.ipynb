{
 "cells": [
  {
   "cell_type": "code",
   "execution_count": 2,
   "metadata": {},
   "outputs": [
    {
     "ename": "IndentationError",
     "evalue": "expected an indented block (<ipython-input-2-4aa7594c31b8>, line 11)",
     "output_type": "error",
     "traceback": [
      "\u001b[0;36m  File \u001b[0;32m\"<ipython-input-2-4aa7594c31b8>\"\u001b[0;36m, line \u001b[0;32m11\u001b[0m\n\u001b[0;31m    W = []\u001b[0m\n\u001b[0m    ^\u001b[0m\n\u001b[0;31mIndentationError\u001b[0m\u001b[0;31m:\u001b[0m expected an indented block\n"
     ]
    }
   ],
   "source": [
    "import numpy as np\n",
    "\n",
    "# Some things work differently in the Python IDE than they do in org-mode.\n",
    "\n",
    "# Lets assume we want to make a list of integers from 0-9 raised to powers of x\n",
    "# where x is a range of integers from 0-3.\n",
    "X = np.arange(0, 4)\n",
    "print(X)\n",
    "\n",
    "for x in X:\n",
    "W = []\n",
    "W += [0**x]\n",
    "W += [1**x]\n",
    "W += [2**x]\n",
    "W += [3**x]\n",
    "W += [4**x]\n",
    "W += [5**x]\n",
    "W += [6**x]\n",
    "W += [7**x]\n",
    "W += [8**x]\n",
    "W += [9**x]\n",
    "\n",
    "print(W)\n",
    "\n",
    "# There are mutiple errors in this code. IDE can help us identify where the problem is\n",
    "# and or new shortcuts can help us fix it more efficiently."
   ]
  },
  {
   "cell_type": "markdown",
   "metadata": {},
   "source": [
    "    import numpy as np\n",
    "    \n",
    "    # There are generally two ways to approach list generation:\n",
    "    \n",
    "    # 1) Create an empty list and add to it as needed\n",
    "    LIST = []  # Empty list\n",
    "    \n",
    "    LIST = LIST + [1]  # Adding a list that contains 1 to the empty list \n",
    "    print(LIST)\n",
    "    \n",
    "    # This is syntactically the same as above\n",
    "    LIST += [2]\n",
    "    print(LIST)\n",
    "    \n",
    "    # We can do this using variables as well\n",
    "    i = 3\n",
    "    LIST += [i]\n",
    "    print(LIST)\n",
    "    \n",
    "    # 2) Create a list of the size we need to begin with\n",
    "    NEW_LIST = np.zeros(3)\n",
    "    print(NEW_LIST)\n",
    "    \n",
    "    # Now we have to index the list to change the entires\n",
    "    NEW_LIST[0] = 1\n",
    "    print(NEW_LIST)\n",
    "    \n",
    "    NEW_LIST[1] = 2\n",
    "    print(NEW_LIST)\n",
    "    \n",
    "    NEW_LIST[2] = 3\n",
    "    print(NEW_LIST)\n",
    "    \n",
    "    # Fun fact: A computer scientist always prefers the second method.\n",
    "    # This is because it is less computationally intensive to change the value\n",
    "    # in an existing list than it is to continuosuly expand the size of your list.\n",
    "\n",
    "[1]\n",
    "[1, 2]\n",
    "[1, 2, 3]\n",
    "[ 0.  0.  0.]\n",
    "[ 1.  0.  0.]\n",
    "[ 1.  2.  0.]\n",
    "[ 1.  2.  3.]\n",
    "\n"
   ]
  },
  {
   "cell_type": "code",
   "execution_count": null,
   "metadata": {},
   "outputs": [],
   "source": [
    "import numpy as np\n",
    "\n",
    "# There are generally two ways to approach list generation:\n",
    "\n",
    "# 1) Create an empty list and add to it as needed\n",
    "LIST = []  # Empty list\n",
    "\n",
    "LIST = LIST + [1]  # Adding a list that contains 1 to the empty list \n",
    "print(LIST)\n",
    "\n",
    "# This is syntactically the same as above\n",
    "LIST += [2]\n",
    "print(LIST)\n",
    "\n",
    "# We can do this using variables as well\n",
    "i = 3\n",
    "LIST += [i]\n",
    "print(LIST)\n",
    "\n",
    "# 2) Create a list of the size we need to begin with\n",
    "NEW_LIST = np.zeros(3)\n",
    "print(NEW_LIST)\n",
    "\n",
    "# Now we have to index the list to change the entires\n",
    "NEW_LIST[0] = 1\n",
    "print(NEW_LIST)\n",
    "\n",
    "NEW_LIST[1] = 2\n",
    "print(NEW_LIST)\n",
    "\n",
    "NEW_LIST[2] = 3\n",
    "print(NEW_LIST)\n",
    "\n",
    "# Fun fact: A computer scientist always prefers the second method.\n",
    "# This is because it is less computationally intensive to change the value\n",
    "# in an existing list than it is to continuosuly expand the size of your list."
   ]
  },
  {
   "cell_type": "markdown",
   "metadata": {},
   "source": [
    "-   There are a few tools for the purpose of generating simple lists\n",
    "\n",
    "[numpy.linspace](https://docs.scipy.org/doc/numpy/reference/generated/numpy.linspace.html)\n",
    "\n",
    "[numpy.arange](https://docs.scipy.org/doc/numpy/reference/generated/numpy.arange.html)\n",
    "\n",
    "[range](https://www.google.com/#safe=off&q=range)\n",
    "\n"
   ]
  },
  {
   "cell_type": "code",
   "execution_count": null,
   "metadata": {},
   "outputs": [],
   "source": [
    "import numpy as np\n",
    "\n",
    "# np.linspace generates an array of 'num' floats between the first and last value\n",
    "L1 = np.linspace(1, 50, num=50)\n",
    "print(L1)\n",
    "\n",
    "# np.arange generates an array of values evenly spaced by step\n",
    "L2 = np.arange(1, 50, step=2)\n",
    "print(L2)\n",
    "\n",
    "# You can make these counting backwards as well\n",
    "L3 = np.arange(50, 1, step=-2)\n",
    "print(L3)\n",
    "\n",
    "# Same as np.arange, but returns a list instead of an array\n",
    "L4 = range(1, 50, 2)\n",
    "print(L4)"
   ]
  },
  {
   "cell_type": "markdown",
   "metadata": {},
   "source": [
    "-   Here are some examples of how to produce a list of the squared values for integers from 0-4.\n",
    "\n"
   ]
  },
  {
   "cell_type": "code",
   "execution_count": null,
   "metadata": {},
   "outputs": [],
   "source": [
    "import numpy as np\n",
    "\n",
    "# The brute force approach\n",
    "W = [0**2]\n",
    "W += [1**2]\n",
    "W += [2**2]\n",
    "W += [3**2]\n",
    "W += [4**2]\n",
    "\n",
    "print(W)\n",
    "\n",
    "# The for statement\n",
    "X = []\n",
    "for i in range(5):\n",
    "   X += [i**2]\n",
    "\n",
    "print(X)\n",
    "\n",
    "# List comprehension\n",
    "Y = [i**2 for i in range(5)]\n",
    "\n",
    "print(Y)\n",
    "\n",
    "# An array\n",
    "Z = np.arange(0, 5) ** 2\n",
    "\n",
    "print(Z)\n",
    "\n",
    "# Mapping\n",
    "def sqr(x):\n",
    "    return x ** 2\n",
    "\n",
    "A = map(sqr, range(5))\n",
    "\n",
    "print(A)"
   ]
  },
  {
   "cell_type": "markdown",
   "metadata": {},
   "source": [
    "-   Just because certain methods are less-efficient then others in some applications, doesn't mean this will be true for all applications.\n",
    "\n"
   ]
  },
  {
   "cell_type": "markdown",
   "metadata": {},
   "source": [
    "\n",
    "### What are some of the advantages and disadvantages to using each of these looping methods?\n",
    "\n"
   ]
  },
  {
   "cell_type": "markdown",
   "metadata": {},
   "source": [
    "-   The examples thus far have been fairly trivial, but we are only using fairly simple applications of loops for this class.\n",
    "\n"
   ]
  },
  {
   "cell_type": "markdown",
   "metadata": {},
   "source": [
    "\n",
    "## Examples debugging from an expert perspective\n",
    "\n"
   ]
  },
  {
   "cell_type": "markdown",
   "metadata": {},
   "source": [
    "-   The following example problem was provided via the course mailing list.\n",
    "\n",
    "A gaseous feed of pure A (1 mol/L) enters a plug flow reactor of 2 L and reacts as follows:\n",
    "\n",
    "\\begin{equation}\n",
    "2\\;A \\rightarrow B \\quad -r_A= 0.005\\;C_A^2\n",
    "\\end{equation}\n",
    "\n",
    "Find the what feed rate (L/min) will give an outlet concentration Ca = 0.5 mol/L.\n",
    "\n",
    "-   The solution provided is complex and contains multiple extra steps in order to utilize fsolve to find a precise solution.\n",
    "\n",
    "-   Debugging such complex multi-stage code can be tedious and daunting when attempted all at once.\n",
    "\n",
    "-   Fortunately, when problems have multiple stages we can use the tools outlined in the first section to break it into more manageable pieces.\n",
    "\n"
   ]
  },
  {
   "cell_type": "code",
   "execution_count": null,
   "metadata": {
    "collapsed": true
   },
   "outputs": [],
   "source": [
    "import numpy as np\n",
    "from scipy.integrate import odeint\n",
    "import matplotlib.pyplot as plt\n",
    "from scipy.optimize import fsolve\n",
    "from scipy.interpolate import interp1d\n",
    "\n",
    "Ca0 = 1  # mol/L\n",
    "k = 0.005 # mol/L^2 s\n",
    "Vspan = np.linspace(0, 2) # L\n",
    "v0span = np.linspace(0.0001, 0.2)\n",
    "Ca_target = 0.5\n",
    "\n",
    "\n",
    "def dFdV(F, V, v0):\n",
    "\n",
    "    Fa, Fr = F\n",
    "    Ft = sum(F)\n",
    "    Ft0 = Ca0 * v0\n",
    "    v = v0 * Ft / Ft0\n",
    "\n",
    "    Ca = Fa / v\n",
    "    ra = -k * Ca**2\n",
    "    rr = -ra / 2.\n",
    "\n",
    "    dFadV = ra\n",
    "    dFrdV = rr\n",
    "\n",
    "    return [dFadV, dFrdV]\n",
    "\n",
    "\n",
    "def Ca(v0):\n",
    "    '''We need to create a function of Ca(v0) to use fsolve'''\n",
    "    F = odeint(dFdV, [Ca0 * v0, 0.], Vspan)\n",
    "    v = v0 * sum(F[-1]) / (Ca0 * v0)\n",
    "    C = F / v\n",
    "    return C\n",
    "\n",
    "# odeint cannot accept an array when returning mutliple flowrates\n",
    "# Therefore, we create a proxy function to perfrom essentially the\n",
    "# same task as Ca, it will run independently of odeint.\n",
    "proxy_Ca = interp1d(v0span, map(Ca, v0span), 'cubic')\n",
    "\n",
    "def obj(v0):\n",
    "    '''Our objective function: Ca = 0.5'''\n",
    "    return proxy_Ca(v0) - Ca_target\n",
    "\n",
    "v0_sol = fsolve(obj, 0.01)\n",
    "print('Volumetric flow rate: {:.2f} L/min'.format(v0_sol[-1]*60))\n",
    "print('Exit concentration of Ca: {:.1f} mol/L'.format(Ca_target))\n",
    "\n",
    "plt.plot(v0span*60, map(Ca, v0span), 'b-', label='')\n",
    "plt.plot(v0span*60, proxy_Ca(v0span), 'r--', label='')\n",
    "plt.plot(v0_sol*60, Ca(v0_sol[0]), 'ro', label='Solution')\n",
    "plt.xlabel('Volumetric flow rate (L/min)')\n",
    "plt.ylabel('$C_A$ (mol/L)')\n",
    "plt.tight_layout()\n",
    "plt.show()"
   ]
  },
  {
   "cell_type": "markdown",
   "metadata": {},
   "source": [
    "\n",
    "### The first error produced from the code block looks as follow:\n",
    "\n"
   ]
  },
  {
   "cell_type": "markdown",
   "metadata": {},
   "source": [
    "    Traceback (most recent call last):\n",
    "      File \"<stdin>\", line 41, in <module>\n",
    "      File \"<stdin>\", line 33, in Ca\n",
    "      File \"/usr/local/lib/python2.7/dist-packages/scipy/integrate/odepack.py\", line 215, in odeint\n",
    "        ixpr, mxstep, mxhnil, mxordn, mxords)\n",
    "    TypeError: dFdV() takes exactly 3 arguments (2 given)\n",
    "\n",
    "-   Notice that there are multiple error messages reported for this more complex example.\n",
    "\n",
    "-   This is called the \"traceback\" which provides a list of functions utilized from the line that produced the error in your code, to the actual function which produced the error.\n",
    "\n",
    "-   As an expect, I often look at the last line first. If the error message is one that I recognize, I can usually resolve the issue quickly.\n",
    "\n",
    "-   In this case, \"dFdV() takes exactly 3 arguments (2 given)\" is fairly informative. I have a function named dFdV(F, V, v0) which takes a molar flowrate, volume, and volumetric flowrate. At some location, I am apparently only giving this function 2 of those 3 variables.\n",
    "\n",
    "-   To quickly identify the location this is happening, I just to the top of the traceback.\n",
    "\n",
    "-   I know that \"<stdin>\" refers to code that I am executing, so I first find line 41 in python IDE mode.\n",
    "\n",
    "-   Line 41 contains a call to the Ca function, which is also mentioned in the next line of the traceback, so I move to line 33 next.\n",
    "\n",
    "-   Line 33 contains a call the the dFdV function, and now I can see that the additional argument v0 is not being provided to my function.\n",
    "\n"
   ]
  },
  {
   "cell_type": "markdown",
   "metadata": {},
   "source": [
    "\n",
    "### The error message for the next bug is less helpful than the last:\n",
    "\n"
   ]
  },
  {
   "cell_type": "markdown",
   "metadata": {},
   "source": [
    "    Traceback (most recent call last):\n",
    "      File \"<stdin>\", line 41, in <module>\n",
    "      File \"/usr/local/lib/python2.7/dist-packages/scipy/interpolate/interpolate.py\", line 412, in __init__\n",
    "        _Interpolator1D.__init__(self, x, y, axis=axis)\n",
    "      File \"/usr/local/lib/python2.7/dist-packages/scipy/interpolate/polyint.py\", line 61, in __init__\n",
    "        self._set_yi(yi, xi=xi, axis=axis)\n",
    "      File \"/usr/local/lib/python2.7/dist-packages/scipy/interpolate/polyint.py\", line 126, in _set_yi\n",
    "        raise ValueError(\"x and y arrays must be equal in length along \"\n",
    "    ValueError: x and y arrays must be equal in length along interpolation axis.\n",
    "\n",
    "-   Most of the traceback isn't that helpful either, since it refers to scipy package functions.\n",
    "\n",
    "-   So, the gist of the error is that there are two arrays: x and y that are not the same shape, but should be, and the problem origionated in my code at line 41 (The last time \"<stdin>\" is referenced).\n",
    "\n",
    "-   This time I will need to manipulate the variables to determine what is wrong.\n",
    "\n",
    "-   Line 41 contains the scipy.interp1d function which takes two arrays as arguments. It seems likely that these are the x and y arrays refereed to in the error message.\n",
    "\n",
    "-   Commenting out line 41 and everything after it will let me look at the size of each array.\n",
    "\n",
    "-   Now I can see that \"map(Ca, v0span)\" is significantly larger than \"v0span\".\n",
    "\n",
    "-   I know that the map function returns a list of results from the Ca function for each element from v0span, so the Ca function must not be generating what I thought.\n",
    "\n",
    "-   The purpose of the Ca function is to produce the exit concentration of Ca for a given v0.\n",
    "\n",
    "-   Passing a single v0 through the Ca function, I can now see that the function is returning a list of Ca and Cr values representing concentrations through the extent of the reactor.\n",
    "\n",
    "-   Now I know that I need to select the exit concentration from the list to have the function produce the desired result.\n",
    "\n",
    "-   Finally, I can uncomment the final section of my code and everything runs as planned.\n",
    "\n"
   ]
  },
  {
   "cell_type": "markdown",
   "metadata": {},
   "source": [
    "\n",
    "### Other bugs may be present without producing errors\n",
    "\n"
   ]
  },
  {
   "cell_type": "markdown",
   "metadata": {},
   "source": [
    "IMPORTANT NOTE: The most difficult bugs to fix are the ones that don't produce an error message at all!\n",
    "\n",
    "-   These situations rely upon your expert knowledge of how these systems work, what is a reasonable solution, and understanding of how basic coding features operate.\n",
    "\n",
    "-   Lets practice these coding skills now by working through the assignment below in class:\n",
    "\n",
    "[debugging](debugging)\n",
    "\n",
    "-   Discussion with your neighbore on how to solve is problems is encouraged!\n",
    "\n"
   ]
  },
  {
   "cell_type": "markdown",
   "metadata": {},
   "source": [
    "\n",
    "# Basic concepts of Python wrappers\n",
    "\n"
   ]
  },
  {
   "cell_type": "markdown",
   "metadata": {},
   "source": [
    "A large number of you expressed interest in knowing how wrappers operate.\n",
    "\n",
    "-   This is likely due to the fact that we shown examples of them for the quantities package as well as the uncertainties package.\n",
    "\n",
    "-   While these packages can be useful, their implementation is often tedious for more complex functions.\n",
    "\n",
    "-   Knowing how to use these packages is not required for the course, although it can be helpful for simple applications!\n",
    "\n",
    "To understand the need for wrappers, it is helpful to understand some of the origin of Python code.\n",
    "\n",
    "-   Python is a culmination of modules from many different developers, often with different purposes in mind (like numpy, scipy, and matplotlib).\n",
    "\n",
    "-   That means many that not all of the modules we use designed to support features from other modules.\n",
    "\n",
    "-   This is particularly true of less widely used modules like quantities and uncertainties.\n",
    "\n",
    "-   Therefore, to make their functions compatible with other, more commonly used modules, these developers implement wrappers which allow them to manipulate those functions without actually changing them.\n",
    "\n",
    "-   Here is an example of the most basic wrapper implementation.\n",
    "\n"
   ]
  },
  {
   "cell_type": "code",
   "execution_count": 3,
   "metadata": {},
   "outputs": [
    {
     "name": "stdout",
     "output_type": "stream",
     "text": [
      "The arguments being passed to call are: (1, 2)\n",
      "The key-word arguments in this example: {'an_extra_parameter': 'Bob'}\n",
      "0.5\n"
     ]
    }
   ],
   "source": [
    "# First we define the wapper.\n",
    "def wrap():\n",
    "\n",
    "\n",
    "    # Next we define which function we are decorating\n",
    "    # This is required syntax for the @wrap command\n",
    "    def decorate(func):\n",
    "\n",
    "        # Finally, we specify what to do when the function is called\n",
    "        # For a standard function, this is to return the results only!\n",
    "        def call(*args, **kwargs):\n",
    "\n",
    "            # First, we tell the wrapper to inform us of the arguments\n",
    "            print('The arguments being passed to call are:', args)\n",
    "            print('The key-word arguments in this example:', kwargs)\n",
    "\n",
    "            # Then we have it do the usual thing\n",
    "            result = func(*args, **kwargs)\n",
    "\n",
    "            return result\n",
    "\n",
    "        return call\n",
    "\n",
    "    return decorate\n",
    "\n",
    "\n",
    "# This wrapper doesn't do much!\n",
    "@wrap()\n",
    "def divide(x, y, an_extra_parameter=0):\n",
    "   \"\"\"This is someone elses function, which I can't change\n",
    "   \"\"\"\n",
    "   return x / float(y)\n",
    "\n",
    " \n",
    "print(divide(1, 2, an_extra_parameter='Bob'))"
   ]
  },
  {
   "cell_type": "markdown",
   "metadata": {},
   "source": [
    "-   In more complex examples, we can add our own additional functions to the wrapper.\n",
    "\n",
    "-   Consider how we might prevent the function from returning an error if we were to divide by zero.\n",
    "\n"
   ]
  },
  {
   "cell_type": "code",
   "execution_count": 4,
   "metadata": {},
   "outputs": [
    {
     "name": "stdout",
     "output_type": "stream",
     "text": [
      "trace_in is being run\n",
      "trace_out is being run\n",
      "0.5\n"
     ]
    }
   ],
   "source": [
    "def wrap(pre, post):\n",
    "    def decorate(func):\n",
    "        def call(*args):\n",
    "\n",
    "            # Now we execute the pre-function and post-functions as well\n",
    "            pre(func, *args)\n",
    "            result = func(*args)\n",
    "            post(func, *args)\n",
    "            return result\n",
    "        return call\n",
    "    return decorate\n",
    "\n",
    "\n",
    "\n",
    "\n",
    "def trace_in(func, *args):\n",
    "   print('trace_in is being run')\n",
    "\n",
    "def trace_out(func, *args):\n",
    "   print('trace_out is being run')\n",
    "\n",
    "\n",
    "@wrap(trace_in, trace_out)\n",
    "def divide(x, y):\n",
    "   \"\"\"This is someone elses function, which I can't change\n",
    "   \"\"\"\n",
    "   return x / float(y)\n",
    "\n",
    "print(divide(1, 2))"
   ]
  },
  {
   "cell_type": "markdown",
   "metadata": {},
   "source": [
    "-   Finally, the pre-function and post-function can be written in such a way that the original function achieves the desired effect without being edited directly.\n",
    "\n"
   ]
  },
  {
   "cell_type": "code",
   "execution_count": 5,
   "metadata": {},
   "outputs": [
    {
     "name": "stdout",
     "output_type": "stream",
     "text": [
      "trace_in is checking to make sure y != 0\n",
      "trace_out is being run\n",
      "[[https://pogoprinciple.files.wordpress.com/2012/02/divide3.jpg]]\n",
      "nan\n"
     ]
    }
   ],
   "source": [
    "import numpy as np\n",
    "\n",
    "\n",
    "def wrap(pre, post):\n",
    "    def decorate(func):\n",
    "        def call(*args):\n",
    "\n",
    "            # These end-plate functions can be used to manipulate\n",
    "            # the input\n",
    "            args = pre(func, *args)\n",
    "            result = func(*args)\n",
    "            post(func, result)\n",
    "            return result\n",
    "        return call\n",
    "    return decorate\n",
    "\n",
    "\n",
    "\n",
    "def trace_in(func, *args):\n",
    "    print('trace_in is checking to make sure y != 0')\n",
    "\n",
    "    x, y = args\n",
    "\n",
    "    if y == 0:\n",
    "        return (x, np.nan)\n",
    "    else:\n",
    "        return (x, y)\n",
    "\n",
    "\n",
    "def trace_out(func, result):\n",
    "    print('trace_out is being run')\n",
    "\n",
    "    if np.isnan(result):\n",
    "        print('[[https://pogoprinciple.files.wordpress.com/2012/02/divide3.jpg]]')\n",
    "\n",
    "@wrap(trace_in, trace_out)\n",
    "def divide(x, y):\n",
    "   \"\"\"This is someone elses function, which I can't change\n",
    "   \"\"\"\n",
    "   return x / float(y)\n",
    "\n",
    "print(divide(1, 0))"
   ]
  },
  {
   "cell_type": "markdown",
   "metadata": {},
   "source": [
    "-   Previously, Dr. Kitchin has demonstrated how we would wrap fsolve to account for units: [./rxns-book/wrapping-up-introduction.md](./rxns-book/wrapping-up-introduction.md).\n",
    "\n",
    "-   The quantities package does not provide function wrapping like uncertainties does, so in this example the wrapper is hard-coded around the fsolve function.\n",
    "\n",
    "-   Even the uncertainties wrapper may not behave correctly with all functions. Consider using Monte-Carlo techniques instead as they tend to be more robust.\n",
    "\n"
   ]
  },
  {
   "cell_type": "markdown",
   "metadata": {},
   "source": [
    "\n",
    "# Review of estimating parameters from experimental kinetics data\n",
    "\n"
   ]
  },
  {
   "cell_type": "markdown",
   "metadata": {},
   "source": [
    "-   Uncertainty is everywhere in engineering and learning how to manage it is a valuable skill even outside of reactor design.\n",
    "\n",
    "-   In general, when fitting to models we categorize into two main topics.\n",
    "\n"
   ]
  },
  {
   "cell_type": "markdown",
   "metadata": {},
   "source": [
    "\n",
    "## Linear solvers:\n",
    "\n"
   ]
  },
  {
   "cell_type": "markdown",
   "metadata": {},
   "source": [
    "-   Linear solvers are trivially easy to solve and do not require an initial guess.\n",
    "\n",
    "-   However, not all data follows a linear trend and transforming models into linear form often fit more poorly than non-linear fits.\n",
    "\n",
    "[numpy.polyfit](https://docs.scipy.org/doc/numpy/reference/generated/numpy.polyfit.html)\n",
    "\n",
    "[numpy.poly1d](https://docs.scipy.org/doc/numpy/reference/generated/numpy.poly1d.html)\n",
    "\n"
   ]
  },
  {
   "cell_type": "code",
   "execution_count": 6,
   "metadata": {},
   "outputs": [
    {
     "ename": "ValueError",
     "evalue": "the number of data points must exceed order + 2 for Bayesian estimate the covariance matrix",
     "output_type": "error",
     "traceback": [
      "\u001b[0;31m---------------------------------------------------------------------------\u001b[0m",
      "\u001b[0;31mValueError\u001b[0m                                Traceback (most recent call last)",
      "\u001b[0;32m<ipython-input-6-521757b38bd1>\u001b[0m in \u001b[0;36m<module>\u001b[0;34m()\u001b[0m\n\u001b[1;32m      6\u001b[0m \u001b[0;34m\u001b[0m\u001b[0m\n\u001b[1;32m      7\u001b[0m \u001b[0;31m# Create a third-order polynomial to fit the data\u001b[0m\u001b[0;34m\u001b[0m\u001b[0;34m\u001b[0m\u001b[0m\n\u001b[0;32m----> 8\u001b[0;31m \u001b[0mfit\u001b[0m\u001b[0;34m,\u001b[0m \u001b[0mcov\u001b[0m \u001b[0;34m=\u001b[0m \u001b[0mnp\u001b[0m\u001b[0;34m.\u001b[0m\u001b[0mpolyfit\u001b[0m\u001b[0;34m(\u001b[0m\u001b[0mx\u001b[0m\u001b[0;34m,\u001b[0m \u001b[0my\u001b[0m\u001b[0;34m,\u001b[0m \u001b[0;36m4\u001b[0m\u001b[0;34m,\u001b[0m \u001b[0mcov\u001b[0m\u001b[0;34m=\u001b[0m\u001b[0;32mTrue\u001b[0m\u001b[0;34m)\u001b[0m\u001b[0;34m\u001b[0m\u001b[0m\n\u001b[0m\u001b[1;32m      9\u001b[0m \u001b[0;34m\u001b[0m\u001b[0m\n\u001b[1;32m     10\u001b[0m \u001b[0mstd_dev\u001b[0m \u001b[0;34m=\u001b[0m \u001b[0mnp\u001b[0m\u001b[0;34m.\u001b[0m\u001b[0mdiag\u001b[0m\u001b[0;34m(\u001b[0m\u001b[0mcov\u001b[0m\u001b[0;34m)\u001b[0m\u001b[0;34m\u001b[0m\u001b[0m\n",
      "\u001b[0;32m/opt/conda/lib/python3.6/site-packages/numpy/lib/polynomial.py\u001b[0m in \u001b[0;36mpolyfit\u001b[0;34m(x, y, deg, rcond, full, w, cov)\u001b[0m\n\u001b[1;32m    601\u001b[0m         \u001b[0;31m#  Plus, it gives a slightly more conservative estimate of uncertainty.\u001b[0m\u001b[0;34m\u001b[0m\u001b[0;34m\u001b[0m\u001b[0m\n\u001b[1;32m    602\u001b[0m         \u001b[0;32mif\u001b[0m \u001b[0mlen\u001b[0m\u001b[0;34m(\u001b[0m\u001b[0mx\u001b[0m\u001b[0;34m)\u001b[0m \u001b[0;34m<=\u001b[0m \u001b[0morder\u001b[0m \u001b[0;34m+\u001b[0m \u001b[0;36m2\u001b[0m\u001b[0;34m:\u001b[0m\u001b[0;34m\u001b[0m\u001b[0m\n\u001b[0;32m--> 603\u001b[0;31m             raise ValueError(\"the number of data points must exceed order + 2 \"\n\u001b[0m\u001b[1;32m    604\u001b[0m                              \"for Bayesian estimate the covariance matrix\")\n\u001b[1;32m    605\u001b[0m         \u001b[0mfac\u001b[0m \u001b[0;34m=\u001b[0m \u001b[0mresids\u001b[0m \u001b[0;34m/\u001b[0m \u001b[0;34m(\u001b[0m\u001b[0mlen\u001b[0m\u001b[0;34m(\u001b[0m\u001b[0mx\u001b[0m\u001b[0;34m)\u001b[0m \u001b[0;34m-\u001b[0m \u001b[0morder\u001b[0m \u001b[0;34m-\u001b[0m \u001b[0;36m2.0\u001b[0m\u001b[0;34m)\u001b[0m\u001b[0;34m\u001b[0m\u001b[0m\n",
      "\u001b[0;31mValueError\u001b[0m: the number of data points must exceed order + 2 for Bayesian estimate the covariance matrix"
     ]
    }
   ],
   "source": [
    "import numpy as np\n",
    "import matplotlib.pyplot as plt\n",
    "\n",
    "x = np.array([0.0, 1.0, 2.0, 3.0,  4.0,  5.0])\n",
    "y = np.array([0.0, 0.8, 0.9, 0.1, -0.8, -1.0])\n",
    "\n",
    "# Create a third-order polynomial to fit the data\n",
    "fit, cov = np.polyfit(x, y, 4, cov=True)\n",
    "\n",
    "std_dev = np.diag(cov)\n",
    "print(std_dev)\n",
    "\n",
    "p = np.poly1d(fit)\n",
    "\n",
    "# Create a thirtieth-order polynomial to fit the data\n",
    "p30 = np.poly1d(np.polyfit(x, y, 30))\n",
    "\n",
    "xp = np.linspace(-2, 6, 100)\n",
    "\n",
    "plt.figure(figsize=(6, 4))\n",
    "plt.plot(x, y, '.')\n",
    "plt.plot(xp, p(xp), '-')\n",
    "plt.plot(xp, p30(xp), '--')\n",
    "plt.ylim(-2, 2)\n",
    "plt.tight_layout()\n",
    "plt.savefig('./images/polynomial-overfitting.png')"
   ]
  },
  {
   "cell_type": "markdown",
   "metadata": {},
   "source": [
    "![img](./images/polynomial-overfitting.png)\n",
    "\n",
    "-   The figure shown above demonstrates a common mistake made by beginners.\n",
    "\n",
    "-   A model is only as powerful as its predictive capability. Although the 30th-order polynomial fits the data perfectly, its predictive capability is dubious at best.\n",
    "\n",
    "-   This also underlines the importance of visually inspecting the interpolations and extrapolations of your fit.\n",
    "\n",
    "-   Generally speaking, interpolations are more predictive than extrapolations, although this may not be true for poor fitting models.\n",
    "\n",
    "-   Also note that while you can return the fitting statistics, polyfit will not calculate a confidence interval for you.\n",
    "\n",
    "A more flexable linear fitting tool which calculates confidence intervals\n",
    "[pycse.regress](https://www.google.com/#safe=off&q=pycse.regress)\n",
    "\n"
   ]
  },
  {
   "cell_type": "code",
   "execution_count": 1,
   "metadata": {},
   "outputs": [
    {
     "name": "stdout",
     "output_type": "stream",
     "text": [
      "[ 0.008723   -0.54426774  1.4283812 ]\n",
      "[[ 0.00501202  0.01243399]\n",
      " [-0.70289172 -0.38564377]\n",
      " [ 1.05618245  1.80057995]]\n"
     ]
    },
    {
     "data": {
      "image/png": "[encoded data removed]",
      "text/plain": [
       "<matplotlib.figure.Figure at 0x7fa4748c5ef0>"
      ]
     },
     "metadata": {},
     "output_type": "display_data"
    }
   ],
   "source": [
    "import numpy as np\n",
    "from pycse import regress\n",
    "import matplotlib.pyplot as plt\n",
    "\n",
    "x = np.array([0.0, 1.0, 2.0, 3.0,  4.0,  5.0])\n",
    "y = np.array([0.0, 0.8, 0.9, 0.1, -0.8, -1.0])\n",
    "\n",
    "# We can control which features we fit to.\n",
    "X = np.column_stack([x**4, x**2, x**1])\n",
    "\n",
    "pars, pint, se = regress(X, y, alpha=0.05)\n",
    "\n",
    "print(pars)\n",
    "print(pint)\n",
    "\n",
    "xp = np.linspace(-2, 6, 100)\n",
    "\n",
    "# Unfortunatly, regress does not \n",
    "def fit(x, A, C, D):\n",
    "    return A*x**4 + C*x**2 + D*x**1\n",
    "\n",
    "plt.figure(figsize=(6, 4))\n",
    "plt.plot(x, y, '.')\n",
    "plt.plot(xp, fit(xp, *pars), '-')\n",
    "plt.ylim(-2, 2)\n",
    "plt.tight_layout()\n",
    "plt.show()"
   ]
  },
  {
   "cell_type": "markdown",
   "metadata": {},
   "source": [
    "-   By removing the 3rd and 0th order terms, the fit becomes much more stable at the extrapolated ends.\n",
    "\n",
    "-   Assuming there is some error associated with the initial data, I could make a compelling argument that the simpler model provides a more accurate representation of the trend, and is potentially more predictive.\n",
    "\n",
    "-   Unfortunatly, regress does not return have a poly1d function for convenient plotting, so we must create our own function if we want to demonstrate the interpolation graphically.\n",
    "\n",
    "-   However, poly1d can be used if the traditional polynomial form is used.\n",
    "\n"
   ]
  },
  {
   "cell_type": "markdown",
   "metadata": {},
   "source": [
    "\n",
    "## Non-linear solvers:\n",
    "\n"
   ]
  },
  {
   "cell_type": "markdown",
   "metadata": {},
   "source": [
    "-   Non-linear solvers are not as simple to solve and sometimes no good solutions can be found at all.\n",
    "\n",
    "-   These fitting methods rely on initial guesses and can be quite sensitive to these guesses, especially at higher-orders.\n",
    "\n",
    "-   These solvers are also very flexible and can at least attempt to fit to any model provided.\n",
    "\n",
    "[scipy.curve_fit](https://docs.scipy.org/doc/scipy/reference/generated/scipy.curve_fit.html)\n",
    "\n",
    "[pycse.nlinfit](https://www.google.com/#safe=off&q=pycse.nlinfit)\n",
    "\n"
   ]
  },
  {
   "cell_type": "code",
   "execution_count": 8,
   "metadata": {},
   "outputs": [
    {
     "name": "stdout",
     "output_type": "stream",
     "text": [
      "[ 0.008723   -0.54426774  1.4283812 ]\n",
      "[ 0.008723   -0.54426774  1.4283812 ]\n",
      "[[ 0.00597818  0.01146782]\n",
      " [-0.66159357 -0.42694192]\n",
      " [ 1.15308533  1.70367707]]\n"
     ]
    },
    {
     "data": {
      "image/png": "[encoded data removed]",
      "text/plain": [
       "<matplotlib.figure.Figure at 0x7f6388a32e10>"
      ]
     },
     "metadata": {},
     "output_type": "display_data"
    }
   ],
   "source": [
    "import numpy as np\n",
    "from pycse import regress\n",
    "import matplotlib.pyplot as plt\n",
    "from scipy.optimize import curve_fit\n",
    "from pycse import nlinfit\n",
    "\n",
    "x = np.array([0.0, 1.0, 2.0, 3.0,  4.0,  5.0])\n",
    "y = np.array([0.0, 0.8, 0.9, 0.1, -0.8, -1.0])\n",
    "\n",
    "\n",
    "def fit(x, A, C, D):\n",
    "    return A*x**4 + C*x**2 + D*x**1\n",
    "\n",
    "\n",
    "# This comes from the linear fit above\n",
    "initial_guess = [1, 1, 1]\n",
    "\n",
    "pars, pcov = curve_fit(fit, x, y, initial_guess)\n",
    "pars2, pint, se = nlinfit(fit, x, y, initial_guess, 0.05)\n",
    "\n",
    "print(pars)\n",
    "print(pars2)\n",
    "\n",
    "print(pint)\n",
    "\n",
    "xp = np.linspace(-2, 6, 100)\n",
    "\n",
    "plt.figure(figsize=(6, 4))\n",
    "plt.plot(x, y, '.')\n",
    "plt.plot(xp, fit(xp, *pars), 'b-')\n",
    "plt.plot(xp, fit(xp, *pars), 'r--')\n",
    "plt.ylim(-2, 2)\n",
    "plt.tight_layout()\n",
    "plt.savefig('./images/polynomial-curvefit.png')"
   ]
  },
  {
   "cell_type": "markdown",
   "metadata": {},
   "source": [
    "![img](./images/polynomial-curvefit.png)\n",
    "\n",
    "-   Interestingly, even though the fitted parameters are found to be the same, nlinfit predicts a smaller confidence interval than regress when using the same model.\n",
    "\n",
    "-   This probably shouldn't be the case, although I am only 95% confident!\n",
    "\n",
    "-   Based on the example above, for fits with few parameters, non-linear fitting techniques tend to be just as viable as linear fits.\n",
    "\n",
    "-   This will not be the case for models with large numbers of variables.\n",
    "\n",
    "-   We can also see here how a linear fit could potentially be used to identify good initial guesses for similar models using non-linear fits.\n",
    "\n",
    "Lets end with an exercise in identifying good models to fit data based on actual work being done in the Kitchin group:\n",
    "\n",
    "[free-energy-regression](free-energy-regression)\n",
    "\n"
   ]
  },
  {
   "cell_type": "code",
   "execution_count": null,
   "metadata": {},
   "outputs": [],
   "source": []
  }
 ],
 "metadata": {
  "kernelspec": {
   "display_name": "Python 3",
   "language": "python",
   "name": "python3"
  },
  "language_info": {
   "codemirror_mode": {
    "name": "ipython",
    "version": 3
   },
   "file_extension": ".py",
   "mimetype": "text/x-python",
   "name": "python",
   "nbconvert_exporter": "python",
   "pygments_lexer": "ipython3",
   "version": "3.6.2"
  },
  "toc": {
   "colors": {
    "hover_highlight": "#DAA520",
    "navigate_num": "#000000",
    "navigate_text": "#333333",
    "running_highlight": "#FF0000",
    "selected_highlight": "#FFD700",
    "sidebar_border": "#EEEEEE",
    "wrapper_background": "#FFFFFF"
   },
   "moveMenuLeft": true,
   "nav_menu": {
    "height": "191px",
    "width": "252px"
   },
   "navigate_menu": true,
   "number_sections": true,
   "sideBar": true,
   "threshold": 4,
   "toc_cell": false,
   "toc_section_display": "block",
   "toc_window_display": false,
   "widenNotebook": false
  }
 },
 "nbformat": 4,
 "nbformat_minor": 1
}
