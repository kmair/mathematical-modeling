{
 "cells": [
  {
   "cell_type": "markdown",
   "metadata": {},
   "source": [
    "\n",
    "# Semi-batch reactor\n",
    "\n"
   ]
  },
  {
   "cell_type": "markdown",
   "metadata": {},
   "source": [
    "-   A semi-batch reactor is in between a batch reactor and a CSTR.\n",
    "-   A typical operation is that the reactor is initially full of one reactant, and one adds the second reactant slowly\n",
    "-   There is usually no outlet flow, so the volume of the reactor is not constant\n",
    "-   It is a transient reactor\n",
    "\n",
    "![img](./images/semi-batch-reactor-schematic.png \"A semi-batch reactor\")\n",
    "\n",
    "-   The main reason to use a semi-batch reactor is to control reaction rate by slowly adding reactants in the feed stream\n",
    "-   Assuming that $B$ is the species fed to the reactor\n",
    "-   The mole balance becomes:\n",
    "\n",
    "$ \\frac{d(N_B)}{dt} = \\nu C_B + r_A V $\n",
    "\n",
    "-   All other species mole balances are the same as the batch reactor\n",
    "    -   *except* that we need to account for the changing volume on the concentrations in the rate laws\n",
    "\n",
    "-   Note, we need an equation for how the volume changes now too.\n",
    "-   If the density is not a function of composition, we have $V = V_0 + \\nu_0 t$\n",
    "    -   or alternatively: $\\frac{dV}{dt} = \\nu_0$\n",
    "\n",
    "-   Let us consider an example of $A + B \\rightarrow C$\n",
    "-   We start with 5 L of $A$ at a concentration of 2 mol/L in a 10 L reactor\n",
    "-   We add $B$ at a rate of $0.1 L / min$ at a concentration of 2 mol/L\n",
    "-   The rate law is given as $r = k C_A C_B^2$ with $k = 0.02$ L^2/mol^2/hr\n",
    "-   Find the concentration of A when the reactor is full.\n",
    "-   The mole balance on $A$ is:\n",
    "\n",
    "$ \\frac{d N_A}{dt} = r_A V$\n",
    "\n",
    "-   with $N_A(t=0) = V_0 C_{A0}$\n",
    "-   on $B$ we have\n",
    "\n",
    "$\\frac{d N_B}{dt} = v_0 C_{B0} + r_B  V$\n",
    "\n",
    "-   with $N_B(t=0) = 0$\n",
    "-   Assuming no change in density we have\n",
    "\n",
    "$ \\frac{dV}{dt} = v_0 $\n",
    "\n",
    "-   with $V(t=0) = 5$ L\n",
    "-   we only have 5 L of available volume, which will take 50 minutes to fill at 0.1 L/min\n",
    "\n",
    "-   Compute the final concentrations of A and B after 50 minutes.\n",
    "\n"
   ]
  },
  {
   "cell_type": "code",
   "execution_count": null,
   "metadata": {},
   "outputs": [],
   "source": [
    "def dcdt(C,t):\n",
    "    \n",
    "    return dCdt"
   ]
  },
  {
   "cell_type": "code",
   "execution_count": 16,
   "metadata": {},
   "outputs": [
    {
     "name": "stdout",
     "output_type": "stream",
     "text": [
      "Ca_final = 0.7415347174976614\n",
      "Cb_final = 0.7415347174976616\n",
      "V_final = 9.999999999999998\n",
      "[[file:pyshow/12161bc1501b601d64204ef1f9764ca6fdfe2231.png]]\n"
     ]
    },
    {
     "data": {
      "image/png": "[encoded data removed]",
      "text/plain": [
       "<matplotlib.figure.Figure at 0x7f27fdef74e0>"
      ]
     },
     "metadata": {},
     "output_type": "display_data"
    }
   ],
   "source": [
    "import numpy as np\n",
    "from scipy.integrate import odeint\n",
    "\n",
    "k = 0.02      # L^2/mol^2/hr\n",
    "\n",
    "Ca0 = 2.0     # mol / L\n",
    "Cbfeed = 2.0  # mol /L\n",
    "\n",
    "v0 = 0.1      # L / min\n",
    "V0 = 5.0      # L\n",
    "\n",
    "# We have three ODEs\n",
    "def ode(Y, t):\n",
    "    Na, Nb, V = Y\n",
    "\n",
    "    Ca = Na / V\n",
    "    Cb = Nb / V\n",
    "    r = k * Ca * Cb**2\n",
    "\n",
    "    ra = -r\n",
    "    rb = -r\n",
    "\n",
    "    dNadt = ra * V\n",
    "    dNbdt = v0 * Cbfeed + rb * V\n",
    "    dVdt = v0\n",
    "    return [dNadt, dNbdt, dVdt]\n",
    "\n",
    "tspan = np.linspace(0, 50) # minutes\n",
    "Y0 = [Ca0 * V0, 0.0, V0]\n",
    "sol = odeint(ode, Y0, tspan)\n",
    "Na_fin, Nb_fin, V_fin = sol[-1, :]\n",
    "print('Ca_final = {0}'.format(Na_fin / V_fin))\n",
    "print('Cb_final = {0}'.format(Nb_fin / V_fin))\n",
    "print('V_final = {0}'.format(V_fin))\n",
    "\n",
    "import matplotlib.pyplot as plt\n",
    "NA, NB, V = sol.T\n",
    "\n",
    "NC = Ca0 * V0 - NA\n",
    "\n",
    "plt.plot(tspan, NA/V, tspan, NB/V, tspan, NC / V)\n",
    "plt.legend(['A', 'B', 'C'])\n",
    "plt.xlabel('time (min)')\n",
    "plt.show()"
   ]
  },
  {
   "cell_type": "markdown",
   "metadata": {},
   "source": [
    "-   How much $A$ was actually converted?\n",
    "    -   $C_A$ will go down simply by dilution! We double the volume, which would cut $C_A$ in half even with no reaction\n",
    "\n",
    "-   Initially we had 10 mol of A\n",
    "-   Finally we have &asymp; 7.4 mol\n",
    "    -   The difference is what reacted\n",
    "\n",
    "-   Semibatch reactors are most often used when there are multiple reactions present, and it is advantageous to control the rate by slowly adding one reactant.\n",
    "\n",
    "\n"
   ]
  },
  {
   "cell_type": "code",
   "execution_count": 17,
   "metadata": {},
   "outputs": [
    {
     "name": "stdout",
     "output_type": "stream",
     "text": [
      "Ca_final = 0.7415347174976624\n",
      "Cb_final = 0.7415347174976624\n",
      "[[file:pyshow/12161bc1501b601d64204ef1f9764ca6fdfe2231.png]]\n"
     ]
    },
    {
     "data": {
      "image/png": "[encoded data removed]",
      "text/plain": [
       "<matplotlib.figure.Figure at 0x7f27fddffba8>"
      ]
     },
     "metadata": {},
     "output_type": "display_data"
    }
   ],
   "source": [
    "import numpy as np\n",
    "from scipy.integrate import odeint\n",
    "\n",
    "k = 0.02      # L^2/mol^2/hr\n",
    "\n",
    "Ca0 = 2.0     # mol / L\n",
    "Cbfeed = 2.0  # mol /L\n",
    "\n",
    "v0 = 0.1      # L / min\n",
    "V0 = 5.0      # L6\n",
    "\n",
    "# We have two ODEs\n",
    "def ode(Y, t):\n",
    "    Na, Nb = Y\n",
    "\n",
    "    V = V0 + v0 * t\n",
    "\n",
    "    Ca = Na / V\n",
    "    Cb = Nb / V\n",
    "    r = k * Ca * Cb**2\n",
    "\n",
    "    ra = -r\n",
    "    rb = -r\n",
    "\n",
    "    dNadt = ra * V\n",
    "    dNbdt = v0 * Cbfeed + rb * V\n",
    "    return [dNadt, dNbdt]\n",
    "\n",
    "tspan = np.linspace(0, 50) # minutes\n",
    "Y0 = [Ca0 * V0, 0.0]\n",
    "sol = odeint(ode, Y0, tspan)\n",
    "Na_fin, Nb_fin = sol[-1, :]\n",
    "\n",
    "V_fin = V0 + tspan[-1] * v0\n",
    "\n",
    "print('Ca_final = {0}'.format(Na_fin / V_fin))\n",
    "print('Cb_final = {0}'.format(Nb_fin / V_fin))\n",
    "\n",
    "import pycse.orgmode as org\n",
    "import matplotlib.pyplot as plt\n",
    "NA, NB = sol.T\n",
    "\n",
    "NC = Ca0 * V0 - NA\n",
    "\n",
    "V = V0 + tspan * v0\n",
    "\n",
    "plt.plot(tspan, NA/V, tspan, NB/V, tspan, NC / V)\n",
    "plt.legend(['A', 'B', 'C'])\n",
    "plt.xlabel('time (min)')\n",
    "plt.show()"
   ]
  },
  {
   "cell_type": "markdown",
   "metadata": {},
   "source": [
    "\n",
    "# Membrane reactors\n",
    "\n"
   ]
  },
  {
   "cell_type": "markdown",
   "metadata": {},
   "source": [
    "-   A membrane reactor is typically like a plug flow reactor, but one reactant selectively passes across the membrane into the reactor, or a product selectively passes across the membrane, out of the reactor.\n",
    "\n",
    "![img](./images/membrane-reactor.png)\n",
    "\n",
    "-   The mole balance is similar to the plug flow reactor\n",
    "\n",
    "-   We need a new term in our mole balance because there is an additional flow of material into the reactor\n",
    "\n",
    "-   We consider the differential volume again, and in the limit of $\\Delta V \\rightarrow 0$ we have to know the flux across the surface of the membrane per unit volume.\n",
    "\n",
    "$ \\frac{dF_A}{dV} = r_A + R_A  $\n",
    "\n",
    "-   where $R_A$ will be an expression for the flux across the membrane per unit volume of the reactor.\n",
    "-   Similar to the case where we had a pressure drop, we need a model that describes the flux across the membrane\n",
    "    -   This requires some knowledge of the transport process across the membrane\n",
    "    -   For diffusion we might choose $R_A = a k_{c,A}(C_{A,s} - C_A)$\n",
    "        -   where $C_A$ is the concentration of $A$ in the reactor, and $C_{A,s}$ is the concentration of $A$ outside the reactor.\n",
    "        -   If $C_{A,s} > C_A$ there is a net flux of $A$ into the reactor\n",
    "        -   $a$ is the surface area per unit volume (for a tubular reactor, $a=4/D$)\n",
    "        -   k<sub>c,A</sub> is an overall mass transfer coefficient in m/s\n",
    "\n",
    "-   Since we have a situation where the molar flow is changing down the length of the reactor due to transport and reaction, we have to consider the effect on the volumetric flowrate and concentrations\n",
    "\n",
    "-   Let us consider a single reaction, $A \\rightarrow B + C$, where $B$ is permeable to the walls of the reactor, and diffuses out.\n",
    "-   let $k = 0.7$ 1/min, $k_b' = k_b a =  0.2$ 1/min\n",
    "-   let $-r_A = k C_A$\n",
    "-   the inlet molar flow is 10 mol/min at a concentration of 0.2 mol/L\n",
    "-   Assume that the outside of the reactor is swept by an inert gas, so $C_{B,s} = 0$.\n",
    "-   Estimate the exit concentrations at V = 400 L\n",
    "\n",
    "-   We cannot simply relate the species by stoichiometry here, because the molar flow of $B$ is affected by reaction and transport.\n",
    "-   We need a mole balances for each species\n",
    "-   For species that does not cross the membrane, we use the same mole balance as a PFR.\n",
    "\n"
   ]
  },
  {
   "cell_type": "code",
   "execution_count": 23,
   "metadata": {},
   "outputs": [
    {
     "name": "stdout",
     "output_type": "stream",
     "text": [
      "Fa_exit = 0.23592352651668289 mol/min\n",
      "Fb_exit = 4.469312535575382 mol/min\n",
      "Fc_exit = 9.764076473483316 mol/min\n",
      "Ca_exit = 0.003261019152591015 mol/L\n",
      "Cb_exit = 0.06177643235760899 mol/L\n",
      "Cc_exit = 0.1349625484898 mol/L\n"
     ]
    }
   ],
   "source": [
    "import numpy as np\n",
    "from scipy.integrate import odeint\n",
    "\n",
    "k = 0.7     # rate constant  1/min\n",
    "kb = 0.2    # mass transfer coefficent * a  1/min\n",
    "\n",
    "Ca0 = 0.2   # mol / L\n",
    "Fa0 = 10.0  # mol / min\n",
    "Ft0 = Fa0   # Fb0, Fc0 = 0\n",
    "\n",
    "v0 = Fa0 / Ca0  # inlet volumetric flow\n",
    "\n",
    "Cbs = 0.0    # concentration of B outside shell\n",
    "\n",
    "\n",
    "def dFdV(F, V):\n",
    "    Fa, Fb, Fc = F     # unpack the variables\n",
    "    Ft = Fa + Fb + Fc  # compute total molar flow\n",
    "\n",
    "    v = v0 * Ft / Ft0  # compute corrected volumetric flowrate\n",
    "    Ca = Fa / v        # compute concentrations\n",
    "    Cb = Fb / v\n",
    "    ra = -k * Ca       # compute reaction rate\n",
    "    rb = -ra\n",
    "    rc = -ra\n",
    "    Rb = kb * (Cbs - Cb)  # rate of mass transfer across shell\n",
    "\n",
    "    # define the mole balances\n",
    "    dFadV = ra\n",
    "    dFbdV = rb + Rb\n",
    "    dFcdV = rc\n",
    "    return [dFadV, dFbdV, dFcdV]\n",
    "\n",
    "Vspan = np.linspace(0.0, 400.0)  # liters\n",
    "F0 = [Fa0, 0, 0]\n",
    "sol = odeint(dFdV, F0, Vspan)\n",
    "Faexit, Fbexit, Fcexit = sol[-1, :]\n",
    "print('''Fa_exit = {0} mol/min\n",
    "Fb_exit = {1} mol/min\n",
    "Fc_exit = {2} mol/min'''.format(Faexit, Fbexit, Fcexit))\n",
    "\n",
    "v_exit = v0 * (Faexit + Fbexit + Fcexit) / Ft0\n",
    "\n",
    "print('''Ca_exit = {0} mol/L\n",
    "Cb_exit = {1} mol/L\n",
    "Cc_exit = {2} mol/L'''.format(Faexit / v_exit, Fbexit / v_exit, Fcexit / v_exit))"
   ]
  },
  {
   "cell_type": "markdown",
   "metadata": {},
   "source": [
    "-   What you can see here is that $F_C$ and $F_A$ can be related by stoichiometry:\n",
    "\n"
   ]
  },
  {
   "cell_type": "code",
   "execution_count": 13,
   "metadata": {},
   "outputs": [
    {
     "name": "stdout",
     "output_type": "stream",
     "text": [
      "9.764076473483\n"
     ]
    }
   ],
   "source": [
    "Fa0 = 10.0\n",
    "Fa_exit = 0.235923526517\n",
    "xi = (Fa_exit - Fa0) / -1  # reaction extent\n",
    "\n",
    "Fc_exit = xi * 1  # extent * stoichiometry\n",
    "print(Fc_exit)"
   ]
  },
  {
   "cell_type": "markdown",
   "metadata": {},
   "source": [
    "-   However, $F_B$ cannot be related by stoichiometry (or reaction extent) because it also changes by transport across the reactor walls\n",
    "\n",
    "-   This is an introduction to the membrane reactor\n",
    "-   Where the membrane reactor has real impact is when multiple reactions are present, and selectivity is important.\n",
    "-   Membrane reactors are especially helpful in cases where equilibrium limits exist\n",
    "\n",
    "-   We will see more of these in future lectures.\n",
    "\n"
   ]
  },
  {
   "cell_type": "markdown",
   "metadata": {},
   "source": [
    "counterflow transport pass by reference, docker, pass by value, stack"
   ]
  },
  {
   "cell_type": "code",
   "execution_count": 39,
   "metadata": {},
   "outputs": [
    {
     "name": "stdout",
     "output_type": "stream",
     "text": [
      "Fa_exit = 0.2423037896494297 mol/min\n",
      "Fb_exit = 4.618518072580439 mol/min\n",
      "Fc_exit = 9.75769621035057 mol/min\n",
      "Fb2_exit = 0.16082186222987033 mol/min\n",
      "Ca_exit = 0.003315025345885263 mol/L\n",
      "Cb_exit = 0.0631872266347335 mol/L\n",
      "Cc_exit = 0.13349774801938122 mol/L\n",
      "[[file:pyshow/148cc78e26aed9a57afeee85e761b5ec7352eab0.png]]\n"
     ]
    },
    {
     "data": {
      "image/png": "[encoded data removed]",
      "text/plain": [
       "<matplotlib.figure.Figure at 0x7f27fd932908>"
      ]
     },
     "metadata": {},
     "output_type": "display_data"
    }
   ],
   "source": [
    "import numpy as np\n",
    "from scipy.integrate import odeint\n",
    "\n",
    "k = 0.7     # rate constant  1/min\n",
    "kb = 0.2    # mass transfer coefficent * a  1/min\n",
    "\n",
    "Ca0 = 0.2   # mol / L\n",
    "Fa0 = 10.0  # mol / min\n",
    "Ft0 = Fa0   # Fb0, Fc0 = 0\n",
    "\n",
    "v0 = Fa0 / Ca0  # inlet volumetric flow\n",
    "\n",
    "Cb0 = 0.0    # concentration of B outside shell\n",
    "\n",
    "Fb20=5.3\n",
    "Fn0 = 1000 # 1 mol/min inert flow rate\n",
    "v02 = 1000 # L/min\n",
    "\n",
    "\n",
    "def dFdV(F, V):\n",
    "    Fa, Fb, Fc, Fb2 = F     # unpack the variables\n",
    "    Ft = Fa + Fb + Fc  # compute total molar flow\n",
    "\n",
    "    v = v0 * Ft / Ft0  # compute corrected volumetric flowrate\n",
    "    \n",
    "    v2 = v02 * (Fn0 + Fb2) / Fn0\n",
    "    Ca = Fa / v        # compute concentrations\n",
    "    Cb = Fb / v\n",
    "    Cb2 = Fb2 / v2\n",
    "    ra = -k * Ca       # compute reaction rate\n",
    "    rb = -ra\n",
    "    rc = -ra\n",
    "    Rb = kb * (Cb2 - Cb)  # rate of mass transfer across shell\n",
    "\n",
    "    # define the mole balances\n",
    "    dFadV = ra\n",
    "    dFbdV = rb + Rb\n",
    "    dFcdV = rc\n",
    "    dFb2dV = Rb\n",
    "    return [dFadV, dFbdV, dFcdV,dFb2dV]\n",
    "\n",
    "Vspan = np.linspace(0.0, 400.0)  # liters\n",
    "F0 = [Fa0, 0, 0,Fb20]\n",
    "sol = odeint(dFdV, F0, Vspan)\n",
    "Faexit, Fbexit, Fcexit, Fb2exit = sol[-1, :]\n",
    "print('''Fa_exit = {0} mol/min\n",
    "Fb_exit = {1} mol/min\n",
    "Fc_exit = {2} mol/min\n",
    "Fb2_exit = {3} mol/min'''.format(Faexit, Fbexit, Fcexit, Fb2exit))\n",
    "\n",
    "v_exit = v0 * (Faexit + Fbexit + Fcexit) / Ft0\n",
    "\n",
    "print('''Ca_exit = {0} mol/L\n",
    "Cb_exit = {1} mol/L\n",
    "Cc_exit = {2} mol/L'''.format(Faexit / v_exit, Fbexit / v_exit, Fcexit / v_exit))\n",
    "\n",
    "plt.plot(Vspan,sol)\n",
    "plt.legend(['Fa','Fb','Fc','Fb2'])\n",
    "plt.show()"
   ]
  },
  {
   "cell_type": "code",
   "execution_count": null,
   "metadata": {},
   "outputs": [],
   "source": []
  }
 ],
 "metadata": {
  "kernelspec": {
   "display_name": "Python 3",
   "language": "python",
   "name": "python3"
  },
  "language_info": {
   "codemirror_mode": {
    "name": "ipython",
    "version": 3
   },
   "file_extension": ".py",
   "mimetype": "text/x-python",
   "name": "python",
   "nbconvert_exporter": "python",
   "pygments_lexer": "ipython3",
   "version": "3.6.2"
  },
  "toc": {
   "colors": {
    "hover_highlight": "#DAA520",
    "navigate_num": "#000000",
    "navigate_text": "#333333",
    "running_highlight": "#FF0000",
    "selected_highlight": "#FFD700",
    "sidebar_border": "#EEEEEE",
    "wrapper_background": "#FFFFFF"
   },
   "moveMenuLeft": true,
   "nav_menu": {
    "height": "48px",
    "width": "252px"
   },
   "navigate_menu": true,
   "number_sections": true,
   "sideBar": true,
   "threshold": 4,
   "toc_cell": false,
   "toc_section_display": "block",
   "toc_window_display": false,
   "widenNotebook": false
  }
 },
 "nbformat": 4,
 "nbformat_minor": 1
}
