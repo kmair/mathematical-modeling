{
 "cells": [
  {
   "cell_type": "markdown",
   "metadata": {},
   "source": [
    "Kanishk Mair (kmair@andrew.cmu.edu)\n",
    "Date: 2018-10-24 07:04:25.521006\n"
   ]
  },
  {
   "cell_type": "markdown",
   "metadata": {},
   "source": [
    "- ASSIGNMENT: exam2-1\n",
    "- POINTS: 4\n",
    "- CATEGORY: exam-2\n",
    "- RUBRIC: default\n",
    "- RUBRIC_CATEGORIES: technical, presentation\n",
    "- RUBRIC_WEIGHTS: 0.8, 0.2\n",
    "- DUEDATE: 2018-10-24 10:20:00\n",
    "- GRADER: John Kitchin\n"
   ]
  },
  {
   "cell_type": "markdown",
   "metadata": {},
   "source": [
    "**This is an exam problem. It is open note, and you may consult the internet. By turning in this problem, you agree that the work is your own, and you did not work with anyone to complete it. Anything else is considered cheating. If you see students working together on this problem, it is cheating and you should report it.**\n",
    "\n",
    "In spectroscopy, peaks are often modeled by a Lorentzian function:\n",
    "\n",
    "$L(x) = \\frac{A}{\\pi}\\frac{0.5 \\Gamma}{(x - x_0)^2 + (0.5\\Gamma)^2}$\n",
    "\n",
    "Where $A$ is related to the intensity, &Gamma; is a parameter specifying the width, and $x_0$ is the position of the peak.\n",
    "\n",
    "In the following spectrum, there appear to be two peaks.\n",
    "\n"
   ]
  },
  {
   "cell_type": "code",
   "execution_count": 2,
   "metadata": {},
   "outputs": [
    {
     "data": {
      "text/plain": [
       "Text(0,0.5,'intensity')"
      ]
     },
     "execution_count": 2,
     "metadata": {},
     "output_type": "execute_result"
    },
    {
     "data": {
      "image/png": "[encoded data removed]",
      "text/plain": [
       "<Figure size 432x288 with 1 Axes>"
      ]
     },
     "metadata": {},
     "output_type": "display_data"
    }
   ],
   "source": [
    "import numpy as np\n",
    "%matplotlib inline\n",
    "import matplotlib.pyplot as plt\n",
    "\n",
    "w = np.array([ 0.   ,  0.102,  0.204,  0.306,  0.408,  0.51 ,  0.612,  0.714,\n",
    "               0.816,  0.918,  1.02 ,  1.122,  1.224,  1.327,  1.429,  1.531,\n",
    "               1.633,  1.735,  1.837,  1.939,  2.041,  2.143,  2.245,  2.347,\n",
    "               2.449,  2.551,  2.653,  2.755,  2.857,  2.959,  3.061,  3.163,\n",
    "               3.265,  3.367,  3.469,  3.571,  3.673,  3.776,  3.878,  3.98 ,\n",
    "               4.082,  4.184,  4.286,  4.388,  4.49 ,  4.592,  4.694,  4.796,\n",
    "               4.898,  5.   ])\n",
    "\n",
    "intensity = np.array([ 0.629,  0.559,  0.703,  0.686,  0.917,  1.018,  1.158,  1.346,\n",
    "                       1.608,  1.845,  2.1  ,  2.644,  3.02 ,  3.57 ,  3.946,  4.314,\n",
    "                       4.486,  4.569,  4.793,  5.03 ,  5.659,  6.436,  7.397,  8.378,\n",
    "                       8.746,  8.662,  7.973,  7.018,  5.799,  4.77 ,  3.84 ,  3.184,\n",
    "                       2.749,  2.221,  1.929,  1.652,  1.412,  1.156,  1.068,  0.996,\n",
    "                       0.809,  0.808,  0.735,  0.65 ,  0.556,  0.605,  0.528,  0.433,\n",
    "                       0.502,  0.297])\n",
    "plt.plot(w, intensity)\n",
    "plt.xlabel('')\n",
    "plt.ylabel('intensity')"
   ]
  },
  {
   "cell_type": "markdown",
   "metadata": {},
   "source": [
    "Use this information to find the parameters for the two peaks. You can assume that the intensity can be modeled as $i = L(w; p1) + L(w; p2)$ where $p1, p2$ are the parameters for each Lorentzian peak.\n",
    "\n"
   ]
  },
  {
   "cell_type": "markdown",
   "metadata": {},
   "source": [
    "Let the first peak be at x = 0.17 and the second be at x = 0.25."
   ]
  },
  {
   "cell_type": "code",
   "execution_count": 3,
   "metadata": {},
   "outputs": [
    {
     "data": {
      "image/png": "[encoded data removed]",
      "text/plain": [
       "<Figure size 432x288 with 1 Axes>"
      ]
     },
     "metadata": {},
     "output_type": "display_data"
    }
   ],
   "source": [
    "plt.plot(w, intensity)\n",
    "plt.plot(w[16], intensity[16],'ro', label = \"First peak\")\n",
    "plt.plot(w[24], intensity[24],'ro', label = \"Sceond peak\")\n",
    "plt.xlabel('')\n",
    "plt.ylabel('intensity')\n",
    "plt.legend()\n",
    "plt.show()"
   ]
  },
  {
   "cell_type": "code",
   "execution_count": 4,
   "metadata": {},
   "outputs": [
    {
     "data": {
      "text/plain": [
       "array([ 5.56527245,  0.69619365,  1.49690396, 18.53091386,  0.70806851,\n",
       "        2.49889484])"
      ]
     },
     "execution_count": 4,
     "metadata": {},
     "output_type": "execute_result"
    }
   ],
   "source": [
    "import numpy as np\n",
    "#from scipy.integrate import *\n",
    "from scipy.optimize import minimize\n",
    "\n",
    "w1 = w[16]\n",
    "w2 = w[24]\n",
    "I1 = intensity[16]\n",
    "I2 = intensity[24]\n",
    "\n",
    "def L(par, x):\n",
    "    A1, tau1, w1, A2, tau2, w2 = par\n",
    "    l1 = A1 / np.pi * 0.5 * tau1 / ((x - w1)**2 + 0.5 * tau1**2)\n",
    "    l2 = A2 / np.pi * 0.5 * tau2 / ((x - w2)**2 + 0.5 * tau2**2)\n",
    "    i = l1+l2\n",
    "    return i\n",
    "\n",
    "def Errors(para):\n",
    "    err = intensity - L(para, w)\n",
    "    return np.sum(err**2)\n",
    "\n",
    "guess = [3, 1, 3, 12, 2, 6]\n",
    "\n",
    "sol = minimize(Errors, guess)\n",
    "sol.x"
   ]
  },
  {
   "cell_type": "markdown",
   "metadata": {},
   "source": [
    "The two peaks are caused by there being two species present. The relative amounts of each species can be computed two different ways. The first way is the ratio of the $A$ parameters, which is essentially related to the heights of the peaks. Compute the ratio of the $A$ parameters to estimate the relative amounts of each species.\n",
    "\n"
   ]
  },
  {
   "cell_type": "code",
   "execution_count": 5,
   "metadata": {},
   "outputs": [
    {
     "name": "stdout",
     "output_type": "stream",
     "text": [
      "The ratio of A parameters is: 0.3003236910215072.\n"
     ]
    }
   ],
   "source": [
    "A1 = sol.x[0]\n",
    "A2 = sol.x[3]\n",
    "\n",
    "print(f'The ratio of A parameters is: {A1/A2}.')"
   ]
  },
  {
   "cell_type": "markdown",
   "metadata": {},
   "source": [
    "The second way is to compute the ratio of the areas under each fitted peak. Compute this ratio, and compare it to the height ratio. Explain why the are similar in this case.\n",
    "\n"
   ]
  },
  {
   "cell_type": "code",
   "execution_count": 1,
   "metadata": {},
   "outputs": [],
   "source": [
    "tau1 = sol.x[1]\n",
    "tau2 = sol.x[4]\n",
    "w1 =  sol.x[2]\n",
    "w2 =  sol.x[5]\n",
    "print(f'The ratio of A parameters is: {A1/A2:1.3f}.')"
   ]
  }
 ],
 "metadata": {
  "TURNED-IN": {
   "timestamp": "2018-10-24 10:19:47.406940"
  },
  "author": {
   "email": "kmair@andrew.cmu.edu",
   "name": "Kanishk Mair"
  },
  "kernelspec": {
   "display_name": "Python 3",
   "language": "python",
   "name": "python3"
  },
  "language_info": {
   "codemirror_mode": {
    "name": "ipython",
    "version": 3
   },
   "file_extension": ".py",
   "mimetype": "text/x-python",
   "name": "python",
   "nbconvert_exporter": "python",
   "pygments_lexer": "ipython3",
   "version": "3.6.5"
  },
  "org": {
   "ASSIGNMENT": "exam2-1",
   "CATEGORY": "exam-2",
   "DUEDATE": "2018-10-24 10:20:00",
   "GRADER": "John Kitchin",
   "POINTS": "4",
   "RUBRIC": "default",
   "RUBRIC_CATEGORIES": "technical, presentation",
   "RUBRIC_WEIGHTS": "0.8, 0.2"
  }
 },
 "nbformat": 4,
 "nbformat_minor": 1
}
