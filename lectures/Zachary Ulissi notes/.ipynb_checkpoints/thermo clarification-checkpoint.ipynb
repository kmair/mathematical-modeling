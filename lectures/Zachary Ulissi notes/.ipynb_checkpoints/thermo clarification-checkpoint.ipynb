{
 "cells": [
  {
   "cell_type": "markdown",
   "metadata": {},
   "source": [
    "The chemical potential for a species is:\n",
    "\\begin{align}\n",
    "\\mu_i=\\mu_i^0 + RT\\ln(a_i)\n",
    "\\end{align}\n",
    "where $a_i$ is the activity of species $i$. The reaction free energy at a particular set of conditions is calculated from the chemical potential of each species with\n",
    "\\begin{align}\n",
    "\\Delta G=\\sum_i \\alpha_i \\mu_i=\\sum_i \\alpha_i[\\mu_i^0 + RT\\ln(a_i)],\n",
    "\\end{align}\n",
    "where $\\alpha_i$ is the stoichiometric coefficient of species $i$ in the reaction. The standard  free energy of reaction is\n",
    "\\begin{align}\n",
    "\\Delta G^0=\\sum_i \\alpha_i\\mu_i^0.\n",
    "\\end{align}\n",
    "This $\\Delta G^0$ is temperature dependent, and corresponds to the free energy at which the activity of every species is 1 (notice the log terms go away then). So\n",
    "\\begin{align}\n",
    "\\Delta G=\\Delta G^0+\\sum_i \\alpha_iRT\\ln(a_i).\n",
    "\\end{align}\n",
    "We can sum the log terms to get\n",
    "\\begin{align}\n",
    "\\Delta G=\\Delta G^0+RT\\ln(\\prod a_i^{\\alpha_i})=\\Delta G^0+RT\\ln\\left(\\frac{a_pa_qa_s\\dots}{a_a^2a_b\\dots}\\right)=\\Delta G^0+RT\\ln(K).\n",
    "\\end{align}\n",
    "At equilibrium, there is no forward or backward of the reaction, and the free energy $\\Delta G$ is identically 0.  We can then solve for K:\n",
    "\\begin{align*}\n",
    "0=\\Delta G^0+RT\\ln(K)\\\\\n",
    "K=\\exp\\left(\\frac{\\Delta G^0}{RT}\\right)\n",
    "\\end{align*}\n",
    "Thus, the equilibrium constant is defined solely by the standard state free energy, and is not a function of the composition.  You can still calculate the free energy of a reaction at a set of compositions using the above formula\n",
    "\\begin{align}\n",
    "\\Delta G=\\Delta G^0+\\sum_i \\alpha_iRT\\ln(a_i).\n",
    "\\end{align}\n",
    "As the reaction progresses this $\\Delta G$ will approach 0.\n",
    "\n",
    "As discussed in class, the activity of each species can be approximated by $C_i$, $x_i$, $P_i$, etc."
   ]
  },
  {
   "cell_type": "code",
   "execution_count": null,
   "metadata": {},
   "outputs": [],
   "source": []
  }
 ],
 "metadata": {
  "kernelspec": {
   "display_name": "Python 3",
   "language": "python",
   "name": "python3"
  },
  "language_info": {
   "codemirror_mode": {
    "name": "ipython",
    "version": 3
   },
   "file_extension": ".py",
   "mimetype": "text/x-python",
   "name": "python",
   "nbconvert_exporter": "python",
   "pygments_lexer": "ipython3",
   "version": "3.6.2"
  },
  "toc": {
   "colors": {
    "hover_highlight": "#DAA520",
    "navigate_num": "#000000",
    "navigate_text": "#333333",
    "running_highlight": "#FF0000",
    "selected_highlight": "#FFD700",
    "sidebar_border": "#EEEEEE",
    "wrapper_background": "#FFFFFF"
   },
   "moveMenuLeft": true,
   "nav_menu": {
    "height": "12px",
    "width": "252px"
   },
   "navigate_menu": true,
   "number_sections": true,
   "sideBar": true,
   "threshold": 4,
   "toc_cell": false,
   "toc_section_display": "block",
   "toc_window_display": false,
   "widenNotebook": false
  }
 },
 "nbformat": 4,
 "nbformat_minor": 2
}
