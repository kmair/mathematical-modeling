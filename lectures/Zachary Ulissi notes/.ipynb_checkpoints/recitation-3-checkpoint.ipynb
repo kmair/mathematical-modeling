{
 "cells": [
  {
   "cell_type": "markdown",
   "metadata": {},
   "source": [
    "\n# Jake\n\n"
   ]
  },
  {
   "cell_type": "markdown",
   "metadata": {},
   "source": [
    "-   This function has an arbitrary additional variable 'sign'\n\n"
   ]
  },
  {
   "cell_type": "markdown",
   "metadata": {},
   "source": [
    "\n## fmin\n\n"
   ]
  },
  {
   "cell_type": "code",
   "execution_count": 1,
   "metadata": {},
   "outputs": [],
   "source": [
    "import numpy as np\nimport matplotlib.pyplot as plt\n\nx = np.linspace(-2, 2)\n\n\ndef parabola(x, A, B, C, sign):\n    ''' The basic form of a parabola'''\n    return sign * (A * x**2.0) + (B * x) + C\n\n# When we define the function, we need to specify all of the variables, or the code won't run:\n\n# try running this code block\ndata = parabola(x, A=1.0, B=3.0, C=-10)\n\nplt.plot(x, data)\nplt.xlim(-2, 2)\nplt.ylim(-0.2, 4)\nplt.savefig('./images/failabola.png')\n\n#  [[./images/failabola.png]]\n# No figure   :("
   ]
  },
  {
   "cell_type": "markdown",
   "metadata": {},
   "source": [
    "-   In order to avoid this annoying error for functions which require a large number of input variables, we can specify our own default values.\n\n"
   ]
  },
  {
   "cell_type": "code",
   "execution_count": 1,
   "metadata": {},
   "outputs": [],
   "source": [
    "import numpy as np\nimport matplotlib.pyplot as plt\n\nx = np.linspace(-2, 2)\n\n\n# adding '=some_thing' will specify the default for a variable\ndef parabola(x, A=1.0, B=0.0, C=0.0, sign=1):\n    ''' The basic form of a parabola'''\n    return sign * (A * x**2.0) + (B * x) + C\n\n# Now I can run the function without any additional variables\ndata = parabola(x)\n\nplt.plot(x, data)\nplt.xlim(-2, 2)\nplt.ylim(-0.2, 4)\nplt.savefig('./images/winabola.png')\n\n#  [[./images/winabola.png]]"
   ]
  },
  {
   "cell_type": "markdown",
   "metadata": {},
   "source": [
    "-   Try adding your own variables to the parabola function to get a sense for what they do\n\n-   Now lets take a closer look at the fmin function.\n\n[scipy.optimize.fmin](https://docs.scipy.org/doc/scipy/reference/generated/scipy.optimize.fmin.html)\n\n-   This function is designed to find a MINIMUM value of a function.\n\n-   For a 2D function, this works by taking two points, choosing the lower value and then selecting two new points around that one (rinse and repeat):\n\n"
   ]
  },
  {
   "cell_type": "code",
   "execution_count": 1,
   "metadata": {},
   "outputs": [],
   "source": [
    "import numpy as np\nimport matplotlib.pyplot as plt\nfrom scipy.optimize import fmin\n\nx = np.linspace(-2, 2)\n\ndef parabola(x, A=1.0, B=0.0, C=0.0, sign=1):\n    ''' The basic form of a parabola'''\n    return sign * (A * x**2.0) + (B * x) + C\n\ndata = parabola(x)\n\ninitial_guess = 1.9  # This is critical for more complex functions\n\n# I don't like things printing when I don't ask them to\n# so I set disp=0 which supresses the standard output message\nminimum, = fmin(parabola, initial_guess, disp=0)\n\nplt.plot(x, data)\nplt.scatter(initial_guess, parabola(initial_guess),  # plot the initial guess\n            marker='o',\n            color='g',\n            s=25)\nplt.scatter(minimum, parabola(minimum),  # plot the min value\n            marker='o',\n            color='r',\n            s=25)\nplt.xlim(-2, 2)\nplt.ylim(-0.2, 4)\nplt.savefig('./images/minabola.png')\n\n#  [[./images/minabola.png]]"
   ]
  },
  {
   "cell_type": "markdown",
   "metadata": {},
   "source": [
    "-   If the function doesn't have a minimum, bad things happen!\n\n"
   ]
  },
  {
   "cell_type": "code",
   "execution_count": 1,
   "metadata": {},
   "outputs": [],
   "source": [
    "import numpy as np\nimport matplotlib.pyplot as plt\nfrom scipy.optimize import fmin\n\nx = np.linspace(-2, 2)\n\n\ndef parabola(x, A=1.0, B=0.0, C=0.0, sign=1):\n    ''' The basic form of a parabola'''\n    return sign * (A * x**2.0) + (B * x) + C\n\ndata = parabola(x)\n\ninitial_guess = 1.0\n\n# Remember that setting disp=0 too soon can be counter productive!\nminimum, = fmin(parabola, initial_guess, disp=0, args=(1.0, 0.0, 0.0, -1))\n\nplt.plot(x, data)\nplt.scatter(initial_guess, parabola(initial_guess),  # plot the initial guess\n            marker='o',\n            color='g',\n            s=25)\nplt.scatter(minimum, parabola(minimum),  # plot the min value\n            marker='o',\n            color='r',\n            s=25)\nplt.savefig('./images/badabola.png')\n\n#  [[./images/badabola.png]]"
   ]
  },
  {
   "cell_type": "markdown",
   "metadata": {},
   "source": [
    "-   WELL, that's not a very low number. Did we find the minimum?\n\n-   What happened?\n\n-   How would you begin to debug something like this???\n\n"
   ]
  },
  {
   "cell_type": "markdown",
   "metadata": {},
   "source": [
    "\n## fmin from the notes\n\n"
   ]
  },
  {
   "cell_type": "markdown",
   "metadata": {},
   "source": [
    "-   Now we take a look at a more complex function, but with similar concepts.\n\n"
   ]
  },
  {
   "cell_type": "code",
   "execution_count": 1,
   "metadata": {},
   "outputs": [],
   "source": [
    "import numpy as np\nfrom scipy.integrate import odeint\nimport matplotlib.pyplot as plt\n\nk = 30.0\nCX0 = 2.5 # kmol / m^3\nv0 = 12.0 # m^3 / min\nFX0 = CX0 * v0\nFY0 = 0.0\n\ndef dFdV(F, V):\n    Fx, Fy = F\n    Cx = Fx / v0\n    r = k * Cx\n    rx = -r\n    ry =  r\n    dFxdV = rx\n    dFydV = ry\n    return [dFxdV, dFydV]\n\nV_Y = 1.50 # $/kmol\nC_R = 2.50 # $/m^3/min\n\ndef profit(V, sign=1): # the default value of sign is 1\n    Vspan = np.linspace(0, V)\n    sol = odeint(dFdV, [FX0, FY0], Vspan)\n    Fx, Fy = sol[-1] # at exit\n\n    product_value = Fy * V_Y\n    operating_cost = V * C_R\n\n    profit = product_value - operating_cost\n    return profit * sign\n\n# This is the figure which results from the ODE above:\n#  [[./images/profit.png]]\n\n\nfrom scipy.optimize import fmin\n\n# CRITICAL STEP! args=(-1,) inverts the function!\nV_opt, = fmin(profit, 1.5, args=(-1,))\n\nprint('The maximum profit is ${0:1.2f} at V={1:1.2f} m^3'.format(profit(V_opt), V_opt))"
   ]
  },
  {
   "cell_type": "markdown",
   "metadata": {},
   "source": [
    "-   This is another example of a function which doesn't have an explicit minimum.\n\n-   John has done something cleaver here. Doesn't this function slightly resemble an upside down parabola?\n\n"
   ]
  },
  {
   "cell_type": "code",
   "execution_count": 1,
   "metadata": {},
   "outputs": [],
   "source": [
    "import numpy as np\nfrom scipy.integrate import odeint\nimport matplotlib.pyplot as plt\n\nk = 30.0\nCX0 = 2.5 # kmol / m^3\nv0 = 12.0 # m^3 / min\nFX0 = CX0 * v0\nFY0 = 0.0\n\ndef dFdV(F, V):\n    Fx, Fy = F\n    Cx = Fx / v0\n    r = k * Cx\n    rx = -r\n    ry =  r\n    dFxdV = rx\n    dFydV = ry\n    return [dFxdV, dFydV]\n\nVspan = np.linspace(0, 3)\n\nsol = odeint(dFdV, [FX0, FY0], Vspan)\n\nFy = sol[:, 1]\n\nV_Y = 1.50 # $/kmol\nC_R = 2.50 # $/m^3/min\n\nproduct_value = Fy * V_Y\noperating_cost = Vspan * C_R\n\nprofit = -1 * (product_value - operating_cost)\nplt.plot(Vspan, profit)\nplt.xlabel('Reactor volume (m$^3$)')\nplt.ylabel('Profit ($)')\nplt.savefig('images/invprofit.png')\n\n#  [[./images/invprofit.png]]"
   ]
  },
  {
   "cell_type": "markdown",
   "metadata": {},
   "source": [
    "-   Now our function has a minimum which fmin can find.\n\nThought exercise:\n\n-   What are some other ways you could find the minimum of this function?\n\n"
   ]
  },
  {
   "cell_type": "markdown",
   "metadata": {},
   "source": [
    "\n# Mehak\n\n"
   ]
  },
  {
   "cell_type": "markdown",
   "metadata": {},
   "source": [
    "The height and weight of a group of people is given below. Fit a line to this data, and determine 95% confidence intervals on the slope and intercept. Show the fit with the data. Discuss the reasonability of the fitted parameters and confidence intervals.\nheight = [ 70, 63, 72, 60, 66, 70, 74, 65, 62, 67, 65, 68 ] # in inches\nweight = [155, 150, 180, 135, 156, 168, 178, 160, 132, 145, 139, 152] # in pounds\n\n"
   ]
  },
  {
   "cell_type": "markdown",
   "metadata": {},
   "source": [
    "\n# Code\n\n"
   ]
  },
  {
   "cell_type": "code",
   "execution_count": 1,
   "metadata": {},
   "outputs": [
    {
     "name": "stdout",
     "output_type": "stream",
     "text": [
      "The slope is between [ 1.87045726  4.56084709] at the 95% confdence level\n",
      "The intercept is between [-150.81054504   29.31837113] at the 95% confdence level\n",
      "The slope is: 3.21565217391\n",
      "The intercept is: -60.7460869565"
     ]
    }
   ],
   "source": [
    "import numpy as np\nimport matplotlib.pyplot as plt\nfrom pycse import regress\nfrom scipy import stats\n\nheight = np.array([70,63,72,60,66,70,74,65,62,67,65,68], dtype = np.float) #inches\nweight = np.array([155,150,180,135,156,168,178,160,132,145,139,152],dtype = np.float) #pounds\n\nH = np.column_stack([height,height**0]) \n\n\n# Determining the confdence intervals\nalpha = 1-0.95 #the confidence level is 95%\n\np, pint, se = regress(H,weight,alpha)\n\nslope_interval, intercept_interval = pint\n\n\nprint 'The slope is between {0} at the 95% confdence level'. format(slope_interval)\n\nprint  'The intercept is between {0} at the 95% confdence level'. format(intercept_interval)\n\n\n#Plotting the data and fit\nfit = np.poly1d(np.polyfit(height,weight,1)) #creates a linear fit through the desorption barriers data\nslope, intercept = np.polyfit(height, weight, 1)\n\nprint 'The slope is:' , slope\nprint 'The intercept is:', intercept\n\nplt.plot(height, weight, 'k*', label = 'Raw data')\nplt.plot(height, fit(height), 'r-', label = 'fitted line')\nplt.xlabel('Height (inches)')\nplt.ylabel('Weight (pounds)')\nplt.legend(loc = 'best')\n#plt.show()\n\n#Alternate method of plotting\nplt.plot(height, weight, 'ko', height, np.dot(H,p),)\nplt.xlabel('Height (in)')\nplt.ylabel('Weight (lb)')\n#plt.show()"
   ]
  },
  {
   "cell_type": "markdown",
   "metadata": {},
   "source": [
    "\n# Comments\n\n"
   ]
  },
  {
   "cell_type": "markdown",
   "metadata": {},
   "source": [
    "The idea is that taller people weigh more, and that weight is proportional to height. The intercept should be zero; no height = no weight. The confidence interval includes zero, but the average value is negative! Someone who is 0 inches tall does not \"weigh\" -60 lbs!.\n\n"
   ]
  }
 ],
 "metadata": {},
 "nbformat": 4,
 "nbformat_minor": 0
}
