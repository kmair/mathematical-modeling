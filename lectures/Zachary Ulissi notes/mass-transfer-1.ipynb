{
 "cells": [
  {
   "cell_type": "markdown",
   "metadata": {},
   "source": [
    "\n",
    "# Mass transfer effects in reaction engineering\n",
    "\n"
   ]
  },
  {
   "cell_type": "markdown",
   "metadata": {},
   "source": [
    "-   In this section we consider the effects of mass transfer, e.g. diffusion, on reactor design\n",
    "\n",
    "-   The general strategy is to derive a correction factor that simply modifies the rate law\n",
    "\n",
    "-   This enables us to use the same design equations\n",
    "\n"
   ]
  },
  {
   "cell_type": "markdown",
   "metadata": {},
   "source": [
    "\n",
    "## Internal effectiveness factors\n",
    "\n"
   ]
  },
  {
   "cell_type": "markdown",
   "metadata": {},
   "source": [
    "-   When porous catalyst pellets are used, reactants must diffuse into the pellet to react, and then products must diffuse out of pellet to exit the reactor.\n",
    "\n",
    "![img](./images/porous-particle.png)\n",
    "\n",
    "-   If there is resistance to diffusion, e.g. the pellets are large, or with small pores, then we must consider this effect on the reactivity of the pellet\n",
    "\n",
    "-   the effective diffusion coefficient is defined as:\n",
    "\n",
    "$$D_e = \\frac{D_{AB} \\phi_p \\sigma_c}{\\tau}$$\n",
    "\n",
    "-   where $D_{AB}$ is the normal gas phase diffusivity\n",
    "\n",
    "-   &phi;\\_p is the pellet porosity (void volume / total volume)\n",
    "\n",
    "-   &sigma;\\_c is the constriction factor, which is ratio of the smallest radius in the pores to the largest radius\n",
    "\n",
    "-   &tau; is the tortuosity factor, which is the actual distance traveled by a molecule in the particle divided by the shortest distance it could have traveled.\n",
    "\n",
    "-   all of these factors tend to make $D_e$ smaller than $D_{AB}$\n",
    "-   When there are diffusion limits, the concentration inside the pellet is not the same as the concentration outside the pellet because there are reactions occuring inside the pellet\n",
    "\n",
    "![img](./images/concentration-profiles-porous-particle.png)\n",
    "\n",
    "-   The concentration can be similar to the outside concentration if the reaction rate is slow and there is no diffusion limit\n",
    "\n",
    "-   It may be smaller, or practically zero inside the pellet if the rate of reaction is very fast compared to diffusion\n",
    "-   We would like to calculate the effective rate inside the particle, because then we could determine its effect on reactor design\n",
    "\n",
    "-   Since the effective rate will be less than the ideal rate, the result is we will need larger reactors because the particles are not effectively used\n",
    "    -   We will see later it is sometimes possible to design better particles\n",
    "\n",
    "-   To quantitatively determine the significance, we consider a mole balance on a spherical particle.\n",
    "\n",
    "![img](./images/mole-balance-differential-sphere.png)\n",
    "\n",
    "-   Let $W_{A}$ be the molar flux of $A$\n",
    "\n",
    "-   We have at $r$ the rate of $A$ into the shell as $W_{A,r} 4 \\pi r^2 |_r$\n",
    "\n",
    "-   We have the rate of generation of $A$ in the shell as $r_A' \\rho_c 4 \\pi r_m^2 \\Delta r $\n",
    "-   In the limit of $\\Delta r \\rightarrow 0$ and at steady state we have\n",
    "    \n",
    "    $\\frac{dW_{A,r} r^2}{dr} - r_A' \\rho_c r^2 = 0$\n",
    "\n",
    "-   For dilute concentrations (typical of gas phase reactions)\n",
    "    -   $W_{A,r} = - D_e \\frac{dC_A}{dr}$\n",
    "\n",
    "-   Let us assume the rate law is simple, e.g. $r_A = k_n C_A^n$\n",
    "\n",
    "-   This leads to\n",
    "\n",
    "$ \\frac{d^2C_A}{dr^2} + \\frac{2}{r}\\frac{dC_A}{dr} - \\frac{k_n}{D_e}C_A^n=0   $\n",
    "\n",
    "-   You can see that reaction and diffusion are coupled\n",
    "\n",
    "-   The rate of diffusion is driven by gradients in concentration\n",
    "\n",
    "-   The rate of reaction is driven by concentration\n",
    "\n",
    "-   This is *not* an ordinary differential equation!\n",
    "-   We have boundary conditions\n",
    "    -   $C_A = C_{A,s}$ at $r=R$\n",
    "    \n",
    "    -   $\\frac{dC_A}{dr} = 0$ at $r=0$\n",
    "    \n",
    "    -   This is a second order boundary value problem\n",
    "\n",
    "-   To solve the problem, we convert it to a system of first order differential equations\n",
    "\n",
    "-   Let $W_A = \\frac{dC_A}{dr}$\n",
    "    -   then $ \\frac{dW_A}{dr} = \\frac{d^2C_A}{dr^2}  $\n",
    "\n",
    "Finally, we have these two coupled equations:\n",
    "\n",
    "\\begin{align}\n",
    "\\frac{dW_A}{dr} + \\frac{2}{r}W_A - \\frac{k_n}{De}C_A^n=0\\\\\n",
    "\\frac{dC_A}{dr} = W_A\n",
    "\\end{align}\n",
    "\n",
    "With these new conditions: $C_A(R) = C_{A,s}$ and $\\frac{dC_A}{dr}|_{r=0}=0$\n",
    "\n",
    "-   If we solve these equations,  we will have a function that tells us the concentration of $A$ inside the particle.\n",
    "    -   Then we can integrate the reaction rate throughout the particle to determine the *effective* rate (which will be less than the rate if the concentration is uniform throughout the particle)\n",
    "    \n",
    "    -   The overall rate is $ \\int_0^R k_n C_A^n 4 \\pi r^2 dr $\n",
    "    \n",
    "    -   The ideal rate is $ \\int_0^R k_n C_{A,s}^n 4 \\pi r^2 dr $\n",
    "    \n",
    "    -   We define the effectiveness factor $\\eta = \\frac{{overall rate}}{{ideal rate}}$\n",
    "    \n",
    "    -   Finally, in a mole balance, we replace the ideal rate with the effective rate: $r_{eff} = \\eta r$\n",
    "\n"
   ]
  },
  {
   "cell_type": "markdown",
   "metadata": {},
   "source": [
    "\n",
    "### A worked example\n",
    "\n"
   ]
  },
  {
   "cell_type": "markdown",
   "metadata": {},
   "source": [
    "Let:\n",
    "\n",
    "-   $D_e = 0.1$ cm^2/s\n",
    "-   $R = 0.5$ cm\n",
    "-   $k = 6.4$ 1/s\n",
    "-   $C_{A,s} = 0.2$ mol/L\n",
    "\n",
    "-   Determine the effectiveness factor.\n",
    "\n",
    "-   Solution: This is a boundary value problem.\n",
    "\n",
    "-   Here we solve the problem using the shooting method. We know the value of $W_A$ at $r=0$: it is 0 because there is no flux about the center of the sphere due to symmetry.\n",
    "\n",
    "-   We do not know, however, what the concentration is at $r=0$. So, we guess what the value is, and then integrate the differential equations from $r=0$ to $r=R$, and see if $C_A(R) = C_{A,s}$.\n",
    "\n",
    "-   If it does, we made a good guess. If it does not, we try a new guess for $C_A(r=0)$, and iterate until we find the answer. Here is code that implements this idea. You cannot see the iteration in this code because it is done by hand. Start with Ca0 = 0.05, and work down to a solution.\n",
    "\n"
   ]
  },
  {
   "cell_type": "code",
   "execution_count": 1,
   "metadata": {},
   "outputs": [
    {
     "name": "stdout",
     "output_type": "stream",
     "text": [
      "At r=0.5 Ca=0.20126370582304293\n"
     ]
    },
    {
     "data": {
      "text/plain": [
       "<Figure size 640x480 with 1 Axes>"
      ]
     },
     "metadata": {},
     "output_type": "display_data"
    },
    {
     "name": "stdout",
     "output_type": "stream",
     "text": [
      "The effectiveness factor =  0.5665645412460183\n"
     ]
    }
   ],
   "source": [
    "import numpy as np\n",
    "from scipy.integrate import odeint\n",
    "import matplotlib.pyplot as plt\n",
    "\n",
    "De = 0.1    # diffusivity cm^2/s\n",
    "R = 0.5    # particle radius, cm\n",
    "k = 6.4    # rate constant (1/s)\n",
    "CAs = 0.2   # concentration of A at outer radius of particle (mol/L)\n",
    "\n",
    "\n",
    "def ode(Y, r):\n",
    "    Wa = Y[0]  # molar rate of delivery of A to surface of particle\n",
    "    Ca = Y[1]  # concentration of A in the particle at r\n",
    "\n",
    "    if r == 0:\n",
    "        dWadr =-2*Wa/(r+.0001) +k/De*Ca   # this solves the singularity at r = 0\n",
    "    else:\n",
    "        dWadr = -2 * Wa / r + k / De * Ca\n",
    "\n",
    "    dCadr = Wa\n",
    "    return [dWadr, dCadr]\n",
    "\n",
    "# Initial conditions\n",
    "Ca0 = 0.0295  # Ca(0) (mol/L) guessed to satisfy Ca(R) = CAs\n",
    "# It takes a lot of accuracy to get the solution\n",
    "Wa0 = 0         # no flux at r=0 (mol/m^2/s)\n",
    "\n",
    "rspan = np.linspace(0, R, 500)\n",
    "\n",
    "Y = odeint(ode, [Wa0, Ca0], rspan)\n",
    "\n",
    "Ca = Y[:, 1]\n",
    "\n",
    "# here we check that Ca(R) = Cas\n",
    "print('At r={0} Ca={1}'.format(rspan[-1], Ca[-1]))\n",
    "\n",
    "plt.plot(rspan, Ca)\n",
    "plt.xlabel('Particle radius')\n",
    "plt.ylabel('$C_A$')\n",
    "plt.show()\n",
    "\n",
    "r = rspan\n",
    "eta_numerical = (np.trapz(k * Ca * 4 * np.pi * (r**2), r)\n",
    "                 / np.trapz(k * CAs * 4 * np.pi * (r**2), r))\n",
    "print('The effectiveness factor = ', eta_numerical)"
   ]
  },
  {
   "cell_type": "code",
   "execution_count": 2,
   "metadata": {},
   "outputs": [
    {
     "data": {
      "text/plain": [
       "array([0.02931477])"
      ]
     },
     "execution_count": 2,
     "metadata": {},
     "output_type": "execute_result"
    }
   ],
   "source": [
    "from scipy.optimize import fsolve\n",
    "def obj(Ca0):\n",
    "    Y = odeint(ode, [Wa0, Ca0], rspan)\n",
    "    Ca = Y[:, 1]\n",
    "    return Ca[-1]-0.2\n",
    "\n",
    "fsolve(obj,.05)"
   ]
  },
  {
   "cell_type": "markdown",
   "metadata": {},
   "source": [
    "\n",
    "You can see from the graphical solution that the concentration inside the particle is much lower than outside the particle. As a result, the overall rate of the particle is only about 56% of the ideal rate. Consequently, you would need a larger weight of catalyst, or a larger reactor to achieve the same level of conversion as if there were no mass transfer limitations.\n",
    "\n",
    "-   It is tedious to numerically solve for the effectiveness factor for each situation\n",
    "\n",
    "-   Let us recast the equations in dimensionless form.\n",
    "\n",
    "-   Let the characteristic length scale be defined by the volume to surface ratio: for a sphere this $a = R/3$\n",
    "\n",
    "-   Now we define the dimensionless variables: $\\overline{r} = r/a$ and $\\overline{c} = C_A / C_{As}$.\n",
    "\n",
    "-   This leads to the dimensionless differential equation:\n",
    "\n",
    "$\\frac{1}{\\overline{r}^2}\\frac{d}{d\\overline{r}}  \\left( \\overline{r}^2 \\frac{d\\overline{c}}{d\\overline{r}} \\right) - \\Phi^2 \\overline{c}=0 $\n",
    "\n",
    "or alternatively:\n",
    "$ \\frac{d^2\\overline{c}}{d\\overline{r}^2} = -\\frac{2}{r}\\frac{d\\overline{c}}{d\\overline{r}}  + \\Phi^2 \\overline{c}  $\n",
    "\n",
    "with boundary conditions:\n",
    "$\\overline{c}(\\overline{r}=3) = 1 $\n",
    "\n",
    "$ \\frac{d\\overline{c}}{d\\overline{r}} = 0 \\textrm\n",
    "{ at } \\overline{r}=0   $\n",
    "\n",
    "where we have defined $\\Phi = \\sqrt{\\frac{k a^2}{D_A,}}$ which is known as the Thiele modulus, and it is a ratio of reaction rate to diffusion rate.\n",
    "\n",
    "-   The point of this exercise is that an analytical solution to this problem exists:\n",
    "\n",
    "$\\overline{c}(\\overline{r}) = \\frac{3}{\\overline{r}} \\frac{\\sinh \\Phi \\overline{r}}{\\sinh 3 \\Phi}  $\n",
    "\n",
    "-   One can then analytically calculate the effectiveness factor as the actual rate of reaction in the particle divided by the ideal rate, to arrive at:\n",
    "\n",
    "$ \\eta = \\frac{1}{\\Phi}  \\left [\\frac{1}{\\tanh 3 \\Phi} - \\frac{1}{3 \\Phi} \\right]$\n",
    "\n",
    "-   This solution is plotted in two different ways below.\n",
    "\n"
   ]
  },
  {
   "cell_type": "code",
   "execution_count": 3,
   "metadata": {},
   "outputs": [
    {
     "name": "stderr",
     "output_type": "stream",
     "text": [
      "/opt/conda/lib/python3.6/site-packages/ipykernel_launcher.py:5: RuntimeWarning: divide by zero encountered in true_divide\n",
      "  \"\"\"\n",
      "/opt/conda/lib/python3.6/site-packages/ipykernel_launcher.py:5: RuntimeWarning: invalid value encountered in subtract\n",
      "  \"\"\"\n",
      "/opt/conda/lib/python3.6/site-packages/ipykernel_launcher.py:14: RuntimeWarning: divide by zero encountered in true_divide\n",
      "  \n"
     ]
    },
    {
     "data": {
      "image/png": "[encoded data removed]",
      "text/plain": [
       "<Figure size 432x288 with 2 Axes>"
      ]
     },
     "metadata": {},
     "output_type": "display_data"
    }
   ],
   "source": [
    "import numpy as np\n",
    "import matplotlib.pyplot as plt\n",
    "\n",
    "Phi = np.linspace(0, 100, 1000)\n",
    "eta = 1.0 / Phi * (1.0 / np.tanh(3 * Phi) - 1.0 / (3 * Phi))\n",
    "\n",
    "f, (ax1, ax2) = plt.subplots(1, 2)\n",
    "ax1.plot(Phi, eta)\n",
    "ax1.set_xlim([0, 20])\n",
    "ax1.set_xlabel(r'$\\Phi$')\n",
    "ax1.set_ylabel(r'$\\eta$')\n",
    "\n",
    "ax2.loglog(Phi, eta)\n",
    "ax2.loglog(Phi, 1.0 / Phi, 'k--', label=r'1/$\\Phi$')\n",
    "ax2.loglog(Phi, np.ones(shape=Phi.shape), 'b--', label='1')\n",
    "ax2.set_xlabel(r'$\\Phi$')\n",
    "ax2.set_ylabel(r'$\\eta$')\n",
    "ax2.legend(loc='best')\n",
    "\n",
    "plt.tight_layout()\n",
    "plt.show()"
   ]
  },
  {
   "cell_type": "markdown",
   "metadata": {},
   "source": [
    "-   The log-log plot is the more useful way to see the behavior.\n",
    "\n",
    "-   For $\\Phi \\ll 1$ the effectiveness factor is practically one. That means the diffusion rate is much faster than reaction, so the concentration in the pellet is practically uniform and equal to the surface concentration.\n",
    "\n",
    "-   For $\\Phi \\gg 1$ then $\\eta \\approx 1 \\Phi$. Near $\\Phi = 1$ you may want to evaluate the actual solution.\n",
    "\n"
   ]
  }
 ],
 "metadata": {
  "kernelspec": {
   "display_name": "Python 3",
   "language": "python",
   "name": "python3"
  },
  "language_info": {
   "codemirror_mode": {
    "name": "ipython",
    "version": 3
   },
   "file_extension": ".py",
   "mimetype": "text/x-python",
   "name": "python",
   "nbconvert_exporter": "python",
   "pygments_lexer": "ipython3",
   "version": "3.6.3"
  },
  "toc": {
   "base_numbering": 1,
   "nav_menu": {
    "height": "79px",
    "width": "252px"
   },
   "number_sections": true,
   "sideBar": true,
   "skip_h1_title": false,
   "title_cell": "Table of Contents",
   "title_sidebar": "Contents",
   "toc_cell": false,
   "toc_position": {},
   "toc_section_display": "block",
   "toc_window_display": false
  }
 },
 "nbformat": 4,
 "nbformat_minor": 2
}
