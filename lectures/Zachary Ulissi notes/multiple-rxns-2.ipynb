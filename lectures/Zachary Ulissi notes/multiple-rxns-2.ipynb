{
 "cells": [
  {
   "cell_type": "markdown",
   "metadata": {},
   "source": [
    "\n",
    "# Rate laws for reversible reactions\n",
    "\n"
   ]
  },
  {
   "cell_type": "markdown",
   "metadata": {},
   "source": [
    "-   We can think of reversible reactions as two reactions going in opposite directions.\n",
    "\n",
    "-   $A + B \\rightleftharpoons C + D$ can be thought of as:\n",
    "\n",
    "-   $A + B \\rightarrow C + D$\n",
    "-   $C + D \\rightarrow A + B$\n",
    "\n",
    "-   Each reaction has a forward reaction rate, e.g.:\n",
    "\n",
    "\\begin{align}\n",
    "r_1 = k_1 C_A C_B \\\\\n",
    "r_2 = k_2 C_C C_D\n",
    "\\end{align}\n",
    "\n",
    "-   Now, to find the rate that species A is \"generated\" we have:\n",
    "\n",
    "$r_{1A} = -r_1$ and $r_{2A} = r_2$, and the net rate is $r_A = r_{1A} + r_{2A} = -k_1 C_A C_B + k_2 C_C C_D$.\n",
    "\n",
    "-   At equilibrium, the net rate must be zero, which means:\n",
    "\n",
    "\\begin{align}\n",
    "k_1 C_{A,eq} C_{B,eq} = k_2 C_{C,eq} C_{D,eq}\n",
    "\\end{align}\n",
    "\n",
    "or:\n",
    "\n",
    "\\begin{align}\n",
    "\\frac{k_1}{k_2} = \\frac{C_{C,eq} C_{D,eq}}{C_{A,eq} C_{B,eq}} = K_{eq}\n",
    "\\end{align}\n",
    "\n",
    "-   You can see that between $k_1$, $k_2$ and $K_{eq}$, only two of them are independent. i.e. $k_2 = k_1 / K_{eq}$.\n",
    "\n",
    "-   Thus, we may also see net reaction rates for equilibrium reaction rates written as:\n",
    "\n",
    "\\begin{align}\n",
    "r_A = k_1(C_A C_B - \\frac{C_C C_D}{K_{eq}})\n",
    "\\end{align}\n",
    "\n",
    "-   It is important that these constraints exist, so that thermodynamics are not violated.\n",
    "\n"
   ]
  },
  {
   "cell_type": "markdown",
   "metadata": {},
   "source": [
    "\n",
    "## A CSTR with a reversible reaction\n",
    "\n"
   ]
  },
  {
   "cell_type": "markdown",
   "metadata": {},
   "source": [
    "-   Recall the water gas shift reaction we discussed before $H_2O + CO \\rightleftharpoons CO_2 + H_2 $.\n",
    "\n",
    "-   We previously calculated the equilibrium coefficient to be 1.44 at 1000K.\n",
    "-   Assume the reaction is elementary, and the forward rate constant is $k_1 = 0.02$ L / (mol \\* s)\n",
    "\n",
    "-   The reactor is initially fed pure A and B at concentrations of 0.05 mol / L.\n",
    "\n",
    "-   What is the exit concentration of A? the reactor volume is 10 L, and the volumetric flow rate into the reactor is 0.01 L / s.\n",
    "\n"
   ]
  },
  {
   "cell_type": "code",
   "execution_count": 17,
   "metadata": {},
   "outputs": [
    {
     "name": "stdout",
     "output_type": "stream",
     "text": [
      "the exit concentration of C_A is 0.0327 mol / L\n",
      "the exit concentration of C_C is 0.0173 mol / L\n",
      "(C_C C_D)/(C_A C_B)=0.278840\n"
     ]
    }
   ],
   "source": [
    "from scipy.optimize import fsolve\n",
    "\n",
    "Keq = 1.44395809814\n",
    "v0 = 0.01 # L / s\n",
    "V = 10    # L\n",
    "\n",
    "k1 = 0.02 # L / mol / s\n",
    "\n",
    "Ca0 = Cb0 = 0.05 # mol / L\n",
    "Cc0 = Cd0 = 0.0\n",
    "\n",
    "Fa0 = v0 * Ca0\n",
    "\n",
    "def cstr(Ca):\n",
    "    xi = (Ca - Ca0) / (-1) # compute reaction extent\n",
    "    Cb = Cb0 - xi\n",
    "    Cc = Cc0 + xi\n",
    "    Cd = Cd0 + xi\n",
    "\n",
    "    ra = -k1 * (Ca * Cb - (Cc * Cd) / Keq)\n",
    "    return Fa0 - Ca * v0 + V * ra\n",
    "\n",
    "guess = 0.002\n",
    "ca_exit, = fsolve(cstr, guess)\n",
    "\n",
    "print('the exit concentration of C_A is {0:1.4f} mol / L'.format(ca_exit))\n",
    "print('the exit concentration of C_C is {0:1.4f} mol / L'.format(Ca0 - ca_exit))\n",
    "\n",
    "\n",
    "print('(C_C C_D)/(C_A C_B)=%f'%(((Ca0 - ca_exit)/ca_exit)**2.))\n",
    "\n",
    "\n",
    "#import matplotlib.pyplot as plt \n",
    "#import numpy as np \n",
    "#x = np.linspace(-10, 0.2)\n",
    "#c = [cstr(x1) for x1 in x] \n",
    "#plt.plot(x, c)\n",
    "#plt.show()"
   ]
  },
  {
   "cell_type": "markdown",
   "metadata": {},
   "source": [
    "-   There is less C produced than you would expect from the equilibrium composition\n",
    "-   The reactants are not in the reactor long enough to reach equilibrium\n",
    "\n",
    "-   You can explore this solution. Try using a lower volumetric flow rate, or a larger volume reactor. You will see that the concentrations converge to the equilibrium limit we computed before\n",
    "\n"
   ]
  },
  {
   "cell_type": "code",
   "execution_count": 2,
   "metadata": {},
   "outputs": [
    {
     "name": "stdout",
     "output_type": "stream",
     "text": [
      "[ 0.03272139  0.03272139  0.01727861  0.01727861]\n"
     ]
    }
   ],
   "source": [
    "from scipy.optimize import fsolve\n",
    "\n",
    "Keq = 1.44395809814\n",
    "v0 = 0.01 # L / s\n",
    "V = 10    # L\n",
    "\n",
    "k1 = 0.02 # L / mol / s\n",
    "\n",
    "Ca0 = Cb0 = 0.05 # mol / L\n",
    "Cc0 = Cd0 = 0.0\n",
    "\n",
    "Fa0 = v0 * Ca0\n",
    "Fb0 = v0 * Cb0\n",
    "Fc0 = v0 * Cc0\n",
    "Fd0 = v0 * Cd0\n",
    "\n",
    "def cstr(C):\n",
    "    Ca, Cb, Cc, Cd = C    \n",
    "    ra = -k1 * (Ca * Cb - (Cc * Cd) / Keq)\n",
    "    rb = ra\n",
    "    rc = -ra\n",
    "    rd = -ra\n",
    "    \n",
    "    return [Fa0 - Ca * v0 + V * ra,\n",
    "            Fb0 - Cb * v0 + V * rb,\n",
    "            Fc0 - Cc * v0 + V * rc,\n",
    "            Fd0 - Cd * v0 + V * rd]\n",
    "\n",
    "guess = [0.02, 0.02, 0.03, 0.03]\n",
    "C = fsolve(cstr, guess)\n",
    "\n",
    "print(C)"
   ]
  },
  {
   "cell_type": "markdown",
   "metadata": {},
   "source": [
    "\n",
    "# Mole balances with multiple reactions\n",
    "\n"
   ]
  },
  {
   "cell_type": "markdown",
   "metadata": {},
   "source": [
    "-   There is nothing particularly new in mole balances with multiple reactions\n",
    "\n",
    "-   We still write species based mole balances\n",
    "\n",
    "-   We use the net rate law for each species\n",
    "\n",
    "-   This typically leads to coupled equations\n",
    "    -   For CSTRs these are often coupled nonlinear algebra equations\n",
    "    -   For PFRs these are often coupled differential equations\n",
    "\n"
   ]
  },
  {
   "cell_type": "markdown",
   "metadata": {},
   "source": [
    "\n",
    "## Multiple reactions in a CSTR\n",
    "\n"
   ]
  },
  {
   "cell_type": "markdown",
   "metadata": {},
   "source": [
    "-   We consider a reactor design with multiple reactions\n",
    "-   Mesitylene (trimethyl benzene) can be hydrogenated to form m-xylene, which can be further hydrogenated to toluene\n",
    "\n",
    "-   The reactions we consider are:\n",
    "\n",
    "\\begin{align}\n",
    "M + H_2 \\rightarrow X + CH_4 \\\\\n",
    "X + H_2 \\rightarrow T + CH_4\n",
    "\\end{align}\n",
    "\n",
    "-   The reaction is carried out isothermally at 1500 $^\\circ$ R at 35 atm.\n",
    "-   The feed is 2/3 hydrogen and 1/3 mesitylene\n",
    "-   The volumetric feed rate is 476 cubic feet per hour and the reactor volume is 238 cubic feet\n",
    "-   The rate laws are\n",
    "\n",
    "\\begin{align}\n",
    "r_1 = k_1 C_M C_H^{0.5} \\\\\n",
    "r_2 = k_2 C_X C_H^{0.5}\n",
    "\\end{align}\n",
    "\n",
    "-   The rate constants are:\n",
    "\n",
    "\\begin{align}\n",
    "k_1 = 55.20 \\textrm{(ft$^3$/lb mol)$^{0.5}$/h} \\\\\n",
    "k_2 = 30.20 \\textrm{(ft$^3$/lb mol)$^{0.5}$/h} \\\\\n",
    "\\end{align}\n",
    "\n",
    "Here is the code we need to setup and solve this problem.\n",
    "\n"
   ]
  },
  {
   "cell_type": "code",
   "execution_count": 19,
   "metadata": {},
   "outputs": [
    {
     "name": "stdout",
     "output_type": "stream",
     "text": [
      " M 0.00294 lbmol/ft^3\n",
      " H 0.00905 lbmol/ft^3\n",
      " X 0.00317 lbmol/ft^3\n",
      "Me 0.01226 lbmol/ft^3\n",
      " T 0.00455 lbmol/ft^3\n"
     ]
    }
   ],
   "source": [
    "def funcC(C):\n",
    "    vo = 476.0    # ft^3 / hr\n",
    "    V = 238.0     # ft^3\n",
    "    Po = 35.0     # atm\n",
    "    T = 1500.0    # Rankine\n",
    "    R = 0.73      # in appropriate units\n",
    "    CTo = Po / R / T\n",
    "\n",
    "    Cmo = CTo / 3.0\n",
    "    Cho = CTo * 2.0 / 3.0\n",
    "    Cxo = 0.0\n",
    "    Cmeo = 0.0\n",
    "    Ctolo = 0.0\n",
    "\n",
    "    tau = V / vo\n",
    "\n",
    "    CM, CH, CX, CMe, CT = C\n",
    "\n",
    "    # rate laws\n",
    "    k1 = 55.20  # (ft^3/lbmol)^0.5/h\n",
    "    k2 = 30.20  # (ft^3/lbmol)^0.5/h\n",
    "    r1m = -k1 * CM * CH**0.5\n",
    "    r2t = k2 * CX * CH**0.5\n",
    "\n",
    "    # net rates\n",
    "    rM = r1m\n",
    "    rH = r1m - r2t\n",
    "    rX = -r1m - r2t\n",
    "    rMe = -r1m + r2t\n",
    "    rT = r2t\n",
    "    # 0 = Fa0 - Fa + ra * V\n",
    "    # Fa - Fa0 - ra * V = 0\n",
    "    # v0 * Ca - v0 * Ca0 - ra * V = 0\n",
    "    # Ca - Ca0 - ra * tau = 0 \n",
    "    return [tau * (-rM) - Cmo + CM,\n",
    "            tau * (-rH) - Cho + CH,\n",
    "            tau * (-rX) - Cxo + CX,\n",
    "            tau * (-rMe) - Cmeo + CMe,\n",
    "            tau * (-rT) - Ctolo + CT]\n",
    "\n",
    "initGuesses = [0.002, 0.002, 0.002, 0.002, 0.002]\n",
    "from scipy.optimize import fsolve\n",
    "\n",
    "exitC = fsolve(funcC, initGuesses)\n",
    "\n",
    "species = ['M', 'H', 'X', 'Me', 'T']\n",
    "for s,C in zip(species, exitC):\n",
    "    print('{0:^3s}{1:1.5f} lbmol/ft^3'.format(s,C))"
   ]
  },
  {
   "cell_type": "markdown",
   "metadata": {},
   "source": [
    "\n",
    "## Multiple reactions in a PFR\n",
    "\n"
   ]
  },
  {
   "cell_type": "markdown",
   "metadata": {},
   "source": [
    "Now we solve the same problem in a PFR.\n",
    "\n"
   ]
  },
  {
   "cell_type": "code",
   "execution_count": 46,
   "metadata": {},
   "outputs": [
    {
     "data": {
      "image/png": "[encoded data removed]",
      "text/plain": [
       "<matplotlib.figure.Figure at 0x7f89bc17a358>"
      ]
     },
     "metadata": {},
     "output_type": "display_data"
    },
    {
     "name": "stdout",
     "output_type": "stream",
     "text": [
      "[ 1.  1.  1.  1.  1.  1.  1.  1.  1.  1.  1.  1.  1.  1.  1.  1.  1.  1.\n",
      "  1.  1.  1.  1.  1.  1.  1.  1.  1.  1.  1.  1.  1.  1.  1.  1.  1.  1.\n",
      "  1.  1.  1.  1.  1.  1.  1.  1.  1.  1.  1.  1.  1.  1.]\n"
     ]
    }
   ],
   "source": [
    "import numpy as np\n",
    "from scipy.integrate import odeint\n",
    "\n",
    "vo = 476.0    # ft^3 / hr\n",
    "Po = 35.0     # atm\n",
    "T = 1500.0    # Rankine\n",
    "R = 0.73      # in appropriate units\n",
    "CTo = Po / R / T\n",
    "Fto = CTo * vo\n",
    "\n",
    "# initial molar flows\n",
    "Fmo = Fto / 3.0\n",
    "Fho = Fto * 2.0 / 3.0\n",
    "Fxo = 0.0\n",
    "Fmeo = 0.0\n",
    "Ftolo = 0.0\n",
    "\n",
    "\n",
    "def dFdV(F, t):\n",
    "    'PFR moe balances'\n",
    "    Ft = F.sum()\n",
    "\n",
    "    v = vo * Ft / Fto\n",
    "    C = F / v\n",
    "    CM, CH, CX, CMe, CT = C\n",
    "\n",
    "    # rate laws\n",
    "    k1 = 55.20\n",
    "    k2 = 30.20\n",
    "    r1m = -k1 * CM * CH**0.5\n",
    "    r2t = k2 * CX * CH**0.5\n",
    "\n",
    "    # net rates\n",
    "    rM = r1m\n",
    "    rH = r1m - r2t\n",
    "    rX = -r1m - r2t\n",
    "    rMe = -r1m + r2t\n",
    "    rT = r2t\n",
    "\n",
    "    dFMdV = rM\n",
    "    dFHdV = rH\n",
    "    dFXdV = rX\n",
    "    dFMedV = rMe\n",
    "    dFTdV = rT\n",
    "\n",
    "    return [dFMdV, dFHdV, dFXdV, dFMedV, dFTdV]\n",
    "\n",
    "Finit = [Fmo, Fho, Fxo, Fmeo, Ftolo]\n",
    "Vspan = np.linspace(0.0, 238.0)\n",
    "\n",
    "sol = odeint(dFdV, Finit, Vspan)\n",
    "\n",
    "Ft = sol.sum(axis=1)  # sum each row\n",
    "v = vo * Ft / Fto\n",
    "\n",
    "FM = sol[:, 0]\n",
    "FH = sol[:, 1]\n",
    "FX = sol[:, 2]\n",
    "FMe = sol[:, 3]\n",
    "FT = sol[:, 4]\n",
    "\n",
    "tau = Vspan / vo\n",
    "\n",
    "import matplotlib.pyplot as plt\n",
    "plt.plot(tau, FM / v, label='$C_M$')\n",
    "plt.plot(tau, FH / v, label='$C_H$')\n",
    "plt.plot(tau, FX / v, label='$C_X$')\n",
    "\n",
    "plt.legend(loc='best')\n",
    "plt.xlabel('$\\\\tau$ (hr)')\n",
    "plt.ylabel('Concentration (lbmol/ft$^3$)')\n",
    "plt.show()\n",
    "print(Ft / Fto)"
   ]
  },
  {
   "cell_type": "markdown",
   "metadata": {},
   "source": [
    "\n",
    "-   You can see that the basic approach is the same as for a single reaction\n",
    "    -   the code is just *a lot* longer\n",
    "\n",
    "-   In this example it was not necessary to compute the total molar flow. Inspection shows that it is a constant. Hence, the volumetric flow is also constant since there is no pressure drop and no temperature change.\n",
    "\n"
   ]
  },
  {
   "cell_type": "markdown",
   "metadata": {},
   "source": [
    "- stack traces\n",
    "- writing answers\n",
    "  - be comfortable writing Latex\n",
    "  - format numbers with units\n",
    "  - label plots with x/y-axis legends (if multiple lines)\n",
    "  - comment code when possible"
   ]
  },
  {
   "cell_type": "code",
   "execution_count": 25,
   "metadata": {},
   "outputs": [
    {
     "ename": "TypeError",
     "evalue": "cannot perform reduce with flexible type",
     "output_type": "error",
     "traceback": [
      "\u001b[0;31m---------------------------------------------------------------------------\u001b[0m",
      "\u001b[0;31mTypeError\u001b[0m                                 Traceback (most recent call last)",
      "\u001b[0;32m<ipython-input-25-5e1c89caf07b>\u001b[0m in \u001b[0;36m<module>\u001b[0;34m()\u001b[0m\n\u001b[1;32m      2\u001b[0m     \u001b[0mprint\u001b[0m\u001b[0;34m(\u001b[0m\u001b[0mnp\u001b[0m\u001b[0;34m.\u001b[0m\u001b[0msum\u001b[0m\u001b[0;34m(\u001b[0m\u001b[0;34m'a'\u001b[0m\u001b[0;34m)\u001b[0m\u001b[0;34m)\u001b[0m\u001b[0;34m\u001b[0m\u001b[0m\n\u001b[1;32m      3\u001b[0m \u001b[0;34m\u001b[0m\u001b[0m\n\u001b[0;32m----> 4\u001b[0;31m \u001b[0mf\u001b[0m\u001b[0;34m(\u001b[0m\u001b[0;36m1\u001b[0m\u001b[0;34m)\u001b[0m\u001b[0;34m\u001b[0m\u001b[0m\n\u001b[0m",
      "\u001b[0;32m<ipython-input-25-5e1c89caf07b>\u001b[0m in \u001b[0;36mf\u001b[0;34m(a)\u001b[0m\n\u001b[1;32m      1\u001b[0m \u001b[0;32mdef\u001b[0m \u001b[0mf\u001b[0m\u001b[0;34m(\u001b[0m\u001b[0ma\u001b[0m\u001b[0;34m)\u001b[0m\u001b[0;34m:\u001b[0m\u001b[0;34m\u001b[0m\u001b[0m\n\u001b[0;32m----> 2\u001b[0;31m     \u001b[0mprint\u001b[0m\u001b[0;34m(\u001b[0m\u001b[0mnp\u001b[0m\u001b[0;34m.\u001b[0m\u001b[0msum\u001b[0m\u001b[0;34m(\u001b[0m\u001b[0;34m'a'\u001b[0m\u001b[0;34m)\u001b[0m\u001b[0;34m)\u001b[0m\u001b[0;34m\u001b[0m\u001b[0m\n\u001b[0m\u001b[1;32m      3\u001b[0m \u001b[0;34m\u001b[0m\u001b[0m\n\u001b[1;32m      4\u001b[0m \u001b[0mf\u001b[0m\u001b[0;34m(\u001b[0m\u001b[0;36m1\u001b[0m\u001b[0;34m)\u001b[0m\u001b[0;34m\u001b[0m\u001b[0m\n",
      "\u001b[0;32m/opt/conda/lib/python3.6/site-packages/numpy/core/fromnumeric.py\u001b[0m in \u001b[0;36msum\u001b[0;34m(a, axis, dtype, out, keepdims)\u001b[0m\n\u001b[1;32m   1832\u001b[0m             \u001b[0;32mreturn\u001b[0m \u001b[0msum\u001b[0m\u001b[0;34m(\u001b[0m\u001b[0maxis\u001b[0m\u001b[0;34m=\u001b[0m\u001b[0maxis\u001b[0m\u001b[0;34m,\u001b[0m \u001b[0mdtype\u001b[0m\u001b[0;34m=\u001b[0m\u001b[0mdtype\u001b[0m\u001b[0;34m,\u001b[0m \u001b[0mout\u001b[0m\u001b[0;34m=\u001b[0m\u001b[0mout\u001b[0m\u001b[0;34m,\u001b[0m \u001b[0;34m**\u001b[0m\u001b[0mkwargs\u001b[0m\u001b[0;34m)\u001b[0m\u001b[0;34m\u001b[0m\u001b[0m\n\u001b[1;32m   1833\u001b[0m     return _methods._sum(a, axis=axis, dtype=dtype,\n\u001b[0;32m-> 1834\u001b[0;31m                          out=out, **kwargs)\n\u001b[0m\u001b[1;32m   1835\u001b[0m \u001b[0;34m\u001b[0m\u001b[0m\n\u001b[1;32m   1836\u001b[0m \u001b[0;34m\u001b[0m\u001b[0m\n",
      "\u001b[0;32m/opt/conda/lib/python3.6/site-packages/numpy/core/_methods.py\u001b[0m in \u001b[0;36m_sum\u001b[0;34m(a, axis, dtype, out, keepdims)\u001b[0m\n\u001b[1;32m     30\u001b[0m \u001b[0;34m\u001b[0m\u001b[0m\n\u001b[1;32m     31\u001b[0m \u001b[0;32mdef\u001b[0m \u001b[0m_sum\u001b[0m\u001b[0;34m(\u001b[0m\u001b[0ma\u001b[0m\u001b[0;34m,\u001b[0m \u001b[0maxis\u001b[0m\u001b[0;34m=\u001b[0m\u001b[0;32mNone\u001b[0m\u001b[0;34m,\u001b[0m \u001b[0mdtype\u001b[0m\u001b[0;34m=\u001b[0m\u001b[0;32mNone\u001b[0m\u001b[0;34m,\u001b[0m \u001b[0mout\u001b[0m\u001b[0;34m=\u001b[0m\u001b[0;32mNone\u001b[0m\u001b[0;34m,\u001b[0m \u001b[0mkeepdims\u001b[0m\u001b[0;34m=\u001b[0m\u001b[0;32mFalse\u001b[0m\u001b[0;34m)\u001b[0m\u001b[0;34m:\u001b[0m\u001b[0;34m\u001b[0m\u001b[0m\n\u001b[0;32m---> 32\u001b[0;31m     \u001b[0;32mreturn\u001b[0m \u001b[0mumr_sum\u001b[0m\u001b[0;34m(\u001b[0m\u001b[0ma\u001b[0m\u001b[0;34m,\u001b[0m \u001b[0maxis\u001b[0m\u001b[0;34m,\u001b[0m \u001b[0mdtype\u001b[0m\u001b[0;34m,\u001b[0m \u001b[0mout\u001b[0m\u001b[0;34m,\u001b[0m \u001b[0mkeepdims\u001b[0m\u001b[0;34m)\u001b[0m\u001b[0;34m\u001b[0m\u001b[0m\n\u001b[0m\u001b[1;32m     33\u001b[0m \u001b[0;34m\u001b[0m\u001b[0m\n\u001b[1;32m     34\u001b[0m \u001b[0;32mdef\u001b[0m \u001b[0m_prod\u001b[0m\u001b[0;34m(\u001b[0m\u001b[0ma\u001b[0m\u001b[0;34m,\u001b[0m \u001b[0maxis\u001b[0m\u001b[0;34m=\u001b[0m\u001b[0;32mNone\u001b[0m\u001b[0;34m,\u001b[0m \u001b[0mdtype\u001b[0m\u001b[0;34m=\u001b[0m\u001b[0;32mNone\u001b[0m\u001b[0;34m,\u001b[0m \u001b[0mout\u001b[0m\u001b[0;34m=\u001b[0m\u001b[0;32mNone\u001b[0m\u001b[0;34m,\u001b[0m \u001b[0mkeepdims\u001b[0m\u001b[0;34m=\u001b[0m\u001b[0;32mFalse\u001b[0m\u001b[0;34m)\u001b[0m\u001b[0;34m:\u001b[0m\u001b[0;34m\u001b[0m\u001b[0m\n",
      "\u001b[0;31mTypeError\u001b[0m: cannot perform reduce with flexible type"
     ]
    }
   ],
   "source": [
    "def f(a):\n",
    "    print(np.sum('a'))\n",
    "\n",
    "f(1)"
   ]
  },
  {
   "cell_type": "code",
   "execution_count": 42,
   "metadata": {
    "scrolled": true
   },
   "outputs": [
    {
     "ename": "TypeError",
     "evalue": "",
     "output_type": "error",
     "traceback": [
      "\u001b[0;31m---------------------------------------------------------------------------\u001b[0m",
      "\u001b[0;31mTypeError\u001b[0m                                 Traceback (most recent call last)",
      "\u001b[0;32m<ipython-input-42-d38d6b8c0a03>\u001b[0m in \u001b[0;36m<module>\u001b[0;34m()\u001b[0m\n\u001b[1;32m      2\u001b[0m     \u001b[0;32mraise\u001b[0m \u001b[0mTypeError\u001b[0m\u001b[0;34m\u001b[0m\u001b[0m\n\u001b[1;32m      3\u001b[0m \u001b[0;34m\u001b[0m\u001b[0m\n\u001b[0;32m----> 4\u001b[0;31m \u001b[0mf\u001b[0m\u001b[0;34m(\u001b[0m\u001b[0;36m1\u001b[0m\u001b[0;34m)\u001b[0m\u001b[0;34m\u001b[0m\u001b[0m\n\u001b[0m\u001b[1;32m      5\u001b[0m \u001b[0;34m\u001b[0m\u001b[0m\n\u001b[1;32m      6\u001b[0m \u001b[0ma\u001b[0m\u001b[0;34m=\u001b[0m\u001b[0;34m'-1'\u001b[0m\u001b[0;34m\u001b[0m\u001b[0m\n",
      "\u001b[0;32m<ipython-input-42-d38d6b8c0a03>\u001b[0m in \u001b[0;36mf\u001b[0;34m(P)\u001b[0m\n\u001b[1;32m      1\u001b[0m \u001b[0;32mdef\u001b[0m \u001b[0mf\u001b[0m\u001b[0;34m(\u001b[0m\u001b[0mP\u001b[0m\u001b[0;34m)\u001b[0m\u001b[0;34m:\u001b[0m\u001b[0;34m\u001b[0m\u001b[0m\n\u001b[0;32m----> 2\u001b[0;31m     \u001b[0;32mraise\u001b[0m \u001b[0mTypeError\u001b[0m\u001b[0;34m\u001b[0m\u001b[0m\n\u001b[0m\u001b[1;32m      3\u001b[0m \u001b[0;34m\u001b[0m\u001b[0m\n\u001b[1;32m      4\u001b[0m \u001b[0mf\u001b[0m\u001b[0;34m(\u001b[0m\u001b[0;36m1\u001b[0m\u001b[0;34m)\u001b[0m\u001b[0;34m\u001b[0m\u001b[0m\n\u001b[1;32m      5\u001b[0m \u001b[0;34m\u001b[0m\u001b[0m\n",
      "\u001b[0;31mTypeError\u001b[0m: "
     ]
    }
   ],
   "source": [
    "def f(P):\n",
    "    raise TypeError\n",
    "\n",
    "f(1)\n",
    "\n",
    "a='-1'\n",
    "try:\n",
    "    g=f(a)\n",
    "except TypeError:\n",
    "    print('fixed!')\n",
    "    \n",
    "print(g)\n"
   ]
  },
  {
   "cell_type": "code",
   "execution_count": 47,
   "metadata": {},
   "outputs": [
    {
     "name": "stdout",
     "output_type": "stream",
     "text": [
      "Help on function sum in module numpy.core.fromnumeric:\n",
      "\n",
      "sum(a, axis=None, dtype=None, out=None, keepdims=<class 'numpy._globals._NoValue'>)\n",
      "    Sum of array elements over a given axis.\n",
      "    \n",
      "    Parameters\n",
      "    ----------\n",
      "    a : array_like\n",
      "        Elements to sum.\n",
      "    axis : None or int or tuple of ints, optional\n",
      "        Axis or axes along which a sum is performed.  The default,\n",
      "        axis=None, will sum all of the elements of the input array.  If\n",
      "        axis is negative it counts from the last to the first axis.\n",
      "    \n",
      "        .. versionadded:: 1.7.0\n",
      "    \n",
      "        If axis is a tuple of ints, a sum is performed on all of the axes\n",
      "        specified in the tuple instead of a single axis or all the axes as\n",
      "        before.\n",
      "    dtype : dtype, optional\n",
      "        The type of the returned array and of the accumulator in which the\n",
      "        elements are summed.  The dtype of `a` is used by default unless `a`\n",
      "        has an integer dtype of less precision than the default platform\n",
      "        integer.  In that case, if `a` is signed then the platform integer\n",
      "        is used while if `a` is unsigned then an unsigned integer of the\n",
      "        same precision as the platform integer is used.\n",
      "    out : ndarray, optional\n",
      "        Alternative output array in which to place the result. It must have\n",
      "        the same shape as the expected output, but the type of the output\n",
      "        values will be cast if necessary.\n",
      "    keepdims : bool, optional\n",
      "        If this is set to True, the axes which are reduced are left\n",
      "        in the result as dimensions with size one. With this option,\n",
      "        the result will broadcast correctly against the input array.\n",
      "    \n",
      "        If the default value is passed, then `keepdims` will not be\n",
      "        passed through to the `sum` method of sub-classes of\n",
      "        `ndarray`, however any non-default value will be.  If the\n",
      "        sub-classes `sum` method does not implement `keepdims` any\n",
      "        exceptions will be raised.\n",
      "    \n",
      "    Returns\n",
      "    -------\n",
      "    sum_along_axis : ndarray\n",
      "        An array with the same shape as `a`, with the specified\n",
      "        axis removed.   If `a` is a 0-d array, or if `axis` is None, a scalar\n",
      "        is returned.  If an output array is specified, a reference to\n",
      "        `out` is returned.\n",
      "    \n",
      "    See Also\n",
      "    --------\n",
      "    ndarray.sum : Equivalent method.\n",
      "    \n",
      "    cumsum : Cumulative sum of array elements.\n",
      "    \n",
      "    trapz : Integration of array values using the composite trapezoidal rule.\n",
      "    \n",
      "    mean, average\n",
      "    \n",
      "    Notes\n",
      "    -----\n",
      "    Arithmetic is modular when using integer types, and no error is\n",
      "    raised on overflow.\n",
      "    \n",
      "    The sum of an empty array is the neutral element 0:\n",
      "    \n",
      "    >>> np.sum([])\n",
      "    0.0\n",
      "    \n",
      "    Examples\n",
      "    --------\n",
      "    >>> np.sum([0.5, 1.5])\n",
      "    2.0\n",
      "    >>> np.sum([0.5, 0.7, 0.2, 1.5], dtype=np.int32)\n",
      "    1\n",
      "    >>> np.sum([[0, 1], [0, 5]])\n",
      "    6\n",
      "    >>> np.sum([[0, 1], [0, 5]], axis=0)\n",
      "    array([0, 6])\n",
      "    >>> np.sum([[0, 1], [0, 5]], axis=1)\n",
      "    array([1, 5])\n",
      "    \n",
      "    If the accumulator is too small, overflow occurs:\n",
      "    \n",
      "    >>> np.ones(128, dtype=np.int8).sum(dtype=np.int8)\n",
      "    -128\n",
      "\n"
     ]
    }
   ],
   "source": [
    "help(np.sum)"
   ]
  },
  {
   "cell_type": "code",
   "execution_count": null,
   "metadata": {},
   "outputs": [],
   "source": []
  }
 ],
 "metadata": {
  "kernelspec": {
   "display_name": "Python 3",
   "language": "python",
   "name": "python3"
  },
  "language_info": {
   "codemirror_mode": {
    "name": "ipython",
    "version": 3
   },
   "file_extension": ".py",
   "mimetype": "text/x-python",
   "name": "python",
   "nbconvert_exporter": "python",
   "pygments_lexer": "ipython3",
   "version": "3.6.3"
  },
  "toc": {
   "colors": {
    "hover_highlight": "#DAA520",
    "navigate_num": "#000000",
    "navigate_text": "#333333",
    "running_highlight": "#FF0000",
    "selected_highlight": "#FFD700",
    "sidebar_border": "#EEEEEE",
    "wrapper_background": "#FFFFFF"
   },
   "moveMenuLeft": true,
   "nav_menu": {
    "height": "103px",
    "width": "252px"
   },
   "navigate_menu": true,
   "number_sections": true,
   "sideBar": true,
   "threshold": 4,
   "toc_cell": false,
   "toc_section_display": "block",
   "toc_window_display": false,
   "widenNotebook": false
  }
 },
 "nbformat": 4,
 "nbformat_minor": 2
}
