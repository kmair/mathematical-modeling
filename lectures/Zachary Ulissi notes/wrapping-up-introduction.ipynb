{
 "cells": [
  {
   "cell_type": "markdown",
   "metadata": {},
   "source": [
    "\n",
    "# Some advanced topics in units\n",
    "\n"
   ]
  },
  {
   "cell_type": "markdown",
   "metadata": {},
   "source": [
    "\n",
    "## Using units with fsolve, odeint, other functions\n",
    "\n"
   ]
  },
  {
   "cell_type": "markdown",
   "metadata": {},
   "source": [
    "-   Using units outside of `quantities`, e.g. with fsolve, or odeint will often not work without some extra effort\n",
    "    -   The best case scenario is you get an error\n",
    "    -   More often, units will simply be lost or dropped\n",
    "\n",
    "-   This is a general problem\n",
    "    -   3<sup>rd</sup> party packages were not designed with `quantities` in mind, and `quantities` cannot know of every 3<sup>rd</sup> party package\n",
    "    -   This is an issue with *every* units package around\n",
    "    -   some software packages may be more integrated than others, e.g. Mathematica, or Maple (these are standalone packages)\n",
    "    -   Other packages, e.g. Matlab, python, or C or Fortran need to be considered carefully\n",
    "\n",
    "-   It is *however* possible to write \"wrapper\" functions for using `quantities` with 3<sup>rd</sup> party packages\n",
    "\n",
    "-   Typically, you store the units going into the problem, if necessary compute the units on the output, and put them back onto the answer.\n",
    "\n",
    "-   Let us consider some typical problems.\n",
    "\n"
   ]
  },
  {
   "cell_type": "markdown",
   "metadata": {},
   "source": [
    "\n",
    "## quantities in fsolve\n",
    "\n"
   ]
  },
  {
   "cell_type": "markdown",
   "metadata": {},
   "source": [
    "-   Consider a CSTR with inlet molar flow of 3 mol/min of A at 1 L/min, a rate law of $-r_A = k C_A$, with $k=0.34$ 1/hr. Determine the volume required for 80% conversion of A.\n",
    "\n",
    "-   We need to solve $0 = F_{A0} - F_A + r_A V$ for $V$.\n",
    "\n"
   ]
  },
  {
   "cell_type": "code",
   "execution_count": 37,
   "metadata": {},
   "outputs": [],
   "source": [
    "import quantities as u\n",
    "import numpy as np\n",
    "from scipy.optimize import fsolve   # give fsolve a new name\n",
    "\n",
    "Fa0 = 3 * u.mol / u.min\n",
    "Fa = Fa0 * (1 - 0.8)\n",
    "nu = 1 * u.L / u.min\n",
    "k = 0.34 * 1 / u.hr\n",
    "\n",
    "\n",
    "def objective(V):\n",
    "    Ca = Fa / nu\n",
    "    rA = -k * Ca\n",
    "    return Fa0 - Fa + rA * V"
   ]
  },
  {
   "cell_type": "code",
   "execution_count": 38,
   "metadata": {},
   "outputs": [
    {
     "name": "stdout",
     "output_type": "stream",
     "text": [
      "10.0 L\n",
      "1.0 L\n",
      "705.882352941\n",
      "705.8823529411767 L\n"
     ]
    }
   ],
   "source": [
    "def wrapperfsolve(func, t0):\n",
    "    'wrapped fsolve command to work with quantities'\n",
    "    # store the units on the initial guess\n",
    "    tU = 1 * t0.units  # units on initial guess, normalized\n",
    "    print(t0)\n",
    "    print(tU)\n",
    "    # wrap the function so it returns a regular number\n",
    "    def wrapped_func(t):\n",
    "        't will be unitless, so we add unit to it. t * tU has units.'\n",
    "        return float(func(t * tU))\n",
    "    # use the original fsolve with the wrapped function\n",
    "    sol, = fsolve(wrapped_func, t0)\n",
    "    # put the original units back on the solution\n",
    "    print(sol)\n",
    "    return sol * tU\n",
    "\n",
    "print(wrapperfsolve(objective, 10*u.L))"
   ]
  },
  {
   "cell_type": "code",
   "execution_count": 22,
   "metadata": {},
   "outputs": [
    {
     "data": {
      "text/plain": [
       "1.0"
      ]
     },
     "execution_count": 22,
     "metadata": {},
     "output_type": "execute_result"
    }
   ],
   "source": [
    "float(1*u.L)"
   ]
  },
  {
   "cell_type": "code",
   "execution_count": 39,
   "metadata": {},
   "outputs": [],
   "source": [
    "#print(objective(10 * u.L))\n",
    "\n",
    "#_fsolve(objective, 10 * u.L)"
   ]
  },
  {
   "cell_type": "code",
   "execution_count": 5,
   "metadata": {},
   "outputs": [
    {
     "name": "stdout",
     "output_type": "stream",
     "text": [
      "705.8823529411767 L\n",
      "[ 705.88235294]\n"
     ]
    }
   ],
   "source": [
    "import quantities as u\n",
    "from scipy.optimize import fsolve as _fsolve  # give fsolve a new name\n",
    "\n",
    "Fa0 = 3 * u.mol / u.min\n",
    "Fa = Fa0 * (1 - 0.8)\n",
    "nu = 1 * u.L / u.min\n",
    "k = 0.34 * 1 / u.hr\n",
    "\n",
    "\n",
    "def objective(V):\n",
    "    Ca = Fa / nu\n",
    "    rA = -k * Ca\n",
    "    return Fa0 - Fa + rA * V\n",
    "\n",
    "\n",
    "def fsolve(func, t0):\n",
    "    'wrapped fsolve command to work with quantities'\n",
    "    # store the units on the initial guess\n",
    "    tU = 1 * t0.units  # units on initial guess, normalized\n",
    "\n",
    "    # wrap the function so it returns a regular number\n",
    "    def wrapped_func(t):\n",
    "        't will be unitless, so we add unit to it. t * tU has units.'\n",
    "        return float(func(t * tU))\n",
    "\n",
    "    # use the original fsolve with the wrapped function\n",
    "    sol, = _fsolve(wrapped_func, t0)\n",
    "\n",
    "    # put the original units back on the solution\n",
    "    return sol * tU\n",
    "\n",
    "print(fsolve(objective, 10 * u.L))\n",
    "\n",
    "# Confirm the answer is correct with no units\n",
    "\n",
    "\n",
    "def objective_nounits(V):\n",
    "    k = 0.34 / 60.0  # 1/min    A unit conversion by hand\n",
    "    Fa0 = 3.0       # mol/min\n",
    "    Fa = Fa0 * (1 - 0.8)\n",
    "    nu = 1.0\n",
    "    Ca = Fa / nu\n",
    "    rA = -k * Ca\n",
    "    return Fa0 - Fa + rA * V\n",
    "\n",
    "print(_fsolve(objective_nounits, 10))"
   ]
  },
  {
   "cell_type": "markdown",
   "metadata": {},
   "source": [
    "-   This was an *easy* example because the units on the output of fsolve are the same as the units of the initial guess\n",
    "\n",
    "-   The fsolve function we wrote does not have all the features of scipy.optimize.fsolve.\n",
    "    -   You can add those, but it is much more complicated\n",
    "    -   see [http://kitchingroup.cheme.cmu.edu/blog/2013/03/22/Handling-units-with-the-quantities-module/>](http://kitchingroup.cheme.cmu.edu/blog/2013/03/22/Handling-units-with-the-quantities-module/>)for a more comprehensive example\n",
    "\n",
    "-   Consider the tradeoffs in this approach\n",
    "    -   On one hand, we had to wrap a function in a non-intuitive way\n",
    "    -   We got the units on the answer \"for free\" after all that work\n",
    "    -   On the other hand, we did not do *any* unit-conversions by hand\n",
    "    -   We also did not have to modify our equations\n",
    "\n",
    "-   PYCSE provides some of this functionality\n",
    "-   You need the latest version of pycse for this functionality\n",
    "\n"
   ]
  },
  {
   "cell_type": "markdown",
   "metadata": {},
   "source": [
    "PYCSE (v1.47+) provides this wrapped function [pycse.qmath.fsolve](https://www.google.com/#safe=off&q=pycse.qmath.fsolve).\n",
    "\n",
    "-   You should use this with skepticism and engineering judgment\n",
    "    1.  It has not been used a lot\n",
    "    2.  Code with units is fragile, and it is possible you will find a way to break it\n",
    "\n"
   ]
  },
  {
   "cell_type": "code",
   "execution_count": 40,
   "metadata": {},
   "outputs": [
    {
     "name": "stdout",
     "output_type": "stream",
     "text": [
      "[ 705.88235294] L\n"
     ]
    }
   ],
   "source": [
    "from pycse.qmath import fsolve\n",
    "import quantities as u\n",
    "\n",
    "Fa0 = 3 * u.mol / u.min\n",
    "Fa = Fa0 * (1 - 0.8)\n",
    "nu = 1 * u.L / u.min\n",
    "k = 0.34 * 1 / u.hr\n",
    "\n",
    "\n",
    "def objective(V):\n",
    "    Ca = Fa / nu\n",
    "    rA = -k * Ca\n",
    "    return Fa0 - Fa + rA * V\n",
    "\n",
    "print(fsolve(objective, 10 * u.L))"
   ]
  },
  {
   "cell_type": "markdown",
   "metadata": {},
   "source": [
    "-   Let us consider another approach: dimensionless equations.\n",
    "-   We needed to solve $0 = F_{A0} - F_A - k F_A / \\nu V $\n",
    "-   Let us define a new variable: $G = F_A / F_{A0}$ or $F_A = G F_{A0}$\n",
    "-   Let us define $\\tau = V / \\nu$, which is a residence time\n",
    "-   Finally, note that $k \\tau$ is a dimensionless quantity.\n",
    "    -   Let us call it $D$\n",
    "-   The equation becomes\n",
    "\n",
    "$0 = 1 - G - D G $\n",
    "\n",
    "-   This equation should have only dimensionless quantities.\n",
    "-   We need to find the value of D that solves it.\n",
    "-   Then we can compute $V$ with units, as $V = \\frac{D \\nu}{k}$\n",
    "\n"
   ]
  },
  {
   "cell_type": "code",
   "execution_count": 51,
   "metadata": {},
   "outputs": [
    {
     "name": "stdout",
     "output_type": "stream",
     "text": [
      "V =  0.7058823529411767 m**3\n",
      "Volume = 0.71 1.0 m**3\n"
     ]
    }
   ],
   "source": [
    "from scipy.optimize import fsolve\n",
    "Fa0 = 3.0                 # mol/min\n",
    "Fa = Fa0 * (1.0 - 0.8)    # mol/min\n",
    "G = Fa / Fa0\n",
    "\n",
    "def objective(D):\n",
    "    return 1 - G - D * G\n",
    "\n",
    "Dsol, = fsolve(objective, 1.0)\n",
    "\n",
    "import quantities as u\n",
    "nu = 1 * u.L / u.min\n",
    "k = 0.34 * 1 / u.hr\n",
    "\n",
    "V = 10 * u.L\n",
    "tau = V / nu\n",
    "#print((k * tau))\n",
    "\n",
    "\n",
    "\n",
    "# V = D * nu / k\n",
    "V = Dsol * nu / k\n",
    "print('V = ',V.simplified)\n",
    "#print('V = ',V)\n",
    "#print(V.magnitude)\n",
    "#print(V.units.simplified.units)\n",
    "#print(V.units.simplified.magnitude)\n",
    "#print(float(V))\n",
    "\n",
    "print('Volume = {:1.2f} {}'.format(V.magnitude * V.units.simplified.magnitude, V.units.simplified.units))   # this prints oddly\n",
    "#                                             # (time/time) because the\n",
    "                                             # units are not simplified\n",
    "#print((Dsol * nu / k).simplified)"
   ]
  },
  {
   "cell_type": "markdown",
   "metadata": {},
   "source": [
    "-   This method has a different set of tradeoffs\n",
    "    -   We had to derive dimensionless equations\n",
    "        -   And the result looks trivial to solve in this case\n",
    "    -   Our dimensionless quantities were easy to check in this case\n",
    "    -   On the other hand, we did not do any unit conversions at the end\n",
    "    -   We used the standard fsolve function\n",
    "    -   We avoided wrapping the function\n",
    "\n"
   ]
  },
  {
   "cell_type": "markdown",
   "metadata": {},
   "source": [
    "\n",
    "## quantities in odeint\n",
    "\n"
   ]
  },
  {
   "cell_type": "markdown",
   "metadata": {},
   "source": [
    "-   The units on the output of odeint are the units of the initial condition\n",
    "-   Let us examine a constant volume batch reactor with $-r_A = k C_A$, and $k = 0.0006$ 1/s, and ask what is the concentration of $A$ after 10 minutes if the initial concentration is $C_A(t=0) = 1$ mol / L.\n",
    "\n",
    "\\begin{equation}\n",
    "\\frac{dC_A}{dt} = r_A\n",
    "\\end{equation}\n",
    "\n"
   ]
  },
  {
   "cell_type": "markdown",
   "metadata": {},
   "source": [
    "\n",
    "### Analytical solution with no units\n",
    "\n"
   ]
  },
  {
   "cell_type": "markdown",
   "metadata": {},
   "source": [
    "-   Here we know the solution $C_A = C_{A0} \\exp(-k t)$. We evaluate it for future reference.\n",
    "\n"
   ]
  },
  {
   "cell_type": "code",
   "execution_count": 52,
   "metadata": {},
   "outputs": [
    {
     "name": "stdout",
     "output_type": "stream",
     "text": [
      "0.697676326071\n"
     ]
    }
   ],
   "source": [
    "import numpy as np\n",
    "Ca0 = 1\n",
    "k = 0.0006 * 60     # 1 / min\n",
    "t = 10              # min\n",
    "print(Ca0 * np.exp(-k * t))"
   ]
  },
  {
   "cell_type": "markdown",
   "metadata": {},
   "source": [
    "\n",
    "### Numerical solution with no units\n",
    "\n"
   ]
  },
  {
   "cell_type": "markdown",
   "metadata": {},
   "source": [
    "-   Now we re-solve the problem, using odeint with no units.\n",
    "\n"
   ]
  },
  {
   "cell_type": "code",
   "execution_count": 53,
   "metadata": {
    "scrolled": true
   },
   "outputs": [
    {
     "name": "stdout",
     "output_type": "stream",
     "text": [
      "0.697676302326\n"
     ]
    }
   ],
   "source": [
    "import numpy as np\n",
    "from scipy.integrate import odeint\n",
    "Ca0 = 1.0\n",
    "k = 0.0006 * 60  # unit conversion by hand to 1 / min\n",
    "\n",
    "def dCadt(Ca, t):\n",
    "    ra = -k * Ca\n",
    "    return ra\n",
    "\n",
    "tspan = np.linspace(0, 10) # this is in minutes\n",
    "\n",
    "sol = odeint(dCadt, Ca0, tspan)\n",
    "print(sol[-1, 0])"
   ]
  },
  {
   "cell_type": "markdown",
   "metadata": {},
   "source": [
    "Same answer. Still no units.\n",
    "\n"
   ]
  },
  {
   "cell_type": "markdown",
   "metadata": {},
   "source": [
    "\n",
    "### Using quantities with a wrapped odeint function\n",
    "\n"
   ]
  },
  {
   "cell_type": "markdown",
   "metadata": {},
   "source": [
    "-   Let us consider wrapping the odeint function\n",
    "\n",
    "-   This is subtle. We have make sure the derivative value is scaled to the correct units.\n",
    "    -   Otherwise the derivative will not be in consistent units, in this case it would be mol / L / s, while the time step would be in minutes\n",
    "    -   This is not obvious that should have to do that!\n",
    "    -   That is one very big downside to this approach\n",
    "    -   And it underscores the need to test new approaches\n",
    "\n"
   ]
  },
  {
   "cell_type": "code",
   "execution_count": 10,
   "metadata": {},
   "outputs": [
    {
     "name": "stdout",
     "output_type": "stream",
     "text": [
      "0.01 m**3\n"
     ]
    }
   ],
   "source": [
    "import quantities as u\n",
    "\n",
    "a = 10*u.L\n",
    "\n",
    "print(a.rescale(u.m**3))"
   ]
  },
  {
   "cell_type": "code",
   "execution_count": 61,
   "metadata": {},
   "outputs": [
    {
     "ename": "AttributeError",
     "evalue": "'list' object has no attribute 'units'",
     "output_type": "error",
     "traceback": [
      "\u001b[0;31m---------------------------------------------------------------------------\u001b[0m",
      "\u001b[0;31mAttributeError\u001b[0m                            Traceback (most recent call last)",
      "\u001b[0;32m<ipython-input-61-2870682d05d8>\u001b[0m in \u001b[0;36m<module>\u001b[0;34m()\u001b[0m\n\u001b[1;32m      1\u001b[0m \u001b[0mv\u001b[0m\u001b[0;34m=\u001b[0m\u001b[0;34m[\u001b[0m\u001b[0mu\u001b[0m\u001b[0;34m.\u001b[0m\u001b[0mL\u001b[0m\u001b[0;34m,\u001b[0m\u001b[0mu\u001b[0m\u001b[0;34m.\u001b[0m\u001b[0mmin\u001b[0m\u001b[0;34m]\u001b[0m\u001b[0;34m\u001b[0m\u001b[0m\n\u001b[0;32m----> 2\u001b[0;31m \u001b[0mv\u001b[0m\u001b[0;34m.\u001b[0m\u001b[0munits\u001b[0m\u001b[0;34m\u001b[0m\u001b[0m\n\u001b[0m\u001b[1;32m      3\u001b[0m \u001b[0mlist\u001b[0m\u001b[0;34m(\u001b[0m\u001b[0mmap\u001b[0m\u001b[0;34m(\u001b[0m\u001b[0;32mlambda\u001b[0m \u001b[0mx\u001b[0m\u001b[0;34m:\u001b[0m \u001b[0mx\u001b[0m\u001b[0;34m.\u001b[0m\u001b[0munits\u001b[0m\u001b[0;34m,\u001b[0m\u001b[0mv\u001b[0m\u001b[0;34m)\u001b[0m\u001b[0;34m)\u001b[0m\u001b[0;34m\u001b[0m\u001b[0m\n",
      "\u001b[0;31mAttributeError\u001b[0m: 'list' object has no attribute 'units'"
     ]
    }
   ],
   "source": [
    "v=[u.L,u.min]\n",
    "v.units\n",
    "list(map(lambda x: x.units,v))"
   ]
  },
  {
   "cell_type": "code",
   "execution_count": 62,
   "metadata": {},
   "outputs": [
    {
     "name": "stdout",
     "output_type": "stream",
     "text": [
      "The answer is 0.6976763023259455 mol/L\n"
     ]
    }
   ],
   "source": [
    "import quantities as u\n",
    "import numpy as np\n",
    "from scipy.integrate import odeint as _odeint\n",
    "\n",
    "Ca0 = 1.0 * u.mol / u.L\n",
    "k = 0.0006 * 1 / u.s\n",
    "\n",
    "def dCadt(Ca, t):\n",
    "    ra  = -k * Ca\n",
    "    return ra\n",
    "\n",
    "def odeint(dydx, y0, xspan):\n",
    "    # get x units\n",
    "    xU = 1.0 * xspan[0].units\n",
    "    yU = 1.0 * y0.units\n",
    "\n",
    "    def wrapped_dydx(y, x):\n",
    "        v = dydx(y * yU, x * xU).rescale(yU / xU)\n",
    "        return float(v)\n",
    "\n",
    "    sol = _odeint(wrapped_dydx, float(y0), [float(x) for x in xspan])\n",
    "    return sol * yU\n",
    "\n",
    "tspan = np.linspace(0.0, 10.0)*u.min\n",
    "\n",
    "sol = odeint(dCadt, Ca0, tspan)\n",
    "print('The answer is {}'.format(sol[-1, 0]))"
   ]
  },
  {
   "cell_type": "markdown",
   "metadata": {},
   "source": [
    "-   We finally get the right answer, with the correct units\n",
    "\n",
    "-   PYCSE offers a limited support for this.\n",
    "-   This is a fragile approach, but one that you can check pretty easily.\n",
    "\n"
   ]
  },
  {
   "cell_type": "code",
   "execution_count": 12,
   "metadata": {},
   "outputs": [
    {
     "name": "stdout",
     "output_type": "stream",
     "text": [
      "0.697676302326\n"
     ]
    }
   ],
   "source": [
    "import quantities as u\n",
    "import numpy as np\n",
    "from pycse import odeint\n",
    "\n",
    "Ca0 = 1.0 * u.mol / u.L\n",
    "k = 0.0006 * 1 / u.s\n",
    "\n",
    "def dCadt(Ca, t):\n",
    "    ra  = -k * Ca\n",
    "    return ra\n",
    "\n",
    "\n",
    "tspan = np.linspace(0.0, 600.0) * u.sec\n",
    "\n",
    "\n",
    "sol = odeint(dCadt, Ca0, tspan)\n",
    "print(sol[-1, 0])"
   ]
  },
  {
   "cell_type": "markdown",
   "metadata": {},
   "source": [
    "-   This last example underscores again the need to be careful when working with units.\n",
    "\n"
   ]
  },
  {
   "cell_type": "markdown",
   "metadata": {},
   "source": [
    "\n",
    "# Advanced usage of fsolve\n",
    "\n"
   ]
  },
  {
   "cell_type": "markdown",
   "metadata": {},
   "source": [
    "-   We have thus far used fsolve in the simplest way possible.\n",
    "-   We have used the output of the function, or the success of the function as an indication that it worked\n",
    "    -   We may also have used the answer in our objective function to confirm we got an answer near zero.\n",
    "\n"
   ]
  },
  {
   "cell_type": "code",
   "execution_count": 64,
   "metadata": {},
   "outputs": [
    {
     "name": "stdout",
     "output_type": "stream",
     "text": [
      "fsolve did not finish correctly. Check your work 5\n",
      "\n",
      "Nsteps taken = 17\n",
      "objective(sol) = [ 2.]\n",
      "\n",
      "Nsteps taken = 17\n",
      "objective(sol) = [ 2.]\n",
      "{'nfev': 17, 'fjac': array([[ 1.]]), 'r': array([  5.67615265e-15]), 'qtf': array([ 2.]), 'fvec': array([ 2.])}\n",
      "e0: 0\n"
     ]
    }
   ],
   "source": [
    "import numpy as np\n",
    "from scipy.optimize import fsolve\n",
    "\n",
    "def objective(x):\n",
    "    return np.exp(x) + 2.0\n",
    "\n",
    "sol, info, ier, message = fsolve(objective, 0.5, full_output=True)\n",
    "if ier == 1:\n",
    "    print(message)\n",
    "else:\n",
    "    print('fsolve did not finish correctly. Check your work', ier)\n",
    "\n",
    "# Note the advanced string formatting in this example\n",
    "print('''\n",
    "Nsteps taken = {a[nfev]}\n",
    "objective(sol) = {a[fvec]}'''.format(a=info))\n",
    "\n",
    "print('''\n",
    "Nsteps taken = {0}\n",
    "objective(sol) = {1}'''.format(info['nfev'], info['fvec']))\n",
    "\n",
    "print(info)\n",
    "\n",
    "a = np.array([0, 1, 2, 3, 4])\n",
    "\n",
    "print('e0: {var[0]}'.format(var=a))"
   ]
  },
  {
   "cell_type": "code",
   "execution_count": 65,
   "metadata": {},
   "outputs": [
    {
     "data": {
      "text/plain": [
       "'The iteration is not making good progress, as measured by the \\n  improvement from the last ten iterations.'"
      ]
     },
     "execution_count": 65,
     "metadata": {},
     "output_type": "execute_result"
    }
   ],
   "source": [
    "message"
   ]
  },
  {
   "cell_type": "markdown",
   "metadata": {},
   "source": [
    "-   This kind of information is especially helpful in longer programs, or when you embed fsolve in a loop\n",
    "-   You can use programming to catch errors and handle them gracefully\n",
    "    -   This is outside the scope of this course\n",
    "\n",
    "-   There are many more options to consider with fsolve that control a variety of properties.\n",
    "\n",
    "[scipy.optimize.fsolve](https://docs.scipy.org/doc/scipy/reference/generated/scipy.optimize.fsolve.html)\n",
    "\n"
   ]
  },
  {
   "cell_type": "code",
   "execution_count": 66,
   "metadata": {},
   "outputs": [
    {
     "name": "stdout",
     "output_type": "stream",
     "text": [
      "Help on function fsolve in module scipy.optimize.minpack:\n",
      "\n",
      "fsolve(func, x0, args=(), fprime=None, full_output=0, col_deriv=0, xtol=1.49012e-08, maxfev=0, band=None, epsfcn=None, factor=100, diag=None)\n",
      "    Find the roots of a function.\n",
      "    \n",
      "    Return the roots of the (non-linear) equations defined by\n",
      "    ``func(x) = 0`` given a starting estimate.\n",
      "    \n",
      "    Parameters\n",
      "    ----------\n",
      "    func : callable ``f(x, *args)``\n",
      "        A function that takes at least one (possibly vector) argument.\n",
      "    x0 : ndarray\n",
      "        The starting estimate for the roots of ``func(x) = 0``.\n",
      "    args : tuple, optional\n",
      "        Any extra arguments to `func`.\n",
      "    fprime : callable(x), optional\n",
      "        A function to compute the Jacobian of `func` with derivatives\n",
      "        across the rows. By default, the Jacobian will be estimated.\n",
      "    full_output : bool, optional\n",
      "        If True, return optional outputs.\n",
      "    col_deriv : bool, optional\n",
      "        Specify whether the Jacobian function computes derivatives down\n",
      "        the columns (faster, because there is no transpose operation).\n",
      "    xtol : float, optional\n",
      "        The calculation will terminate if the relative error between two\n",
      "        consecutive iterates is at most `xtol`.\n",
      "    maxfev : int, optional\n",
      "        The maximum number of calls to the function. If zero, then\n",
      "        ``100*(N+1)`` is the maximum where N is the number of elements\n",
      "        in `x0`.\n",
      "    band : tuple, optional\n",
      "        If set to a two-sequence containing the number of sub- and\n",
      "        super-diagonals within the band of the Jacobi matrix, the\n",
      "        Jacobi matrix is considered banded (only for ``fprime=None``).\n",
      "    epsfcn : float, optional\n",
      "        A suitable step length for the forward-difference\n",
      "        approximation of the Jacobian (for ``fprime=None``). If\n",
      "        `epsfcn` is less than the machine precision, it is assumed\n",
      "        that the relative errors in the functions are of the order of\n",
      "        the machine precision.\n",
      "    factor : float, optional\n",
      "        A parameter determining the initial step bound\n",
      "        (``factor * || diag * x||``).  Should be in the interval\n",
      "        ``(0.1, 100)``.\n",
      "    diag : sequence, optional\n",
      "        N positive entries that serve as a scale factors for the\n",
      "        variables.\n",
      "    \n",
      "    Returns\n",
      "    -------\n",
      "    x : ndarray\n",
      "        The solution (or the result of the last iteration for\n",
      "        an unsuccessful call).\n",
      "    infodict : dict\n",
      "        A dictionary of optional outputs with the keys:\n",
      "    \n",
      "        ``nfev``\n",
      "            number of function calls\n",
      "        ``njev``\n",
      "            number of Jacobian calls\n",
      "        ``fvec``\n",
      "            function evaluated at the output\n",
      "        ``fjac``\n",
      "            the orthogonal matrix, q, produced by the QR\n",
      "            factorization of the final approximate Jacobian\n",
      "            matrix, stored column wise\n",
      "        ``r``\n",
      "            upper triangular matrix produced by QR factorization\n",
      "            of the same matrix\n",
      "        ``qtf``\n",
      "            the vector ``(transpose(q) * fvec)``\n",
      "    \n",
      "    ier : int\n",
      "        An integer flag.  Set to 1 if a solution was found, otherwise refer\n",
      "        to `mesg` for more information.\n",
      "    mesg : str\n",
      "        If no solution is found, `mesg` details the cause of failure.\n",
      "    \n",
      "    See Also\n",
      "    --------\n",
      "    root : Interface to root finding algorithms for multivariate\n",
      "    functions. See the 'hybr' `method` in particular.\n",
      "    \n",
      "    Notes\n",
      "    -----\n",
      "    ``fsolve`` is a wrapper around MINPACK's hybrd and hybrj algorithms.\n",
      "\n",
      "None\n"
     ]
    }
   ],
   "source": [
    "from scipy.optimize import fsolve\n",
    "print(help(fsolve))"
   ]
  },
  {
   "cell_type": "markdown",
   "metadata": {},
   "source": [
    "See [http://kitchingroup.cheme.cmu.edu/blog/category/nonlinear-algebra/>](http://kitchingroup.cheme.cmu.edu/blog/category/nonlinear-algebra/>)for many examples of using fsolve in python.\n",
    "\n",
    "-   Finally, you may be interested in another solver that has more advanced features [scipy.optimize.root](https://docs.scipy.org/doc/scipy/reference/generated/scipy.optimize.root.html)\n",
    "-   It is similar to fsolve, but offers more flexibility in the methods\n",
    "\n",
    "[scipy.optimize.root](https://docs.scipy.org/doc/scipy/reference/generated/scipy.optimize.root.html)\n",
    "\n"
   ]
  },
  {
   "cell_type": "code",
   "execution_count": 15,
   "metadata": {},
   "outputs": [
    {
     "name": "stdout",
     "output_type": "stream",
     "text": [
      "Help on function root in module scipy.optimize._root:\n",
      "\n",
      "root(fun, x0, args=(), method='hybr', jac=None, tol=None, callback=None, options=None)\n",
      "    Find a root of a vector function.\n",
      "    \n",
      "    Parameters\n",
      "    ----------\n",
      "    fun : callable\n",
      "        A vector function to find a root of.\n",
      "    x0 : ndarray\n",
      "        Initial guess.\n",
      "    args : tuple, optional\n",
      "        Extra arguments passed to the objective function and its Jacobian.\n",
      "    method : str, optional\n",
      "        Type of solver.  Should be one of\n",
      "    \n",
      "            - 'hybr'             :ref:`(see here) <optimize.root-hybr>`\n",
      "            - 'lm'               :ref:`(see here) <optimize.root-lm>`\n",
      "            - 'broyden1'         :ref:`(see here) <optimize.root-broyden1>`\n",
      "            - 'broyden2'         :ref:`(see here) <optimize.root-broyden2>`\n",
      "            - 'anderson'         :ref:`(see here) <optimize.root-anderson>`\n",
      "            - 'linearmixing'     :ref:`(see here) <optimize.root-linearmixing>`\n",
      "            - 'diagbroyden'      :ref:`(see here) <optimize.root-diagbroyden>`\n",
      "            - 'excitingmixing'   :ref:`(see here) <optimize.root-excitingmixing>`\n",
      "            - 'krylov'           :ref:`(see here) <optimize.root-krylov>`\n",
      "            - 'df-sane'          :ref:`(see here) <optimize.root-dfsane>`\n",
      "    \n",
      "    jac : bool or callable, optional\n",
      "        If `jac` is a Boolean and is True, `fun` is assumed to return the\n",
      "        value of Jacobian along with the objective function. If False, the\n",
      "        Jacobian will be estimated numerically.\n",
      "        `jac` can also be a callable returning the Jacobian of `fun`. In\n",
      "        this case, it must accept the same arguments as `fun`.\n",
      "    tol : float, optional\n",
      "        Tolerance for termination. For detailed control, use solver-specific\n",
      "        options.\n",
      "    callback : function, optional\n",
      "        Optional callback function. It is called on every iteration as\n",
      "        ``callback(x, f)`` where `x` is the current solution and `f`\n",
      "        the corresponding residual. For all methods but 'hybr' and 'lm'.\n",
      "    options : dict, optional\n",
      "        A dictionary of solver options. E.g. `xtol` or `maxiter`, see\n",
      "        :obj:`show_options()` for details.\n",
      "    \n",
      "    Returns\n",
      "    -------\n",
      "    sol : OptimizeResult\n",
      "        The solution represented as a ``OptimizeResult`` object.\n",
      "        Important attributes are: ``x`` the solution array, ``success`` a\n",
      "        Boolean flag indicating if the algorithm exited successfully and\n",
      "        ``message`` which describes the cause of the termination. See\n",
      "        `OptimizeResult` for a description of other attributes.\n",
      "    \n",
      "    See also\n",
      "    --------\n",
      "    show_options : Additional options accepted by the solvers\n",
      "    \n",
      "    Notes\n",
      "    -----\n",
      "    This section describes the available solvers that can be selected by the\n",
      "    'method' parameter. The default method is *hybr*.\n",
      "    \n",
      "    Method *hybr* uses a modification of the Powell hybrid method as\n",
      "    implemented in MINPACK [1]_.\n",
      "    \n",
      "    Method *lm* solves the system of nonlinear equations in a least squares\n",
      "    sense using a modification of the Levenberg-Marquardt algorithm as\n",
      "    implemented in MINPACK [1]_.\n",
      "    \n",
      "    Method *df-sane* is a derivative-free spectral method. [3]_\n",
      "    \n",
      "    Methods *broyden1*, *broyden2*, *anderson*, *linearmixing*,\n",
      "    *diagbroyden*, *excitingmixing*, *krylov* are inexact Newton methods,\n",
      "    with backtracking or full line searches [2]_. Each method corresponds\n",
      "    to a particular Jacobian approximations. See `nonlin` for details.\n",
      "    \n",
      "    - Method *broyden1* uses Broyden's first Jacobian approximation, it is\n",
      "      known as Broyden's good method.\n",
      "    - Method *broyden2* uses Broyden's second Jacobian approximation, it\n",
      "      is known as Broyden's bad method.\n",
      "    - Method *anderson* uses (extended) Anderson mixing.\n",
      "    - Method *Krylov* uses Krylov approximation for inverse Jacobian. It\n",
      "      is suitable for large-scale problem.\n",
      "    - Method *diagbroyden* uses diagonal Broyden Jacobian approximation.\n",
      "    - Method *linearmixing* uses a scalar Jacobian approximation.\n",
      "    - Method *excitingmixing* uses a tuned diagonal Jacobian\n",
      "      approximation.\n",
      "    \n",
      "    .. warning::\n",
      "    \n",
      "        The algorithms implemented for methods *diagbroyden*,\n",
      "        *linearmixing* and *excitingmixing* may be useful for specific\n",
      "        problems, but whether they will work may depend strongly on the\n",
      "        problem.\n",
      "    \n",
      "    .. versionadded:: 0.11.0\n",
      "    \n",
      "    References\n",
      "    ----------\n",
      "    .. [1] More, Jorge J., Burton S. Garbow, and Kenneth E. Hillstrom.\n",
      "       1980. User Guide for MINPACK-1.\n",
      "    .. [2] C. T. Kelley. 1995. Iterative Methods for Linear and Nonlinear\n",
      "        Equations. Society for Industrial and Applied Mathematics.\n",
      "        <http://www.siam.org/books/kelley/>\n",
      "    .. [3] W. La Cruz, J.M. Martinez, M. Raydan. Math. Comp. 75, 1429 (2006).\n",
      "    \n",
      "    Examples\n",
      "    --------\n",
      "    The following functions define a system of nonlinear equations and its\n",
      "    jacobian.\n",
      "    \n",
      "    >>> def fun(x):\n",
      "    ...     return [x[0]  + 0.5 * (x[0] - x[1])**3 - 1.0,\n",
      "    ...             0.5 * (x[1] - x[0])**3 + x[1]]\n",
      "    \n",
      "    >>> def jac(x):\n",
      "    ...     return np.array([[1 + 1.5 * (x[0] - x[1])**2,\n",
      "    ...                       -1.5 * (x[0] - x[1])**2],\n",
      "    ...                      [-1.5 * (x[1] - x[0])**2,\n",
      "    ...                       1 + 1.5 * (x[1] - x[0])**2]])\n",
      "    \n",
      "    A solution can be obtained as follows.\n",
      "    \n",
      "    >>> from scipy import optimize\n",
      "    >>> sol = optimize.root(fun, [0, 0], jac=jac, method='hybr')\n",
      "    >>> sol.x\n",
      "    array([ 0.8411639,  0.1588361])\n",
      "\n",
      "None\n"
     ]
    }
   ],
   "source": [
    "from scipy.optimize import root\n",
    "print(help(root))"
   ]
  },
  {
   "cell_type": "markdown",
   "metadata": {},
   "source": [
    "\n",
    "## Parameterized fsolve\n",
    "\n"
   ]
  },
  {
   "cell_type": "markdown",
   "metadata": {},
   "source": [
    "Suppose we want to solve a nonlinear algebra problem for many values of a parameter.\n",
    "\n",
    "Let the reaction $A \\rightarrow B$ take place in a CSTR with a volume of 10 L, and $r = 2.3 C_A$.\n",
    "\n",
    "The inlet concentration is 1.5 mol / L of A.\n",
    "\n",
    "You need to compute the exit conversion for a range of volumetric flows.\n",
    "\n",
    "We know that we are solving:\n",
    "$0 = F_{A0} - F_A + r_A V$\n",
    "\n",
    "We have to resolve this problem *many* times for different values of v0.\n",
    "\n",
    "Rather than redefine the equation over and over, we parameterize the objective function with an additional argument.\n",
    "\n"
   ]
  },
  {
   "cell_type": "code",
   "execution_count": 16,
   "metadata": {},
   "outputs": [
    {
     "name": "stdout",
     "output_type": "stream",
     "text": [
      "[ 0.0625]\n",
      "[ 0.12]\n"
     ]
    },
    {
     "data": {
      "image/png": "[encoded data removed]",
      "text/plain": [
       "<matplotlib.figure.Figure at 0x7f941e278400>"
      ]
     },
     "metadata": {},
     "output_type": "display_data"
    }
   ],
   "source": [
    "import numpy as np\n",
    "from scipy.optimize import fsolve\n",
    "import matplotlib.pyplot as plt\n",
    "\n",
    "V = 10.0\n",
    "Ca0 = 1.5\n",
    "\n",
    "# v0 is a /parameter/\n",
    "def objective(Ca, v0):\n",
    "    ra = -2.3 * Ca\n",
    "    return Ca0 * v0 - Ca * v0 + ra * V\n",
    "\n",
    "v_array = np.linspace(1, 20)\n",
    "\n",
    "ig = 0.01  # assume high conversion for initial guess\n",
    "\n",
    "# we use the parameter like this\n",
    "print(fsolve(objective, ig, args=(1.0,)))\n",
    "print(fsolve(objective, ig, args=(2.0,)))\n",
    "\n",
    "\n",
    "# use list comprehension to do the loop\n",
    "Ca_exit = [fsolve(objective, ig, args=(v,)) for v in v_array]\n",
    "\n",
    "X = (Ca0 - np.array(Ca_exit)) / Ca0\n",
    "plt.plot(v_array, X)\n",
    "plt.xlabel('volumetric flow')\n",
    "plt.ylabel('exit conversion')\n",
    "plt.show()"
   ]
  },
  {
   "cell_type": "markdown",
   "metadata": {},
   "source": [
    "\n",
    "# Advanced usage of odeint\n",
    "\n"
   ]
  },
  {
   "cell_type": "markdown",
   "metadata": {},
   "source": [
    "-   We have also not used the odeint function to its full capacity either\n",
    "-   We can also get `odeint` to tell us about whether it succeeded or not\n",
    "\n"
   ]
  },
  {
   "cell_type": "code",
   "execution_count": 17,
   "metadata": {},
   "outputs": [
    {
     "name": "stdout",
     "output_type": "stream",
     "text": [
      "{'hu': array([ 0.01536617,  0.03073233,  0.03073233,  0.03073233,  0.03073233,\n",
      "        0.07070747,  0.07070747,  0.07070747,  0.07070747,  0.07070747,\n",
      "        0.07070747,  0.07070747,  0.07070747,  0.07070747,  0.07070747,\n",
      "        0.07070747,  0.1316236 ,  0.1316236 ,  0.1316236 ,  0.10547257,\n",
      "        0.10547257,  0.10547257,  0.10547257,  0.10547257,  0.10547257,\n",
      "        0.10547257,  0.10547257,  0.10547257,  0.10547257,  0.10547257,\n",
      "        0.10547257,  0.10547257,  0.10547257,  0.10547257,  0.10547257,\n",
      "        0.10547257,  0.10547257,  0.13793568,  0.13793568,  0.13793568,\n",
      "        0.13793568,  0.13793568,  0.13793568,  0.13793568,  0.13793568,\n",
      "        0.13793568,  0.13793568,  0.13793568,  0.13793568]), 'tcur': array([ 0.04593084,  0.10739551,  0.13812784,  0.16886017,  0.23032484,\n",
      "        0.30103231,  0.30103231,  0.37173977,  0.37173977,  0.44244724,\n",
      "        0.51315471,  0.51315471,  0.58386218,  0.58386218,  0.65456965,\n",
      "        0.65456965,  0.78619325,  0.78619325,  0.78619325,  0.89166582,\n",
      "        0.89166582,  0.99713839,  0.99713839,  0.99713839,  1.10261096,\n",
      "        1.10261096,  1.10261096,  1.20808353,  1.20808353,  1.3135561 ,\n",
      "        1.3135561 ,  1.3135561 ,  1.41902867,  1.41902867,  1.52450124,\n",
      "        1.52450124,  1.52450124,  1.66243691,  1.66243691,  1.66243691,\n",
      "        1.80037259,  1.80037259,  1.80037259,  1.80037259,  1.93830826,\n",
      "        1.93830826,  1.93830826,  2.07624394,  2.07624394]), 'tolsf': array([ 0.,  0.,  0.,  0.,  0.,  0.,  0.,  0.,  0.,  0.,  0.,  0.,  0.,\n",
      "        0.,  0.,  0.,  0.,  0.,  0.,  0.,  0.,  0.,  0.,  0.,  0.,  0.,\n",
      "        0.,  0.,  0.,  0.,  0.,  0.,  0.,  0.,  0.,  0.,  0.,  0.,  0.,\n",
      "        0.,  0.,  0.,  0.,  0.,  0.,  0.,  0.,  0.,  0.]), 'tsw': array([ 0.,  0.,  0.,  0.,  0.,  0.,  0.,  0.,  0.,  0.,  0.,  0.,  0.,\n",
      "        0.,  0.,  0.,  0.,  0.,  0.,  0.,  0.,  0.,  0.,  0.,  0.,  0.,\n",
      "        0.,  0.,  0.,  0.,  0.,  0.,  0.,  0.,  0.,  0.,  0.,  0.,  0.,\n",
      "        0.,  0.,  0.,  0.,  0.,  0.,  0.,  0.,  0.,  0.]), 'nst': array([ 7, 10, 11, 12, 14, 15, 15, 16, 16, 17, 18, 18, 19, 19, 20, 20, 21,\n",
      "       21, 21, 22, 22, 23, 23, 23, 24, 24, 24, 25, 25, 26, 26, 26, 27, 27,\n",
      "       28, 28, 28, 29, 29, 29, 30, 30, 30, 30, 31, 31, 31, 32, 32], dtype=int32), 'nfe': array([17, 23, 25, 27, 31, 33, 33, 35, 35, 37, 39, 39, 41, 41, 43, 43, 47,\n",
      "       47, 47, 51, 51, 53, 53, 53, 55, 55, 55, 57, 57, 59, 59, 59, 61, 61,\n",
      "       63, 63, 63, 65, 65, 65, 67, 67, 67, 67, 69, 69, 69, 71, 71], dtype=int32), 'nje': array([0, 0, 0, 0, 0, 0, 0, 0, 0, 0, 0, 0, 0, 0, 0, 0, 0, 0, 0, 0, 0, 0, 0,\n",
      "       0, 0, 0, 0, 0, 0, 0, 0, 0, 0, 0, 0, 0, 0, 0, 0, 0, 0, 0, 0, 0, 0, 0,\n",
      "       0, 0, 0], dtype=int32), 'nqu': array([3, 4, 4, 4, 4, 5, 5, 5, 5, 5, 5, 5, 5, 5, 5, 5, 6, 6, 6, 6, 6, 6, 6,\n",
      "       6, 6, 6, 6, 6, 6, 6, 6, 6, 6, 6, 6, 6, 6, 7, 7, 7, 7, 7, 7, 7, 7, 7,\n",
      "       7, 7, 7], dtype=int32), 'imxer': -1, 'lenrw': 36, 'leniw': 21, 'mused': array([1, 1, 1, 1, 1, 1, 1, 1, 1, 1, 1, 1, 1, 1, 1, 1, 1, 1, 1, 1, 1, 1, 1,\n",
      "       1, 1, 1, 1, 1, 1, 1, 1, 1, 1, 1, 1, 1, 1, 1, 1, 1, 1, 1, 1, 1, 1, 1,\n",
      "       1, 1, 1], dtype=int32), 'message': 'Integration successful.'}\n",
      "Integration successful.\n"
     ]
    }
   ],
   "source": [
    "import numpy as np\n",
    "from scipy.integrate import odeint\n",
    "\n",
    "def dydx(y, x):\n",
    "    return y\n",
    "\n",
    "y0 = 1\n",
    "xspan = np.linspace(0,2)\n",
    "\n",
    "# Let us get the extra output\n",
    "sol, infodict = odeint(dydx, y0, xspan, full_output=True)\n",
    "print(infodict)\n",
    "\n",
    "print(infodict['message'])\n",
    "\n",
    "# you can check for success like this\n",
    "if infodict['message'] != 'Integration successful.':\n",
    "    print('Something went wrong')\n",
    "    print(infodict['message'])"
   ]
  },
  {
   "cell_type": "markdown",
   "metadata": {},
   "source": [
    "-   the information in infodict may be helpful in debugging problems\n",
    "-   there are many more options to odeint that may be helpful in some problems\n",
    "\n",
    "[scipy.integrate.odeint](https://docs.scipy.org/doc/scipy/reference/generated/scipy.integrate.odeint.html)\n",
    "\n"
   ]
  },
  {
   "cell_type": "code",
   "execution_count": 18,
   "metadata": {
    "scrolled": true
   },
   "outputs": [
    {
     "name": "stdout",
     "output_type": "stream",
     "text": [
      "Help on function odeint in module scipy.integrate.odepack:\n",
      "\n",
      "odeint(func, y0, t, args=(), Dfun=None, col_deriv=0, full_output=0, ml=None, mu=None, rtol=None, atol=None, tcrit=None, h0=0.0, hmax=0.0, hmin=0.0, ixpr=0, mxstep=0, mxhnil=0, mxordn=12, mxords=5, printmessg=0)\n",
      "    Integrate a system of ordinary differential equations.\n",
      "    \n",
      "    Solve a system of ordinary differential equations using lsoda from the\n",
      "    FORTRAN library odepack.\n",
      "    \n",
      "    Solves the initial value problem for stiff or non-stiff systems\n",
      "    of first order ode-s::\n",
      "    \n",
      "        dy/dt = func(y, t0, ...)\n",
      "    \n",
      "    where y can be a vector.\n",
      "    \n",
      "    *Note*: The first two arguments of ``func(y, t0, ...)`` are in the\n",
      "    opposite order of the arguments in the system definition function used\n",
      "    by the `scipy.integrate.ode` class.\n",
      "    \n",
      "    Parameters\n",
      "    ----------\n",
      "    func : callable(y, t0, ...)\n",
      "        Computes the derivative of y at t0.\n",
      "    y0 : array\n",
      "        Initial condition on y (can be a vector).\n",
      "    t : array\n",
      "        A sequence of time points for which to solve for y.  The initial\n",
      "        value point should be the first element of this sequence.\n",
      "    args : tuple, optional\n",
      "        Extra arguments to pass to function.\n",
      "    Dfun : callable(y, t0, ...)\n",
      "        Gradient (Jacobian) of `func`.\n",
      "    col_deriv : bool, optional\n",
      "        True if `Dfun` defines derivatives down columns (faster),\n",
      "        otherwise `Dfun` should define derivatives across rows.\n",
      "    full_output : bool, optional\n",
      "        True if to return a dictionary of optional outputs as the second output\n",
      "    printmessg : bool, optional\n",
      "        Whether to print the convergence message\n",
      "    \n",
      "    Returns\n",
      "    -------\n",
      "    y : array, shape (len(t), len(y0))\n",
      "        Array containing the value of y for each desired time in t,\n",
      "        with the initial value `y0` in the first row.\n",
      "    infodict : dict, only returned if full_output == True\n",
      "        Dictionary containing additional output information\n",
      "    \n",
      "        =======  ============================================================\n",
      "        key      meaning\n",
      "        =======  ============================================================\n",
      "        'hu'     vector of step sizes successfully used for each time step.\n",
      "        'tcur'   vector with the value of t reached for each time step.\n",
      "                 (will always be at least as large as the input times).\n",
      "        'tolsf'  vector of tolerance scale factors, greater than 1.0,\n",
      "                 computed when a request for too much accuracy was detected.\n",
      "        'tsw'    value of t at the time of the last method switch\n",
      "                 (given for each time step)\n",
      "        'nst'    cumulative number of time steps\n",
      "        'nfe'    cumulative number of function evaluations for each time step\n",
      "        'nje'    cumulative number of jacobian evaluations for each time step\n",
      "        'nqu'    a vector of method orders for each successful step.\n",
      "        'imxer'  index of the component of largest magnitude in the\n",
      "                 weighted local error vector (e / ewt) on an error return, -1\n",
      "                 otherwise.\n",
      "        'lenrw'  the length of the double work array required.\n",
      "        'leniw'  the length of integer work array required.\n",
      "        'mused'  a vector of method indicators for each successful time step:\n",
      "                 1: adams (nonstiff), 2: bdf (stiff)\n",
      "        =======  ============================================================\n",
      "    \n",
      "    Other Parameters\n",
      "    ----------------\n",
      "    ml, mu : int, optional\n",
      "        If either of these are not None or non-negative, then the\n",
      "        Jacobian is assumed to be banded.  These give the number of\n",
      "        lower and upper non-zero diagonals in this banded matrix.\n",
      "        For the banded case, `Dfun` should return a matrix whose\n",
      "        rows contain the non-zero bands (starting with the lowest diagonal).\n",
      "        Thus, the return matrix `jac` from `Dfun` should have shape\n",
      "        ``(ml + mu + 1, len(y0))`` when ``ml >=0`` or ``mu >=0``.\n",
      "        The data in `jac` must be stored such that ``jac[i - j + mu, j]``\n",
      "        holds the derivative of the `i`th equation with respect to the `j`th\n",
      "        state variable.  If `col_deriv` is True, the transpose of this\n",
      "        `jac` must be returned.\n",
      "    rtol, atol : float, optional\n",
      "        The input parameters `rtol` and `atol` determine the error\n",
      "        control performed by the solver.  The solver will control the\n",
      "        vector, e, of estimated local errors in y, according to an\n",
      "        inequality of the form ``max-norm of (e / ewt) <= 1``,\n",
      "        where ewt is a vector of positive error weights computed as\n",
      "        ``ewt = rtol * abs(y) + atol``.\n",
      "        rtol and atol can be either vectors the same length as y or scalars.\n",
      "        Defaults to 1.49012e-8.\n",
      "    tcrit : ndarray, optional\n",
      "        Vector of critical points (e.g. singularities) where integration\n",
      "        care should be taken.\n",
      "    h0 : float, (0: solver-determined), optional\n",
      "        The step size to be attempted on the first step.\n",
      "    hmax : float, (0: solver-determined), optional\n",
      "        The maximum absolute step size allowed.\n",
      "    hmin : float, (0: solver-determined), optional\n",
      "        The minimum absolute step size allowed.\n",
      "    ixpr : bool, optional\n",
      "        Whether to generate extra printing at method switches.\n",
      "    mxstep : int, (0: solver-determined), optional\n",
      "        Maximum number of (internally defined) steps allowed for each\n",
      "        integration point in t.\n",
      "    mxhnil : int, (0: solver-determined), optional\n",
      "        Maximum number of messages printed.\n",
      "    mxordn : int, (0: solver-determined), optional\n",
      "        Maximum order to be allowed for the non-stiff (Adams) method.\n",
      "    mxords : int, (0: solver-determined), optional\n",
      "        Maximum order to be allowed for the stiff (BDF) method.\n",
      "    \n",
      "    See Also\n",
      "    --------\n",
      "    ode : a more object-oriented integrator based on VODE.\n",
      "    quad : for finding the area under a curve.\n",
      "    \n",
      "    Examples\n",
      "    --------\n",
      "    The second order differential equation for the angle `theta` of a\n",
      "    pendulum acted on by gravity with friction can be written::\n",
      "    \n",
      "        theta''(t) + b*theta'(t) + c*sin(theta(t)) = 0\n",
      "    \n",
      "    where `b` and `c` are positive constants, and a prime (') denotes a\n",
      "    derivative.  To solve this equation with `odeint`, we must first convert\n",
      "    it to a system of first order equations.  By defining the angular\n",
      "    velocity ``omega(t) = theta'(t)``, we obtain the system::\n",
      "    \n",
      "        theta'(t) = omega(t)\n",
      "        omega'(t) = -b*omega(t) - c*sin(theta(t))\n",
      "    \n",
      "    Let `y` be the vector [`theta`, `omega`].  We implement this system\n",
      "    in python as:\n",
      "    \n",
      "    >>> def pend(y, t, b, c):\n",
      "    ...     theta, omega = y\n",
      "    ...     dydt = [omega, -b*omega - c*np.sin(theta)]\n",
      "    ...     return dydt\n",
      "    ...\n",
      "    \n",
      "    We assume the constants are `b` = 0.25 and `c` = 5.0:\n",
      "    \n",
      "    >>> b = 0.25\n",
      "    >>> c = 5.0\n",
      "    \n",
      "    For initial conditions, we assume the pendulum is nearly vertical\n",
      "    with `theta(0)` = `pi` - 0.1, and it initially at rest, so\n",
      "    `omega(0)` = 0.  Then the vector of initial conditions is\n",
      "    \n",
      "    >>> y0 = [np.pi - 0.1, 0.0]\n",
      "    \n",
      "    We generate a solution 101 evenly spaced samples in the interval\n",
      "    0 <= `t` <= 10.  So our array of times is:\n",
      "    \n",
      "    >>> t = np.linspace(0, 10, 101)\n",
      "    \n",
      "    Call `odeint` to generate the solution.  To pass the parameters\n",
      "    `b` and `c` to `pend`, we give them to `odeint` using the `args`\n",
      "    argument.\n",
      "    \n",
      "    >>> from scipy.integrate import odeint\n",
      "    >>> sol = odeint(pend, y0, t, args=(b, c))\n",
      "    \n",
      "    The solution is an array with shape (101, 2).  The first column\n",
      "    is `theta(t)`, and the second is `omega(t)`.  The following code\n",
      "    plots both components.\n",
      "    \n",
      "    >>> import matplotlib.pyplot as plt\n",
      "    >>> plt.plot(t, sol[:, 0], 'b', label='theta(t)')\n",
      "    >>> plt.plot(t, sol[:, 1], 'g', label='omega(t)')\n",
      "    >>> plt.legend(loc='best')\n",
      "    >>> plt.xlabel('t')\n",
      "    >>> plt.grid()\n",
      "    >>> plt.show()\n",
      "\n"
     ]
    }
   ],
   "source": [
    "from scipy.integrate import odeint\n",
    "help(odeint)"
   ]
  },
  {
   "cell_type": "markdown",
   "metadata": {},
   "source": [
    "See [http://kitchingroup.cheme.cmu.edu/blog/category/ode/>](http://kitchingroup.cheme.cmu.edu/blog/category/ode/>)for many examples of solving ordinary differential equations in python including root finding.\n",
    "\n"
   ]
  },
  {
   "cell_type": "code",
   "execution_count": 88,
   "metadata": {
    "scrolled": true
   },
   "outputs": [
    {
     "name": "stdout",
     "output_type": "stream",
     "text": [
      "[]\n",
      "[]\n"
     ]
    }
   ],
   "source": [
    "import copy\n",
    "a=1 \n",
    "\n",
    "def g(x):\n",
    "    x+=1\n",
    "    return x\n",
    "\n",
    "def f(x,a):\n",
    "    x+=2\n",
    "    a+=1\n",
    "    return x\n",
    "\n",
    "#print(a)\n",
    "x=f(1,a)\n",
    "#print(a)\n",
    "\n",
    "\n",
    "a=[]\n",
    "def f(a):\n",
    "    a=copy.deepcopy(a)\n",
    "    a.append(0)\n",
    "    return\n",
    "\n",
    "print(a)\n",
    "f(a)\n",
    "print(a)"
   ]
  },
  {
   "cell_type": "code",
   "execution_count": null,
   "metadata": {},
   "outputs": [],
   "source": []
  },
  {
   "cell_type": "code",
   "execution_count": null,
   "metadata": {},
   "outputs": [],
   "source": []
  },
  {
   "cell_type": "code",
   "execution_count": null,
   "metadata": {},
   "outputs": [],
   "source": []
  },
  {
   "cell_type": "code",
   "execution_count": null,
   "metadata": {},
   "outputs": [],
   "source": []
  },
  {
   "cell_type": "markdown",
   "metadata": {},
   "source": [
    "\n",
    "# Summary\n",
    "\n"
   ]
  },
  {
   "cell_type": "markdown",
   "metadata": {},
   "source": [
    "You should have learned:\n",
    "\n",
    "1.  How stoichiometry determines changes in the moles of species in a reaction\n",
    "2.  How the relative rates of species production are related by stoichiometry\n",
    "3.  Mole balances for a batch reactor, continuously stirred tank reactor, and plug flow reactor\n",
    "4.  Mole balances for reactors with pressure drops and for reactions that change the total number of moles\n",
    "\n",
    "You have seen examples of:\n",
    "\n",
    "1.  solving nonlinear equations\n",
    "2.  integrating ordinary differential equations"
   ]
  },
  {
   "cell_type": "code",
   "execution_count": null,
   "metadata": {},
   "outputs": [],
   "source": []
  }
 ],
 "metadata": {
  "kernelspec": {
   "display_name": "Python 3",
   "language": "python",
   "name": "python3"
  },
  "language_info": {
   "codemirror_mode": {
    "name": "ipython",
    "version": 3
   },
   "file_extension": ".py",
   "mimetype": "text/x-python",
   "name": "python",
   "nbconvert_exporter": "python",
   "pygments_lexer": "ipython3",
   "version": "3.6.2"
  },
  "toc": {
   "colors": {
    "hover_highlight": "#DAA520",
    "navigate_num": "#000000",
    "navigate_text": "#333333",
    "running_highlight": "#FF0000",
    "selected_highlight": "#FFD700",
    "sidebar_border": "#EEEEEE",
    "wrapper_background": "#FFFFFF"
   },
   "moveMenuLeft": true,
   "nav_menu": {
    "height": "227px",
    "width": "252px"
   },
   "navigate_menu": true,
   "number_sections": true,
   "sideBar": true,
   "threshold": 4,
   "toc_cell": false,
   "toc_section_display": "block",
   "toc_window_display": false,
   "widenNotebook": false
  }
 },
 "nbformat": 4,
 "nbformat_minor": 1
}
