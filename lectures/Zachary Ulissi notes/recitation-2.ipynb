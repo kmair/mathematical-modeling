{
 "cells": [
  {
   "cell_type": "markdown",
   "metadata": {},
   "source": [
    "## Quiz 3 recap"
   ]
  },
  {
   "cell_type": "markdown",
   "metadata": {},
   "source": [
    "The following liquid-phase reaction: ${A \\leftrightharpoons B + C}$ occurs in a plug flow reactor. If the equilibrium constant is known to be 2198, what is the equilibrium composition if you start with pure $A$ at a concentration of 2M? Comment on whether your solution makes sense.\n",
    "\n",
    "Thought Process:\n",
    "\n",
    "-   1st, what is the requested value for the problem?\n",
    "\n",
    "\"&#x2026; what is the equilibrium composition&#x2026;\", or  $C_{a}$, $C_{b}$, $C_{c}$ at equilibrium\n",
    "\n",
    "Is this a dynamic or static situation that I am calculating?\n",
    "\n",
    "-   2nd, which equations do I know that incorporate this value?\n",
    "\n",
    "\\begin{equation}\n",
    "C_{c-eq} C_{b-eq} / C_{a-eq} = K_{eq}\n",
    "\\end{equation}\n",
    "\n",
    "For ODE equations we need an initial condition:\n",
    "\\begin{equation}\n",
    "y_{1} = y_{0} + h * ODE\n",
    "\\end{equation}\n",
    "\n",
    "-   3rd, what information do I have and what do I need to use this/these equation(s)?\n",
    "\n",
    "\\begin{equation}\n",
    "C_{c} C_{b} / C_{a} = Q\n",
    "\\end{equation}\n",
    "\n",
    "Do I need another equation? (repeat step 2)\n",
    "\n",
    "\\begin{equation}\n",
    "C_{i} = C_{i0} + \\alpha * \\xi\n",
    "\\end{equation}\n",
    "\n",
    "Do I have enough \n",
    "\n",
    "-   4th, Before solving anything, make a visual.\n",
    "\n",
    "You want to plot something that helps you make sense of the process.\n",
    "\n"
   ]
  },
  {
   "cell_type": "code",
   "execution_count": 7,
   "metadata": {},
   "outputs": [
    {
     "name": "stderr",
     "output_type": "stream",
     "text": [
      "/opt/conda/lib/python3.6/site-packages/ipykernel_launcher.py:5: RuntimeWarning: divide by zero encountered in true_divide\n",
      "  \"\"\"\n"
     ]
    }
   ],
   "source": [
    "import matplotlib.pyplot as plt\n",
    "import numpy as np\n",
    "\n",
    "def objective(x):\n",
    "    return x * x / (2.0 - x) - 2198\n",
    "\n",
    "X = np.linspace(0, 2, num=2000)\n",
    "\n",
    "plt.plot(X, objective(X))\n",
    "plt.xlabel('$\\\\xi$')\n",
    "plt.ylabel('$K$')\n",
    "plt.savefig('images/foo.png')"
   ]
  },
  {
   "cell_type": "markdown",
   "metadata": {},
   "source": [
    "How do you interpret the figure above?\n",
    "What is being represented?\n",
    "How do you think I chose appropriate bounds for my figure?\n",
    "\n",
    "-   5th, Determine which function can be used to solve the problem.\n",
    "\n",
    "fsolve to determine values of non-ODE type equations\n",
    "\n",
    "-   6th, Take stock of your solution.\n",
    "\n",
    "This is the most important step.\n",
    "\n",
    "Imagine you're designing a new reactor for your company which will cost something on the order of half a million dollars. You'd probably want to be pretty sure you've got the right specifications before you take the design to your boss. How do you convince him you've found the right answer?\n",
    "\n",
    "<span class=\"underline\">PFR 2 assignment:</span>\n",
    "\n",
    "If a reaction $2\\;A \\rightarrow B$ occurs at a rate of $r = k_1 C_A^{3/2}$ ($k = 0.12$ (L/mol)$^0.5$/min in a 100 L PFR that is fed A at a concentration of 0.75 mol/L. Compute the volumetric flow required to reduce the exit concentration of A to 0.075 mol/L. Assume the reaction takes place in a liquid.\n",
    "\n",
    "-   Go through the steps outlined above?\n",
    "\n",
    "1st: volumetric flow rate\n",
    "\n",
    "2nd:\n",
    "\n",
    "\\begin{equation}\n",
    "dF_{a}/dV = 2*r_{a} \\\\\n",
    "F_{a} = v C_{a} \\\\\n",
    "r_{a} = -k * C_{a}^{3/2}\n",
    "\\end{equation}\n"
   ]
  },
  {
   "cell_type": "code",
   "execution_count": 5,
   "metadata": {},
   "outputs": [
    {
     "name": "stdout",
     "output_type": "stream",
     "text": [
      "[array([ 0.03763509])]\n",
      "[array([ 0.03763509]), array([ 0.03883104])]\n",
      "[array([ 0.03763509]), array([ 0.03883104]), array([ 0.0400346])]\n",
      "[array([ 0.03763509]), array([ 0.03883104]), array([ 0.0400346]), array([ 0.04124543])]\n",
      "[array([ 0.03763509]), array([ 0.03883104]), array([ 0.0400346]), array([ 0.04124543]), array([ 0.04246319])]\n",
      "[array([ 0.03763509]), array([ 0.03883104]), array([ 0.0400346]), array([ 0.04124543]), array([ 0.04246319]), array([ 0.04368754])]\n",
      "[array([ 0.03763509]), array([ 0.03883104]), array([ 0.0400346]), array([ 0.04124543]), array([ 0.04246319]), array([ 0.04368754]), array([ 0.04491816])]\n",
      "[array([ 0.03763509]), array([ 0.03883104]), array([ 0.0400346]), array([ 0.04124543]), array([ 0.04246319]), array([ 0.04368754]), array([ 0.04491816]), array([ 0.04615474])]\n",
      "[array([ 0.03763509]), array([ 0.03883104]), array([ 0.0400346]), array([ 0.04124543]), array([ 0.04246319]), array([ 0.04368754]), array([ 0.04491816]), array([ 0.04615474]), array([ 0.04739699])]\n",
      "[array([ 0.03763509]), array([ 0.03883104]), array([ 0.0400346]), array([ 0.04124543]), array([ 0.04246319]), array([ 0.04368754]), array([ 0.04491816]), array([ 0.04615474]), array([ 0.04739699]), array([ 0.04864461])]\n",
      "[array([ 0.03763509]), array([ 0.03883104]), array([ 0.0400346]), array([ 0.04124543]), array([ 0.04246319]), array([ 0.04368754]), array([ 0.04491816]), array([ 0.04615474]), array([ 0.04739699]), array([ 0.04864461]), array([ 0.04989732])]\n",
      "[array([ 0.03763509]), array([ 0.03883104]), array([ 0.0400346]), array([ 0.04124543]), array([ 0.04246319]), array([ 0.04368754]), array([ 0.04491816]), array([ 0.04615474]), array([ 0.04739699]), array([ 0.04864461]), array([ 0.04989732]), array([ 0.05115484])]\n",
      "[array([ 0.03763509]), array([ 0.03883104]), array([ 0.0400346]), array([ 0.04124543]), array([ 0.04246319]), array([ 0.04368754]), array([ 0.04491816]), array([ 0.04615474]), array([ 0.04739699]), array([ 0.04864461]), array([ 0.04989732]), array([ 0.05115484]), array([ 0.0524169])]\n",
      "[array([ 0.03763509]), array([ 0.03883104]), array([ 0.0400346]), array([ 0.04124543]), array([ 0.04246319]), array([ 0.04368754]), array([ 0.04491816]), array([ 0.04615474]), array([ 0.04739699]), array([ 0.04864461]), array([ 0.04989732]), array([ 0.05115484]), array([ 0.0524169]), array([ 0.05368326])]\n",
      "[array([ 0.03763509]), array([ 0.03883104]), array([ 0.0400346]), array([ 0.04124543]), array([ 0.04246319]), array([ 0.04368754]), array([ 0.04491816]), array([ 0.04615474]), array([ 0.04739699]), array([ 0.04864461]), array([ 0.04989732]), array([ 0.05115484]), array([ 0.0524169]), array([ 0.05368326]), array([ 0.05495365])]\n",
      "[array([ 0.03763509]), array([ 0.03883104]), array([ 0.0400346]), array([ 0.04124543]), array([ 0.04246319]), array([ 0.04368754]), array([ 0.04491816]), array([ 0.04615474]), array([ 0.04739699]), array([ 0.04864461]), array([ 0.04989732]), array([ 0.05115484]), array([ 0.0524169]), array([ 0.05368326]), array([ 0.05495365]), array([ 0.05622784])]\n",
      "[array([ 0.03763509]), array([ 0.03883104]), array([ 0.0400346]), array([ 0.04124543]), array([ 0.04246319]), array([ 0.04368754]), array([ 0.04491816]), array([ 0.04615474]), array([ 0.04739699]), array([ 0.04864461]), array([ 0.04989732]), array([ 0.05115484]), array([ 0.0524169]), array([ 0.05368326]), array([ 0.05495365]), array([ 0.05622784]), array([ 0.05750559])]\n",
      "[array([ 0.03763509]), array([ 0.03883104]), array([ 0.0400346]), array([ 0.04124543]), array([ 0.04246319]), array([ 0.04368754]), array([ 0.04491816]), array([ 0.04615474]), array([ 0.04739699]), array([ 0.04864461]), array([ 0.04989732]), array([ 0.05115484]), array([ 0.0524169]), array([ 0.05368326]), array([ 0.05495365]), array([ 0.05622784]), array([ 0.05750559]), array([ 0.05878667])]\n",
      "[array([ 0.03763509]), array([ 0.03883104]), array([ 0.0400346]), array([ 0.04124543]), array([ 0.04246319]), array([ 0.04368754]), array([ 0.04491816]), array([ 0.04615474]), array([ 0.04739699]), array([ 0.04864461]), array([ 0.04989732]), array([ 0.05115484]), array([ 0.0524169]), array([ 0.05368326]), array([ 0.05495365]), array([ 0.05622784]), array([ 0.05750559]), array([ 0.05878667]), array([ 0.06007086])]\n",
      "[array([ 0.03763509]), array([ 0.03883104]), array([ 0.0400346]), array([ 0.04124543]), array([ 0.04246319]), array([ 0.04368754]), array([ 0.04491816]), array([ 0.04615474]), array([ 0.04739699]), array([ 0.04864461]), array([ 0.04989732]), array([ 0.05115484]), array([ 0.0524169]), array([ 0.05368326]), array([ 0.05495365]), array([ 0.05622784]), array([ 0.05750559]), array([ 0.05878667]), array([ 0.06007086]), array([ 0.06135795])]\n",
      "[array([ 0.03763509]), array([ 0.03883104]), array([ 0.0400346]), array([ 0.04124543]), array([ 0.04246319]), array([ 0.04368754]), array([ 0.04491816]), array([ 0.04615474]), array([ 0.04739699]), array([ 0.04864461]), array([ 0.04989732]), array([ 0.05115484]), array([ 0.0524169]), array([ 0.05368326]), array([ 0.05495365]), array([ 0.05622784]), array([ 0.05750559]), array([ 0.05878667]), array([ 0.06007086]), array([ 0.06135795]), array([ 0.06264774])]\n",
      "[array([ 0.03763509]), array([ 0.03883104]), array([ 0.0400346]), array([ 0.04124543]), array([ 0.04246319]), array([ 0.04368754]), array([ 0.04491816]), array([ 0.04615474]), array([ 0.04739699]), array([ 0.04864461]), array([ 0.04989732]), array([ 0.05115484]), array([ 0.0524169]), array([ 0.05368326]), array([ 0.05495365]), array([ 0.05622784]), array([ 0.05750559]), array([ 0.05878667]), array([ 0.06007086]), array([ 0.06135795]), array([ 0.06264774]), array([ 0.06394001])]\n",
      "[array([ 0.03763509]), array([ 0.03883104]), array([ 0.0400346]), array([ 0.04124543]), array([ 0.04246319]), array([ 0.04368754]), array([ 0.04491816]), array([ 0.04615474]), array([ 0.04739699]), array([ 0.04864461]), array([ 0.04989732]), array([ 0.05115484]), array([ 0.0524169]), array([ 0.05368326]), array([ 0.05495365]), array([ 0.05622784]), array([ 0.05750559]), array([ 0.05878667]), array([ 0.06007086]), array([ 0.06135795]), array([ 0.06264774]), array([ 0.06394001]), array([ 0.06523457])]\n",
      "[array([ 0.03763509]), array([ 0.03883104]), array([ 0.0400346]), array([ 0.04124543]), array([ 0.04246319]), array([ 0.04368754]), array([ 0.04491816]), array([ 0.04615474]), array([ 0.04739699]), array([ 0.04864461]), array([ 0.04989732]), array([ 0.05115484]), array([ 0.0524169]), array([ 0.05368326]), array([ 0.05495365]), array([ 0.05622784]), array([ 0.05750559]), array([ 0.05878667]), array([ 0.06007086]), array([ 0.06135795]), array([ 0.06264774]), array([ 0.06394001]), array([ 0.06523457]), array([ 0.06653124])]\n",
      "[array([ 0.03763509]), array([ 0.03883104]), array([ 0.0400346]), array([ 0.04124543]), array([ 0.04246319]), array([ 0.04368754]), array([ 0.04491816]), array([ 0.04615474]), array([ 0.04739699]), array([ 0.04864461]), array([ 0.04989732]), array([ 0.05115484]), array([ 0.0524169]), array([ 0.05368326]), array([ 0.05495365]), array([ 0.05622784]), array([ 0.05750559]), array([ 0.05878667]), array([ 0.06007086]), array([ 0.06135795]), array([ 0.06264774]), array([ 0.06394001]), array([ 0.06523457]), array([ 0.06653124]), array([ 0.06782982])]\n",
      "[array([ 0.03763509]), array([ 0.03883104]), array([ 0.0400346]), array([ 0.04124543]), array([ 0.04246319]), array([ 0.04368754]), array([ 0.04491816]), array([ 0.04615474]), array([ 0.04739699]), array([ 0.04864461]), array([ 0.04989732]), array([ 0.05115484]), array([ 0.0524169]), array([ 0.05368326]), array([ 0.05495365]), array([ 0.05622784]), array([ 0.05750559]), array([ 0.05878667]), array([ 0.06007086]), array([ 0.06135795]), array([ 0.06264774]), array([ 0.06394001]), array([ 0.06523457]), array([ 0.06653124]), array([ 0.06782982]), array([ 0.06913015])]\n",
      "[array([ 0.03763509]), array([ 0.03883104]), array([ 0.0400346]), array([ 0.04124543]), array([ 0.04246319]), array([ 0.04368754]), array([ 0.04491816]), array([ 0.04615474]), array([ 0.04739699]), array([ 0.04864461]), array([ 0.04989732]), array([ 0.05115484]), array([ 0.0524169]), array([ 0.05368326]), array([ 0.05495365]), array([ 0.05622784]), array([ 0.05750559]), array([ 0.05878667]), array([ 0.06007086]), array([ 0.06135795]), array([ 0.06264774]), array([ 0.06394001]), array([ 0.06523457]), array([ 0.06653124]), array([ 0.06782982]), array([ 0.06913015]), array([ 0.07043204])]\n",
      "[array([ 0.03763509]), array([ 0.03883104]), array([ 0.0400346]), array([ 0.04124543]), array([ 0.04246319]), array([ 0.04368754]), array([ 0.04491816]), array([ 0.04615474]), array([ 0.04739699]), array([ 0.04864461]), array([ 0.04989732]), array([ 0.05115484]), array([ 0.0524169]), array([ 0.05368326]), array([ 0.05495365]), array([ 0.05622784]), array([ 0.05750559]), array([ 0.05878667]), array([ 0.06007086]), array([ 0.06135795]), array([ 0.06264774]), array([ 0.06394001]), array([ 0.06523457]), array([ 0.06653124]), array([ 0.06782982]), array([ 0.06913015]), array([ 0.07043204]), array([ 0.07173534])]\n",
      "[array([ 0.03763509]), array([ 0.03883104]), array([ 0.0400346]), array([ 0.04124543]), array([ 0.04246319]), array([ 0.04368754]), array([ 0.04491816]), array([ 0.04615474]), array([ 0.04739699]), array([ 0.04864461]), array([ 0.04989732]), array([ 0.05115484]), array([ 0.0524169]), array([ 0.05368326]), array([ 0.05495365]), array([ 0.05622784]), array([ 0.05750559]), array([ 0.05878667]), array([ 0.06007086]), array([ 0.06135795]), array([ 0.06264774]), array([ 0.06394001]), array([ 0.06523457]), array([ 0.06653124]), array([ 0.06782982]), array([ 0.06913015]), array([ 0.07043204]), array([ 0.07173534]), array([ 0.07303988])]\n",
      "[array([ 0.03763509]), array([ 0.03883104]), array([ 0.0400346]), array([ 0.04124543]), array([ 0.04246319]), array([ 0.04368754]), array([ 0.04491816]), array([ 0.04615474]), array([ 0.04739699]), array([ 0.04864461]), array([ 0.04989732]), array([ 0.05115484]), array([ 0.0524169]), array([ 0.05368326]), array([ 0.05495365]), array([ 0.05622784]), array([ 0.05750559]), array([ 0.05878667]), array([ 0.06007086]), array([ 0.06135795]), array([ 0.06264774]), array([ 0.06394001]), array([ 0.06523457]), array([ 0.06653124]), array([ 0.06782982]), array([ 0.06913015]), array([ 0.07043204]), array([ 0.07173534]), array([ 0.07303988]), array([ 0.0743455])]\n",
      "[array([ 0.03763509]), array([ 0.03883104]), array([ 0.0400346]), array([ 0.04124543]), array([ 0.04246319]), array([ 0.04368754]), array([ 0.04491816]), array([ 0.04615474]), array([ 0.04739699]), array([ 0.04864461]), array([ 0.04989732]), array([ 0.05115484]), array([ 0.0524169]), array([ 0.05368326]), array([ 0.05495365]), array([ 0.05622784]), array([ 0.05750559]), array([ 0.05878667]), array([ 0.06007086]), array([ 0.06135795]), array([ 0.06264774]), array([ 0.06394001]), array([ 0.06523457]), array([ 0.06653124]), array([ 0.06782982]), array([ 0.06913015]), array([ 0.07043204]), array([ 0.07173534]), array([ 0.07303988]), array([ 0.0743455]), array([ 0.07565204])]\n",
      "[array([ 0.03763509]), array([ 0.03883104]), array([ 0.0400346]), array([ 0.04124543]), array([ 0.04246319]), array([ 0.04368754]), array([ 0.04491816]), array([ 0.04615474]), array([ 0.04739699]), array([ 0.04864461]), array([ 0.04989732]), array([ 0.05115484]), array([ 0.0524169]), array([ 0.05368326]), array([ 0.05495365]), array([ 0.05622784]), array([ 0.05750559]), array([ 0.05878667]), array([ 0.06007086]), array([ 0.06135795]), array([ 0.06264774]), array([ 0.06394001]), array([ 0.06523457]), array([ 0.06653124]), array([ 0.06782982]), array([ 0.06913015]), array([ 0.07043204]), array([ 0.07173534]), array([ 0.07303988]), array([ 0.0743455]), array([ 0.07565204]), array([ 0.07695937])]\n",
      "[array([ 0.03763509]), array([ 0.03883104]), array([ 0.0400346]), array([ 0.04124543]), array([ 0.04246319]), array([ 0.04368754]), array([ 0.04491816]), array([ 0.04615474]), array([ 0.04739699]), array([ 0.04864461]), array([ 0.04989732]), array([ 0.05115484]), array([ 0.0524169]), array([ 0.05368326]), array([ 0.05495365]), array([ 0.05622784]), array([ 0.05750559]), array([ 0.05878667]), array([ 0.06007086]), array([ 0.06135795]), array([ 0.06264774]), array([ 0.06394001]), array([ 0.06523457]), array([ 0.06653124]), array([ 0.06782982]), array([ 0.06913015]), array([ 0.07043204]), array([ 0.07173534]), array([ 0.07303988]), array([ 0.0743455]), array([ 0.07565204]), array([ 0.07695937]), array([ 0.07826734])]\n",
      "[array([ 0.03763509]), array([ 0.03883104]), array([ 0.0400346]), array([ 0.04124543]), array([ 0.04246319]), array([ 0.04368754]), array([ 0.04491816]), array([ 0.04615474]), array([ 0.04739699]), array([ 0.04864461]), array([ 0.04989732]), array([ 0.05115484]), array([ 0.0524169]), array([ 0.05368326]), array([ 0.05495365]), array([ 0.05622784]), array([ 0.05750559]), array([ 0.05878667]), array([ 0.06007086]), array([ 0.06135795]), array([ 0.06264774]), array([ 0.06394001]), array([ 0.06523457]), array([ 0.06653124]), array([ 0.06782982]), array([ 0.06913015]), array([ 0.07043204]), array([ 0.07173534]), array([ 0.07303988]), array([ 0.0743455]), array([ 0.07565204]), array([ 0.07695937]), array([ 0.07826734]), array([ 0.07957581])]\n",
      "[array([ 0.03763509]), array([ 0.03883104]), array([ 0.0400346]), array([ 0.04124543]), array([ 0.04246319]), array([ 0.04368754]), array([ 0.04491816]), array([ 0.04615474]), array([ 0.04739699]), array([ 0.04864461]), array([ 0.04989732]), array([ 0.05115484]), array([ 0.0524169]), array([ 0.05368326]), array([ 0.05495365]), array([ 0.05622784]), array([ 0.05750559]), array([ 0.05878667]), array([ 0.06007086]), array([ 0.06135795]), array([ 0.06264774]), array([ 0.06394001]), array([ 0.06523457]), array([ 0.06653124]), array([ 0.06782982]), array([ 0.06913015]), array([ 0.07043204]), array([ 0.07173534]), array([ 0.07303988]), array([ 0.0743455]), array([ 0.07565204]), array([ 0.07695937]), array([ 0.07826734]), array([ 0.07957581]), array([ 0.08088464])]\n",
      "[array([ 0.03763509]), array([ 0.03883104]), array([ 0.0400346]), array([ 0.04124543]), array([ 0.04246319]), array([ 0.04368754]), array([ 0.04491816]), array([ 0.04615474]), array([ 0.04739699]), array([ 0.04864461]), array([ 0.04989732]), array([ 0.05115484]), array([ 0.0524169]), array([ 0.05368326]), array([ 0.05495365]), array([ 0.05622784]), array([ 0.05750559]), array([ 0.05878667]), array([ 0.06007086]), array([ 0.06135795]), array([ 0.06264774]), array([ 0.06394001]), array([ 0.06523457]), array([ 0.06653124]), array([ 0.06782982]), array([ 0.06913015]), array([ 0.07043204]), array([ 0.07173534]), array([ 0.07303988]), array([ 0.0743455]), array([ 0.07565204]), array([ 0.07695937]), array([ 0.07826734]), array([ 0.07957581]), array([ 0.08088464]), array([ 0.0821937])]\n",
      "[array([ 0.03763509]), array([ 0.03883104]), array([ 0.0400346]), array([ 0.04124543]), array([ 0.04246319]), array([ 0.04368754]), array([ 0.04491816]), array([ 0.04615474]), array([ 0.04739699]), array([ 0.04864461]), array([ 0.04989732]), array([ 0.05115484]), array([ 0.0524169]), array([ 0.05368326]), array([ 0.05495365]), array([ 0.05622784]), array([ 0.05750559]), array([ 0.05878667]), array([ 0.06007086]), array([ 0.06135795]), array([ 0.06264774]), array([ 0.06394001]), array([ 0.06523457]), array([ 0.06653124]), array([ 0.06782982]), array([ 0.06913015]), array([ 0.07043204]), array([ 0.07173534]), array([ 0.07303988]), array([ 0.0743455]), array([ 0.07565204]), array([ 0.07695937]), array([ 0.07826734]), array([ 0.07957581]), array([ 0.08088464]), array([ 0.0821937]), array([ 0.08350287])]\n",
      "[array([ 0.03763509]), array([ 0.03883104]), array([ 0.0400346]), array([ 0.04124543]), array([ 0.04246319]), array([ 0.04368754]), array([ 0.04491816]), array([ 0.04615474]), array([ 0.04739699]), array([ 0.04864461]), array([ 0.04989732]), array([ 0.05115484]), array([ 0.0524169]), array([ 0.05368326]), array([ 0.05495365]), array([ 0.05622784]), array([ 0.05750559]), array([ 0.05878667]), array([ 0.06007086]), array([ 0.06135795]), array([ 0.06264774]), array([ 0.06394001]), array([ 0.06523457]), array([ 0.06653124]), array([ 0.06782982]), array([ 0.06913015]), array([ 0.07043204]), array([ 0.07173534]), array([ 0.07303988]), array([ 0.0743455]), array([ 0.07565204]), array([ 0.07695937]), array([ 0.07826734]), array([ 0.07957581]), array([ 0.08088464]), array([ 0.0821937]), array([ 0.08350287]), array([ 0.08481202])]\n",
      "[array([ 0.03763509]), array([ 0.03883104]), array([ 0.0400346]), array([ 0.04124543]), array([ 0.04246319]), array([ 0.04368754]), array([ 0.04491816]), array([ 0.04615474]), array([ 0.04739699]), array([ 0.04864461]), array([ 0.04989732]), array([ 0.05115484]), array([ 0.0524169]), array([ 0.05368326]), array([ 0.05495365]), array([ 0.05622784]), array([ 0.05750559]), array([ 0.05878667]), array([ 0.06007086]), array([ 0.06135795]), array([ 0.06264774]), array([ 0.06394001]), array([ 0.06523457]), array([ 0.06653124]), array([ 0.06782982]), array([ 0.06913015]), array([ 0.07043204]), array([ 0.07173534]), array([ 0.07303988]), array([ 0.0743455]), array([ 0.07565204]), array([ 0.07695937]), array([ 0.07826734]), array([ 0.07957581]), array([ 0.08088464]), array([ 0.0821937]), array([ 0.08350287]), array([ 0.08481202]), array([ 0.08612105])]\n",
      "[array([ 0.03763509]), array([ 0.03883104]), array([ 0.0400346]), array([ 0.04124543]), array([ 0.04246319]), array([ 0.04368754]), array([ 0.04491816]), array([ 0.04615474]), array([ 0.04739699]), array([ 0.04864461]), array([ 0.04989732]), array([ 0.05115484]), array([ 0.0524169]), array([ 0.05368326]), array([ 0.05495365]), array([ 0.05622784]), array([ 0.05750559]), array([ 0.05878667]), array([ 0.06007086]), array([ 0.06135795]), array([ 0.06264774]), array([ 0.06394001]), array([ 0.06523457]), array([ 0.06653124]), array([ 0.06782982]), array([ 0.06913015]), array([ 0.07043204]), array([ 0.07173534]), array([ 0.07303988]), array([ 0.0743455]), array([ 0.07565204]), array([ 0.07695937]), array([ 0.07826734]), array([ 0.07957581]), array([ 0.08088464]), array([ 0.0821937]), array([ 0.08350287]), array([ 0.08481202]), array([ 0.08612105]), array([ 0.08742982])]\n",
      "[array([ 0.03763509]), array([ 0.03883104]), array([ 0.0400346]), array([ 0.04124543]), array([ 0.04246319]), array([ 0.04368754]), array([ 0.04491816]), array([ 0.04615474]), array([ 0.04739699]), array([ 0.04864461]), array([ 0.04989732]), array([ 0.05115484]), array([ 0.0524169]), array([ 0.05368326]), array([ 0.05495365]), array([ 0.05622784]), array([ 0.05750559]), array([ 0.05878667]), array([ 0.06007086]), array([ 0.06135795]), array([ 0.06264774]), array([ 0.06394001]), array([ 0.06523457]), array([ 0.06653124]), array([ 0.06782982]), array([ 0.06913015]), array([ 0.07043204]), array([ 0.07173534]), array([ 0.07303988]), array([ 0.0743455]), array([ 0.07565204]), array([ 0.07695937]), array([ 0.07826734]), array([ 0.07957581]), array([ 0.08088464]), array([ 0.0821937]), array([ 0.08350287]), array([ 0.08481202]), array([ 0.08612105]), array([ 0.08742982]), array([ 0.08873823])]\n",
      "[array([ 0.03763509]), array([ 0.03883104]), array([ 0.0400346]), array([ 0.04124543]), array([ 0.04246319]), array([ 0.04368754]), array([ 0.04491816]), array([ 0.04615474]), array([ 0.04739699]), array([ 0.04864461]), array([ 0.04989732]), array([ 0.05115484]), array([ 0.0524169]), array([ 0.05368326]), array([ 0.05495365]), array([ 0.05622784]), array([ 0.05750559]), array([ 0.05878667]), array([ 0.06007086]), array([ 0.06135795]), array([ 0.06264774]), array([ 0.06394001]), array([ 0.06523457]), array([ 0.06653124]), array([ 0.06782982]), array([ 0.06913015]), array([ 0.07043204]), array([ 0.07173534]), array([ 0.07303988]), array([ 0.0743455]), array([ 0.07565204]), array([ 0.07695937]), array([ 0.07826734]), array([ 0.07957581]), array([ 0.08088464]), array([ 0.0821937]), array([ 0.08350287]), array([ 0.08481202]), array([ 0.08612105]), array([ 0.08742982]), array([ 0.08873823]), array([ 0.09004617])]\n",
      "[array([ 0.03763509]), array([ 0.03883104]), array([ 0.0400346]), array([ 0.04124543]), array([ 0.04246319]), array([ 0.04368754]), array([ 0.04491816]), array([ 0.04615474]), array([ 0.04739699]), array([ 0.04864461]), array([ 0.04989732]), array([ 0.05115484]), array([ 0.0524169]), array([ 0.05368326]), array([ 0.05495365]), array([ 0.05622784]), array([ 0.05750559]), array([ 0.05878667]), array([ 0.06007086]), array([ 0.06135795]), array([ 0.06264774]), array([ 0.06394001]), array([ 0.06523457]), array([ 0.06653124]), array([ 0.06782982]), array([ 0.06913015]), array([ 0.07043204]), array([ 0.07173534]), array([ 0.07303988]), array([ 0.0743455]), array([ 0.07565204]), array([ 0.07695937]), array([ 0.07826734]), array([ 0.07957581]), array([ 0.08088464]), array([ 0.0821937]), array([ 0.08350287]), array([ 0.08481202]), array([ 0.08612105]), array([ 0.08742982]), array([ 0.08873823]), array([ 0.09004617]), array([ 0.09135354])]\n",
      "[array([ 0.03763509]), array([ 0.03883104]), array([ 0.0400346]), array([ 0.04124543]), array([ 0.04246319]), array([ 0.04368754]), array([ 0.04491816]), array([ 0.04615474]), array([ 0.04739699]), array([ 0.04864461]), array([ 0.04989732]), array([ 0.05115484]), array([ 0.0524169]), array([ 0.05368326]), array([ 0.05495365]), array([ 0.05622784]), array([ 0.05750559]), array([ 0.05878667]), array([ 0.06007086]), array([ 0.06135795]), array([ 0.06264774]), array([ 0.06394001]), array([ 0.06523457]), array([ 0.06653124]), array([ 0.06782982]), array([ 0.06913015]), array([ 0.07043204]), array([ 0.07173534]), array([ 0.07303988]), array([ 0.0743455]), array([ 0.07565204]), array([ 0.07695937]), array([ 0.07826734]), array([ 0.07957581]), array([ 0.08088464]), array([ 0.0821937]), array([ 0.08350287]), array([ 0.08481202]), array([ 0.08612105]), array([ 0.08742982]), array([ 0.08873823]), array([ 0.09004617]), array([ 0.09135354]), array([ 0.09266023])]\n",
      "[array([ 0.03763509]), array([ 0.03883104]), array([ 0.0400346]), array([ 0.04124543]), array([ 0.04246319]), array([ 0.04368754]), array([ 0.04491816]), array([ 0.04615474]), array([ 0.04739699]), array([ 0.04864461]), array([ 0.04989732]), array([ 0.05115484]), array([ 0.0524169]), array([ 0.05368326]), array([ 0.05495365]), array([ 0.05622784]), array([ 0.05750559]), array([ 0.05878667]), array([ 0.06007086]), array([ 0.06135795]), array([ 0.06264774]), array([ 0.06394001]), array([ 0.06523457]), array([ 0.06653124]), array([ 0.06782982]), array([ 0.06913015]), array([ 0.07043204]), array([ 0.07173534]), array([ 0.07303988]), array([ 0.0743455]), array([ 0.07565204]), array([ 0.07695937]), array([ 0.07826734]), array([ 0.07957581]), array([ 0.08088464]), array([ 0.0821937]), array([ 0.08350287]), array([ 0.08481202]), array([ 0.08612105]), array([ 0.08742982]), array([ 0.08873823]), array([ 0.09004617]), array([ 0.09135354]), array([ 0.09266023]), array([ 0.09396615])]\n",
      "[array([ 0.03763509]), array([ 0.03883104]), array([ 0.0400346]), array([ 0.04124543]), array([ 0.04246319]), array([ 0.04368754]), array([ 0.04491816]), array([ 0.04615474]), array([ 0.04739699]), array([ 0.04864461]), array([ 0.04989732]), array([ 0.05115484]), array([ 0.0524169]), array([ 0.05368326]), array([ 0.05495365]), array([ 0.05622784]), array([ 0.05750559]), array([ 0.05878667]), array([ 0.06007086]), array([ 0.06135795]), array([ 0.06264774]), array([ 0.06394001]), array([ 0.06523457]), array([ 0.06653124]), array([ 0.06782982]), array([ 0.06913015]), array([ 0.07043204]), array([ 0.07173534]), array([ 0.07303988]), array([ 0.0743455]), array([ 0.07565204]), array([ 0.07695937]), array([ 0.07826734]), array([ 0.07957581]), array([ 0.08088464]), array([ 0.0821937]), array([ 0.08350287]), array([ 0.08481202]), array([ 0.08612105]), array([ 0.08742982]), array([ 0.08873823]), array([ 0.09004617]), array([ 0.09135354]), array([ 0.09266023]), array([ 0.09396615]), array([ 0.09527121])]\n",
      "[array([ 0.03763509]), array([ 0.03883104]), array([ 0.0400346]), array([ 0.04124543]), array([ 0.04246319]), array([ 0.04368754]), array([ 0.04491816]), array([ 0.04615474]), array([ 0.04739699]), array([ 0.04864461]), array([ 0.04989732]), array([ 0.05115484]), array([ 0.0524169]), array([ 0.05368326]), array([ 0.05495365]), array([ 0.05622784]), array([ 0.05750559]), array([ 0.05878667]), array([ 0.06007086]), array([ 0.06135795]), array([ 0.06264774]), array([ 0.06394001]), array([ 0.06523457]), array([ 0.06653124]), array([ 0.06782982]), array([ 0.06913015]), array([ 0.07043204]), array([ 0.07173534]), array([ 0.07303988]), array([ 0.0743455]), array([ 0.07565204]), array([ 0.07695937]), array([ 0.07826734]), array([ 0.07957581]), array([ 0.08088464]), array([ 0.0821937]), array([ 0.08350287]), array([ 0.08481202]), array([ 0.08612105]), array([ 0.08742982]), array([ 0.08873823]), array([ 0.09004617]), array([ 0.09135354]), array([ 0.09266023]), array([ 0.09396615]), array([ 0.09527121]), array([ 0.0965753])]\n",
      "[array([ 0.03763509]), array([ 0.03883104]), array([ 0.0400346]), array([ 0.04124543]), array([ 0.04246319]), array([ 0.04368754]), array([ 0.04491816]), array([ 0.04615474]), array([ 0.04739699]), array([ 0.04864461]), array([ 0.04989732]), array([ 0.05115484]), array([ 0.0524169]), array([ 0.05368326]), array([ 0.05495365]), array([ 0.05622784]), array([ 0.05750559]), array([ 0.05878667]), array([ 0.06007086]), array([ 0.06135795]), array([ 0.06264774]), array([ 0.06394001]), array([ 0.06523457]), array([ 0.06653124]), array([ 0.06782982]), array([ 0.06913015]), array([ 0.07043204]), array([ 0.07173534]), array([ 0.07303988]), array([ 0.0743455]), array([ 0.07565204]), array([ 0.07695937]), array([ 0.07826734]), array([ 0.07957581]), array([ 0.08088464]), array([ 0.0821937]), array([ 0.08350287]), array([ 0.08481202]), array([ 0.08612105]), array([ 0.08742982]), array([ 0.08873823]), array([ 0.09004617]), array([ 0.09135354]), array([ 0.09266023]), array([ 0.09396615]), array([ 0.09527121]), array([ 0.0965753]), array([ 0.09787834])]\n",
      "[array([ 0.03763509]), array([ 0.03883104]), array([ 0.0400346]), array([ 0.04124543]), array([ 0.04246319]), array([ 0.04368754]), array([ 0.04491816]), array([ 0.04615474]), array([ 0.04739699]), array([ 0.04864461]), array([ 0.04989732]), array([ 0.05115484]), array([ 0.0524169]), array([ 0.05368326]), array([ 0.05495365]), array([ 0.05622784]), array([ 0.05750559]), array([ 0.05878667]), array([ 0.06007086]), array([ 0.06135795]), array([ 0.06264774]), array([ 0.06394001]), array([ 0.06523457]), array([ 0.06653124]), array([ 0.06782982]), array([ 0.06913015]), array([ 0.07043204]), array([ 0.07173534]), array([ 0.07303988]), array([ 0.0743455]), array([ 0.07565204]), array([ 0.07695937]), array([ 0.07826734]), array([ 0.07957581]), array([ 0.08088464]), array([ 0.0821937]), array([ 0.08350287]), array([ 0.08481202]), array([ 0.08612105]), array([ 0.08742982]), array([ 0.08873823]), array([ 0.09004617]), array([ 0.09135354]), array([ 0.09266023]), array([ 0.09396615]), array([ 0.09527121]), array([ 0.0965753]), array([ 0.09787834]), array([ 0.09918024])]\n",
      "[array([ 0.03763509]), array([ 0.03883104]), array([ 0.0400346]), array([ 0.04124543]), array([ 0.04246319]), array([ 0.04368754]), array([ 0.04491816]), array([ 0.04615474]), array([ 0.04739699]), array([ 0.04864461]), array([ 0.04989732]), array([ 0.05115484]), array([ 0.0524169]), array([ 0.05368326]), array([ 0.05495365]), array([ 0.05622784]), array([ 0.05750559]), array([ 0.05878667]), array([ 0.06007086]), array([ 0.06135795]), array([ 0.06264774]), array([ 0.06394001]), array([ 0.06523457]), array([ 0.06653124]), array([ 0.06782982]), array([ 0.06913015]), array([ 0.07043204]), array([ 0.07173534]), array([ 0.07303988]), array([ 0.0743455]), array([ 0.07565204]), array([ 0.07695937]), array([ 0.07826734]), array([ 0.07957581]), array([ 0.08088464]), array([ 0.0821937]), array([ 0.08350287]), array([ 0.08481202]), array([ 0.08612105]), array([ 0.08742982]), array([ 0.08873823]), array([ 0.09004617]), array([ 0.09135354]), array([ 0.09266023]), array([ 0.09396615]), array([ 0.09527121]), array([ 0.0965753]), array([ 0.09787834]), array([ 0.09918024]), array([ 0.10048093])]\n"
     ]
    },
    {
     "data": {
      "text/plain": [
       "[<matplotlib.lines.Line2D at 0x7f24d84497f0>]"
      ]
     },
     "execution_count": 5,
     "metadata": {},
     "output_type": "execute_result"
    }
   ],
   "source": [
    "import matplotlib.pyplot as plt\n",
    "import numpy as np\n",
    "from scipy.optimize import fsolve\n",
    "from scipy.integrate import odeint\n",
    "from pycse import odelay\n",
    "from scipy.integrate import quad\n",
    "\n",
    "Ca0 = 0.75\n",
    "k = 0.12\n",
    "\n",
    "\n",
    "\n",
    "def dCadV(C,V,v):\n",
    "    r = -k * C**(3/2.) / v\n",
    "    dCadV = 2*r\n",
    "    return dCadV\n",
    "\n",
    "Vspan = np.linspace(0,100,num=2000)\n",
    "\n",
    "v0 = np.linspace(3,6)\n",
    "\n",
    "X = []\n",
    "for i in v0:\n",
    "    X.append(odeint(dCadV,Ca0,Vspan,args=(i,))[-1])\n",
    "    print(X)\n",
    "\n",
    "plt.plot(v0,X)\n",
    "#plt.show()"
   ]
  },
  {
   "cell_type": "markdown",
   "metadata": {},
   "source": [
    "# Tips/trips which may help the exam\n",
    "\n"
   ]
  },
  {
   "cell_type": "markdown",
   "metadata": {},
   "source": [
    "\n",
    "### Make an *.ipynb template containing useful information that you reference often. This might contain:\n",
    "\n"
   ]
  },
  {
   "cell_type": "markdown",
   "metadata": {},
   "source": [
    "\n",
    "#### A template for your code blocks:\n",
    "\n"
   ]
  },
  {
   "cell_type": "code",
   "execution_count": 6,
   "metadata": {
    "collapsed": true
   },
   "outputs": [],
   "source": [
    "import matplotlib.pyplot as plt\n",
    "import numpy as np\n",
    "from scipy.optimize import fsolve\n",
    "from scipy.integrate import odeint\n",
    "#from pycse import odelay\n",
    "from scipy.integrate import quad"
   ]
  },
  {
   "cell_type": "markdown",
   "metadata": {},
   "source": [
    "Importing modules doesn't take that long. For the exam, consider having a template pre-made which has all of these functions already called in.\n",
    "\n",
    "You can also incorporate commonly used functions of your own design in the template. Be creative!\n",
    "\n",
    "This way you will know all of your\n",
    "\n"
   ]
  },
  {
   "cell_type": "markdown",
   "metadata": {},
   "source": [
    "\n",
    "#### Links to the documentation for functions you use most commonly\n",
    "\n"
   ]
  },
  {
   "cell_type": "markdown",
   "metadata": {},
   "source": [
    "[scipy.optimize.fsolve](https://docs.scipy.org/doc/scipy/reference/generated/scipy.optimize.fsolve.html)\n",
    "\n",
    "[scipy.integrate.odeint](https://docs.scipy.org/doc/scipy/reference/generated/scipy.integrate.odeint.html)\n",
    "\n",
    "[scipy.integrate.odeint](https://docs.scipy.org/doc/scipy/reference/generated/scipy.integrate.odeint.html)\n",
    "\n",
    "If you forget function syntax, you'll be able to look it up quickly\n",
    "\n"
   ]
  },
  {
   "cell_type": "markdown",
   "metadata": {},
   "source": [
    "\n",
    "#### Useful examples from the notes, homeworks or, quizes.\n",
    "\n"
   ]
  },
  {
   "cell_type": "markdown",
   "metadata": {},
   "source": [
    "This is like having a template, but it can be useful to have examples readily available to facilitate your understanding encase you panic.\n",
    "\n",
    "Remember, you can always access the syllabus and then locate the notes from there as well.\n",
    "\n"
   ]
  }
 ],
 "metadata": {
  "kernelspec": {
   "display_name": "Python 3",
   "language": "python",
   "name": "python3"
  },
  "language_info": {
   "codemirror_mode": {
    "name": "ipython",
    "version": 3
   },
   "file_extension": ".py",
   "mimetype": "text/x-python",
   "name": "python",
   "nbconvert_exporter": "python",
   "pygments_lexer": "ipython3",
   "version": "3.6.2"
  }
 },
 "nbformat": 4,
 "nbformat_minor": 1
}
