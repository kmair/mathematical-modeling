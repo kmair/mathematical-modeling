{
 "cells": [
  {
   "cell_type": "markdown",
   "metadata": {},
   "source": [
    "Kanishk Mair (kmair@andrew.cmu.edu)\n",
    "Date: 2018-11-05 08:14:33.436554\n"
   ]
  },
  {
   "cell_type": "markdown",
   "metadata": {},
   "source": [
    "- ASSIGNMENT: universal-electric\n",
    "- POINTS: 2\n",
    "- CATEGORY: homework\n",
    "- RUBRIC: default\n",
    "- RUBRIC_CATEGORIES: technical, presentation\n",
    "- RUBRIC_WEIGHTS: 0.8, 0.2\n",
    "- DUEDATE: 2018-11-08 23:59:59\n",
    "- GRADER: Noriyuki Yoshio\n"
   ]
  },
  {
   "cell_type": "markdown",
   "metadata": {},
   "source": [
    "Universal Electric, Inc manufactures and sells two types of lamps: L1 and L2. They make a profit of \\\\$150 on L1 and \\\\$100 on L2. There are two workers that can make the lamps, W1 and W2. W1 works for 100 hours a month, and W2 works for 80 hours a month.\n",
    "\n",
    "W1 assembles L1 in 20 minutes, and L2 in 30 minutes. W2 paints L1 in 20 min and L2 in 10 minutes. Assuming that all lamps that are made can be sold, how many of each kind of lamp should the workers make to maximize the profit, and how much profit will be made?\n",
    "\n"
   ]
  },
  {
   "cell_type": "markdown",
   "metadata": {},
   "source": [
    "The problem has 2 variables, namely L1 and L2 (the number of lamps to be made each month).\n",
    "The optimization problem is:\n",
    "\n",
    "Maximize: $\\$ 150 \\times L1 + \\$ 100 \\times L2$\n",
    "\n",
    "subject to: $20 \\times L1 + 30\\times L2 <= 6000$  (Number of minutes W1 works)\n",
    "\n",
    "$\\hspace{35pt} \\, 20 \\times L1 + 10\\times L2 <= 4800$  (Number of minutes W2 works)\n",
    "\n",
    "$\\hspace{35pt} \\, L1 >= 0, L2 >= 0$   (Lamps produced can only be positive)"
   ]
  },
  {
   "cell_type": "code",
   "execution_count": 1,
   "metadata": {},
   "outputs": [
    {
     "name": "stdout",
     "output_type": "stream",
     "text": [
      "The scheduling can be made to make a profit of: $37500.00 by making 210 and 60 units of lamp 1 and 2 respectively.\n"
     ]
    }
   ],
   "source": [
    "from scipy.optimize import minimize\n",
    "\n",
    "W1t = 100 * 60   # in minutes\n",
    "W2t = 80 * 60   # in minutes\n",
    "\n",
    "def profit(L):\n",
    "    L1, L2 = L           # Number of lamps\n",
    "    return -(150 * L1 + 100 * L2)\n",
    "\n",
    "def W1(L):\n",
    "    'Time constraints of worker W1'\n",
    "    L1, L2 = L\n",
    "    time = L1 * 20 + L2 * 30\n",
    "    return W1t - time\n",
    "\n",
    "def W2(L):\n",
    "    'Time constraints of worker W2'\n",
    "    L1, L2 = L\n",
    "    time = L1 * 20 + L2 * 10\n",
    "    return W2t - time\n",
    "\n",
    "def pos1(L):\n",
    "    'positivity constraint of lamp 1'\n",
    "    return L[0]\n",
    "\n",
    "def pos2(L):\n",
    "    'positivity constraint of lamp 2'\n",
    "    return L[1]\n",
    "\n",
    "sol = minimize(profit, [10, 15], constraints=[{'type': 'ineq', 'fun': f} for f in [W1, W2, pos1, pos2]])\n",
    "L1, L2 = sol.x\n",
    "\n",
    "print(f'The scheduling can be made to make a profit of: ${-profit(sol.x):1.2f} by making {L1:1.0f} and {L2:1.0f} units of \\\n",
    "lamp 1 and 2 respectively.')"
   ]
  },
  {
   "cell_type": "code",
   "execution_count": 12,
   "metadata": {},
   "outputs": [
    {
     "name": "stdout",
     "output_type": "stream",
     "text": [
      "Value of constraint 1: 4.756e-07.\n",
      "Value of constraint 2: 3.805e-07.\n",
      "Value of positivity constraint 2.100e+02.\n",
      "Value of positivity constraint 6.000e+01.\n"
     ]
    }
   ],
   "source": [
    "'Checking if the value of constraints are valid at solution point'\n",
    "\n",
    "print(f'Value of constraint 1: {W1(sol.x):1.3e}.')\n",
    "print(f'Value of constraint 2: {W2(sol.x):1.3e}.')\n",
    "print(f'Value of positivity constraint {pos1(sol.x):1.3e}.')\n",
    "print(f'Value of positivity constraint {pos2(sol.x):1.3e}.')"
   ]
  }
 ],
 "metadata": {
  "TURNED-IN": {
   "timestamp": "2018-11-06 10:50:57.515843"
  },
  "author": {
   "email": "kmair@andrew.cmu.edu",
   "name": "Kanishk Mair"
  },
  "kernelspec": {
   "display_name": "Python 3",
   "language": "python",
   "name": "python3"
  },
  "language_info": {
   "codemirror_mode": {
    "name": "ipython",
    "version": 3
   },
   "file_extension": ".py",
   "mimetype": "text/x-python",
   "name": "python",
   "nbconvert_exporter": "python",
   "pygments_lexer": "ipython3",
   "version": "3.6.5"
  },
  "org": {
   "ASSIGNMENT": "universal-electric",
   "CATEGORY": "homework",
   "DUEDATE": "2018-11-08 23:59:59",
   "GRADER": "Noriyuki Yoshio",
   "POINTS": "2",
   "RUBRIC": "default",
   "RUBRIC_CATEGORIES": "technical, presentation",
   "RUBRIC_WEIGHTS": "0.8, 0.2"
  }
 },
 "nbformat": 4,
 "nbformat_minor": 1
}
