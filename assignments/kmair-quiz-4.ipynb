{
 "cells": [
  {
   "cell_type": "markdown",
   "metadata": {},
   "source": [
    "Kanishk Mair (kmair@andrew.cmu.edu)\n",
    "Date: 2018-11-19 09:47:37.459889\n"
   ]
  },
  {
   "cell_type": "markdown",
   "metadata": {},
   "source": [
    "- ASSIGNMENT: quiz-4\n",
    "- POINTS: 3\n",
    "- CATEGORY: quiz\n",
    "- RUBRIC: default\n",
    "- RUBRIC_CATEGORIES: technical, presentation\n",
    "- RUBRIC_WEIGHTS: 0.8, 0.2\n",
    "- DUEDATE: 2018-11-19 10:20:00\n",
    "- GRADER: John Kitchin\n"
   ]
  },
  {
   "cell_type": "markdown",
   "metadata": {},
   "source": [
    "**This is a quiz. You may not talk during the quiz except to ask an instructor a question. You are not allowed to look at other people's work. By turning this in, you agree that you did not cheat and that this work is only your own. You may not modify your quiz after the due time without permission.**\n",
    "\n",
    "Given the equation $f(y) = y_{1}^2 - 4 y_{1}  + \\frac{3}{2} y_{2}^2 - 7 y_{2} + y_{1} y_{2} + 8 - \\ln(y_{1}) - \\ln(y_{2})$ with $y_{1} > 0$ and $y_{2} > 0$, perform the following analyses:\n",
    "\n",
    "Generate a contour plot for $f(y)$ that shows where the minimum is. State in words where the approximate minimum is.\n",
    "\n"
   ]
  },
  {
   "cell_type": "code",
   "execution_count": 1,
   "metadata": {},
   "outputs": [
    {
     "data": {
      "text/plain": [
       "<Figure size 640x480 with 2 Axes>"
      ]
     },
     "metadata": {},
     "output_type": "display_data"
    }
   ],
   "source": [
    "import numpy as np\n",
    "import matplotlib.pyplot as plt\n",
    "#y1 = np.linspace\n",
    "def eq(Y):\n",
    "    y1, y2 = Y\n",
    "    f = y1**2 - 4*y1 + 1.5* y2**2 - 7*y2 + y1*y2 + 8 - np.log(y1) - np.log(y2)\n",
    "    return f\n",
    "\n",
    "\n",
    "y1 = np.linspace(1e-4, 4)  \n",
    "y2 = np.linspace(1e-4, 4)  \n",
    "\n",
    "Y1, Y2 = np.meshgrid(y1, y2)  \n",
    "\n",
    "Fn = eq([Y1, Y2])  \n",
    "\n",
    "plt.contour(Y1, Y2, Fn, levels=np.linspace(-6, 0.1, 100))\n",
    "\n",
    "plt.xlabel('$y_1$')\n",
    "plt.ylabel('$y_2$')\n",
    "plt.title('Contour plot of f($y_1$, $y_2$)')\n",
    "plt.colorbar()\n",
    "plt.show()"
   ]
  },
  {
   "cell_type": "markdown",
   "metadata": {},
   "source": [
    "Find the minimum (any way you want).\n",
    "\n"
   ]
  },
  {
   "cell_type": "code",
   "execution_count": 2,
   "metadata": {},
   "outputs": [
    {
     "name": "stdout",
     "output_type": "stream",
     "text": [
      "The minimum value of f = -1.8742 which is found at y1 = 1.3475 and y2 = 2.0470.\n"
     ]
    }
   ],
   "source": [
    "from scipy.optimize import minimize\n",
    "\n",
    "def fn(Y):\n",
    "    y1, y2 = Y\n",
    "    f = y1**2 - 4*y1 + 1.5* y2**2 - 7*y2 + y1*y2 + 8 - np.log(y1) - np.log(y2)\n",
    "    return f\n",
    "\n",
    "guess = np.array([2,2])\n",
    "ans = minimize(fn, guess)\n",
    "mini = ans.fun\n",
    "y1, y2 = ans.x\n",
    "\n",
    "print(f'The minimum value of f = {mini:1.4f} which is found at y1 = {y1:1.4f} and y2 = {y2:1.4f}.')"
   ]
  },
  {
   "cell_type": "markdown",
   "metadata": {},
   "source": [
    "Show quantitative evidence that your solution is a minimum."
   ]
  },
  {
   "cell_type": "code",
   "execution_count": 3,
   "metadata": {},
   "outputs": [
    {
     "name": "stdout",
     "output_type": "stream",
     "text": [
      "The Eigen values of the solution obtained are: 1.8324 and 3.9495.\n"
     ]
    }
   ],
   "source": [
    "h = np.linalg.inv(ans['hess_inv'])\n",
    "E,v=np.linalg.eig(h)\n",
    "print(f'The Eigen values of the solution obtained are: {E[0]:1.4f} and {E[1]:1.4f}.')"
   ]
  },
  {
   "cell_type": "markdown",
   "metadata": {},
   "source": [
    "Since both Eigen values are positive, we have a positive definite matrix and hence the solution is a minimum.\n",
    "Also, the contour plot seen above corroborates the belief that answer must lie in this range."
   ]
  }
 ],
 "metadata": {
  "TURNED-IN": {
   "timestamp": "2018-11-19 10:23:55.171743"
  },
  "author": {
   "email": "kmair@andrew.cmu.edu",
   "name": "Kanishk Mair"
  },
  "kernelspec": {
   "display_name": "Python 3",
   "language": "python",
   "name": "python3"
  },
  "language_info": {
   "codemirror_mode": {
    "name": "ipython",
    "version": 3
   },
   "file_extension": ".py",
   "mimetype": "text/x-python",
   "name": "python",
   "nbconvert_exporter": "python",
   "pygments_lexer": "ipython3",
   "version": "3.6.5"
  },
  "org": {
   "ASSIGNMENT": "quiz-4",
   "CATEGORY": "quiz",
   "DUEDATE": "2018-11-19 10:20:00",
   "GRADER": "John Kitchin",
   "POINTS": "3",
   "RUBRIC": "default",
   "RUBRIC_CATEGORIES": "technical, presentation",
   "RUBRIC_WEIGHTS": "0.8, 0.2"
  }
 },
 "nbformat": 4,
 "nbformat_minor": 1
}
