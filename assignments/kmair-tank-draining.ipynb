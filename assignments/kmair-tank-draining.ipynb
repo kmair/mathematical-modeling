{
 "cells": [
  {
   "cell_type": "markdown",
   "metadata": {},
   "source": [
    "Kanishk Mair (kmair@andrew.cmu.edu)\n",
    "Date: 2018-09-11 08:39:18.042309\n"
   ]
  },
  {
   "cell_type": "markdown",
   "metadata": {},
   "source": [
    "- ASSIGNMENT: tank-draining\n",
    "- POINTS: 2\n",
    "- CATEGORY: homework\n",
    "- RUBRIC: default\n",
    "- RUBRIC_CATEGORIES: technical, presentation\n",
    "- RUBRIC_WEIGHTS: 0.8, 0.2\n",
    "- DUEDATE: 2018-09-13 23:59:59\n",
    "- GRADER: Mingjie Liu\n"
   ]
  },
  {
   "cell_type": "markdown",
   "metadata": {},
   "source": [
    "If you have a cylindrical tank that drains through a hole in the bottom, the height of the water inside the cylinder is governed by:\n",
    "\n",
    "$\\frac{dh}{dt} = - \\frac{A_w}{A_h} \\sqrt{2 g h}$\n",
    "\n",
    "Where $A_w$ is the cross-sectional area of the cylinder, $A_h$ is the area of the hole in the bottom, and $g = 32$ ft/s<sup>2</sup>. Suppose the water starts at a height of 10 ft in a cylinder with a radius of 2 ft. There is a hole in the bottom with a radius of 1/2 inch.\n",
    "\n",
    "Use `scipy.integrate.solve_ivp` to estimate how long it will take to drain the tank. Make a plot that shows the height as a function of time.\n",
    "\n",
    "Note that you have to some care in selecting the integration range here; if $h$ is ever negative then you will see some warnings about invalid values in the sqrt.\n",
    "\n"
   ]
  },
  {
   "cell_type": "code",
   "execution_count": 1,
   "metadata": {},
   "outputs": [
    {
     "name": "stdout",
     "output_type": "stream",
     "text": [
      "It takes 1821.47s or about 30.4 minutes for the tank to drain off completely.\n"
     ]
    },
    {
     "name": "stderr",
     "output_type": "stream",
     "text": [
      "C:\\Users\\Kanishk\\Anaconda3\\lib\\site-packages\\ipykernel_launcher.py:14: RuntimeWarning: invalid value encountered in sqrt\n",
      "  \n"
     ]
    }
   ],
   "source": [
    "import numpy as np\n",
    "from scipy.integrate import solve_ivp\n",
    "\n",
    "h0 = 10 # ft\n",
    "r_w = 2 # ft\n",
    "r_h = 1/24 # ft\n",
    "g = 32 # ft/s^2\n",
    "t0 = 0\n",
    "\n",
    "A_w = np.pi * r_w**2  # ft^2\n",
    "A_h = np.pi * r_h**2  # ft^2\n",
    "\n",
    "def dhdt(t, h):\n",
    "    return - A_h / A_w * np.sqrt(2 * g * h)\n",
    "\n",
    "h0 = np.array([h0])\n",
    "\n",
    "def event(t, h):\n",
    "    h = np.array(h)\n",
    "    return h\n",
    "\n",
    "event.terminal = True\n",
    "\n",
    "sol = solve_ivp(fun = dhdt, t_span = (t0, 2000), y0 = h0) #events = event\n",
    "print(f'It takes {sol.t[-1]:1.2f}s or about {sol.t[-1]/60:1.1f} minutes for the tank to drain off completely.')"
   ]
  },
  {
   "cell_type": "code",
   "execution_count": 2,
   "metadata": {},
   "outputs": [
    {
     "data": {
      "text/plain": [
       "<Figure size 640x480 with 1 Axes>"
      ]
     },
     "metadata": {},
     "output_type": "display_data"
    }
   ],
   "source": [
    "import matplotlib.pyplot as plt\n",
    "\n",
    "plt.plot(sol.t, sol.y[0], label = 'Height variation')\n",
    "plt.plot(sol.t[-1], sol.y[0][-1], '*k')\n",
    "plt.plot(sol.t, np.zeros(len(sol.t)), '--r', label = 'h = 0')\n",
    "plt.ylabel('Height (in ft)')\n",
    "plt.xlabel('Time (in s)')\n",
    "plt.title('Height vs Time for the Draining Tank')\n",
    "plt.legend()\n",
    "plt.show()"
   ]
  },
  {
   "cell_type": "code",
   "execution_count": null,
   "metadata": {},
   "outputs": [],
   "source": []
  }
 ],
 "metadata": {
  "TURNED-IN": {
   "timestamp": "2018-09-13 18:39:08.932052"
  },
  "author": {
   "email": "kmair@andrew.cmu.edu",
   "name": "Kanishk Mair"
  },
  "kernelspec": {
   "display_name": "Python 3",
   "language": "python",
   "name": "python3"
  },
  "language_info": {
   "codemirror_mode": {
    "name": "ipython",
    "version": 3
   },
   "file_extension": ".py",
   "mimetype": "text/x-python",
   "name": "python",
   "nbconvert_exporter": "python",
   "pygments_lexer": "ipython3",
   "version": "3.6.5"
  },
  "org": {
   "ASSIGNMENT": "tank-draining",
   "CATEGORY": "homework",
   "DUEDATE": "2018-09-13 23:59:59",
   "GRADER": "Mingjie Liu",
   "POINTS": "2",
   "RUBRIC": "default",
   "RUBRIC_CATEGORIES": "technical, presentation",
   "RUBRIC_WEIGHTS": "0.8, 0.2"
  }
 },
 "nbformat": 4,
 "nbformat_minor": 1
}
