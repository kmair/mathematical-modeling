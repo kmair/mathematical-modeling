{
 "cells": [
  {
   "cell_type": "markdown",
   "metadata": {},
   "source": [
    "Kanishk Mair (kmair@andrew.cmu.edu)\n",
    "Date: 2018-09-24 08:40:08.989165\n"
   ]
  },
  {
   "cell_type": "markdown",
   "metadata": {},
   "source": [
    "- ASSIGNMENT: exam1-1\n",
    "- POINTS: 3\n",
    "- CATEGORY: exam-1\n",
    "- RUBRIC: default\n",
    "- RUBRIC_CATEGORIES: technical, presentation\n",
    "- RUBRIC_WEIGHTS: 0.8, 0.2\n",
    "- DUEDATE: 2018-09-24 20:29:59\n",
    "- GRADER: John Kitchin\n"
   ]
  },
  {
   "cell_type": "markdown",
   "metadata": {},
   "source": [
    "**This is an exam problem. It is open note, and you may consult the internet. By turning in this problem, you agree that the work is your own, and you did not work with anyone to complete it. Anything else is considered cheating. If you see students working together on this problem, it is cheating and you should report it.**\n",
    "\n",
    "A small container of liquid are initially at 150 °F.  To cool both the container and the liquid to room temperature (70 °F, the container is immersed in a bath at 32°F.  Balancing the rate of change of energy storage between the liquid and the container with the rate of convective heat transfer (liquid – container and container – bath) leads to a coupled system of equations, where L is the temperature of the liquid and C is the temperature of the container.  Using the parameters given, plot the temperature of the liquid and the container as a function of time.\n",
    "\n",
    "$\\frac{dL}{dt} = \\frac{A_i h}{\\rho_1 c_{p1} V_1}(C - L)$\n",
    "\n",
    "$\\frac{dC}{dt} = \\frac{A_o h}{\\rho_2 c_{p2} V_2}(32-C) + \\frac{A_i h}{\\rho_2 c_{p2} V_2}(L-C)$\n",
    "\n",
    "||Liquid (1)|Container (2)|\n",
    "|---\n",
    "|Mass density [lbm/ft3]|62|139|\n",
    "|Specific heat [Btu/lbmF]|1.00|0.2|\n",
    "|Volume [ft3]|0.03|0.003|\n",
    "\n",
    "$A_i=0.4$ ft<sup>2</sup> and $A_o=0.5$ ft<sup>2</sup>\n",
    "Assume $h = 8.8$ Btu/hr ft<sup>3</sup> °F\n",
    "\n"
   ]
  },
  {
   "cell_type": "markdown",
   "metadata": {},
   "source": [
    "\n",
    "# At what time should the container be removed for the liquid inside it to be at room temperature (70 °F)? What is the temperature of the container at that time?\n",
    "\n"
   ]
  },
  {
   "cell_type": "code",
   "execution_count": 16,
   "metadata": {},
   "outputs": [
    {
     "data": {
      "image/png": "[encoded data removed]",
      "text/plain": [
       "<Figure size 432x288 with 1 Axes>"
      ]
     },
     "metadata": {},
     "output_type": "display_data"
    }
   ],
   "source": [
    "import numpy as np\n",
    "from scipy.integrate import solve_ivp\n",
    "import matplotlib.pyplot as plt\n",
    "\n",
    "A_i = 0.4 # ft^2\n",
    "A_o = 0.5 # ft^2\n",
    "rho_1 = 62 # lbm/ft3\n",
    "rho_2 = 139 # lbm/ft3\n",
    "Cp_1 = 1 # Btu/lbmF\n",
    "Cp_2 = 0.2 # Btu/lbmF\n",
    "h = 8.8 # Btu/hr ft^3 °F\n",
    "V_1 = 0.03 # ft^3\n",
    "V_2 = 0.003 # ft^3\n",
    "T0 = np.array([150, 150])\n",
    "\n",
    "def dTdt(t, T):\n",
    "    L, C = T\n",
    "    dLdt = (A_i * h / (rho_1 * Cp_1 * V_1)) * (C - L)\n",
    "    dCdt = (A_o * h / (rho_2 * Cp_2 * V_2)) * (32 - C) + (A_i * h / (rho_2 * Cp_2 * V_2)) * (L - C)\n",
    "    return np.array([dLdt, dCdt])\n",
    "\n",
    "def RT(t, T):\n",
    "    L, C = T\n",
    "    return L - 70\n",
    "\n",
    "RT.terminal = True\n",
    "\n",
    "teval = np.linspace(0, 2, 200)\n",
    "    \n",
    "sol = solve_ivp(dTdt, t_span = (0, 2), y0 = T0, events = RT, dense_output=True)\n",
    "sol\n",
    "\n",
    "plt.plot(sol.t, sol.y[0], label='L (F)')\n",
    "plt.plot(sol.t, sol.y[1], label='C (F)')\n",
    "plt.xlabel('time (hr)')\n",
    "plt.ylabel('Temperature (F)')\n",
    "plt.title('L and C vs time')\n",
    "plt.legend()\n",
    "plt.show()"
   ]
  },
  {
   "cell_type": "code",
   "execution_count": 40,
   "metadata": {},
   "outputs": [
    {
     "name": "stdout",
     "output_type": "stream",
     "text": [
      " At time 0.128 hours liquid reaches 70 F and container is at 50.781 F.\n"
     ]
    }
   ],
   "source": [
    "te, = sol.t_events[0]\n",
    "ans = sol.sol(te)\n",
    "Le = ans[0]\n",
    "Ce = ans[1]\n",
    "print(f' At time {te:1.3f} hours liquid reaches 70 F and container is at {Ce:1.3f} F.')"
   ]
  },
  {
   "cell_type": "markdown",
   "metadata": {},
   "source": [
    "\n",
    "# Explain qualitatively why the two temperatures profiles look different.\n",
    "\n"
   ]
  },
  {
   "cell_type": "markdown",
   "metadata": {},
   "source": [
    "Temperature of Container decreases faster than liquid because it's directly getting cooled compared to liquid."
   ]
  },
  {
   "cell_type": "markdown",
   "metadata": {},
   "source": [
    "\n",
    "# What will happen to the temperatures after the container is removed from the bath?\n",
    "\n"
   ]
  },
  {
   "cell_type": "markdown",
   "metadata": {},
   "source": [
    "The container will transfer it's energy to liquid and its temperature will increase until equilibrium is attained with the new environment."
   ]
  }
 ],
 "metadata": {
  "TURNED-IN": {
   "timestamp": "2018-09-24 10:45:54.529824"
  },
  "author": {
   "email": "kmair@andrew.cmu.edu",
   "name": "Kanishk Mair"
  },
  "kernelspec": {
   "display_name": "Python 3",
   "language": "python",
   "name": "python3"
  },
  "language_info": {
   "codemirror_mode": {
    "name": "ipython",
    "version": 3
   },
   "file_extension": ".py",
   "mimetype": "text/x-python",
   "name": "python",
   "nbconvert_exporter": "python",
   "pygments_lexer": "ipython3",
   "version": "3.6.5"
  },
  "org": {
   "ASSIGNMENT": "exam1-1",
   "CATEGORY": "exam-1",
   "DUEDATE": "2018-09-24 20:29:59",
   "GRADER": "John Kitchin",
   "POINTS": "3",
   "RUBRIC": "default",
   "RUBRIC_CATEGORIES": "technical, presentation",
   "RUBRIC_WEIGHTS": "0.8, 0.2"
  }
 },
 "nbformat": 4,
 "nbformat_minor": 1
}
