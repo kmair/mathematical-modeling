{
 "cells": [
  {
   "cell_type": "markdown",
   "metadata": {},
   "source": [
    "Kanishk Mair (kmair@andrew.cmu.edu)\n",
    "Date: 2018-12-05 09:45:55.358263\n"
   ]
  },
  {
   "cell_type": "markdown",
   "metadata": {},
   "source": [
    "- ASSIGNMENT: quiz-6\n",
    "- POINTS: 2\n",
    "- CATEGORY: quiz\n",
    "- RUBRIC: default\n",
    "- RUBRIC_CATEGORIES: technical, presentation\n",
    "- RUBRIC_WEIGHTS: 0.8, 0.2\n",
    "- DUEDATE: 2018-12-05 10:20:00\n",
    "- GRADER: John Kitchin\n"
   ]
  },
  {
   "cell_type": "markdown",
   "metadata": {},
   "source": [
    "The equation $y = e^{a y}$ is implicit in $y$. Suppose we know that $a = 0.2 \\pm 0.02$ ($\\sigma_a = 0.02$). First, solve for the value of $y$  with a method of your choice.\n",
    "\n"
   ]
  },
  {
   "cell_type": "code",
   "execution_count": 5,
   "metadata": {},
   "outputs": [],
   "source": [
    "import numpy as np\n",
    "from scipy.optimize import fsolve\n",
    "a = 0.2\n",
    "\n",
    "def f(y):\n",
    "    L = y\n",
    "    R = np.exp(a * y)\n",
    "    return L-R\n",
    "\n",
    "y_ = fsolve(f, 1)"
   ]
  },
  {
   "cell_type": "code",
   "execution_count": 6,
   "metadata": {},
   "outputs": [
    {
     "name": "stdout",
     "output_type": "stream",
     "text": [
      "The value of y is: 1.296.\n"
     ]
    }
   ],
   "source": [
    "print(f'The value of y is: {y_[0]:1.3f}.')"
   ]
  },
  {
   "cell_type": "markdown",
   "metadata": {},
   "source": [
    "Now the question is what is the uncertainty in $y$ since we know there is some uncertainty in $a$? A good approximation for the uncertainty in $y$ is $\\sigma_y \\approx \\frac{dy}{da} * \\sigma_a$.  Use this information to estimate the uncertainty ($\\sigma_y$) in the solution you obtained.\n",
    "\n"
   ]
  },
  {
   "cell_type": "markdown",
   "metadata": {},
   "source": [
    "The implicit function is: $f(a, y(a)) = 0$\n",
    "\n",
    "\n",
    "$df/da + (df/dy)\\times (dy/da) = 0$\n",
    "\n",
    "Hence $dy/da$:\n",
    "\n",
    "$dy/da = -(df/da) / (df/dy)$"
   ]
  },
  {
   "cell_type": "code",
   "execution_count": 26,
   "metadata": {},
   "outputs": [],
   "source": [
    "import autograd.numpy as np\n",
    "from autograd import grad, elementwise_grad\n",
    "\n",
    "def f(a, y):\n",
    "    eq = y -np.exp(a * y)\n",
    "    return eq\n",
    "\n",
    "dfa = grad(f, 0)\n",
    "dfy = grad(f, 1)\n",
    "\n",
    "def unc(a0, y0):\n",
    "    'Let dy/da = -(df/da) / (df/dy)'\n",
    "    return -dfa(a0, y0) / dfy(a0, y0)\n",
    "\n",
    "dyda = unc(a, y_)\n",
    "\n",
    "sigma_a = 0.02\n",
    "\n",
    "sigma_y = sigma_a * dyda\n"
   ]
  },
  {
   "cell_type": "code",
   "execution_count": 27,
   "metadata": {},
   "outputs": [
    {
     "name": "stdout",
     "output_type": "stream",
     "text": [
      "The uncertainty in y is 0.045.\n",
      "Thus, y = 1.296 +- 0.045.\n"
     ]
    }
   ],
   "source": [
    "print(f'The uncertainty in y is {np.abs(sigma_y)[0]:1.3f}.')\n",
    "\n",
    "print(f'Thus, y = {y_[0]:1.3f} +- {np.abs(sigma_y)[0]:1.3f}.')"
   ]
  },
  {
   "cell_type": "markdown",
   "metadata": {},
   "source": [
    "Describe an engineering application where this could be useful.\n",
    "\n"
   ]
  },
  {
   "cell_type": "markdown",
   "metadata": {},
   "source": [
    "In Bernoulli equation, we have various energy terms. \n",
    "The conservation of energy of potential and kinetic energy terms can also bring about implicit functions of distance to be differentiated.\n",
    "Also, in thermodynamics, Pressure and temperature are correlated and an implicit function can be formed.\n",
    "The uncertainty here can be estimated using the above method."
   ]
  }
 ],
 "metadata": {
  "TURNED-IN": {
   "timestamp": "2018-12-05 10:18:14.236048"
  },
  "author": {
   "email": "kmair@andrew.cmu.edu",
   "name": "Kanishk Mair"
  },
  "kernelspec": {
   "display_name": "Python 3",
   "language": "python",
   "name": "python3"
  },
  "language_info": {
   "codemirror_mode": {
    "name": "ipython",
    "version": 3
   },
   "file_extension": ".py",
   "mimetype": "text/x-python",
   "name": "python",
   "nbconvert_exporter": "python",
   "pygments_lexer": "ipython3",
   "version": "3.6.5"
  },
  "org": {
   "ASSIGNMENT": "quiz-6",
   "CATEGORY": "quiz",
   "DUEDATE": "2018-12-05 10:20:00",
   "GRADER": "John Kitchin",
   "POINTS": "2",
   "RUBRIC": "default",
   "RUBRIC_CATEGORIES": "technical, presentation",
   "RUBRIC_WEIGHTS": "0.8, 0.2"
  }
 },
 "nbformat": 4,
 "nbformat_minor": 1
}
