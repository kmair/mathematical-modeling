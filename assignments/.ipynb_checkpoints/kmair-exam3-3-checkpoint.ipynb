{
 "cells": [
  {
   "cell_type": "markdown",
   "metadata": {},
   "source": [
    "Kanishk Mair (kmair@andrew.cmu.edu)\n",
    "Date: 2018-12-10 12:52:22.690955\n"
   ]
  },
  {
   "cell_type": "markdown",
   "metadata": {},
   "source": [
    "- ASSIGNMENT: exam3-3\n",
    "- POINTS: 3\n",
    "- CATEGORY: exam-3\n",
    "- RUBRIC: default\n",
    "- RUBRIC_CATEGORIES: technical, presentation\n",
    "- RUBRIC_WEIGHTS: 0.8, 0.2\n",
    "- DUEDATE: 2018-12-10 23:59:59\n",
    "- GRADER: John Kitchin\n"
   ]
  },
  {
   "cell_type": "markdown",
   "metadata": {},
   "source": [
    "**This is an exam. You must be present in the exam room to get credit for this problem unless you have prior permission from the instructor. You may not talk during the exam except to ask an instructor a question. By turning this in, you agree that this work is your own, and you did not get unauthorized help to complete it or provide unauthorized help to anyone else. You may not modify your exam answer after the due time without permission.**\n",
    "\n",
    "A common problem in solving nonlinear problems is *how to make the initial guess*?\n",
    "\n",
    "Let's consider finding the solution to the following nonlinear equations:\n",
    "\n",
    "$2 + x + y - x^2 + 8 x y + y^3 = 0$\n",
    "\n",
    "$1 + 2x - 3y + x^2 + xy - y e^x = 0$\n",
    "\n",
    "The strategy we work on here is to reformulate these equations with a new variable $\\lambda$\n",
    "\n",
    "$2 + x + y + \\lambda(- x^2 + 8 x y + y^3) = 0$\n",
    "\n",
    "$1 + 2x - 3y + \\lambda(x^2 + xy - y e^x) = 0$\n",
    "\n"
   ]
  },
  {
   "cell_type": "markdown",
   "metadata": {},
   "source": [
    "\n",
    "# Part 1 solve the linear problem\n",
    "\n"
   ]
  },
  {
   "cell_type": "markdown",
   "metadata": {},
   "source": [
    "If $\\lambda=1$ then we have the original nonlinear equations. If you set $\\lambda=0$ though, you have a simple linear set of equations to solve. Find a solution to those equations for $\\lambda=0$:\n",
    "\n"
   ]
  },
  {
   "cell_type": "code",
   "execution_count": 7,
   "metadata": {},
   "outputs": [
    {
     "name": "stdout",
     "output_type": "stream",
     "text": [
      "For λ = 0, the values of x = -1.4 and y = -0.6.\n"
     ]
    }
   ],
   "source": [
    "from scipy.optimize import fsolve\n",
    "import numpy as np\n",
    "\n",
    "def fn(X):\n",
    "    x, y = X\n",
    "    f1 =  2 + x + y\n",
    "    f2 = 1 + 2*x - 3* y \n",
    "    return [f1, f2]\n",
    "\n",
    "l = 0\n",
    "ans = fsolve(fn, [0,1])\n",
    "print(f'For λ = 0, the values of x = {ans[0]:1.1f} and y = {ans[1]:1.1f}.')"
   ]
  },
  {
   "cell_type": "markdown",
   "metadata": {},
   "source": [
    "This solution represents the solution to the equations when $\\lambda=0$. If we could derive a set of equations for $\\frac{dx}{d\\lambda}$ and $\\frac{dy}{d\\lambda}$, then we can treat this linear solution as an initial value, and integrate the ODEs from $\\lambda=0$ to $\\lambda=1$ to find the solution to the nonlinear equations. In what follows, we motivate how to derive those equations.\n",
    "\n"
   ]
  },
  {
   "cell_type": "markdown",
   "metadata": {},
   "source": [
    "\n",
    "# Part 2 formulate a system of ODEs to solve the nonlinear problem\n",
    "\n"
   ]
  },
  {
   "cell_type": "markdown",
   "metadata": {},
   "source": [
    "Next, we consider the equations as\n",
    "\n",
    "$f(x, y) = 2 + x + y + \\lambda(- x^2 + 8 x y + y^3) = 0$\n",
    "\n",
    "$g(x, y) = 1 + 2x - 3y + \\lambda(x^2 + xy - y e^x) = 0$\n",
    "\n",
    "from calculus, you can show that:\n",
    "\n",
    "$\\frac{\\partial f}{\\partial x}\\frac{\\partial x}{\\partial \\lambda}+\\frac{\\partial f}{\\partial y}\\frac{\\partial y}{\\partial \\lambda}=-\\frac{\\partial f}{\\partial \\lambda}$\n",
    "\n",
    "$\\frac{\\partial g}{\\partial x}\\frac{\\partial x}{\\partial \\lambda}+\\frac{\\partial g}{\\partial y}\\frac{\\partial y}{\\partial \\lambda}=-\\frac{\\partial g}{\\partial \\lambda}$\n",
    "\n",
    "You can rewrite this in a linear algebra form as:\n",
    "\n",
    "\\begin{equation}\n",
    "\\left[\\begin{array}{cc}\n",
    "\\frac{\\partial f}{\\partial x} \\frac{\\partial f}{\\partial y} \\\\\n",
    "\\frac{\\partial g}{\\partial x} \\frac{\\partial g}{\\partial y}\n",
    "\\end{array}\\right]\n",
    "\\left[\\begin{array}{c}\n",
    "\\frac{\\partial x}{\\partial \\lambda}\\\\\n",
    "\\frac{\\partial y}{\\partial \\lambda}\n",
    "\\end{array}\\right]\n",
    "=\n",
    "\\left[\\begin{array}{c}\n",
    "-\\frac{\\partial f}{\\partial \\lambda}\\\\\n",
    "-\\frac{\\partial g}{\\partial \\lambda}\n",
    "\\end{array}\\right]\n",
    "\\end{equation}\n",
    "\n",
    "The matrix on the left is the Jacobian of $F = [f(x,y), g(x, y)]$. This means you can solve for:\n",
    "\n",
    "$$\\left[\\begin{array}{c}\n",
    "\\frac{\\partial x}{\\partial \\lambda}\\\\\n",
    "\\frac{\\partial y}{\\partial \\lambda}\n",
    "\\end{array}\\right]\n",
    "=\n",
    "\\mathbf{J}^{-1}\n",
    "\\left[\\begin{array}{c}\n",
    "-\\frac{\\partial f}{\\partial \\lambda}\\\\\n",
    "-\\frac{\\partial g}{\\partial \\lambda}\n",
    "\\end{array}\\right]$$\n",
    "\n",
    "This last equation defines a set of differential equations that can be integrated from $\\lambda=0$ where we know what (x, y) are, to $\\lambda=1$ which leads to a solution to the original set of nonlinear equations!\n",
    "\n",
    "Use the last equation to define a function for a system of ODEs, and then integrate the system of ODES from $\\lambda=0$ to $\\lambda=1$ to find the solution to the nonlinear set of equations. The solution is the value of $x, y$ at $\\lambda=1$.\n",
    "\n"
   ]
  },
  {
   "cell_type": "code",
   "execution_count": 8,
   "metadata": {},
   "outputs": [
    {
     "data": {
      "text/plain": [
       "8.0"
      ]
     },
     "execution_count": 8,
     "metadata": {},
     "output_type": "execute_result"
    }
   ],
   "source": [
    "from autograd import jacobian, elementwise_grad\n",
    "import autograd.numpy as np\n",
    "\n",
    "def f(x,y,lam):\n",
    "    return 2 + x + y + lam * (-x**2 + 8*x*y + y**3)\n",
    "\n",
    "def g(x,y,lam):\n",
    "    return 1 + 2 * x - 3* y + lam * (x**2 + x * y - y * np.exp(x))\n",
    "\n",
    "dfdl = elementwise_grad(f, 2)\n",
    "dgdl = elementwise_grad(g, 2)\n",
    "\n",
    "dfdl(1.0,1.0,1.0)"
   ]
  },
  {
   "cell_type": "code",
   "execution_count": 11,
   "metadata": {},
   "outputs": [
    {
     "ename": "NameError",
     "evalue": "name 'x' is not defined",
     "output_type": "error",
     "traceback": [
      "\u001b[1;31m---------------------------------------------------------------------------\u001b[0m",
      "\u001b[1;31mNameError\u001b[0m                                 Traceback (most recent call last)",
      "\u001b[1;32m<ipython-input-11-bb4b4675cefc>\u001b[0m in \u001b[0;36m<module>\u001b[1;34m()\u001b[0m\n\u001b[0;32m     11\u001b[0m \u001b[0mx0\u001b[0m \u001b[1;33m=\u001b[0m \u001b[1;33m-\u001b[0m\u001b[1;36m1.4\u001b[0m\u001b[1;33m\u001b[0m\u001b[0m\n\u001b[0;32m     12\u001b[0m \u001b[0my0\u001b[0m \u001b[1;33m=\u001b[0m \u001b[1;36m0.6\u001b[0m\u001b[1;33m\u001b[0m\u001b[0m\n\u001b[1;32m---> 13\u001b[1;33m \u001b[0mJinv\u001b[0m \u001b[1;33m=\u001b[0m \u001b[0mnp\u001b[0m\u001b[1;33m.\u001b[0m\u001b[0mlinalg\u001b[0m\u001b[1;33m.\u001b[0m\u001b[0minv\u001b[0m\u001b[1;33m(\u001b[0m\u001b[0mJf\u001b[0m\u001b[1;33m(\u001b[0m\u001b[0mnp\u001b[0m\u001b[1;33m.\u001b[0m\u001b[0marray\u001b[0m\u001b[1;33m(\u001b[0m\u001b[1;33m[\u001b[0m\u001b[0mx\u001b[0m\u001b[1;33m,\u001b[0m \u001b[0my\u001b[0m\u001b[1;33m]\u001b[0m\u001b[1;33m)\u001b[0m\u001b[1;33m)\u001b[0m\u001b[1;33m)\u001b[0m\u001b[1;33m\u001b[0m\u001b[0m\n\u001b[0m\u001b[0;32m     14\u001b[0m \u001b[1;33m\u001b[0m\u001b[0m\n\u001b[0;32m     15\u001b[0m \u001b[0mdFl\u001b[0m \u001b[1;33m=\u001b[0m \u001b[0mnp\u001b[0m\u001b[1;33m.\u001b[0m\u001b[0marray\u001b[0m\u001b[1;33m(\u001b[0m\u001b[1;33m[\u001b[0m\u001b[1;33m-\u001b[0m\u001b[0mdfdl\u001b[0m\u001b[1;33m(\u001b[0m\u001b[0mx\u001b[0m\u001b[1;33m,\u001b[0m\u001b[0my\u001b[0m\u001b[1;33m,\u001b[0m\u001b[0mlam\u001b[0m\u001b[1;33m)\u001b[0m\u001b[1;33m,\u001b[0m \u001b[1;33m-\u001b[0m\u001b[0mdgdl\u001b[0m\u001b[1;33m(\u001b[0m\u001b[0mx\u001b[0m\u001b[1;33m,\u001b[0m\u001b[0my\u001b[0m\u001b[1;33m,\u001b[0m\u001b[0mlam\u001b[0m\u001b[1;33m)\u001b[0m\u001b[1;33m]\u001b[0m\u001b[1;33m)\u001b[0m\u001b[1;33m\u001b[0m\u001b[0m\n",
      "\u001b[1;31mNameError\u001b[0m: name 'x' is not defined"
     ]
    }
   ],
   "source": [
    "def F(X):\n",
    "    x, y = X\n",
    "    f1 = 2 + x + y + 1 * (-x**2 + 8*x*y + y**3)\n",
    "    f2 = 1 + 2 * x - 3* y + 1 * (x**2 + x * y - y * np.exp(x))\n",
    "    return np.array([f1, f2])\n",
    "\n",
    "Jf = jacobian(F)\n",
    "lam = np.linspace(0,1)\n",
    "\n",
    "\n",
    "x0 = -1.4\n",
    "y0 = 0.6\n",
    "Jinv = np.linalg.inv(Jf(np.array([x, y])))\n",
    "\n",
    "dFl = np.array([-dfdl(x,y,lam), -dgdl(x,y,lam)])\n",
    "\n",
    "dxy = Jinv @ dFl\n",
    "\n",
    "dx= dxy[0]\n",
    "dy = dxy[1]\n",
    "\n",
    "dx\n",
    "# from scipy.integrate import quad\n",
    "\n",
    "# X = quad()"
   ]
  },
  {
   "cell_type": "code",
   "execution_count": 18,
   "metadata": {},
   "outputs": [
    {
     "ename": "UnboundLocalError",
     "evalue": "local variable 'x' referenced before assignment",
     "output_type": "error",
     "traceback": [
      "\u001b[1;31m---------------------------------------------------------------------------\u001b[0m",
      "\u001b[1;31mUnboundLocalError\u001b[0m                         Traceback (most recent call last)",
      "\u001b[1;32m<ipython-input-18-71588fe9a3b8>\u001b[0m in \u001b[0;36m<module>\u001b[1;34m()\u001b[0m\n\u001b[0;32m     34\u001b[0m \u001b[0mlamb\u001b[0m \u001b[1;33m=\u001b[0m \u001b[0mnp\u001b[0m\u001b[1;33m.\u001b[0m\u001b[0mlinspace\u001b[0m\u001b[1;33m(\u001b[0m\u001b[1;36m0\u001b[0m\u001b[1;33m,\u001b[0m\u001b[1;36m1\u001b[0m\u001b[1;33m)\u001b[0m\u001b[1;33m\u001b[0m\u001b[0m\n\u001b[0;32m     35\u001b[0m \u001b[1;33m\u001b[0m\u001b[0m\n\u001b[1;32m---> 36\u001b[1;33m \u001b[0mintegrand\u001b[0m\u001b[1;33m(\u001b[0m\u001b[0mnp\u001b[0m\u001b[1;33m.\u001b[0m\u001b[0marray\u001b[0m\u001b[1;33m(\u001b[0m\u001b[1;33m[\u001b[0m\u001b[0mx0\u001b[0m\u001b[1;33m,\u001b[0m \u001b[0my0\u001b[0m\u001b[1;33m,\u001b[0m \u001b[1;36m0\u001b[0m\u001b[1;33m]\u001b[0m\u001b[1;33m)\u001b[0m\u001b[1;33m)\u001b[0m\u001b[1;33m\u001b[0m\u001b[0m\n\u001b[0m\u001b[0;32m     37\u001b[0m \u001b[1;31m# integrand(np.array([x, y]), lamb)\u001b[0m\u001b[1;33m\u001b[0m\u001b[1;33m\u001b[0m\u001b[0m\n",
      "\u001b[1;32m<ipython-input-18-71588fe9a3b8>\u001b[0m in \u001b[0;36mintegrand\u001b[1;34m(P)\u001b[0m\n\u001b[0;32m     21\u001b[0m \u001b[1;33m\u001b[0m\u001b[0m\n\u001b[0;32m     22\u001b[0m         \u001b[0ml2\u001b[0m \u001b[1;33m=\u001b[0m \u001b[0ml1\u001b[0m \u001b[1;33m+\u001b[0m \u001b[0mdl\u001b[0m\u001b[1;33m\u001b[0m\u001b[0m\n\u001b[1;32m---> 23\u001b[1;33m         \u001b[0mJinv\u001b[0m \u001b[1;33m=\u001b[0m \u001b[0mnp\u001b[0m\u001b[1;33m.\u001b[0m\u001b[0mlinalg\u001b[0m\u001b[1;33m.\u001b[0m\u001b[0minv\u001b[0m\u001b[1;33m(\u001b[0m\u001b[0mJf\u001b[0m\u001b[1;33m(\u001b[0m\u001b[0mnp\u001b[0m\u001b[1;33m.\u001b[0m\u001b[0marray\u001b[0m\u001b[1;33m(\u001b[0m\u001b[1;33m[\u001b[0m\u001b[0mx\u001b[0m\u001b[1;33m,\u001b[0m \u001b[0my\u001b[0m\u001b[1;33m]\u001b[0m\u001b[1;33m)\u001b[0m\u001b[1;33m)\u001b[0m\u001b[1;33m)\u001b[0m\u001b[1;33m\u001b[0m\u001b[0m\n\u001b[0m\u001b[0;32m     24\u001b[0m         \u001b[0mdFl\u001b[0m \u001b[1;33m=\u001b[0m \u001b[0mnp\u001b[0m\u001b[1;33m.\u001b[0m\u001b[0marray\u001b[0m\u001b[1;33m(\u001b[0m\u001b[1;33m[\u001b[0m\u001b[1;33m-\u001b[0m\u001b[0mdfdl\u001b[0m\u001b[1;33m(\u001b[0m\u001b[0mx\u001b[0m\u001b[1;33m,\u001b[0m\u001b[0my\u001b[0m\u001b[1;33m,\u001b[0m\u001b[0mlam\u001b[0m\u001b[1;33m)\u001b[0m\u001b[1;33m,\u001b[0m \u001b[1;33m-\u001b[0m\u001b[0mdgdl\u001b[0m\u001b[1;33m(\u001b[0m\u001b[0mx\u001b[0m\u001b[1;33m,\u001b[0m\u001b[0my\u001b[0m\u001b[1;33m,\u001b[0m\u001b[0mlam\u001b[0m\u001b[1;33m)\u001b[0m\u001b[1;33m]\u001b[0m\u001b[1;33m)\u001b[0m\u001b[1;33m\u001b[0m\u001b[0m\n\u001b[0;32m     25\u001b[0m \u001b[1;33m\u001b[0m\u001b[0m\n",
      "\u001b[1;31mUnboundLocalError\u001b[0m: local variable 'x' referenced before assignment"
     ]
    }
   ],
   "source": [
    "from scipy.integrate import quad\n",
    "\n",
    "def F(X):\n",
    "    x, y = X\n",
    "    f1 = 2 + x + y + 1 * (-x**2 + 8*x*y + y**3)\n",
    "    f2 = 1 + 2 * x - 3* y + 1 * (x**2 + x * y - y * np.exp(x))\n",
    "    return np.array([f1, f2])\n",
    "\n",
    "Jf = jacobian(F)\n",
    "\n",
    "\n",
    "x0 = -1.4\n",
    "y0 = 0.6\n",
    "\n",
    "def integrand(P):\n",
    "    x0, y0, lam0 = P\n",
    "    dl = 0.01\n",
    "    l1 = lam0\n",
    "    xi = x0\n",
    "    for i in range(100):\n",
    "        \n",
    "        l2 = l1 + dl\n",
    "        Jinv = np.linalg.inv(Jf(np.array([x, y])))\n",
    "        dFl = np.array([-dfdl(x,y,lam), -dgdl(x,y,lam)])\n",
    "\n",
    "        dxy = Jinv @ dFl\n",
    "\n",
    "        dx= dxy[0]\n",
    "        dy = dxy[1]\n",
    "\n",
    "        X = quad(dx, l1, l2)\n",
    "        x = xi + X\n",
    "\n",
    "lamb = np.linspace(0,1)\n",
    "\n",
    "integrand(np.array([x0, y0, 0]))\n",
    "# integrand(np.array([x, y]), lamb)"
   ]
  },
  {
   "cell_type": "markdown",
   "metadata": {},
   "source": [
    "\n",
    "# Part 3 Verify the solution you found\n",
    "\n"
   ]
  },
  {
   "cell_type": "markdown",
   "metadata": {},
   "source": [
    "Use a method of your choice to verify your solution from Part 2.\n",
    "\n"
   ]
  },
  {
   "cell_type": "code",
   "execution_count": 14,
   "metadata": {},
   "outputs": [
    {
     "name": "stdout",
     "output_type": "stream",
     "text": [
      "The ans by fsolve is: x = -1.000 and y = -0.000.\n"
     ]
    }
   ],
   "source": [
    "def f(X):\n",
    "    x, y = X\n",
    "    f1 =  2 + x + y - x**2 + 8*x*y + y**3\n",
    "    f2 = 1 + 2*x - 3* y + x**2 + x * y - y * np.exp(x)\n",
    "    return [f1, f2]\n",
    "\n",
    "l = 0\n",
    "ans = fsolve(f, [0,1])\n",
    "print(f'The ans by fsolve is: x = {ans[0]:1.3f} and y = {ans[1]:1.3f}.')\n"
   ]
  },
  {
   "cell_type": "code",
   "execution_count": null,
   "metadata": {},
   "outputs": [],
   "source": []
  }
 ],
 "metadata": {
  "author": {
   "email": "kmair@andrew.cmu.edu",
   "name": "Kanishk Mair"
  },
  "kernelspec": {
   "display_name": "Python 3",
   "language": "python",
   "name": "python3"
  },
  "language_info": {
   "codemirror_mode": {
    "name": "ipython",
    "version": 3
   },
   "file_extension": ".py",
   "mimetype": "text/x-python",
   "name": "python",
   "nbconvert_exporter": "python",
   "pygments_lexer": "ipython3",
   "version": "3.6.5"
  },
  "org": {
   "ASSIGNMENT": "exam3-3",
   "CATEGORY": "exam-3",
   "DUEDATE": "2018-12-10 23:59:59",
   "GRADER": "John Kitchin",
   "POINTS": "3",
   "RUBRIC": "default",
   "RUBRIC_CATEGORIES": "technical, presentation",
   "RUBRIC_WEIGHTS": "0.8, 0.2"
  }
 },
 "nbformat": 4,
 "nbformat_minor": 1
}
