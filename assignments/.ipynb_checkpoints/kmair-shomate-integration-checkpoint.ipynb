{
 "cells": [
  {
   "cell_type": "markdown",
   "metadata": {},
   "source": [
    "Kanishk Mair (kmair@andrew.cmu.edu)\n",
    "Date: 2018-09-06 15:38:12.286201\n"
   ]
  },
  {
   "cell_type": "markdown",
   "metadata": {},
   "source": [
    "- ASSIGNMENT: shomate-integration\n",
    "- POINTS: 2\n",
    "- CATEGORY: homework\n",
    "- RUBRIC: default\n",
    "- RUBRIC_CATEGORIES: technical, presentation\n",
    "- RUBRIC_WEIGHTS: 0.8, 0.2\n",
    "- DUEDATE: 2018-09-11 23:59:59\n",
    "- GRADER: Mingjie Liu\n"
   ]
  },
  {
   "cell_type": "markdown",
   "metadata": {},
   "source": [
    "From thermodynamics, the heat capacity is defined as $C_p = \\left(\\frac{dH}{dT}\\right)_P$. That means we can calculate the heat required to change the temperature of some material from the following integral:\n",
    "\n",
    "$H_2 - H_1 = Q = \\int_{T_1}^{T_2} C_p(T) dT$\n",
    "\n",
    "In the range of 298-1200K, the heat capacity of CO<sub>2</sub> is given by a [Shomate polynomial](https://webbook.nist.gov/cgi/cbook.cgi?ID=C124389&Units=SI&Mask=1#Thermo-Gas):\n",
    "\n",
    "$C_p(t) = A + B t + C t^2 + D t^3 + E/t^2$ with units of J/mol/K.\n",
    "\n",
    "where $t = T / 1000$, and $T$ is the temperature in K. The constants in the equation are\n",
    "\n",
    "||value|\n",
    "|---\n",
    "|A|24.99735|\n",
    "|B|55.18696|\n",
    "|C|-33.69137|\n",
    "|D|7.948387|\n",
    "|E|-0.136638|\n",
    "|F|-403.6075|\n",
    "|G|228.2431|\n",
    "|H|-393.5224|\n",
    "\n"
   ]
  },
  {
   "cell_type": "markdown",
   "metadata": {},
   "source": [
    "\n",
    "# Integrate the heat capacity\n",
    "\n"
   ]
  },
  {
   "cell_type": "markdown",
   "metadata": {},
   "source": [
    "Use this information to compute the energy (Q in kJ/mol) required to raise the temperature of CO<sub>2</sub> from 300K to 600K. You should use `scipy.integrate.quad` to perform the integration.\n",
    "\n"
   ]
  },
  {
   "cell_type": "code",
   "execution_count": 5,
   "metadata": {},
   "outputs": [],
   "source": [
    "A = 24.99735\n",
    "B = 55.18696\n",
    "C = -33.69137\n",
    "D = 7.948387\n",
    "E = -0.136638\n",
    "F = -403.6075\n",
    "G = 228.2431\n",
    "H = -393.5224\n",
    "\n",
    "from scipy.integrate import quad\n",
    "\n",
    "def Cp(T):       # in J/mol/K\n",
    "    t = T / 1000\n",
    "    C_p = A + B * t + C * t**2 + D * t**3 + E / (t**2)\n",
    "    return C_p\n",
    "\n",
    "def Q(T1, T2):   # in J/mol\n",
    "    Q, err = quad(Cp, T1, T2)\n",
    "    print('The energy(Q) required to raise the temperature of CO2 from', T1, 'K to', T2, \n",
    "          f'K is {Q/1000:1.3f} +- {err/1000:1.3f} kJ/mol.')      # Q is in KJ/mol after dividing by 1000!"
   ]
  },
  {
   "cell_type": "code",
   "execution_count": 6,
   "metadata": {},
   "outputs": [
    {
     "name": "stdout",
     "output_type": "stream",
     "text": [
      "The energy(Q) required to raise the temperature of CO2 from 300 K to 600 K is 12.841 +- 0.000 kJ/mol.\n"
     ]
    }
   ],
   "source": [
    "Q(300, 600)"
   ]
  },
  {
   "cell_type": "markdown",
   "metadata": {},
   "source": [
    "\n",
    "# Verify via &Delta; H\n",
    "\n"
   ]
  },
  {
   "cell_type": "markdown",
   "metadata": {},
   "source": [
    "The change in enthalpy (in kJ / mol) from standard state is\n",
    "\n",
    "$dH − dH_{298.15}= A t + B t^2/2 + C t^3/3 + D t^4/4 − E/t + F − H$\n",
    "\n",
    "again, $t = T / 1000$.\n",
    "\n",
    "Use this equation to compute the change in enthalpy when you increase the temperature from 300 K to 600 K.\n",
    "\n"
   ]
  },
  {
   "cell_type": "code",
   "execution_count": 7,
   "metadata": {},
   "outputs": [],
   "source": [
    "A = 24.99735\n",
    "B = 55.18696\n",
    "C = -33.69137\n",
    "D = 7.948387\n",
    "E = -0.136638\n",
    "F = -403.6075\n",
    "G = 228.2431\n",
    "H = -393.5224\n",
    "\n",
    "def dH(T):                        # in kJ/mol\n",
    "    t = T / 1000\n",
    "    dH = A * t + B / 2 * (t**2) + C / 3 * (t**3) + D / 4 * (t**4) - E / t + F - H\n",
    "    return dH\n",
    "    \n",
    "def deltaH(T1, T2):               # in kJ/mol\n",
    "    delH_T1 = dH(T1) - dH(298.15)\n",
    "    delH_T2 = dH(T2) - dH(298.15)\n",
    "    delH = delH_T2 - delH_T1      # Computing enthalpy change from T1 to T2\n",
    "    print('The change in enthalpy on increasing the temperature from', T1,  'K to', T2, f'K is {delH:1.3f} kJ/mol.')"
   ]
  },
  {
   "cell_type": "code",
   "execution_count": 8,
   "metadata": {},
   "outputs": [
    {
     "name": "stdout",
     "output_type": "stream",
     "text": [
      "The change in enthalpy on increasing the temperature from 300 K to 600 K is 12.841 kJ/mol.\n"
     ]
    }
   ],
   "source": [
    "deltaH(300, 600)"
   ]
  },
  {
   "cell_type": "markdown",
   "metadata": {},
   "source": [
    "The energy input (*Q*) given equals the enthalpy change ($\\Delta H$) = 12.841 kJ/mol."
   ]
  }
 ],
 "metadata": {
  "TURNED-IN": {
   "timestamp": "2018-09-07 13:30:51.825294"
  },
  "author": {
   "email": "kmair@andrew.cmu.edu",
   "name": "Kanishk Mair"
  },
  "kernelspec": {
   "display_name": "Python 3",
   "language": "python",
   "name": "python3"
  },
  "language_info": {
   "codemirror_mode": {
    "name": "ipython",
    "version": 3
   },
   "file_extension": ".py",
   "mimetype": "text/x-python",
   "name": "python",
   "nbconvert_exporter": "python",
   "pygments_lexer": "ipython3",
   "version": "3.6.5"
  },
  "org": {
   "ASSIGNMENT": "shomate-integration",
   "CATEGORY": "homework",
   "DUEDATE": "2018-09-11 23:59:59",
   "GRADER": "Mingjie Liu",
   "POINTS": "2",
   "RUBRIC": "default",
   "RUBRIC_CATEGORIES": "technical, presentation",
   "RUBRIC_WEIGHTS": "0.8, 0.2"
  }
 },
 "nbformat": 4,
 "nbformat_minor": 1
}
