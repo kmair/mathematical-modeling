{
 "cells": [
  {
   "cell_type": "markdown",
   "metadata": {},
   "source": [
    "Kanishk Mair (kmair@andrew.cmu.edu)\n",
    "Date: 2018-09-24 09:09:48.595535\n"
   ]
  },
  {
   "cell_type": "markdown",
   "metadata": {},
   "source": [
    "- ASSIGNMENT: exam1-2\n",
    "- POINTS: 2\n",
    "- CATEGORY: exam-1\n",
    "- RUBRIC: default\n",
    "- RUBRIC_CATEGORIES: technical, presentation\n",
    "- RUBRIC_WEIGHTS: 0.8, 0.2\n",
    "- DUEDATE: 2018-09-24 20:29:59\n",
    "- GRADER: John Kitchin\n"
   ]
  },
  {
   "cell_type": "markdown",
   "metadata": {},
   "source": [
    "**This is an exam problem. It is open note, and you may consult the internet. By turning in this problem, you agree that the work is your own, and you did not work with anyone to complete it. Anything else is considered cheating. If you see students working together on this problem, it is cheating and you should report it.**\n",
    "\n",
    "The Legendre polynomials are defined by:\n",
    "\n",
    "$P_n(x) = \\sum_{m=0}^M (-1)^m \\frac{(2n - 2m)!}{2^n m! (n-m)!(n - 2m)!} x^{n-2m}$\n",
    "\n",
    "where $M= n/2$ if n is even or $(n-1) / 2$ if $n$ is odd. $m!$ means \"the factorial of m\", for example, 4! = 1 \\* 2 \\* 3 \\* 4 = 24. You can compute it like this:\n",
    "\n"
   ]
  },
  {
   "cell_type": "code",
   "execution_count": 1,
   "metadata": {},
   "outputs": [
    {
     "name": "stdout",
     "output_type": "stream",
     "text": [
      "24"
     ]
    }
   ],
   "source": [
    "from math import factorial\n",
    "factorial(4)"
   ]
  },
  {
   "cell_type": "markdown",
   "metadata": {},
   "source": [
    "Here is a helpful function to compute $M$:\n",
    "\n"
   ]
  },
  {
   "cell_type": "code",
   "execution_count": 1,
   "metadata": {},
   "outputs": [],
   "source": [
    "import numpy as np\n",
    "def M(n):\n",
    "    if np.mod(n, 2) == 0:  # this means n is even.\n",
    "        return int(n / 2)\n",
    "    else:\n",
    "        return int((n - 1) / 2)"
   ]
  },
  {
   "cell_type": "markdown",
   "metadata": {},
   "source": [
    "\n",
    "\n",
    "Write a function that computes `P(x, n)`, and plot the function for `n=3` and `n=4` on the range of x=-1 to x=1.\n",
    "\n"
   ]
  },
  {
   "cell_type": "code",
   "execution_count": 4,
   "metadata": {},
   "outputs": [
    {
     "data": {
      "image/png": "[encoded data removed]",
      "text/plain": [
       "<Figure size 432x288 with 1 Axes>"
      ]
     },
     "metadata": {},
     "output_type": "display_data"
    }
   ],
   "source": [
    "from math import factorial\n",
    "import numpy as np\n",
    "import matplotlib.pyplot as plt\n",
    "\n",
    "x = np.linspace(-1,1)\n",
    "def P(x, n):\n",
    "    \n",
    "    def M(n):\n",
    "        if np.mod(n, 2) == 0:  # this means n is even.\n",
    "            return int(n / 2)\n",
    "        else:\n",
    "            return int((n - 1) / 2)\n",
    "\n",
    "    M_t = M(n)\n",
    "    sum = 0\n",
    "    \n",
    "    for i in range(0,M_t+1):\n",
    "        a = (-1)**i * (x)**(n-2*i)\n",
    "        b = factorial(2 * (n-i))\n",
    "        c = 2**n * factorial(i) * factorial(n - i) * factorial(n - 2*i)\n",
    "        ans = a * b / c\n",
    "        sum+= ans\n",
    "    return sum\n",
    "\n",
    "    \n",
    "\n",
    "t1 = P(x, 3)    \n",
    "t2 = P(x, 4)    \n",
    "\n",
    "plt.plot(x, t1, 'ro', label = 'n = 3')\n",
    "plt.plot(x, t2, 'bo', label = 'n = 4')\n",
    "plt.xlabel('x')\n",
    "plt.ylabel('$P_n$(x)')\n",
    "plt.legend()\n",
    "plt.title('$P_n(x)$ for n = 3 and 4')\n",
    "plt.show()"
   ]
  },
  {
   "cell_type": "markdown",
   "metadata": {},
   "source": [
    "These polynomials are *orthogonal* on the domain of x=-1 to 1, which means:\n",
    "\n",
    "$\\int_{-1}^{1} P_3(x) P_4(x) dx = 0$\n",
    "\n",
    "Show that is true using your function.\n",
    "\n"
   ]
  },
  {
   "cell_type": "code",
   "execution_count": 5,
   "metadata": {},
   "outputs": [
    {
     "data": {
      "text/plain": [
       "-2.7755575615628914e-17"
      ]
     },
     "execution_count": 5,
     "metadata": {},
     "output_type": "execute_result"
    }
   ],
   "source": [
    "x = np.linspace(-1,1)\n",
    "\n",
    "Int = P(x,3) * P(x,4)\n",
    " \n",
    "answer = np.trapz(Int, x)\n",
    "answer"
   ]
  },
  {
   "cell_type": "markdown",
   "metadata": {},
   "source": [
    "Discuss whether this is obvious from the graph.\n",
    "\n"
   ]
  },
  {
   "cell_type": "markdown",
   "metadata": {},
   "source": [
    "As seen above, the value of the integral is almost 0.\n",
    "\n",
    "As observed from the graph, the integral terms in x = [-1, -0.5] is negative and in x =  = [0.5, 1] the product is positive and symmetrical. In other points, the value is almost 0.\n",
    "\n",
    "Thus, the orthogonality by the curve is observed."
   ]
  }
 ],
 "metadata": {
  "TURNED-IN": {
   "timestamp": "2018-09-24 10:44:48.863252"
  },
  "author": {
   "email": "kmair@andrew.cmu.edu",
   "name": "Kanishk Mair"
  },
  "kernelspec": {
   "display_name": "Python 3",
   "language": "python",
   "name": "python3"
  },
  "language_info": {
   "codemirror_mode": {
    "name": "ipython",
    "version": 3
   },
   "file_extension": ".py",
   "mimetype": "text/x-python",
   "name": "python",
   "nbconvert_exporter": "python",
   "pygments_lexer": "ipython3",
   "version": "3.6.5"
  },
  "org": {
   "ASSIGNMENT": "exam1-2",
   "CATEGORY": "exam-1",
   "DUEDATE": "2018-09-24 20:29:59",
   "GRADER": "John Kitchin",
   "POINTS": "2",
   "RUBRIC": "default",
   "RUBRIC_CATEGORIES": "technical, presentation",
   "RUBRIC_WEIGHTS": "0.8, 0.2"
  }
 },
 "nbformat": 4,
 "nbformat_minor": 1
}
