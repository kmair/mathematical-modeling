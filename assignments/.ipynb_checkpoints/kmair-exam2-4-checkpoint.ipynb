{
 "cells": [
  {
   "cell_type": "markdown",
   "metadata": {},
   "source": [
    "Kanishk Mair (kmair@andrew.cmu.edu)\n",
    "Date: 2018-10-24 07:15:26.023114\n"
   ]
  },
  {
   "cell_type": "markdown",
   "metadata": {},
   "source": [
    "- ASSIGNMENT: exam2-4\n",
    "- POINTS: 2\n",
    "- CATEGORY: exam-2\n",
    "- RUBRIC: default\n",
    "- RUBRIC_CATEGORIES: technical, presentation\n",
    "- RUBRIC_WEIGHTS: 0.8, 0.2\n",
    "- DUEDATE: 2018-10-24 10:20:00\n",
    "- GRADER: John Kitchin\n"
   ]
  },
  {
   "cell_type": "markdown",
   "metadata": {},
   "source": [
    "**This is an exam problem. It is open note, and you may consult the internet. By turning in this problem, you agree that the work is your own, and you did not work with anyone to complete it. Anything else is considered cheating. If you see students working together on this problem, it is cheating and you should report it.**\n",
    "\n",
    "The volume of a cylindrical can is $V = (\\pi/4) D^2 L$. The cost of the top/bottom of the can is \\\\$0.025 / cm<sup>2</sup>, and the cost of the sides is \\\\$0.043 / cm<sup>2</sup>. If we require a volume of 355 cm<sup>3</sup>, what is the optimal length and diameter to minimize the cost of the can?\n",
    "\n",
    "Hint: $L = 4 V / \\pi / D^2$. Then, you can formulate the total cost as a function of only $D$.\n",
    "\n",
    "Show that your solution is a minimum, and compute the cost of the can.\n",
    "\n"
   ]
  },
  {
   "cell_type": "code",
   "execution_count": 17,
   "metadata": {},
   "outputs": [
    {
     "name": "stdout",
     "output_type": "stream",
     "text": [
      "The optimal dimensions are: Diameter = 9.195 cm and Length = 5.346 cm.\n"
     ]
    }
   ],
   "source": [
    "import numpy as np\n",
    "from scipy.optimize import minimize\n",
    "\n",
    "V = 355 # cm3\n",
    "C_tb = 0.025 # $/ cm2\n",
    "C_s =  0.043 #$/ cm2\n",
    "\n",
    "def L(D):\n",
    "    return 4 * V / (np.pi * D**2)\n",
    "\n",
    "def cost(D):\n",
    "    A_tb = 2 * (np.pi * D**2 / 4)\n",
    "    A_s = np.pi * D * L(D)\n",
    "    Atot = A_tb + A_s\n",
    "    Ctot = A_tb * C_tb + A_s * C_s\n",
    "    return Ctot\n",
    "\n",
    "Dopt = minimize(cost, 2)\n",
    "Lopt = L(Dopt.x)\n",
    "print(f'The optimal dimensions are: Diameter = {np.round(Dopt.x[0],3)} cm and Length = {np.round(Lopt[0], 3)} cm.')"
   ]
  },
  {
   "cell_type": "code",
   "execution_count": 27,
   "metadata": {},
   "outputs": [
    {
     "data": {
      "image/png": "[encoded data removed]",
      "text/plain": [
       "<Figure size 432x288 with 1 Axes>"
      ]
     },
     "metadata": {},
     "output_type": "display_data"
    }
   ],
   "source": [
    "import matplotlib.pyplot as plt\n",
    "Di = np.linspace(1, 20)\n",
    "plt.plot(Di, cost(Di))\n",
    "plt.axvline(x = Dopt.x, c = 'k', ls = '--')\n",
    "plt.xlabel('Diameter(cm)')\n",
    "plt.ylabel('Cost ($)')\n",
    "plt.title('Cost variation')\n",
    "plt.show()"
   ]
  },
  {
   "cell_type": "markdown",
   "metadata": {},
   "source": [
    "Thus, the minimum cost is reached by at the dimensions found."
   ]
  }
 ],
 "metadata": {
  "author": {
   "email": "kmair@andrew.cmu.edu",
   "name": "Kanishk Mair"
  },
  "kernelspec": {
   "display_name": "Python 3",
   "language": "python",
   "name": "python3"
  },
  "language_info": {
   "codemirror_mode": {
    "name": "ipython",
    "version": 3
   },
   "file_extension": ".py",
   "mimetype": "text/x-python",
   "name": "python",
   "nbconvert_exporter": "python",
   "pygments_lexer": "ipython3",
   "version": "3.6.5"
  },
  "org": {
   "ASSIGNMENT": "exam2-4",
   "CATEGORY": "exam-2",
   "DUEDATE": "2018-10-24 10:20:00",
   "GRADER": "John Kitchin",
   "POINTS": "2",
   "RUBRIC": "default",
   "RUBRIC_CATEGORIES": "technical, presentation",
   "RUBRIC_WEIGHTS": "0.8, 0.2"
  }
 },
 "nbformat": 4,
 "nbformat_minor": 1
}
