{
 "cells": [
  {
   "cell_type": "markdown",
   "metadata": {},
   "source": [
    "Kanishk Mair (kmair@andrew.cmu.edu)\n",
    "Date: 2018-10-01 15:47:12.965196\n"
   ]
  },
  {
   "cell_type": "markdown",
   "metadata": {},
   "source": [
    "- ASSIGNMENT: nla-compressibility\n",
    "- POINTS: 3\n",
    "- CATEGORY: homework\n",
    "- RUBRIC: default\n",
    "- RUBRIC_CATEGORIES: technical, presentation\n",
    "- RUBRIC_WEIGHTS: 0.8, 0.2\n",
    "- DUEDATE: 2018-10-04 23:59:59\n",
    "- GRADER: Mingjie Liu\n"
   ]
  },
  {
   "cell_type": "markdown",
   "metadata": {},
   "source": [
    "The van der Waals equation of state for a gas is defined by:\n",
    "\n",
    "$\\left(P + \\frac{a}{V^2}\\right)(V - b) = RT$\n",
    "\n",
    "where $a$ and $b$ are defined by:\n",
    "\n",
    "$a = \\frac{27}{64}\\left(\\frac{R^2 T_c^2}{P_c}\\right)$\n",
    "\n",
    "$b = \\frac{R T_c}{8 P_c}$\n",
    "\n",
    "In these equations, $V$ is the molar volume, $P$ is the pressure, and $T$ is the temperature.\n",
    "\n",
    "$R$ is the gas constant, $P_c$ is the critical pressure of\n",
    "the gas, and $T_c$ is the critical temperature.\n",
    "\n",
    "The compressibility factor is defined by $Z = \\frac{P V}{R T}$. You can think of this as a measure how ideal the gas is; if $Z=1$ then it appears to be ideal.\n",
    "\n",
    "For ammonia, $P_c = 111.3$ atm, $T_c = 405.5$ K, and in these units, $R = 0.08206$ (atm L)/(mol K).\n",
    "\n",
    "Use the information above to compute the compressibility factor at the following pressures at a temperature of 450 K:\n",
    "\n",
    "P = 56, 111.3, 222.6, 445.2, 1113, 2226 atm.\n",
    "\n",
    "For each pressure, print the following quantities in a roughly tabular form:\n",
    "\n",
    "P, V, Z\n",
    "\n"
   ]
  },
  {
   "cell_type": "code",
   "execution_count": 1,
   "metadata": {},
   "outputs": [
    {
     "data": {
      "text/html": [
       "<table><tr><td>Pressure, P (atm)</td><td>Volume, V (L)</td><td>Compressibility, Z</td></tr><tr><td>56.0</td><td>0.575</td><td>0.872</td></tr><tr><td>111.3</td><td>0.234</td><td>0.704</td></tr><tr><td>222.6</td><td>0.077</td><td>0.466</td></tr><tr><td>445.2</td><td>0.061</td><td>0.731</td></tr><tr><td>1113.0</td><td>0.051</td><td>1.533</td></tr><tr><td>2226.0</td><td>0.046</td><td>2.783</td></tr></table>"
      ],
      "text/plain": [
       "<IPython.core.display.HTML object>"
      ]
     },
     "metadata": {},
     "output_type": "display_data"
    }
   ],
   "source": [
    "from scipy.optimize import fsolve\n",
    "import numpy as np\n",
    "from IPython.display import HTML, display\n",
    "\n",
    "Pc = 111.3  # atm\n",
    "Tc = 405.5  # K \n",
    "T = 450     # K\n",
    "R = 0.08206 # (atm L)/(mol K)\n",
    "a = (27/64) * (R**2 * Tc**2 / Pc)\n",
    "b = R * Tc / (8 * Pc)\n",
    "\n",
    "\n",
    "\n",
    "P = np.array([56, 111.3, 222.6, 445.2, 1113, 2226])\n",
    "V = []\n",
    "Z = []\n",
    "\n",
    "for i in range(6):\n",
    "\n",
    "    def VDW(V):\n",
    "        EOS = (P[i] + a/(V**2)) * (V - b) - R * T\n",
    "        return EOS\n",
    "\n",
    "    ans = fsolve(VDW, 1)\n",
    "    V.append(ans[0])\n",
    "    z = V[i] * P[i] / (R * T)\n",
    "    Z.append(z)\n",
    "\n",
    "result = np.around(list(zip(P, V, Z)), decimals = 3)\n",
    "\n",
    "data = [['Pressure, P (atm)','Volume, V (L)','Compressibility, Z'], result[0], result[1], result[2],\n",
    "           result[3], result[4], result[5]]\n",
    "\n",
    "display(HTML('<table><tr>{}</tr></table>'\n",
    "             .format('</tr><tr>'\n",
    "             .join('<td>{}</td>'\n",
    "             .format('</td><td>'.join(str(_) for _ in row)) for row in data)\n",
    "             )))"
   ]
  }
 ],
 "metadata": {
  "TURNED-IN": {
   "timestamp": "2018-10-04 19:48:03.561826"
  },
  "author": {
   "email": "kmair@andrew.cmu.edu",
   "name": "Kanishk Mair"
  },
  "kernelspec": {
   "display_name": "Python 3",
   "language": "python",
   "name": "python3"
  },
  "language_info": {
   "codemirror_mode": {
    "name": "ipython",
    "version": 3
   },
   "file_extension": ".py",
   "mimetype": "text/x-python",
   "name": "python",
   "nbconvert_exporter": "python",
   "pygments_lexer": "ipython3",
   "version": "3.6.5"
  },
  "org": {
   "ASSIGNMENT": "nla-compressibility",
   "CATEGORY": "homework",
   "DUEDATE": "2018-10-04 23:59:59",
   "GRADER": "Mingjie Liu",
   "POINTS": "3",
   "RUBRIC": "default",
   "RUBRIC_CATEGORIES": "technical, presentation",
   "RUBRIC_WEIGHTS": "0.8, 0.2"
  }
 },
 "nbformat": 4,
 "nbformat_minor": 1
}
